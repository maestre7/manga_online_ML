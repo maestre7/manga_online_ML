{
 "cells": [
  {
   "cell_type": "code",
   "execution_count": 2,
   "metadata": {},
   "outputs": [],
   "source": [
    "import numpy as np\n",
    "import pandas as pd\n",
    "import matplotlib.pyplot as plt\n",
    "from sklearn.preprocessing import PolynomialFeatures, StandardScaler\n",
    "from sklearn.linear_model import LinearRegression\n",
    "from sklearn.ensemble import RandomForestRegressor, AdaBoostRegressor\n",
    "from sklearn.linear_model import ElasticNet\n",
    "from sklearn.svm import SVR\n",
    "from sklearn.model_selection import GridSearchCV, train_test_split\n",
    "from sklearn.decomposition import PCA\n",
    "from sklearn.metrics import mean_absolute_error, mean_absolute_percentage_error, mean_squared_error\n",
    "from tensorflow import keras"
   ]
  },
  {
   "cell_type": "code",
   "execution_count": 3,
   "metadata": {},
   "outputs": [],
   "source": [
    "\n",
    "from time import sleep\n",
    "from winsound import Beep\n",
    "from pathlib import Path\n",
    "import yaml"
   ]
  },
  {
   "cell_type": "code",
   "execution_count": 4,
   "metadata": {},
   "outputs": [],
   "source": [
    "def write_yaml(file_path: str, data: object):\n",
    "    \"\"\"\n",
    "    Write data to a YAML file.\n",
    "\n",
    "    Args:\n",
    "        file_path (str): Path of the YAML file.\n",
    "        data (object): Data to write.\n",
    "\n",
    "    Returns:\n",
    "        bool: True if the file was written successfully, False otherwise.\n",
    "    \"\"\"\n",
    "    try:\n",
    "        with open(Path(file_path), \"w\") as f:\n",
    "            yaml.dump(data, f)\n",
    "        print(\"YAML file write: OK\")\n",
    "        return True\n",
    "    except (FileNotFoundError, IOError, yaml.YAMLError) as err:\n",
    "        print(f\"Failed to write YAML file {file_path}: {err}\")\n",
    "        return False"
   ]
  },
  {
   "cell_type": "code",
   "execution_count": 5,
   "metadata": {},
   "outputs": [],
   "source": [
    "def bee(r: int = 3, f: int = 2500, d: int = 1000, p: float = 1) -> None:\n",
    "    \"\"\"\n",
    "    Emits a series of sounds using the Beep function from the winsound library.\n",
    "\n",
    "    Args:\n",
    "        r (int): Number of sound repetitions (default: 3).\n",
    "        f (int): Sound frequency in Hz (default: 2500).\n",
    "        d (int): Sound duration in milliseconds (default: 1000).\n",
    "        p (float): Pause between each sound in seconds (default: 1).\n",
    "\n",
    "    Returns:\n",
    "        None\n",
    "    \"\"\"\n",
    "    \n",
    "    for n in range(r):\n",
    "        Beep(f, d)\n",
    "        sleep(p)"
   ]
  },
  {
   "attachments": {},
   "cell_type": "markdown",
   "metadata": {},
   "source": [
    "## Declaramos variables y cargamos los datos"
   ]
  },
  {
   "cell_type": "code",
   "execution_count": 6,
   "metadata": {},
   "outputs": [],
   "source": [
    "parameter = {}\n",
    "score = {}"
   ]
  },
  {
   "cell_type": "code",
   "execution_count": 7,
   "metadata": {},
   "outputs": [],
   "source": [
    "heavy_df = pd.read_csv(\"../data/processed/heavy.csv\", index_col=\"Unnamed: 0\")"
   ]
  },
  {
   "cell_type": "code",
   "execution_count": 7,
   "metadata": {},
   "outputs": [
    {
     "data": {
      "text/plain": [
       "Index(['score', 'read', 'pending', 'following', 'favorite', 'have',\n",
       "       'abandoned', 'chapters_count', 'Magia_score', 'Mecha_score',\n",
       "       'Demonios_score', 'Género Bender_score', 'Realidad Virtual_score',\n",
       "       'Drama_score', 'Niños_score', 'Guerra_score', 'Harem_score',\n",
       "       'Vampiros_score', 'Horror_score', 'Acción_score', 'Realidad_score',\n",
       "       'Traps_score', 'Militar_score', 'Crimen_score',\n",
       "       'Recuentos de la vida_score', 'Apocalíptico_score', 'Psicológico_score',\n",
       "       'Misterio_score', 'Musica_score', 'Extranjero_score', 'Samurái_score',\n",
       "       'Girls Love_score', 'Telenovela_score', 'Policiaco_score',\n",
       "       'Animación_score', 'Parodia_score', 'Deporte_score',\n",
       "       'Supervivencia_score', 'Aventura_score', 'Oeste_score',\n",
       "       'Superpoderes_score', 'Ecchi_score', 'Tragedia_score', 'Fantasia_score',\n",
       "       'Gore_score', 'Boys Love_score', 'Reencarnación_score',\n",
       "       'Sobrenatural_score', 'Vida Escolar_score', 'Historia_score',\n",
       "       'Romance_score', 'Ciencia Ficción_score', 'Thriller_score',\n",
       "       'Ciberpunk_score', 'Artes Marciales_score', 'Comedia_score',\n",
       "       'Familia_score', 'type_score', 'demography_score', 'tdg',\n",
       "       'book_status_score'],\n",
       "      dtype='object')"
      ]
     },
     "execution_count": 7,
     "metadata": {},
     "output_type": "execute_result"
    }
   ],
   "source": [
    "heavy_df.columns"
   ]
  },
  {
   "attachments": {},
   "cell_type": "markdown",
   "metadata": {},
   "source": [
    "# Preproceso"
   ]
  },
  {
   "cell_type": "code",
   "execution_count": 8,
   "metadata": {},
   "outputs": [],
   "source": [
    "X = heavy_df.drop(\"score\", axis=1)\n",
    "y = heavy_df[\"score\"]"
   ]
  },
  {
   "cell_type": "code",
   "execution_count": 9,
   "metadata": {},
   "outputs": [],
   "source": [
    "X_train, X_test, y_train, y_test = train_test_split(X, y, test_size=0.2, random_state=2)"
   ]
  },
  {
   "attachments": {},
   "cell_type": "markdown",
   "metadata": {},
   "source": [
    "### Scaler"
   ]
  },
  {
   "cell_type": "code",
   "execution_count": 10,
   "metadata": {},
   "outputs": [],
   "source": [
    "# Creo el scaler con los datos de train\n",
    "scal = StandardScaler() # Declaro el scaler\n",
    "scal.fit(X_train) # Lo \"entreno\". Calculo su media y std para cada feature\n",
    "X_train_scal = scal.transform(X_train) # Aplico el scaler y sobreescribo los datos de train\n",
    "\n",
    "# Aplico el mismo scaler con los datos de test\n",
    "X_test_scal = scal.transform(X_test)"
   ]
  },
  {
   "attachments": {},
   "cell_type": "markdown",
   "metadata": {},
   "source": [
    "\n",
    "### PCA\n"
   ]
  },
  {
   "cell_type": "code",
   "execution_count": 11,
   "metadata": {},
   "outputs": [],
   "source": [
    "# Aplicar PCA para reducir la dimensionalidad de los datos\n",
    "pca = PCA(n_components=len(heavy_df.columns)-1)\n",
    "# Ajustar y transformar los datos de entrenamiento utilizando PCA\n",
    "X_train_pca = pca.fit_transform(X_train)\n",
    "# Transformar los datos de prueba utilizando el modelo PCA ajustado previamente\n",
    "X_test_pca = pca.transform(X_test)"
   ]
  },
  {
   "cell_type": "code",
   "execution_count": 12,
   "metadata": {},
   "outputs": [
    {
     "data": {
      "text/plain": [
       "array([8.93173668e-01, 8.22722831e-02, 1.50791122e-02, 8.44038962e-03,\n",
       "       8.62368224e-04, 1.37313917e-04, 3.35779781e-05, 1.89174218e-07,\n",
       "       1.41454164e-07, 9.52798455e-08, 9.29556238e-08, 8.88450134e-08,\n",
       "       7.11694251e-08, 6.39104146e-08, 6.36044032e-08, 5.00914433e-08,\n",
       "       4.75184813e-08, 3.66071975e-08, 3.05482094e-08, 2.76668056e-08,\n",
       "       2.57723393e-08, 2.50899285e-08, 2.32635818e-08, 2.22550776e-08,\n",
       "       1.97176872e-08, 1.80768223e-08, 1.77031774e-08, 1.62577271e-08,\n",
       "       1.49094996e-08, 1.11453796e-08, 1.03924102e-08, 8.32043843e-09,\n",
       "       8.09406541e-09, 7.03336654e-09, 5.73021480e-09, 4.92010350e-09,\n",
       "       4.40508278e-09, 3.95026631e-09, 3.89684611e-09, 3.37473351e-09,\n",
       "       3.19527398e-09, 3.02638857e-09, 2.80572509e-09, 2.73823700e-09,\n",
       "       2.67704586e-09, 2.61457891e-09, 2.46273123e-09, 2.20982240e-09,\n",
       "       2.10809814e-09, 1.94222758e-09, 1.79992192e-09, 1.58762127e-09,\n",
       "       1.29152768e-09, 8.86043951e-10, 6.01275531e-10, 5.34585096e-10,\n",
       "       4.64792480e-10, 1.95417209e-10, 1.65804813e-10, 6.63512051e-11])"
      ]
     },
     "execution_count": 12,
     "metadata": {},
     "output_type": "execute_result"
    }
   ],
   "source": [
    "# Obtener la proporción de varianza explicada por cada componente principal\n",
    "pca.explained_variance_ratio_"
   ]
  },
  {
   "cell_type": "code",
   "execution_count": 13,
   "metadata": {},
   "outputs": [
    {
     "data": {
      "text/plain": [
       "array([0.89317367, 0.97544595, 0.99052506, 0.99896545, 0.99982782,\n",
       "       0.99996514, 0.99999871, 0.9999989 , 0.99999904, 0.99999914,\n",
       "       0.99999923, 0.99999932, 0.99999939, 0.99999946, 0.99999952,\n",
       "       0.99999957, 0.99999962, 0.99999965, 0.99999968, 0.99999971,\n",
       "       0.99999974, 0.99999976, 0.99999979, 0.99999981, 0.99999983,\n",
       "       0.99999985, 0.99999986, 0.99999988, 0.9999999 , 0.99999991,\n",
       "       0.99999992, 0.99999993, 0.99999993, 0.99999994, 0.99999995,\n",
       "       0.99999995, 0.99999996, 0.99999996, 0.99999996, 0.99999997,\n",
       "       0.99999997, 0.99999997, 0.99999998, 0.99999998, 0.99999998,\n",
       "       0.99999998, 0.99999999, 0.99999999, 0.99999999, 0.99999999,\n",
       "       0.99999999, 1.        , 1.        , 1.        , 1.        ,\n",
       "       1.        , 1.        , 1.        , 1.        , 1.        ])"
      ]
     },
     "execution_count": 13,
     "metadata": {},
     "output_type": "execute_result"
    }
   ],
   "source": [
    "# Obtener la varianza explicada acumulada por cada componente principal\n",
    "pca.explained_variance_ratio_.cumsum()"
   ]
  },
  {
   "attachments": {},
   "cell_type": "markdown",
   "metadata": {},
   "source": [
    "# Polynomial + LinearRegression + PCA"
   ]
  },
  {
   "attachments": {},
   "cell_type": "markdown",
   "metadata": {},
   "source": [
    "- `poly_feats = PolynomialFeatures(degree=2)`: Se crea un objeto `PolynomialFeatures` con grado 2, lo que indica que se generarán características polinómicas hasta el segundo grado.\n",
    "\n",
    "- `poly_feats.fit(X)`: Se ajusta el objeto `PolynomialFeatures` a los datos de entrada `X`. Esto calcula los coeficientes necesarios para generar las características polinómicas.\n",
    "\n",
    "- `X_poly = poly_feats.transform(X)`: Se transforman los datos de entrada `X` utilizando el objeto `PolynomialFeatures` ajustado previamente. Esto agrega las características polinómicas al conjunto de datos original, generando así una representación de mayor dimensionalidad.\n",
    "\n",
    "- `lin_reg = LinearRegression()`: Se crea un objeto `LinearRegression` para realizar una regresión lineal.\n",
    "\n",
    "- `lin_reg.fit(X_train_pca, y_train)`: Se ajusta el modelo de regresión lineal utilizando los datos de entrenamiento con componentes principales `X_train_pca` y las etiquetas correspondientes `y_train`. Esto encuentra los coeficientes óptimos para la línea de regresión.\n"
   ]
  },
  {
   "cell_type": "code",
   "execution_count": 14,
   "metadata": {},
   "outputs": [
    {
     "data": {
      "text/html": [
       "<style>#sk-container-id-1 {color: black;background-color: white;}#sk-container-id-1 pre{padding: 0;}#sk-container-id-1 div.sk-toggleable {background-color: white;}#sk-container-id-1 label.sk-toggleable__label {cursor: pointer;display: block;width: 100%;margin-bottom: 0;padding: 0.3em;box-sizing: border-box;text-align: center;}#sk-container-id-1 label.sk-toggleable__label-arrow:before {content: \"▸\";float: left;margin-right: 0.25em;color: #696969;}#sk-container-id-1 label.sk-toggleable__label-arrow:hover:before {color: black;}#sk-container-id-1 div.sk-estimator:hover label.sk-toggleable__label-arrow:before {color: black;}#sk-container-id-1 div.sk-toggleable__content {max-height: 0;max-width: 0;overflow: hidden;text-align: left;background-color: #f0f8ff;}#sk-container-id-1 div.sk-toggleable__content pre {margin: 0.2em;color: black;border-radius: 0.25em;background-color: #f0f8ff;}#sk-container-id-1 input.sk-toggleable__control:checked~div.sk-toggleable__content {max-height: 200px;max-width: 100%;overflow: auto;}#sk-container-id-1 input.sk-toggleable__control:checked~label.sk-toggleable__label-arrow:before {content: \"▾\";}#sk-container-id-1 div.sk-estimator input.sk-toggleable__control:checked~label.sk-toggleable__label {background-color: #d4ebff;}#sk-container-id-1 div.sk-label input.sk-toggleable__control:checked~label.sk-toggleable__label {background-color: #d4ebff;}#sk-container-id-1 input.sk-hidden--visually {border: 0;clip: rect(1px 1px 1px 1px);clip: rect(1px, 1px, 1px, 1px);height: 1px;margin: -1px;overflow: hidden;padding: 0;position: absolute;width: 1px;}#sk-container-id-1 div.sk-estimator {font-family: monospace;background-color: #f0f8ff;border: 1px dotted black;border-radius: 0.25em;box-sizing: border-box;margin-bottom: 0.5em;}#sk-container-id-1 div.sk-estimator:hover {background-color: #d4ebff;}#sk-container-id-1 div.sk-parallel-item::after {content: \"\";width: 100%;border-bottom: 1px solid gray;flex-grow: 1;}#sk-container-id-1 div.sk-label:hover label.sk-toggleable__label {background-color: #d4ebff;}#sk-container-id-1 div.sk-serial::before {content: \"\";position: absolute;border-left: 1px solid gray;box-sizing: border-box;top: 0;bottom: 0;left: 50%;z-index: 0;}#sk-container-id-1 div.sk-serial {display: flex;flex-direction: column;align-items: center;background-color: white;padding-right: 0.2em;padding-left: 0.2em;position: relative;}#sk-container-id-1 div.sk-item {position: relative;z-index: 1;}#sk-container-id-1 div.sk-parallel {display: flex;align-items: stretch;justify-content: center;background-color: white;position: relative;}#sk-container-id-1 div.sk-item::before, #sk-container-id-1 div.sk-parallel-item::before {content: \"\";position: absolute;border-left: 1px solid gray;box-sizing: border-box;top: 0;bottom: 0;left: 50%;z-index: -1;}#sk-container-id-1 div.sk-parallel-item {display: flex;flex-direction: column;z-index: 1;position: relative;background-color: white;}#sk-container-id-1 div.sk-parallel-item:first-child::after {align-self: flex-end;width: 50%;}#sk-container-id-1 div.sk-parallel-item:last-child::after {align-self: flex-start;width: 50%;}#sk-container-id-1 div.sk-parallel-item:only-child::after {width: 0;}#sk-container-id-1 div.sk-dashed-wrapped {border: 1px dashed gray;margin: 0 0.4em 0.5em 0.4em;box-sizing: border-box;padding-bottom: 0.4em;background-color: white;}#sk-container-id-1 div.sk-label label {font-family: monospace;font-weight: bold;display: inline-block;line-height: 1.2em;}#sk-container-id-1 div.sk-label-container {text-align: center;}#sk-container-id-1 div.sk-container {/* jupyter's `normalize.less` sets `[hidden] { display: none; }` but bootstrap.min.css set `[hidden] { display: none !important; }` so we also need the `!important` here to be able to override the default hidden behavior on the sphinx rendered scikit-learn.org. See: https://github.com/scikit-learn/scikit-learn/issues/21755 */display: inline-block !important;position: relative;}#sk-container-id-1 div.sk-text-repr-fallback {display: none;}</style><div id=\"sk-container-id-1\" class=\"sk-top-container\"><div class=\"sk-text-repr-fallback\"><pre>LinearRegression()</pre><b>In a Jupyter environment, please rerun this cell to show the HTML representation or trust the notebook. <br />On GitHub, the HTML representation is unable to render, please try loading this page with nbviewer.org.</b></div><div class=\"sk-container\" hidden><div class=\"sk-item\"><div class=\"sk-estimator sk-toggleable\"><input class=\"sk-toggleable__control sk-hidden--visually\" id=\"sk-estimator-id-1\" type=\"checkbox\" checked><label for=\"sk-estimator-id-1\" class=\"sk-toggleable__label sk-toggleable__label-arrow\">LinearRegression</label><div class=\"sk-toggleable__content\"><pre>LinearRegression()</pre></div></div></div></div></div>"
      ],
      "text/plain": [
       "LinearRegression()"
      ]
     },
     "execution_count": 14,
     "metadata": {},
     "output_type": "execute_result"
    }
   ],
   "source": [
    "# Crear un objeto PolynomialFeatures para generar características polinómicas de grado 2\n",
    "poly_feats = PolynomialFeatures(degree=2)\n",
    "\n",
    "# Ajustar PolynomialFeatures a los datos de entrada X\n",
    "poly_feats.fit(X)\n",
    "\n",
    "# Transformar los datos de entrada X para incluir características polinómicas\n",
    "X_poly = poly_feats.transform(X)\n",
    "\n",
    "# Crear un objeto LinearRegression para realizar una regresión lineal\n",
    "lin_reg = LinearRegression()\n",
    "\n",
    "# Ajustar el modelo de regresión lineal utilizando los datos de entrenamiento con componentes principales\n",
    "lin_reg.fit(X_train_pca, y_train)\n"
   ]
  },
  {
   "cell_type": "code",
   "execution_count": 15,
   "metadata": {},
   "outputs": [],
   "source": [
    "parameter[\"plr\"] = {\"poli__degree\": [2]}"
   ]
  },
  {
   "cell_type": "code",
   "execution_count": 16,
   "metadata": {},
   "outputs": [],
   "source": [
    "predictions = lin_reg.predict(X_test_pca)"
   ]
  },
  {
   "cell_type": "code",
   "execution_count": 17,
   "metadata": {},
   "outputs": [],
   "source": [
    "MAE = mean_absolute_error(y_test, predictions)\n",
    "MAPE = mean_absolute_percentage_error(y_test, predictions)\n",
    "MSE = mean_squared_error(y_test, predictions)\n",
    "RMSE = np.sqrt(mean_squared_error(y_test, predictions))\n",
    "R2_Train = lin_reg.score(X_train_pca, y_train)\n",
    "R2_Test = lin_reg.score(X_test_pca, y_test)"
   ]
  },
  {
   "cell_type": "code",
   "execution_count": 18,
   "metadata": {},
   "outputs": [],
   "source": [
    "score[\"plr\"] = {\"MAE\": float(MAE), \"MAPE\": float(MAPE), \"MSE\": float(MSE), \n",
    "                \"RMSE\": float(RMSE), \"R2_Train\": float(R2_Train), \"R2_Test\": float(R2_Test)}"
   ]
  },
  {
   "cell_type": "code",
   "execution_count": 19,
   "metadata": {},
   "outputs": [
    {
     "name": "stdout",
     "output_type": "stream",
     "text": [
      "MAE: 1.6264203088426696\n",
      "MAPE: 3241180710587130.5\n",
      "MSE: 4.441959060468691\n",
      "RMSE: 2.1075955637808432\n",
      "R2_Train: 0.7037222469074746\n",
      "R2_Test: 0.7067121408724921\n"
     ]
    }
   ],
   "source": [
    "print(\"MAE:\", MAE)\n",
    "print(\"MAPE:\", MAPE)\n",
    "print(\"MSE:\", MSE)\n",
    "print(\"RMSE:\", RMSE)\n",
    "print(\"R2_Train:\", R2_Train)\n",
    "print(\"R2_Test:\", R2_Test)"
   ]
  },
  {
   "attachments": {},
   "cell_type": "markdown",
   "metadata": {},
   "source": [
    "# RandomForestRegressor"
   ]
  },
  {
   "attachments": {},
   "cell_type": "markdown",
   "metadata": {},
   "source": [
    "- `model = RandomForestRegressor(random_state=10)`: Se crea un objeto `RandomForestRegressor` con un estado aleatorio de 10. Este modelo se utiliza para realizar una regresión utilizando un conjunto de árboles de decisión.\n",
    "\n",
    "- `parameters = {...}`: Se definen los parámetros para la búsqueda de hiperparámetros. En este caso, se especifican diferentes valores para los hiperparámetros como el número de estimadores (`n_estimators`), la profundidad máxima del árbol (`max_depth`), el número mínimo de muestras en las hojas del árbol (`min_samples_leaf`) y el número máximo de características a considerar en cada división (`max_features`).\n",
    "\n",
    "- `dtr_gs = GridSearchCV(model, parameters, cv=5, scoring=\"neg_mean_absolute_error\", n_jobs=-1)`: Se crea un objeto `GridSearchCV` para realizar una búsqueda exhaustiva de los mejores hiperparámetros para el modelo de regresión utilizando validación cruzada. Se especifica el modelo (`model`), los parámetros a buscar (`parameters`), el número de divisiones de la validación cruzada (`cv=5`), la métrica de evaluación (`scoring=\"neg_mean_absolute_error\"`) y el número de trabajos en paralelo (`n_jobs=-1`) para acelerar el proceso de búsqueda.\n"
   ]
  },
  {
   "cell_type": "code",
   "execution_count": 20,
   "metadata": {},
   "outputs": [],
   "source": [
    "# Crear un objeto RandomForestRegressor con un estado aleatorio de 10\n",
    "model = RandomForestRegressor(random_state=10)\n",
    "\n",
    "# Definir los parámetros para la búsqueda de hiperparámetros\n",
    "parameters = {\n",
    "    \"n_estimators\": [150, 200],\n",
    "    \"max_depth\": [13],\n",
    "    \"min_samples_leaf\": [2, 3, 4],\n",
    "    \"max_features\": [6]\n",
    "}\n",
    "\n",
    "# Crear un objeto GridSearchCV para realizar una búsqueda exhaustiva de hiperparámetros\n",
    "dtr_gs = GridSearchCV(model, parameters, cv=5, scoring=\"neg_mean_absolute_error\", n_jobs=-1)\n"
   ]
  },
  {
   "cell_type": "code",
   "execution_count": 21,
   "metadata": {},
   "outputs": [
    {
     "data": {
      "text/html": [
       "<style>#sk-container-id-2 {color: black;background-color: white;}#sk-container-id-2 pre{padding: 0;}#sk-container-id-2 div.sk-toggleable {background-color: white;}#sk-container-id-2 label.sk-toggleable__label {cursor: pointer;display: block;width: 100%;margin-bottom: 0;padding: 0.3em;box-sizing: border-box;text-align: center;}#sk-container-id-2 label.sk-toggleable__label-arrow:before {content: \"▸\";float: left;margin-right: 0.25em;color: #696969;}#sk-container-id-2 label.sk-toggleable__label-arrow:hover:before {color: black;}#sk-container-id-2 div.sk-estimator:hover label.sk-toggleable__label-arrow:before {color: black;}#sk-container-id-2 div.sk-toggleable__content {max-height: 0;max-width: 0;overflow: hidden;text-align: left;background-color: #f0f8ff;}#sk-container-id-2 div.sk-toggleable__content pre {margin: 0.2em;color: black;border-radius: 0.25em;background-color: #f0f8ff;}#sk-container-id-2 input.sk-toggleable__control:checked~div.sk-toggleable__content {max-height: 200px;max-width: 100%;overflow: auto;}#sk-container-id-2 input.sk-toggleable__control:checked~label.sk-toggleable__label-arrow:before {content: \"▾\";}#sk-container-id-2 div.sk-estimator input.sk-toggleable__control:checked~label.sk-toggleable__label {background-color: #d4ebff;}#sk-container-id-2 div.sk-label input.sk-toggleable__control:checked~label.sk-toggleable__label {background-color: #d4ebff;}#sk-container-id-2 input.sk-hidden--visually {border: 0;clip: rect(1px 1px 1px 1px);clip: rect(1px, 1px, 1px, 1px);height: 1px;margin: -1px;overflow: hidden;padding: 0;position: absolute;width: 1px;}#sk-container-id-2 div.sk-estimator {font-family: monospace;background-color: #f0f8ff;border: 1px dotted black;border-radius: 0.25em;box-sizing: border-box;margin-bottom: 0.5em;}#sk-container-id-2 div.sk-estimator:hover {background-color: #d4ebff;}#sk-container-id-2 div.sk-parallel-item::after {content: \"\";width: 100%;border-bottom: 1px solid gray;flex-grow: 1;}#sk-container-id-2 div.sk-label:hover label.sk-toggleable__label {background-color: #d4ebff;}#sk-container-id-2 div.sk-serial::before {content: \"\";position: absolute;border-left: 1px solid gray;box-sizing: border-box;top: 0;bottom: 0;left: 50%;z-index: 0;}#sk-container-id-2 div.sk-serial {display: flex;flex-direction: column;align-items: center;background-color: white;padding-right: 0.2em;padding-left: 0.2em;position: relative;}#sk-container-id-2 div.sk-item {position: relative;z-index: 1;}#sk-container-id-2 div.sk-parallel {display: flex;align-items: stretch;justify-content: center;background-color: white;position: relative;}#sk-container-id-2 div.sk-item::before, #sk-container-id-2 div.sk-parallel-item::before {content: \"\";position: absolute;border-left: 1px solid gray;box-sizing: border-box;top: 0;bottom: 0;left: 50%;z-index: -1;}#sk-container-id-2 div.sk-parallel-item {display: flex;flex-direction: column;z-index: 1;position: relative;background-color: white;}#sk-container-id-2 div.sk-parallel-item:first-child::after {align-self: flex-end;width: 50%;}#sk-container-id-2 div.sk-parallel-item:last-child::after {align-self: flex-start;width: 50%;}#sk-container-id-2 div.sk-parallel-item:only-child::after {width: 0;}#sk-container-id-2 div.sk-dashed-wrapped {border: 1px dashed gray;margin: 0 0.4em 0.5em 0.4em;box-sizing: border-box;padding-bottom: 0.4em;background-color: white;}#sk-container-id-2 div.sk-label label {font-family: monospace;font-weight: bold;display: inline-block;line-height: 1.2em;}#sk-container-id-2 div.sk-label-container {text-align: center;}#sk-container-id-2 div.sk-container {/* jupyter's `normalize.less` sets `[hidden] { display: none; }` but bootstrap.min.css set `[hidden] { display: none !important; }` so we also need the `!important` here to be able to override the default hidden behavior on the sphinx rendered scikit-learn.org. See: https://github.com/scikit-learn/scikit-learn/issues/21755 */display: inline-block !important;position: relative;}#sk-container-id-2 div.sk-text-repr-fallback {display: none;}</style><div id=\"sk-container-id-2\" class=\"sk-top-container\"><div class=\"sk-text-repr-fallback\"><pre>GridSearchCV(cv=5, estimator=RandomForestRegressor(random_state=10), n_jobs=-1,\n",
       "             param_grid={&#x27;max_depth&#x27;: [13], &#x27;max_features&#x27;: [6],\n",
       "                         &#x27;min_samples_leaf&#x27;: [2, 3, 4],\n",
       "                         &#x27;n_estimators&#x27;: [150, 200]},\n",
       "             scoring=&#x27;neg_mean_absolute_error&#x27;)</pre><b>In a Jupyter environment, please rerun this cell to show the HTML representation or trust the notebook. <br />On GitHub, the HTML representation is unable to render, please try loading this page with nbviewer.org.</b></div><div class=\"sk-container\" hidden><div class=\"sk-item sk-dashed-wrapped\"><div class=\"sk-label-container\"><div class=\"sk-label sk-toggleable\"><input class=\"sk-toggleable__control sk-hidden--visually\" id=\"sk-estimator-id-2\" type=\"checkbox\" ><label for=\"sk-estimator-id-2\" class=\"sk-toggleable__label sk-toggleable__label-arrow\">GridSearchCV</label><div class=\"sk-toggleable__content\"><pre>GridSearchCV(cv=5, estimator=RandomForestRegressor(random_state=10), n_jobs=-1,\n",
       "             param_grid={&#x27;max_depth&#x27;: [13], &#x27;max_features&#x27;: [6],\n",
       "                         &#x27;min_samples_leaf&#x27;: [2, 3, 4],\n",
       "                         &#x27;n_estimators&#x27;: [150, 200]},\n",
       "             scoring=&#x27;neg_mean_absolute_error&#x27;)</pre></div></div></div><div class=\"sk-parallel\"><div class=\"sk-parallel-item\"><div class=\"sk-item\"><div class=\"sk-label-container\"><div class=\"sk-label sk-toggleable\"><input class=\"sk-toggleable__control sk-hidden--visually\" id=\"sk-estimator-id-3\" type=\"checkbox\" ><label for=\"sk-estimator-id-3\" class=\"sk-toggleable__label sk-toggleable__label-arrow\">estimator: RandomForestRegressor</label><div class=\"sk-toggleable__content\"><pre>RandomForestRegressor(random_state=10)</pre></div></div></div><div class=\"sk-serial\"><div class=\"sk-item\"><div class=\"sk-estimator sk-toggleable\"><input class=\"sk-toggleable__control sk-hidden--visually\" id=\"sk-estimator-id-4\" type=\"checkbox\" ><label for=\"sk-estimator-id-4\" class=\"sk-toggleable__label sk-toggleable__label-arrow\">RandomForestRegressor</label><div class=\"sk-toggleable__content\"><pre>RandomForestRegressor(random_state=10)</pre></div></div></div></div></div></div></div></div></div></div>"
      ],
      "text/plain": [
       "GridSearchCV(cv=5, estimator=RandomForestRegressor(random_state=10), n_jobs=-1,\n",
       "             param_grid={'max_depth': [13], 'max_features': [6],\n",
       "                         'min_samples_leaf': [2, 3, 4],\n",
       "                         'n_estimators': [150, 200]},\n",
       "             scoring='neg_mean_absolute_error')"
      ]
     },
     "execution_count": 21,
     "metadata": {},
     "output_type": "execute_result"
    }
   ],
   "source": [
    "dtr_gs.fit(X_train, y_train)"
   ]
  },
  {
   "cell_type": "code",
   "execution_count": 22,
   "metadata": {},
   "outputs": [],
   "source": [
    "best_params = {}\n",
    "[best_params.update({f\"regressor__{key}\": [value]}) for key, value in dtr_gs.best_params_.items()]\n",
    "parameter[\"rfr\"] = best_params"
   ]
  },
  {
   "cell_type": "code",
   "execution_count": 23,
   "metadata": {},
   "outputs": [],
   "source": [
    "feature_importances = dtr_gs.best_estimator_.feature_importances_\n",
    "feature_importances_dict = dict(zip(X.columns, feature_importances))\n",
    "feature_importances_sort = sorted(feature_importances_dict.items(), key=lambda x:x[1], reverse=True)"
   ]
  },
  {
   "cell_type": "code",
   "execution_count": 24,
   "metadata": {},
   "outputs": [
    {
     "data": {
      "text/plain": [
       "[('tdg', 0.49358311304744773),\n",
       " ('read', 0.0790976511272637),\n",
       " ('book_status_score', 0.07173401886681655),\n",
       " ('pending', 0.058843240334205155),\n",
       " ('favorite', 0.048937615841709754),\n",
       " ('chapters_count', 0.043904797349823964),\n",
       " ('have', 0.040440813958299064),\n",
       " ('following', 0.03888511602506939),\n",
       " ('abandoned', 0.02710063637306382),\n",
       " ('type_score', 0.01854214300288609),\n",
       " ('demography_score', 0.013878978816948898),\n",
       " ('Vida Escolar_score', 0.005577289193950844),\n",
       " ('Boys Love_score', 0.004436294566280653),\n",
       " ('Acción_score', 0.0041954686383289365),\n",
       " ('Fantasia_score', 0.0032569274698127063),\n",
       " ('Sobrenatural_score', 0.003074176586515707),\n",
       " ('Aventura_score', 0.0030020139523072808),\n",
       " ('Romance_score', 0.0029580961634327204),\n",
       " ('Comedia_score', 0.0026844205938005867),\n",
       " ('Recuentos de la vida_score', 0.0026444051058284045),\n",
       " ('Drama_score', 0.00251312409860678),\n",
       " ('Ecchi_score', 0.002201155470928627),\n",
       " ('Artes Marciales_score', 0.0019043386658130841),\n",
       " ('Harem_score', 0.0018730028336054413),\n",
       " ('Historia_score', 0.0014676504864780926),\n",
       " ('Ciencia Ficción_score', 0.0014369386773523845),\n",
       " ('Reencarnación_score', 0.001392456195080799),\n",
       " ('Misterio_score', 0.001321395032229584),\n",
       " ('Familia_score', 0.0012955750101818866),\n",
       " ('Girls Love_score', 0.0012012527280629989),\n",
       " ('Magia_score', 0.0011847407728490292),\n",
       " ('Psicológico_score', 0.001132812961175959),\n",
       " ('Tragedia_score', 0.0011270590763732431),\n",
       " ('Demonios_score', 0.0011065812320147394),\n",
       " ('Crimen_score', 0.001093146833091412),\n",
       " ('Superpoderes_score', 0.0009591882581030014),\n",
       " ('Apocalíptico_score', 0.0009537333817955019),\n",
       " ('Deporte_score', 0.0008878790046668718),\n",
       " ('Supervivencia_score', 0.0008317008686908408),\n",
       " ('Gore_score', 0.0007304712896681052),\n",
       " ('Realidad_score', 0.0006596278699534554),\n",
       " ('Horror_score', 0.0006568576615290421),\n",
       " ('Militar_score', 0.000640502598366424),\n",
       " ('Género Bender_score', 0.0005209727766164355),\n",
       " ('Vampiros_score', 0.0005089779565584008),\n",
       " ('Thriller_score', 0.0004899365916831354),\n",
       " ('Animación_score', 0.0004759051922311024),\n",
       " ('Parodia_score', 0.0004359369001894787),\n",
       " ('Musica_score', 0.00037317811458285297),\n",
       " ('Mecha_score', 0.00035275662031165677),\n",
       " ('Realidad Virtual_score', 0.0002961914885748334),\n",
       " ('Niños_score', 0.00027915284233764144),\n",
       " ('Guerra_score', 0.00027547506482357106),\n",
       " ('Policiaco_score', 0.00019017198177176522),\n",
       " ('Extranjero_score', 0.00011697191644175087),\n",
       " ('Samurái_score', 8.554255888049616e-05),\n",
       " ('Telenovela_score', 8.476916051909362e-05),\n",
       " ('Traps_score', 7.724069016042105e-05),\n",
       " ('Ciberpunk_score', 7.545065198866674e-05),\n",
       " ('Oeste_score', 1.296147191950782e-05)]"
      ]
     },
     "execution_count": 24,
     "metadata": {},
     "output_type": "execute_result"
    }
   ],
   "source": [
    "feature_importances_sort"
   ]
  },
  {
   "cell_type": "code",
   "execution_count": 25,
   "metadata": {},
   "outputs": [],
   "source": [
    "predictions = dtr_gs.predict(X_test)"
   ]
  },
  {
   "cell_type": "code",
   "execution_count": 26,
   "metadata": {},
   "outputs": [],
   "source": [
    "MAE = mean_absolute_error(y_test, predictions)\n",
    "MAPE = mean_absolute_percentage_error(y_test, predictions)\n",
    "MSE = mean_squared_error(y_test, predictions)\n",
    "RMSE = np.sqrt(mean_squared_error(y_test, predictions))\n",
    "R2_Train = dtr_gs.best_estimator_.score(X_train, y_train)\n",
    "R2_Test = dtr_gs.best_estimator_.score(X_test, y_test)"
   ]
  },
  {
   "cell_type": "code",
   "execution_count": 27,
   "metadata": {},
   "outputs": [],
   "source": [
    "score[\"rfr\"] = {\"MAE\": float(MAE), \"MAPE\": float(MAPE), \"MSE\": float(MSE), \"RMSE\": float(RMSE),\n",
    "                \"R2_Train\": float(R2_Train), \"R2_Test\": float(R2_Test)}"
   ]
  },
  {
   "cell_type": "code",
   "execution_count": 28,
   "metadata": {},
   "outputs": [
    {
     "name": "stdout",
     "output_type": "stream",
     "text": [
      "MAE: 1.3228322255308405\n",
      "MAPE: 2771160493069838.0\n",
      "MSE: 3.361929264521243\n",
      "RMSE: 1.833556452504597\n",
      "R2_Train: 0.8460256218033542\n",
      "R2_Test: 0.7780229346765943\n"
     ]
    }
   ],
   "source": [
    "print(\"MAE:\", MAE)\n",
    "print(\"MAPE:\", MAPE)\n",
    "print(\"MSE:\", MSE)\n",
    "print(\"RMSE:\", RMSE)\n",
    "print(\"R2_Train:\", R2_Train)\n",
    "print(\"R2_Test:\", R2_Test)"
   ]
  },
  {
   "attachments": {},
   "cell_type": "markdown",
   "metadata": {},
   "source": [
    "# ElasticNet"
   ]
  },
  {
   "attachments": {},
   "cell_type": "markdown",
   "metadata": {},
   "source": [
    "- `model = ElasticNet()`: Se crea un objeto `ElasticNet`. Este modelo combina la regularización L1 y L2 para realizar una regresión lineal con términos de penalización tanto en los coeficientes como en su magnitud.\n",
    "\n",
    "- `parameters = {...}`: Se definen los parámetros para la búsqueda de hiperparámetros. En este caso, se especifican diferentes valores para los hiperparámetros `alpha`, que controla la fuerza de la regularización, `l1_ratio`, que determina la mezcla entre la regularización L1 y L2, y `max_iter`, que indica el número máximo de iteraciones del algoritmo de optimización.\n",
    "\n",
    "- `dtr_gs = GridSearchCV(model, parameters, cv=5, scoring=\"neg_mean_absolute_error\", n_jobs=-1)`: Se crea un objeto `GridSearchCV` para realizar una búsqueda exhaustiva de los mejores hiperparámetros para el modelo ElasticNet utilizando validación cruzada. Se especifica el modelo (`model`), los parámetros a buscar (`parameters`), el número de divisiones de la validación cruzada (`cv=5`), la métrica de evaluación (`scoring=\"neg_mean_absolute_error\"`) y el número de trabajos en paralelo (`n_jobs=-1`) para acelerar el proceso de búsqueda.\n"
   ]
  },
  {
   "cell_type": "code",
   "execution_count": 29,
   "metadata": {},
   "outputs": [],
   "source": [
    "# Crear un objeto ElasticNet\n",
    "model = ElasticNet()\n",
    "\n",
    "# Definir los parámetros para la búsqueda de hiperparámetros\n",
    "parameters = {\n",
    "    \"alpha\": [0.1, 0.5, 1.0],\n",
    "    \"l1_ratio\": [0.3, 0.5, 0.7, 0.9],\n",
    "    \"max_iter\": [1000, 2000]\n",
    "}\n",
    "\n",
    "# Crear un objeto GridSearchCV para realizar una búsqueda exhaustiva de hiperparámetros\n",
    "dtr_gs = GridSearchCV(model, parameters, cv=5, scoring=\"neg_mean_absolute_error\", n_jobs=-1)\n"
   ]
  },
  {
   "cell_type": "code",
   "execution_count": 30,
   "metadata": {},
   "outputs": [
    {
     "data": {
      "text/html": [
       "<style>#sk-container-id-3 {color: black;background-color: white;}#sk-container-id-3 pre{padding: 0;}#sk-container-id-3 div.sk-toggleable {background-color: white;}#sk-container-id-3 label.sk-toggleable__label {cursor: pointer;display: block;width: 100%;margin-bottom: 0;padding: 0.3em;box-sizing: border-box;text-align: center;}#sk-container-id-3 label.sk-toggleable__label-arrow:before {content: \"▸\";float: left;margin-right: 0.25em;color: #696969;}#sk-container-id-3 label.sk-toggleable__label-arrow:hover:before {color: black;}#sk-container-id-3 div.sk-estimator:hover label.sk-toggleable__label-arrow:before {color: black;}#sk-container-id-3 div.sk-toggleable__content {max-height: 0;max-width: 0;overflow: hidden;text-align: left;background-color: #f0f8ff;}#sk-container-id-3 div.sk-toggleable__content pre {margin: 0.2em;color: black;border-radius: 0.25em;background-color: #f0f8ff;}#sk-container-id-3 input.sk-toggleable__control:checked~div.sk-toggleable__content {max-height: 200px;max-width: 100%;overflow: auto;}#sk-container-id-3 input.sk-toggleable__control:checked~label.sk-toggleable__label-arrow:before {content: \"▾\";}#sk-container-id-3 div.sk-estimator input.sk-toggleable__control:checked~label.sk-toggleable__label {background-color: #d4ebff;}#sk-container-id-3 div.sk-label input.sk-toggleable__control:checked~label.sk-toggleable__label {background-color: #d4ebff;}#sk-container-id-3 input.sk-hidden--visually {border: 0;clip: rect(1px 1px 1px 1px);clip: rect(1px, 1px, 1px, 1px);height: 1px;margin: -1px;overflow: hidden;padding: 0;position: absolute;width: 1px;}#sk-container-id-3 div.sk-estimator {font-family: monospace;background-color: #f0f8ff;border: 1px dotted black;border-radius: 0.25em;box-sizing: border-box;margin-bottom: 0.5em;}#sk-container-id-3 div.sk-estimator:hover {background-color: #d4ebff;}#sk-container-id-3 div.sk-parallel-item::after {content: \"\";width: 100%;border-bottom: 1px solid gray;flex-grow: 1;}#sk-container-id-3 div.sk-label:hover label.sk-toggleable__label {background-color: #d4ebff;}#sk-container-id-3 div.sk-serial::before {content: \"\";position: absolute;border-left: 1px solid gray;box-sizing: border-box;top: 0;bottom: 0;left: 50%;z-index: 0;}#sk-container-id-3 div.sk-serial {display: flex;flex-direction: column;align-items: center;background-color: white;padding-right: 0.2em;padding-left: 0.2em;position: relative;}#sk-container-id-3 div.sk-item {position: relative;z-index: 1;}#sk-container-id-3 div.sk-parallel {display: flex;align-items: stretch;justify-content: center;background-color: white;position: relative;}#sk-container-id-3 div.sk-item::before, #sk-container-id-3 div.sk-parallel-item::before {content: \"\";position: absolute;border-left: 1px solid gray;box-sizing: border-box;top: 0;bottom: 0;left: 50%;z-index: -1;}#sk-container-id-3 div.sk-parallel-item {display: flex;flex-direction: column;z-index: 1;position: relative;background-color: white;}#sk-container-id-3 div.sk-parallel-item:first-child::after {align-self: flex-end;width: 50%;}#sk-container-id-3 div.sk-parallel-item:last-child::after {align-self: flex-start;width: 50%;}#sk-container-id-3 div.sk-parallel-item:only-child::after {width: 0;}#sk-container-id-3 div.sk-dashed-wrapped {border: 1px dashed gray;margin: 0 0.4em 0.5em 0.4em;box-sizing: border-box;padding-bottom: 0.4em;background-color: white;}#sk-container-id-3 div.sk-label label {font-family: monospace;font-weight: bold;display: inline-block;line-height: 1.2em;}#sk-container-id-3 div.sk-label-container {text-align: center;}#sk-container-id-3 div.sk-container {/* jupyter's `normalize.less` sets `[hidden] { display: none; }` but bootstrap.min.css set `[hidden] { display: none !important; }` so we also need the `!important` here to be able to override the default hidden behavior on the sphinx rendered scikit-learn.org. See: https://github.com/scikit-learn/scikit-learn/issues/21755 */display: inline-block !important;position: relative;}#sk-container-id-3 div.sk-text-repr-fallback {display: none;}</style><div id=\"sk-container-id-3\" class=\"sk-top-container\"><div class=\"sk-text-repr-fallback\"><pre>GridSearchCV(cv=5, estimator=ElasticNet(), n_jobs=-1,\n",
       "             param_grid={&#x27;alpha&#x27;: [0.1, 0.5, 1.0],\n",
       "                         &#x27;l1_ratio&#x27;: [0.3, 0.5, 0.7, 0.9],\n",
       "                         &#x27;max_iter&#x27;: [1000, 2000]},\n",
       "             scoring=&#x27;neg_mean_absolute_error&#x27;)</pre><b>In a Jupyter environment, please rerun this cell to show the HTML representation or trust the notebook. <br />On GitHub, the HTML representation is unable to render, please try loading this page with nbviewer.org.</b></div><div class=\"sk-container\" hidden><div class=\"sk-item sk-dashed-wrapped\"><div class=\"sk-label-container\"><div class=\"sk-label sk-toggleable\"><input class=\"sk-toggleable__control sk-hidden--visually\" id=\"sk-estimator-id-5\" type=\"checkbox\" ><label for=\"sk-estimator-id-5\" class=\"sk-toggleable__label sk-toggleable__label-arrow\">GridSearchCV</label><div class=\"sk-toggleable__content\"><pre>GridSearchCV(cv=5, estimator=ElasticNet(), n_jobs=-1,\n",
       "             param_grid={&#x27;alpha&#x27;: [0.1, 0.5, 1.0],\n",
       "                         &#x27;l1_ratio&#x27;: [0.3, 0.5, 0.7, 0.9],\n",
       "                         &#x27;max_iter&#x27;: [1000, 2000]},\n",
       "             scoring=&#x27;neg_mean_absolute_error&#x27;)</pre></div></div></div><div class=\"sk-parallel\"><div class=\"sk-parallel-item\"><div class=\"sk-item\"><div class=\"sk-label-container\"><div class=\"sk-label sk-toggleable\"><input class=\"sk-toggleable__control sk-hidden--visually\" id=\"sk-estimator-id-6\" type=\"checkbox\" ><label for=\"sk-estimator-id-6\" class=\"sk-toggleable__label sk-toggleable__label-arrow\">estimator: ElasticNet</label><div class=\"sk-toggleable__content\"><pre>ElasticNet()</pre></div></div></div><div class=\"sk-serial\"><div class=\"sk-item\"><div class=\"sk-estimator sk-toggleable\"><input class=\"sk-toggleable__control sk-hidden--visually\" id=\"sk-estimator-id-7\" type=\"checkbox\" ><label for=\"sk-estimator-id-7\" class=\"sk-toggleable__label sk-toggleable__label-arrow\">ElasticNet</label><div class=\"sk-toggleable__content\"><pre>ElasticNet()</pre></div></div></div></div></div></div></div></div></div></div>"
      ],
      "text/plain": [
       "GridSearchCV(cv=5, estimator=ElasticNet(), n_jobs=-1,\n",
       "             param_grid={'alpha': [0.1, 0.5, 1.0],\n",
       "                         'l1_ratio': [0.3, 0.5, 0.7, 0.9],\n",
       "                         'max_iter': [1000, 2000]},\n",
       "             scoring='neg_mean_absolute_error')"
      ]
     },
     "execution_count": 30,
     "metadata": {},
     "output_type": "execute_result"
    }
   ],
   "source": [
    "dtr_gs.fit(X_train, y_train)"
   ]
  },
  {
   "cell_type": "code",
   "execution_count": 31,
   "metadata": {},
   "outputs": [],
   "source": [
    "best_params = {}\n",
    "[best_params.update({f\"regressor__{key}\": [value]}) for key, value in dtr_gs.best_params_.items()]\n",
    "parameter[\"en\"] = best_params"
   ]
  },
  {
   "cell_type": "code",
   "execution_count": 32,
   "metadata": {},
   "outputs": [],
   "source": [
    "predictions = dtr_gs.predict(X_test)"
   ]
  },
  {
   "cell_type": "code",
   "execution_count": 33,
   "metadata": {},
   "outputs": [],
   "source": [
    "MAE = mean_absolute_error(y_test, predictions)\n",
    "MAPE = mean_absolute_percentage_error(y_test, predictions)\n",
    "MSE = mean_squared_error(y_test, predictions)\n",
    "RMSE = np.sqrt(mean_squared_error(y_test, predictions))\n",
    "R2_Train = dtr_gs.best_estimator_.score(X_train, y_train)\n",
    "R2_Test = dtr_gs.best_estimator_.score(X_test, y_test)"
   ]
  },
  {
   "cell_type": "code",
   "execution_count": 34,
   "metadata": {},
   "outputs": [],
   "source": [
    "score[\"en\"] = {\"MAE\": float(MAE), \"MAPE\": float(MAPE), \"MSE\": float(MSE), \"RMSE\": float(RMSE), \n",
    "                \"R2_Train\": float(R2_Train), \"R2_Test\": float(R2_Test)}"
   ]
  },
  {
   "cell_type": "code",
   "execution_count": 35,
   "metadata": {},
   "outputs": [
    {
     "name": "stdout",
     "output_type": "stream",
     "text": [
      "MAE: 1.9736310535663755\n",
      "MAPE: 4220003495667564.5\n",
      "MSE: 5.984538432553491\n",
      "RMSE: 2.4463316276730533\n",
      "R2_Train: 0.602765646466361\n",
      "R2_Test: 0.6048607290485233\n"
     ]
    }
   ],
   "source": [
    "print(\"MAE:\", MAE)\n",
    "print(\"MAPE:\", MAPE)\n",
    "print(\"MSE:\", MSE)\n",
    "print(\"RMSE:\", RMSE)\n",
    "print(\"R2_Train:\", R2_Train)\n",
    "print(\"R2_Test:\", R2_Test)"
   ]
  },
  {
   "attachments": {},
   "cell_type": "markdown",
   "metadata": {},
   "source": [
    "# Support Vector Regression (SVR)"
   ]
  },
  {
   "attachments": {},
   "cell_type": "markdown",
   "metadata": {},
   "source": [
    "- `model = SVR()`: Se crea un objeto SVR (Support Vector Regression). Este modelo se utiliza para realizar una regresión utilizando la técnica de Support Vector Machines (SVM).\n",
    "\n",
    "- `parameters = {...}`: Se definen los parámetros para la búsqueda de hiperparámetros. En este caso, se especifican diferentes valores para los hiperparámetros `kernel`, que determina el tipo de kernel a utilizar (`rbf` o `poly`), `C`, que controla la penalización por error de entrenamiento y la complejidad del modelo, y `epsilon`, que establece el margen de error permitido en la regresión.\n",
    "\n",
    "- `dtr_gs = GridSearchCV(model, parameters, cv=5, scoring=\"neg_mean_absolute_error\", n_jobs=-1)`: Se crea un objeto `GridSearchCV` para realizar una búsqueda exhaustiva de los mejores hiperparámetros para el modelo SVR utilizando validación cruzada. Se especifica el modelo (`model`), los parámetros a buscar (`parameters`), el número de divisiones de la validación cruzada (`cv=5`), la métrica de evaluación (`scoring=\"neg_mean_absolute_error\"`) y el número de trabajos en paralelo (`n_jobs=-1`) para acelerar el proceso de búsqueda.\n"
   ]
  },
  {
   "cell_type": "code",
   "execution_count": 36,
   "metadata": {},
   "outputs": [],
   "source": [
    "# Crear un objeto SVR\n",
    "model = SVR()\n",
    "\n",
    "# Definir los parámetros para la búsqueda de hiperparámetros\n",
    "parameters = {\n",
    "    \"kernel\": [\"rbf\", \"poly\"],\n",
    "    \"C\": [0.5, 1, 2],\n",
    "    \"epsilon\": [0.01, 0.1, 0.3],\n",
    "}\n",
    "\n",
    "# Crear un objeto GridSearchCV para realizar una búsqueda exhaustiva de hiperparámetros\n",
    "dtr_gs = GridSearchCV(model, parameters, cv=5, scoring=\"neg_mean_absolute_error\", n_jobs=-1)\n"
   ]
  },
  {
   "cell_type": "code",
   "execution_count": 37,
   "metadata": {},
   "outputs": [
    {
     "data": {
      "text/html": [
       "<style>#sk-container-id-4 {color: black;background-color: white;}#sk-container-id-4 pre{padding: 0;}#sk-container-id-4 div.sk-toggleable {background-color: white;}#sk-container-id-4 label.sk-toggleable__label {cursor: pointer;display: block;width: 100%;margin-bottom: 0;padding: 0.3em;box-sizing: border-box;text-align: center;}#sk-container-id-4 label.sk-toggleable__label-arrow:before {content: \"▸\";float: left;margin-right: 0.25em;color: #696969;}#sk-container-id-4 label.sk-toggleable__label-arrow:hover:before {color: black;}#sk-container-id-4 div.sk-estimator:hover label.sk-toggleable__label-arrow:before {color: black;}#sk-container-id-4 div.sk-toggleable__content {max-height: 0;max-width: 0;overflow: hidden;text-align: left;background-color: #f0f8ff;}#sk-container-id-4 div.sk-toggleable__content pre {margin: 0.2em;color: black;border-radius: 0.25em;background-color: #f0f8ff;}#sk-container-id-4 input.sk-toggleable__control:checked~div.sk-toggleable__content {max-height: 200px;max-width: 100%;overflow: auto;}#sk-container-id-4 input.sk-toggleable__control:checked~label.sk-toggleable__label-arrow:before {content: \"▾\";}#sk-container-id-4 div.sk-estimator input.sk-toggleable__control:checked~label.sk-toggleable__label {background-color: #d4ebff;}#sk-container-id-4 div.sk-label input.sk-toggleable__control:checked~label.sk-toggleable__label {background-color: #d4ebff;}#sk-container-id-4 input.sk-hidden--visually {border: 0;clip: rect(1px 1px 1px 1px);clip: rect(1px, 1px, 1px, 1px);height: 1px;margin: -1px;overflow: hidden;padding: 0;position: absolute;width: 1px;}#sk-container-id-4 div.sk-estimator {font-family: monospace;background-color: #f0f8ff;border: 1px dotted black;border-radius: 0.25em;box-sizing: border-box;margin-bottom: 0.5em;}#sk-container-id-4 div.sk-estimator:hover {background-color: #d4ebff;}#sk-container-id-4 div.sk-parallel-item::after {content: \"\";width: 100%;border-bottom: 1px solid gray;flex-grow: 1;}#sk-container-id-4 div.sk-label:hover label.sk-toggleable__label {background-color: #d4ebff;}#sk-container-id-4 div.sk-serial::before {content: \"\";position: absolute;border-left: 1px solid gray;box-sizing: border-box;top: 0;bottom: 0;left: 50%;z-index: 0;}#sk-container-id-4 div.sk-serial {display: flex;flex-direction: column;align-items: center;background-color: white;padding-right: 0.2em;padding-left: 0.2em;position: relative;}#sk-container-id-4 div.sk-item {position: relative;z-index: 1;}#sk-container-id-4 div.sk-parallel {display: flex;align-items: stretch;justify-content: center;background-color: white;position: relative;}#sk-container-id-4 div.sk-item::before, #sk-container-id-4 div.sk-parallel-item::before {content: \"\";position: absolute;border-left: 1px solid gray;box-sizing: border-box;top: 0;bottom: 0;left: 50%;z-index: -1;}#sk-container-id-4 div.sk-parallel-item {display: flex;flex-direction: column;z-index: 1;position: relative;background-color: white;}#sk-container-id-4 div.sk-parallel-item:first-child::after {align-self: flex-end;width: 50%;}#sk-container-id-4 div.sk-parallel-item:last-child::after {align-self: flex-start;width: 50%;}#sk-container-id-4 div.sk-parallel-item:only-child::after {width: 0;}#sk-container-id-4 div.sk-dashed-wrapped {border: 1px dashed gray;margin: 0 0.4em 0.5em 0.4em;box-sizing: border-box;padding-bottom: 0.4em;background-color: white;}#sk-container-id-4 div.sk-label label {font-family: monospace;font-weight: bold;display: inline-block;line-height: 1.2em;}#sk-container-id-4 div.sk-label-container {text-align: center;}#sk-container-id-4 div.sk-container {/* jupyter's `normalize.less` sets `[hidden] { display: none; }` but bootstrap.min.css set `[hidden] { display: none !important; }` so we also need the `!important` here to be able to override the default hidden behavior on the sphinx rendered scikit-learn.org. See: https://github.com/scikit-learn/scikit-learn/issues/21755 */display: inline-block !important;position: relative;}#sk-container-id-4 div.sk-text-repr-fallback {display: none;}</style><div id=\"sk-container-id-4\" class=\"sk-top-container\"><div class=\"sk-text-repr-fallback\"><pre>GridSearchCV(cv=5, estimator=SVR(), n_jobs=-1,\n",
       "             param_grid={&#x27;C&#x27;: [0.5, 1, 2], &#x27;epsilon&#x27;: [0.01, 0.1, 0.3],\n",
       "                         &#x27;kernel&#x27;: [&#x27;rbf&#x27;, &#x27;poly&#x27;]},\n",
       "             scoring=&#x27;neg_mean_absolute_error&#x27;)</pre><b>In a Jupyter environment, please rerun this cell to show the HTML representation or trust the notebook. <br />On GitHub, the HTML representation is unable to render, please try loading this page with nbviewer.org.</b></div><div class=\"sk-container\" hidden><div class=\"sk-item sk-dashed-wrapped\"><div class=\"sk-label-container\"><div class=\"sk-label sk-toggleable\"><input class=\"sk-toggleable__control sk-hidden--visually\" id=\"sk-estimator-id-8\" type=\"checkbox\" ><label for=\"sk-estimator-id-8\" class=\"sk-toggleable__label sk-toggleable__label-arrow\">GridSearchCV</label><div class=\"sk-toggleable__content\"><pre>GridSearchCV(cv=5, estimator=SVR(), n_jobs=-1,\n",
       "             param_grid={&#x27;C&#x27;: [0.5, 1, 2], &#x27;epsilon&#x27;: [0.01, 0.1, 0.3],\n",
       "                         &#x27;kernel&#x27;: [&#x27;rbf&#x27;, &#x27;poly&#x27;]},\n",
       "             scoring=&#x27;neg_mean_absolute_error&#x27;)</pre></div></div></div><div class=\"sk-parallel\"><div class=\"sk-parallel-item\"><div class=\"sk-item\"><div class=\"sk-label-container\"><div class=\"sk-label sk-toggleable\"><input class=\"sk-toggleable__control sk-hidden--visually\" id=\"sk-estimator-id-9\" type=\"checkbox\" ><label for=\"sk-estimator-id-9\" class=\"sk-toggleable__label sk-toggleable__label-arrow\">estimator: SVR</label><div class=\"sk-toggleable__content\"><pre>SVR()</pre></div></div></div><div class=\"sk-serial\"><div class=\"sk-item\"><div class=\"sk-estimator sk-toggleable\"><input class=\"sk-toggleable__control sk-hidden--visually\" id=\"sk-estimator-id-10\" type=\"checkbox\" ><label for=\"sk-estimator-id-10\" class=\"sk-toggleable__label sk-toggleable__label-arrow\">SVR</label><div class=\"sk-toggleable__content\"><pre>SVR()</pre></div></div></div></div></div></div></div></div></div></div>"
      ],
      "text/plain": [
       "GridSearchCV(cv=5, estimator=SVR(), n_jobs=-1,\n",
       "             param_grid={'C': [0.5, 1, 2], 'epsilon': [0.01, 0.1, 0.3],\n",
       "                         'kernel': ['rbf', 'poly']},\n",
       "             scoring='neg_mean_absolute_error')"
      ]
     },
     "execution_count": 37,
     "metadata": {},
     "output_type": "execute_result"
    }
   ],
   "source": [
    "dtr_gs.fit(X_train_scal, y_train)"
   ]
  },
  {
   "cell_type": "code",
   "execution_count": 38,
   "metadata": {},
   "outputs": [],
   "source": [
    "best_params = {}\n",
    "[best_params.update({f\"regressor__{key}\": [value]}) for key, value in dtr_gs.best_params_.items()]\n",
    "parameter[\"svr\"] = best_params"
   ]
  },
  {
   "cell_type": "code",
   "execution_count": 39,
   "metadata": {},
   "outputs": [
    {
     "data": {
      "text/plain": [
       "{'C': 2, 'epsilon': 0.01, 'kernel': 'rbf'}"
      ]
     },
     "execution_count": 39,
     "metadata": {},
     "output_type": "execute_result"
    }
   ],
   "source": [
    "dtr_gs.best_params_"
   ]
  },
  {
   "cell_type": "code",
   "execution_count": 40,
   "metadata": {},
   "outputs": [],
   "source": [
    "predictions = dtr_gs.predict(X_test_scal)"
   ]
  },
  {
   "cell_type": "code",
   "execution_count": 41,
   "metadata": {},
   "outputs": [],
   "source": [
    "MAE = mean_absolute_error(y_test, predictions)\n",
    "MAPE = mean_absolute_percentage_error(y_test, predictions)\n",
    "MSE = mean_squared_error(y_test, predictions)\n",
    "RMSE = np.sqrt(mean_squared_error(y_test, predictions))\n",
    "R2_Train = dtr_gs.best_estimator_.score(X_train_scal, y_train)\n",
    "R2_Test = dtr_gs.best_estimator_.score(X_test_scal, y_test)"
   ]
  },
  {
   "cell_type": "code",
   "execution_count": 42,
   "metadata": {},
   "outputs": [],
   "source": [
    "score[\"svr\"] = {\"MAE\": float(MAE), \"MAPE\": float(MAPE), \"MSE\": float(MSE), \"RMSE\": float(RMSE),\n",
    "                \"R2_Train\": float(R2_Train), \"R2_Test\": float(R2_Test)}"
   ]
  },
  {
   "cell_type": "code",
   "execution_count": 43,
   "metadata": {},
   "outputs": [
    {
     "name": "stdout",
     "output_type": "stream",
     "text": [
      "MAE: 1.2523361553789056\n",
      "MAPE: 3449866583858207.0\n",
      "MSE: 4.464253488724695\n",
      "RMSE: 2.1128780108479273\n",
      "R2_Train: 0.7632441876465479\n",
      "R2_Test: 0.7052401135429595\n"
     ]
    }
   ],
   "source": [
    "print(\"MAE:\", MAE)\n",
    "print(\"MAPE:\", MAPE)\n",
    "print(\"MSE:\", MSE)\n",
    "print(\"RMSE:\", RMSE)\n",
    "print(\"R2_Train:\", R2_Train)\n",
    "print(\"R2_Test:\", R2_Test)"
   ]
  },
  {
   "attachments": {},
   "cell_type": "markdown",
   "metadata": {},
   "source": [
    "# AdaBoostRegressor"
   ]
  },
  {
   "attachments": {},
   "cell_type": "markdown",
   "metadata": {},
   "source": [
    "- `model = AdaBoostRegressor(random_state=10)`: Se crea un objeto AdaBoostRegressor con un estado aleatorio de 10. Este modelo se utiliza para realizar una regresión utilizando el algoritmo de Boosting con la técnica de AdaBoost.\n",
    "\n",
    "- `parameters = {...}`: Se definen los parámetros para la búsqueda de hiperparámetros. En este caso, se especifican diferentes valores para los hiperparámetros `n_estimators`, que indica el número de estimadores en el ensamblaje, y `loss`, que determina la función de pérdida a utilizar durante el entrenamiento.\n",
    "\n",
    "- `dtr_gs = GridSearchCV(model, parameters, cv=5, scoring=\"neg_mean_absolute_error\", n_jobs=-1)`: Se crea un objeto GridSearchCV para realizar una búsqueda exhaustiva de los mejores hiperparámetros para el modelo AdaBoostRegressor utilizando validación cruzada. Se especifica el modelo (`model`), los parámetros a buscar (`parameters`), el número de divisiones de la validación cruzada (`cv=5`), la métrica de evaluación (`scoring=\"neg_mean_absolute_error\"`) y el número de trabajos en paralelo (`n_jobs=-1`) para acelerar el proceso de búsqueda.\n"
   ]
  },
  {
   "cell_type": "code",
   "execution_count": 44,
   "metadata": {},
   "outputs": [],
   "source": [
    "# Crear un objeto AdaBoostRegressor\n",
    "model = AdaBoostRegressor(random_state=10)\n",
    "\n",
    "# Definir los parámetros para la búsqueda de hiperparámetros\n",
    "parameters = {\n",
    "    \"n_estimators\": [100, 150, 200],\n",
    "    \"loss\": [\"linear\", \"square\", \"exponential\"],\n",
    "}\n",
    "\n",
    "# Crear un objeto GridSearchCV para realizar una búsqueda exhaustiva de hiperparámetros\n",
    "dtr_gs = GridSearchCV(model, parameters, cv=5, scoring=\"neg_mean_absolute_error\", n_jobs=-1)\n"
   ]
  },
  {
   "cell_type": "code",
   "execution_count": 45,
   "metadata": {},
   "outputs": [
    {
     "data": {
      "text/html": [
       "<style>#sk-container-id-5 {color: black;background-color: white;}#sk-container-id-5 pre{padding: 0;}#sk-container-id-5 div.sk-toggleable {background-color: white;}#sk-container-id-5 label.sk-toggleable__label {cursor: pointer;display: block;width: 100%;margin-bottom: 0;padding: 0.3em;box-sizing: border-box;text-align: center;}#sk-container-id-5 label.sk-toggleable__label-arrow:before {content: \"▸\";float: left;margin-right: 0.25em;color: #696969;}#sk-container-id-5 label.sk-toggleable__label-arrow:hover:before {color: black;}#sk-container-id-5 div.sk-estimator:hover label.sk-toggleable__label-arrow:before {color: black;}#sk-container-id-5 div.sk-toggleable__content {max-height: 0;max-width: 0;overflow: hidden;text-align: left;background-color: #f0f8ff;}#sk-container-id-5 div.sk-toggleable__content pre {margin: 0.2em;color: black;border-radius: 0.25em;background-color: #f0f8ff;}#sk-container-id-5 input.sk-toggleable__control:checked~div.sk-toggleable__content {max-height: 200px;max-width: 100%;overflow: auto;}#sk-container-id-5 input.sk-toggleable__control:checked~label.sk-toggleable__label-arrow:before {content: \"▾\";}#sk-container-id-5 div.sk-estimator input.sk-toggleable__control:checked~label.sk-toggleable__label {background-color: #d4ebff;}#sk-container-id-5 div.sk-label input.sk-toggleable__control:checked~label.sk-toggleable__label {background-color: #d4ebff;}#sk-container-id-5 input.sk-hidden--visually {border: 0;clip: rect(1px 1px 1px 1px);clip: rect(1px, 1px, 1px, 1px);height: 1px;margin: -1px;overflow: hidden;padding: 0;position: absolute;width: 1px;}#sk-container-id-5 div.sk-estimator {font-family: monospace;background-color: #f0f8ff;border: 1px dotted black;border-radius: 0.25em;box-sizing: border-box;margin-bottom: 0.5em;}#sk-container-id-5 div.sk-estimator:hover {background-color: #d4ebff;}#sk-container-id-5 div.sk-parallel-item::after {content: \"\";width: 100%;border-bottom: 1px solid gray;flex-grow: 1;}#sk-container-id-5 div.sk-label:hover label.sk-toggleable__label {background-color: #d4ebff;}#sk-container-id-5 div.sk-serial::before {content: \"\";position: absolute;border-left: 1px solid gray;box-sizing: border-box;top: 0;bottom: 0;left: 50%;z-index: 0;}#sk-container-id-5 div.sk-serial {display: flex;flex-direction: column;align-items: center;background-color: white;padding-right: 0.2em;padding-left: 0.2em;position: relative;}#sk-container-id-5 div.sk-item {position: relative;z-index: 1;}#sk-container-id-5 div.sk-parallel {display: flex;align-items: stretch;justify-content: center;background-color: white;position: relative;}#sk-container-id-5 div.sk-item::before, #sk-container-id-5 div.sk-parallel-item::before {content: \"\";position: absolute;border-left: 1px solid gray;box-sizing: border-box;top: 0;bottom: 0;left: 50%;z-index: -1;}#sk-container-id-5 div.sk-parallel-item {display: flex;flex-direction: column;z-index: 1;position: relative;background-color: white;}#sk-container-id-5 div.sk-parallel-item:first-child::after {align-self: flex-end;width: 50%;}#sk-container-id-5 div.sk-parallel-item:last-child::after {align-self: flex-start;width: 50%;}#sk-container-id-5 div.sk-parallel-item:only-child::after {width: 0;}#sk-container-id-5 div.sk-dashed-wrapped {border: 1px dashed gray;margin: 0 0.4em 0.5em 0.4em;box-sizing: border-box;padding-bottom: 0.4em;background-color: white;}#sk-container-id-5 div.sk-label label {font-family: monospace;font-weight: bold;display: inline-block;line-height: 1.2em;}#sk-container-id-5 div.sk-label-container {text-align: center;}#sk-container-id-5 div.sk-container {/* jupyter's `normalize.less` sets `[hidden] { display: none; }` but bootstrap.min.css set `[hidden] { display: none !important; }` so we also need the `!important` here to be able to override the default hidden behavior on the sphinx rendered scikit-learn.org. See: https://github.com/scikit-learn/scikit-learn/issues/21755 */display: inline-block !important;position: relative;}#sk-container-id-5 div.sk-text-repr-fallback {display: none;}</style><div id=\"sk-container-id-5\" class=\"sk-top-container\"><div class=\"sk-text-repr-fallback\"><pre>GridSearchCV(cv=5, estimator=AdaBoostRegressor(random_state=10), n_jobs=-1,\n",
       "             param_grid={&#x27;loss&#x27;: [&#x27;linear&#x27;, &#x27;square&#x27;, &#x27;exponential&#x27;],\n",
       "                         &#x27;n_estimators&#x27;: [100, 150, 200]},\n",
       "             scoring=&#x27;neg_mean_absolute_error&#x27;)</pre><b>In a Jupyter environment, please rerun this cell to show the HTML representation or trust the notebook. <br />On GitHub, the HTML representation is unable to render, please try loading this page with nbviewer.org.</b></div><div class=\"sk-container\" hidden><div class=\"sk-item sk-dashed-wrapped\"><div class=\"sk-label-container\"><div class=\"sk-label sk-toggleable\"><input class=\"sk-toggleable__control sk-hidden--visually\" id=\"sk-estimator-id-11\" type=\"checkbox\" ><label for=\"sk-estimator-id-11\" class=\"sk-toggleable__label sk-toggleable__label-arrow\">GridSearchCV</label><div class=\"sk-toggleable__content\"><pre>GridSearchCV(cv=5, estimator=AdaBoostRegressor(random_state=10), n_jobs=-1,\n",
       "             param_grid={&#x27;loss&#x27;: [&#x27;linear&#x27;, &#x27;square&#x27;, &#x27;exponential&#x27;],\n",
       "                         &#x27;n_estimators&#x27;: [100, 150, 200]},\n",
       "             scoring=&#x27;neg_mean_absolute_error&#x27;)</pre></div></div></div><div class=\"sk-parallel\"><div class=\"sk-parallel-item\"><div class=\"sk-item\"><div class=\"sk-label-container\"><div class=\"sk-label sk-toggleable\"><input class=\"sk-toggleable__control sk-hidden--visually\" id=\"sk-estimator-id-12\" type=\"checkbox\" ><label for=\"sk-estimator-id-12\" class=\"sk-toggleable__label sk-toggleable__label-arrow\">estimator: AdaBoostRegressor</label><div class=\"sk-toggleable__content\"><pre>AdaBoostRegressor(random_state=10)</pre></div></div></div><div class=\"sk-serial\"><div class=\"sk-item\"><div class=\"sk-estimator sk-toggleable\"><input class=\"sk-toggleable__control sk-hidden--visually\" id=\"sk-estimator-id-13\" type=\"checkbox\" ><label for=\"sk-estimator-id-13\" class=\"sk-toggleable__label sk-toggleable__label-arrow\">AdaBoostRegressor</label><div class=\"sk-toggleable__content\"><pre>AdaBoostRegressor(random_state=10)</pre></div></div></div></div></div></div></div></div></div></div>"
      ],
      "text/plain": [
       "GridSearchCV(cv=5, estimator=AdaBoostRegressor(random_state=10), n_jobs=-1,\n",
       "             param_grid={'loss': ['linear', 'square', 'exponential'],\n",
       "                         'n_estimators': [100, 150, 200]},\n",
       "             scoring='neg_mean_absolute_error')"
      ]
     },
     "execution_count": 45,
     "metadata": {},
     "output_type": "execute_result"
    }
   ],
   "source": [
    "dtr_gs.fit(X_train, y_train)"
   ]
  },
  {
   "cell_type": "code",
   "execution_count": 46,
   "metadata": {},
   "outputs": [],
   "source": [
    "best_params = {}\n",
    "[best_params.update({f\"regressor__{key}\": [value]}) for key, value in dtr_gs.best_params_.items()]\n",
    "parameter[\"ada\"] = best_params"
   ]
  },
  {
   "cell_type": "code",
   "execution_count": 47,
   "metadata": {},
   "outputs": [
    {
     "data": {
      "text/plain": [
       "{'loss': 'linear', 'n_estimators': 100}"
      ]
     },
     "execution_count": 47,
     "metadata": {},
     "output_type": "execute_result"
    }
   ],
   "source": [
    "dtr_gs.best_params_"
   ]
  },
  {
   "cell_type": "code",
   "execution_count": 48,
   "metadata": {},
   "outputs": [],
   "source": [
    "predictions = dtr_gs.predict(X_test)"
   ]
  },
  {
   "cell_type": "code",
   "execution_count": 49,
   "metadata": {},
   "outputs": [],
   "source": [
    "MAE = mean_absolute_error(y_test, predictions)\n",
    "MAPE = mean_absolute_percentage_error(y_test, predictions)\n",
    "MSE = mean_squared_error(y_test, predictions)\n",
    "RMSE = np.sqrt(mean_squared_error(y_test, predictions))\n",
    "R2_Train = dtr_gs.best_estimator_.score(X_train, y_train)\n",
    "R2_Test = dtr_gs.best_estimator_.score(X_test, y_test)"
   ]
  },
  {
   "cell_type": "code",
   "execution_count": 50,
   "metadata": {},
   "outputs": [],
   "source": [
    "score[\"abr\"] = {\"MAE\": float(MAE), \"MAPE\": float(MAPE), \"MSE\": float(MSE), \"RMSE\": float(RMSE),\n",
    "                \"R2_Train\": float(R2_Train), \"R2_Test\": float(R2_Test)}"
   ]
  },
  {
   "cell_type": "code",
   "execution_count": 51,
   "metadata": {},
   "outputs": [
    {
     "name": "stdout",
     "output_type": "stream",
     "text": [
      "MAE: 2.2864885026138806\n",
      "MAPE: 4299650956092424.5\n",
      "MSE: 7.4031239197150605\n",
      "RMSE: 2.720868229024526\n",
      "R2_Train: 0.5099155703618581\n",
      "R2_Test: 0.5111962231728051\n"
     ]
    }
   ],
   "source": [
    "print(\"MAE:\", MAE)\n",
    "print(\"MAPE:\", MAPE)\n",
    "print(\"MSE:\", MSE)\n",
    "print(\"RMSE:\", RMSE)\n",
    "print(\"R2_Train:\", R2_Train)\n",
    "print(\"R2_Test:\", R2_Test)"
   ]
  },
  {
   "attachments": {},
   "cell_type": "markdown",
   "metadata": {},
   "source": [
    "# GradientBoostingRegressor"
   ]
  },
  {
   "attachments": {},
   "cell_type": "markdown",
   "metadata": {},
   "source": [
    "Importamos la clase `GradientBoostingRegressor` del módulo `ensemble` de la biblioteca sklearn. Esto nos permite utilizar el algoritmo de Boosting con gradientes para realizar una regresión.\n",
    "\n",
    "- `max_depth`: La profundidad máxima de los árboles de regresión utilizados en el ensamble. En este caso, se establece en 2.\n",
    "- `n_estimators`: El número de árboles en el ensamble. En este caso, se establece en 3.\n",
    "- `learning_rate`: La tasa de aprendizaje que controla la contribución de cada árbol en el ensamble. En este caso, se establece en 1.0, lo que significa que cada árbol contribuye completamente al ensamble.\n",
    "- `random_state`: El estado aleatorio para reproducibilidad. En este caso, se establece en 10.\n"
   ]
  },
  {
   "cell_type": "code",
   "execution_count": 52,
   "metadata": {},
   "outputs": [
    {
     "data": {
      "text/html": [
       "<style>#sk-container-id-6 {color: black;background-color: white;}#sk-container-id-6 pre{padding: 0;}#sk-container-id-6 div.sk-toggleable {background-color: white;}#sk-container-id-6 label.sk-toggleable__label {cursor: pointer;display: block;width: 100%;margin-bottom: 0;padding: 0.3em;box-sizing: border-box;text-align: center;}#sk-container-id-6 label.sk-toggleable__label-arrow:before {content: \"▸\";float: left;margin-right: 0.25em;color: #696969;}#sk-container-id-6 label.sk-toggleable__label-arrow:hover:before {color: black;}#sk-container-id-6 div.sk-estimator:hover label.sk-toggleable__label-arrow:before {color: black;}#sk-container-id-6 div.sk-toggleable__content {max-height: 0;max-width: 0;overflow: hidden;text-align: left;background-color: #f0f8ff;}#sk-container-id-6 div.sk-toggleable__content pre {margin: 0.2em;color: black;border-radius: 0.25em;background-color: #f0f8ff;}#sk-container-id-6 input.sk-toggleable__control:checked~div.sk-toggleable__content {max-height: 200px;max-width: 100%;overflow: auto;}#sk-container-id-6 input.sk-toggleable__control:checked~label.sk-toggleable__label-arrow:before {content: \"▾\";}#sk-container-id-6 div.sk-estimator input.sk-toggleable__control:checked~label.sk-toggleable__label {background-color: #d4ebff;}#sk-container-id-6 div.sk-label input.sk-toggleable__control:checked~label.sk-toggleable__label {background-color: #d4ebff;}#sk-container-id-6 input.sk-hidden--visually {border: 0;clip: rect(1px 1px 1px 1px);clip: rect(1px, 1px, 1px, 1px);height: 1px;margin: -1px;overflow: hidden;padding: 0;position: absolute;width: 1px;}#sk-container-id-6 div.sk-estimator {font-family: monospace;background-color: #f0f8ff;border: 1px dotted black;border-radius: 0.25em;box-sizing: border-box;margin-bottom: 0.5em;}#sk-container-id-6 div.sk-estimator:hover {background-color: #d4ebff;}#sk-container-id-6 div.sk-parallel-item::after {content: \"\";width: 100%;border-bottom: 1px solid gray;flex-grow: 1;}#sk-container-id-6 div.sk-label:hover label.sk-toggleable__label {background-color: #d4ebff;}#sk-container-id-6 div.sk-serial::before {content: \"\";position: absolute;border-left: 1px solid gray;box-sizing: border-box;top: 0;bottom: 0;left: 50%;z-index: 0;}#sk-container-id-6 div.sk-serial {display: flex;flex-direction: column;align-items: center;background-color: white;padding-right: 0.2em;padding-left: 0.2em;position: relative;}#sk-container-id-6 div.sk-item {position: relative;z-index: 1;}#sk-container-id-6 div.sk-parallel {display: flex;align-items: stretch;justify-content: center;background-color: white;position: relative;}#sk-container-id-6 div.sk-item::before, #sk-container-id-6 div.sk-parallel-item::before {content: \"\";position: absolute;border-left: 1px solid gray;box-sizing: border-box;top: 0;bottom: 0;left: 50%;z-index: -1;}#sk-container-id-6 div.sk-parallel-item {display: flex;flex-direction: column;z-index: 1;position: relative;background-color: white;}#sk-container-id-6 div.sk-parallel-item:first-child::after {align-self: flex-end;width: 50%;}#sk-container-id-6 div.sk-parallel-item:last-child::after {align-self: flex-start;width: 50%;}#sk-container-id-6 div.sk-parallel-item:only-child::after {width: 0;}#sk-container-id-6 div.sk-dashed-wrapped {border: 1px dashed gray;margin: 0 0.4em 0.5em 0.4em;box-sizing: border-box;padding-bottom: 0.4em;background-color: white;}#sk-container-id-6 div.sk-label label {font-family: monospace;font-weight: bold;display: inline-block;line-height: 1.2em;}#sk-container-id-6 div.sk-label-container {text-align: center;}#sk-container-id-6 div.sk-container {/* jupyter's `normalize.less` sets `[hidden] { display: none; }` but bootstrap.min.css set `[hidden] { display: none !important; }` so we also need the `!important` here to be able to override the default hidden behavior on the sphinx rendered scikit-learn.org. See: https://github.com/scikit-learn/scikit-learn/issues/21755 */display: inline-block !important;position: relative;}#sk-container-id-6 div.sk-text-repr-fallback {display: none;}</style><div id=\"sk-container-id-6\" class=\"sk-top-container\"><div class=\"sk-text-repr-fallback\"><pre>GradientBoostingRegressor(learning_rate=1.0, max_depth=2, n_estimators=3,\n",
       "                          random_state=10)</pre><b>In a Jupyter environment, please rerun this cell to show the HTML representation or trust the notebook. <br />On GitHub, the HTML representation is unable to render, please try loading this page with nbviewer.org.</b></div><div class=\"sk-container\" hidden><div class=\"sk-item\"><div class=\"sk-estimator sk-toggleable\"><input class=\"sk-toggleable__control sk-hidden--visually\" id=\"sk-estimator-id-14\" type=\"checkbox\" checked><label for=\"sk-estimator-id-14\" class=\"sk-toggleable__label sk-toggleable__label-arrow\">GradientBoostingRegressor</label><div class=\"sk-toggleable__content\"><pre>GradientBoostingRegressor(learning_rate=1.0, max_depth=2, n_estimators=3,\n",
       "                          random_state=10)</pre></div></div></div></div></div>"
      ],
      "text/plain": [
       "GradientBoostingRegressor(learning_rate=1.0, max_depth=2, n_estimators=3,\n",
       "                          random_state=10)"
      ]
     },
     "execution_count": 52,
     "metadata": {},
     "output_type": "execute_result"
    }
   ],
   "source": [
    "from sklearn.ensemble import GradientBoostingRegressor\n",
    "\n",
    "# Crear un objeto GradientBoostingRegressor\n",
    "gbrt = GradientBoostingRegressor(max_depth=2,\n",
    "                                 n_estimators=3,\n",
    "                                 learning_rate=1.0,\n",
    "                                 random_state=10)\n",
    "\n",
    "# Ajustar el modelo GradientBoostingRegressor a los datos de entrenamiento\n",
    "gbrt.fit(X_train, y_train)\n"
   ]
  },
  {
   "cell_type": "code",
   "execution_count": 53,
   "metadata": {},
   "outputs": [],
   "source": [
    "predictions = gbrt.predict(X_test)"
   ]
  },
  {
   "cell_type": "code",
   "execution_count": 54,
   "metadata": {},
   "outputs": [],
   "source": [
    "MAE = mean_absolute_error(y_test, predictions)\n",
    "MAPE = mean_absolute_percentage_error(y_test, predictions)\n",
    "MSE = mean_squared_error(y_test, predictions)\n",
    "RMSE = np.sqrt(mean_squared_error(y_test, predictions))\n",
    "R2_Train = dtr_gs.best_estimator_.score(X_train, y_train)\n",
    "R2_Test = dtr_gs.best_estimator_.score(X_test, y_test)"
   ]
  },
  {
   "cell_type": "code",
   "execution_count": 55,
   "metadata": {},
   "outputs": [],
   "source": [
    "score[\"gbr\"] = {\"MAE\": float(MAE), \"MAPE\": float(MAPE), \"MSE\": float(MSE), \"RMSE\": float(RMSE),\n",
    "                \"R2_Train\": float(R2_Train), \"R2_Test\": float(R2_Test)}"
   ]
  },
  {
   "cell_type": "code",
   "execution_count": 56,
   "metadata": {},
   "outputs": [
    {
     "name": "stdout",
     "output_type": "stream",
     "text": [
      "MAE: 1.3369687018314675\n",
      "MAPE: 2305030290860392.5\n",
      "MSE: 4.4187174660129\n",
      "RMSE: 2.102074562429435\n",
      "R2_Train: 0.5099155703618581\n",
      "R2_Test: 0.5111962231728051\n"
     ]
    }
   ],
   "source": [
    "print(\"MAE:\", MAE)\n",
    "print(\"MAPE:\", MAPE)\n",
    "print(\"MSE:\", MSE)\n",
    "print(\"RMSE:\", RMSE)\n",
    "print(\"R2_Train:\", R2_Train)\n",
    "print(\"R2_Test:\", R2_Test)"
   ]
  },
  {
   "attachments": {},
   "cell_type": "markdown",
   "metadata": {},
   "source": [
    "# Recurrent Neural Networks"
   ]
  },
  {
   "attachments": {},
   "cell_type": "markdown",
   "metadata": {},
   "source": [
    "**Model Creation:**\n",
    "\n",
    "- `model`: Se crea un modelo secuencial de Keras utilizando la clase `Sequential`. Este modelo consiste en una serie de capas apiladas una encima de la otra.\n",
    "- `keras.layers.Dense`: Se añaden capas densas (totalmente conectadas) al modelo. Cada capa tiene un número específico de neuronas y una función de activación. La última capa tiene 1 neurona para la regresión.\n",
    "\n",
    "**Model Compilation:**\n",
    "\n",
    "- `model.compile`: Se compila el modelo especificando la función de pérdida, el optimizador y las métricas que se utilizarán durante el entrenamiento.\n",
    "\n",
    "**Callbacks:**\n",
    "\n",
    "- `checkpoint_cb`: Se crea un callback `ModelCheckpoint` para guardar el modelo en un archivo durante el entrenamiento.\n",
    "- `early_stopping_cb`: Se crea un callback `EarlyStopping` que detendrá el entrenamiento si no se observa una mejora en la métrica de pérdida en un número determinado de épocas.\n",
    "\n",
    "**Model Training:**\n",
    "\n",
    "- `model.fit`: Se entrena el modelo utilizando los datos de entrenamiento `X_train_scal` y las etiquetas correspondientes `y_train`. Se especifica el número de épocas, la validación cruzada (usando una fracción del conjunto de entrenamiento como validación) y los callbacks a utilizar durante el entrenamiento.\n"
   ]
  },
  {
   "cell_type": "code",
   "execution_count": 13,
   "metadata": {},
   "outputs": [
    {
     "name": "stdout",
     "output_type": "stream",
     "text": [
      "Epoch 1/1000\n"
     ]
    },
    {
     "name": "stdout",
     "output_type": "stream",
     "text": [
      "381/381 [==============================] - 1s 2ms/step - loss: 1.7329 - MAPE: 592661824.0000 - MSE: 6.9934 - RMSE: 2.6445 - val_loss: 0.9431 - val_MAPE: 155251616.0000 - val_MSE: 2.9461 - val_RMSE: 1.7164\n",
      "Epoch 2/1000\n",
      "381/381 [==============================] - 0s 1ms/step - loss: 0.7564 - MAPE: 144465184.0000 - MSE: 2.4789 - RMSE: 1.5745 - val_loss: 0.6621 - val_MAPE: 114751128.0000 - val_MSE: 2.2621 - val_RMSE: 1.5040\n",
      "Epoch 3/1000\n",
      "381/381 [==============================] - 0s 1ms/step - loss: 0.6131 - MAPE: 93663512.0000 - MSE: 2.1280 - RMSE: 1.4588 - val_loss: 0.6041 - val_MAPE: 126345568.0000 - val_MSE: 2.1461 - val_RMSE: 1.4650\n",
      "Epoch 4/1000\n",
      "381/381 [==============================] - 0s 1ms/step - loss: 0.5479 - MAPE: 74570280.0000 - MSE: 1.9219 - RMSE: 1.3863 - val_loss: 0.5699 - val_MAPE: 96878632.0000 - val_MSE: 2.1454 - val_RMSE: 1.4647\n",
      "Epoch 5/1000\n",
      "381/381 [==============================] - 0s 1ms/step - loss: 0.5044 - MAPE: 62471220.0000 - MSE: 1.8286 - RMSE: 1.3523 - val_loss: 0.5427 - val_MAPE: 107194816.0000 - val_MSE: 2.0667 - val_RMSE: 1.4376\n",
      "Epoch 6/1000\n",
      "381/381 [==============================] - 0s 1ms/step - loss: 0.4692 - MAPE: 44598392.0000 - MSE: 1.6969 - RMSE: 1.3026 - val_loss: 0.5498 - val_MAPE: 36382012.0000 - val_MSE: 2.1697 - val_RMSE: 1.4730\n",
      "Epoch 7/1000\n",
      "381/381 [==============================] - 0s 1ms/step - loss: 0.4489 - MAPE: 35580316.0000 - MSE: 1.6702 - RMSE: 1.2924 - val_loss: 0.5093 - val_MAPE: 80779080.0000 - val_MSE: 1.9985 - val_RMSE: 1.4137\n",
      "Epoch 8/1000\n",
      "381/381 [==============================] - 0s 1ms/step - loss: 0.4282 - MAPE: 33294964.0000 - MSE: 1.6131 - RMSE: 1.2701 - val_loss: 0.5122 - val_MAPE: 79540952.0000 - val_MSE: 1.9885 - val_RMSE: 1.4101\n",
      "Epoch 9/1000\n",
      "381/381 [==============================] - 1s 1ms/step - loss: 0.4122 - MAPE: 36175720.0000 - MSE: 1.6092 - RMSE: 1.2686 - val_loss: 0.4742 - val_MAPE: 54236892.0000 - val_MSE: 1.8859 - val_RMSE: 1.3733\n",
      "Epoch 10/1000\n",
      "381/381 [==============================] - 0s 1ms/step - loss: 0.4079 - MAPE: 29221920.0000 - MSE: 1.5937 - RMSE: 1.2624 - val_loss: 0.4749 - val_MAPE: 41265208.0000 - val_MSE: 1.9798 - val_RMSE: 1.4071\n",
      "Epoch 11/1000\n",
      "381/381 [==============================] - 0s 1ms/step - loss: 0.4040 - MAPE: 33737820.0000 - MSE: 1.5899 - RMSE: 1.2609 - val_loss: 0.5061 - val_MAPE: 57592324.0000 - val_MSE: 2.1877 - val_RMSE: 1.4791\n",
      "Epoch 12/1000\n",
      "381/381 [==============================] - 0s 1ms/step - loss: 0.4023 - MAPE: 33573776.0000 - MSE: 1.5752 - RMSE: 1.2551 - val_loss: 0.5167 - val_MAPE: 101241696.0000 - val_MSE: 2.1589 - val_RMSE: 1.4693\n",
      "Epoch 13/1000\n",
      "381/381 [==============================] - 0s 1ms/step - loss: 0.3814 - MAPE: 29794338.0000 - MSE: 1.5115 - RMSE: 1.2294 - val_loss: 0.4532 - val_MAPE: 82438864.0000 - val_MSE: 1.9176 - val_RMSE: 1.3848\n",
      "Epoch 14/1000\n",
      "381/381 [==============================] - 0s 1ms/step - loss: 0.3838 - MAPE: 35939796.0000 - MSE: 1.5184 - RMSE: 1.2322 - val_loss: 0.4657 - val_MAPE: 79339608.0000 - val_MSE: 1.9767 - val_RMSE: 1.4059\n",
      "Epoch 15/1000\n",
      "381/381 [==============================] - 0s 1ms/step - loss: 0.3725 - MAPE: 27368382.0000 - MSE: 1.4797 - RMSE: 1.2164 - val_loss: 0.4821 - val_MAPE: 62220264.0000 - val_MSE: 1.8812 - val_RMSE: 1.3716\n",
      "Epoch 16/1000\n",
      "381/381 [==============================] - 0s 1ms/step - loss: 0.3693 - MAPE: 25510372.0000 - MSE: 1.4781 - RMSE: 1.2158 - val_loss: 0.4958 - val_MAPE: 114529056.0000 - val_MSE: 2.1622 - val_RMSE: 1.4704\n",
      "Epoch 17/1000\n",
      "381/381 [==============================] - 0s 1ms/step - loss: 0.3670 - MAPE: 21986258.0000 - MSE: 1.4872 - RMSE: 1.2195 - val_loss: 0.4851 - val_MAPE: 99491184.0000 - val_MSE: 2.1891 - val_RMSE: 1.4796\n",
      "Epoch 18/1000\n",
      "381/381 [==============================] - 0s 1ms/step - loss: 0.3740 - MAPE: 29629000.0000 - MSE: 1.4925 - RMSE: 1.2217 - val_loss: 0.4296 - val_MAPE: 31115556.0000 - val_MSE: 1.8483 - val_RMSE: 1.3595\n",
      "Epoch 19/1000\n",
      "381/381 [==============================] - 0s 1ms/step - loss: 0.3615 - MAPE: 21022036.0000 - MSE: 1.4425 - RMSE: 1.2010 - val_loss: 0.4552 - val_MAPE: 86898800.0000 - val_MSE: 1.9377 - val_RMSE: 1.3920\n",
      "Epoch 20/1000\n",
      "381/381 [==============================] - 0s 1ms/step - loss: 0.3655 - MAPE: 25462976.0000 - MSE: 1.5041 - RMSE: 1.2264 - val_loss: 0.4361 - val_MAPE: 71962080.0000 - val_MSE: 1.9161 - val_RMSE: 1.3842\n",
      "Epoch 21/1000\n",
      "381/381 [==============================] - 0s 1ms/step - loss: 0.3451 - MAPE: 20066182.0000 - MSE: 1.4446 - RMSE: 1.2019 - val_loss: 0.4366 - val_MAPE: 33077876.0000 - val_MSE: 1.8707 - val_RMSE: 1.3677\n",
      "Epoch 22/1000\n",
      "381/381 [==============================] - 0s 1ms/step - loss: 0.3651 - MAPE: 30394826.0000 - MSE: 1.4976 - RMSE: 1.2237 - val_loss: 0.4330 - val_MAPE: 72822024.0000 - val_MSE: 1.8736 - val_RMSE: 1.3688\n",
      "Epoch 23/1000\n",
      "381/381 [==============================] - 0s 1ms/step - loss: 0.3533 - MAPE: 26156292.0000 - MSE: 1.4423 - RMSE: 1.2010 - val_loss: 0.4287 - val_MAPE: 58333976.0000 - val_MSE: 1.8551 - val_RMSE: 1.3620\n",
      "Epoch 24/1000\n",
      "381/381 [==============================] - 0s 1ms/step - loss: 0.3646 - MAPE: 24626642.0000 - MSE: 1.4950 - RMSE: 1.2227 - val_loss: 0.4181 - val_MAPE: 39543904.0000 - val_MSE: 1.8271 - val_RMSE: 1.3517\n",
      "Epoch 25/1000\n",
      "381/381 [==============================] - 0s 1ms/step - loss: 0.3461 - MAPE: 26104566.0000 - MSE: 1.4411 - RMSE: 1.2005 - val_loss: 0.4211 - val_MAPE: 53433264.0000 - val_MSE: 1.8936 - val_RMSE: 1.3761\n",
      "Epoch 26/1000\n",
      "381/381 [==============================] - 0s 1ms/step - loss: 0.3388 - MAPE: 20727834.0000 - MSE: 1.3703 - RMSE: 1.1706 - val_loss: 0.4147 - val_MAPE: 62101596.0000 - val_MSE: 1.7794 - val_RMSE: 1.3339\n",
      "Epoch 27/1000\n",
      "381/381 [==============================] - 0s 1ms/step - loss: 0.3364 - MAPE: 22280064.0000 - MSE: 1.4235 - RMSE: 1.1931 - val_loss: 0.4280 - val_MAPE: 37593592.0000 - val_MSE: 2.0411 - val_RMSE: 1.4287\n",
      "Epoch 28/1000\n",
      "381/381 [==============================] - 0s 1ms/step - loss: 0.3287 - MAPE: 17643756.0000 - MSE: 1.3772 - RMSE: 1.1735 - val_loss: 0.4047 - val_MAPE: 41385312.0000 - val_MSE: 1.8046 - val_RMSE: 1.3433\n",
      "Epoch 29/1000\n",
      "381/381 [==============================] - 0s 1ms/step - loss: 0.3243 - MAPE: 16969398.0000 - MSE: 1.3517 - RMSE: 1.1626 - val_loss: 0.4113 - val_MAPE: 44757816.0000 - val_MSE: 1.8461 - val_RMSE: 1.3587\n",
      "Epoch 30/1000\n",
      "381/381 [==============================] - 0s 1ms/step - loss: 0.3309 - MAPE: 20644026.0000 - MSE: 1.3840 - RMSE: 1.1764 - val_loss: 0.4027 - val_MAPE: 49003212.0000 - val_MSE: 1.7903 - val_RMSE: 1.3380\n",
      "Epoch 31/1000\n",
      "381/381 [==============================] - 0s 1ms/step - loss: 0.3330 - MAPE: 20669944.0000 - MSE: 1.3859 - RMSE: 1.1773 - val_loss: 0.4156 - val_MAPE: 43835528.0000 - val_MSE: 1.8642 - val_RMSE: 1.3653\n",
      "Epoch 32/1000\n",
      "381/381 [==============================] - 0s 1ms/step - loss: 0.3396 - MAPE: 20216024.0000 - MSE: 1.4251 - RMSE: 1.1938 - val_loss: 0.4509 - val_MAPE: 45078356.0000 - val_MSE: 2.0323 - val_RMSE: 1.4256\n",
      "Epoch 33/1000\n",
      "381/381 [==============================] - 0s 1ms/step - loss: 0.3321 - MAPE: 20033284.0000 - MSE: 1.4028 - RMSE: 1.1844 - val_loss: 0.3976 - val_MAPE: 49864132.0000 - val_MSE: 1.8418 - val_RMSE: 1.3571\n",
      "Epoch 34/1000\n",
      "381/381 [==============================] - 0s 1ms/step - loss: 0.3286 - MAPE: 22712788.0000 - MSE: 1.4115 - RMSE: 1.1881 - val_loss: 0.4212 - val_MAPE: 77310720.0000 - val_MSE: 1.9518 - val_RMSE: 1.3971\n",
      "Epoch 35/1000\n",
      "381/381 [==============================] - 0s 1ms/step - loss: 0.3246 - MAPE: 20849308.0000 - MSE: 1.3932 - RMSE: 1.1803 - val_loss: 0.4012 - val_MAPE: 53446216.0000 - val_MSE: 1.7177 - val_RMSE: 1.3106\n",
      "Epoch 36/1000\n",
      "381/381 [==============================] - 0s 1ms/step - loss: 0.3159 - MAPE: 18053008.0000 - MSE: 1.3595 - RMSE: 1.1660 - val_loss: 0.4287 - val_MAPE: 51300340.0000 - val_MSE: 1.9576 - val_RMSE: 1.3991\n",
      "Epoch 37/1000\n",
      "381/381 [==============================] - 0s 1ms/step - loss: 0.3212 - MAPE: 14809728.0000 - MSE: 1.3783 - RMSE: 1.1740 - val_loss: 0.4256 - val_MAPE: 46191608.0000 - val_MSE: 1.9058 - val_RMSE: 1.3805\n",
      "Epoch 38/1000\n",
      "381/381 [==============================] - 0s 1ms/step - loss: 0.3326 - MAPE: 24006758.0000 - MSE: 1.4224 - RMSE: 1.1927 - val_loss: 0.4045 - val_MAPE: 61580884.0000 - val_MSE: 1.8543 - val_RMSE: 1.3617\n",
      "Epoch 39/1000\n",
      "381/381 [==============================] - 0s 1ms/step - loss: 0.3372 - MAPE: 23520682.0000 - MSE: 1.4707 - RMSE: 1.2127 - val_loss: 0.4179 - val_MAPE: 94516560.0000 - val_MSE: 1.9480 - val_RMSE: 1.3957\n",
      "Epoch 40/1000\n",
      "381/381 [==============================] - 0s 1ms/step - loss: 0.3113 - MAPE: 19525836.0000 - MSE: 1.3233 - RMSE: 1.1503 - val_loss: 0.4041 - val_MAPE: 88053928.0000 - val_MSE: 1.8501 - val_RMSE: 1.3602\n",
      "Epoch 41/1000\n",
      "381/381 [==============================] - 0s 1ms/step - loss: 0.3122 - MAPE: 17237182.0000 - MSE: 1.3456 - RMSE: 1.1600 - val_loss: 0.3936 - val_MAPE: 51906756.0000 - val_MSE: 1.7915 - val_RMSE: 1.3385\n",
      "Epoch 42/1000\n",
      "381/381 [==============================] - 0s 1ms/step - loss: 0.3106 - MAPE: 17647676.0000 - MSE: 1.3322 - RMSE: 1.1542 - val_loss: 0.4070 - val_MAPE: 43530136.0000 - val_MSE: 1.9199 - val_RMSE: 1.3856\n",
      "Epoch 43/1000\n",
      "381/381 [==============================] - 0s 1ms/step - loss: 0.3193 - MAPE: 18053714.0000 - MSE: 1.3941 - RMSE: 1.1807 - val_loss: 0.4239 - val_MAPE: 27700216.0000 - val_MSE: 2.0642 - val_RMSE: 1.4367\n",
      "Epoch 44/1000\n",
      "381/381 [==============================] - 0s 1ms/step - loss: 0.3128 - MAPE: 19024260.0000 - MSE: 1.3746 - RMSE: 1.1724 - val_loss: 0.3875 - val_MAPE: 42591268.0000 - val_MSE: 1.8531 - val_RMSE: 1.3613\n",
      "Epoch 45/1000\n",
      "381/381 [==============================] - 0s 1ms/step - loss: 0.3052 - MAPE: 15399329.0000 - MSE: 1.3315 - RMSE: 1.1539 - val_loss: 0.4224 - val_MAPE: 114926712.0000 - val_MSE: 1.9942 - val_RMSE: 1.4121\n",
      "Epoch 46/1000\n",
      "381/381 [==============================] - 0s 1ms/step - loss: 0.3100 - MAPE: 19329322.0000 - MSE: 1.3484 - RMSE: 1.1612 - val_loss: 0.4010 - val_MAPE: 88960808.0000 - val_MSE: 1.8876 - val_RMSE: 1.3739\n",
      "Epoch 47/1000\n",
      "381/381 [==============================] - 0s 1ms/step - loss: 0.3091 - MAPE: 16470512.0000 - MSE: 1.3409 - RMSE: 1.1580 - val_loss: 0.3931 - val_MAPE: 68772464.0000 - val_MSE: 1.8544 - val_RMSE: 1.3618\n",
      "Epoch 48/1000\n",
      "381/381 [==============================] - 0s 1ms/step - loss: 0.3083 - MAPE: 18245762.0000 - MSE: 1.3403 - RMSE: 1.1577 - val_loss: 0.3830 - val_MAPE: 43762684.0000 - val_MSE: 1.8082 - val_RMSE: 1.3447\n",
      "Epoch 49/1000\n",
      "381/381 [==============================] - 0s 1ms/step - loss: 0.2998 - MAPE: 15973611.0000 - MSE: 1.3206 - RMSE: 1.1492 - val_loss: 0.4201 - val_MAPE: 94106848.0000 - val_MSE: 1.8649 - val_RMSE: 1.3656\n",
      "Epoch 50/1000\n",
      "381/381 [==============================] - 0s 1ms/step - loss: 0.3019 - MAPE: 16906016.0000 - MSE: 1.3116 - RMSE: 1.1453 - val_loss: 0.4187 - val_MAPE: 99806184.0000 - val_MSE: 1.9275 - val_RMSE: 1.3883\n",
      "Epoch 51/1000\n",
      "381/381 [==============================] - 0s 1ms/step - loss: 0.3090 - MAPE: 27103356.0000 - MSE: 1.3720 - RMSE: 1.1713 - val_loss: 0.3965 - val_MAPE: 83011768.0000 - val_MSE: 1.8612 - val_RMSE: 1.3643\n",
      "Epoch 52/1000\n",
      "381/381 [==============================] - 0s 1ms/step - loss: 0.3185 - MAPE: 30209590.0000 - MSE: 1.4043 - RMSE: 1.1850 - val_loss: 0.4058 - val_MAPE: 90932336.0000 - val_MSE: 1.9055 - val_RMSE: 1.3804\n",
      "Epoch 53/1000\n",
      "381/381 [==============================] - 0s 1ms/step - loss: 0.3192 - MAPE: 30424782.0000 - MSE: 1.3956 - RMSE: 1.1814 - val_loss: 0.4412 - val_MAPE: 105783912.0000 - val_MSE: 2.1350 - val_RMSE: 1.4612\n",
      "Epoch 54/1000\n",
      "381/381 [==============================] - 0s 1ms/step - loss: 0.3155 - MAPE: 20684794.0000 - MSE: 1.3781 - RMSE: 1.1739 - val_loss: 0.3847 - val_MAPE: 54673108.0000 - val_MSE: 1.7770 - val_RMSE: 1.3331\n",
      "Epoch 55/1000\n",
      "381/381 [==============================] - 0s 1ms/step - loss: 0.3025 - MAPE: 20730104.0000 - MSE: 1.3321 - RMSE: 1.1542 - val_loss: 0.3790 - val_MAPE: 63838984.0000 - val_MSE: 1.7704 - val_RMSE: 1.3306\n",
      "Epoch 56/1000\n",
      "381/381 [==============================] - 0s 1ms/step - loss: 0.2980 - MAPE: 20098806.0000 - MSE: 1.3150 - RMSE: 1.1467 - val_loss: 0.3949 - val_MAPE: 55882248.0000 - val_MSE: 1.8707 - val_RMSE: 1.3677\n",
      "Epoch 57/1000\n",
      "381/381 [==============================] - 0s 1ms/step - loss: 0.2951 - MAPE: 18327736.0000 - MSE: 1.3050 - RMSE: 1.1424 - val_loss: 0.4245 - val_MAPE: 109260216.0000 - val_MSE: 2.0355 - val_RMSE: 1.4267\n",
      "Epoch 58/1000\n",
      "381/381 [==============================] - 0s 1ms/step - loss: 0.2947 - MAPE: 16210787.0000 - MSE: 1.3063 - RMSE: 1.1429 - val_loss: 0.4060 - val_MAPE: 83266776.0000 - val_MSE: 1.8530 - val_RMSE: 1.3613\n",
      "Epoch 59/1000\n",
      "381/381 [==============================] - 0s 1ms/step - loss: 0.2891 - MAPE: 17072504.0000 - MSE: 1.2722 - RMSE: 1.1279 - val_loss: 0.4213 - val_MAPE: 37764564.0000 - val_MSE: 2.0834 - val_RMSE: 1.4434\n",
      "Epoch 60/1000\n",
      "381/381 [==============================] - 0s 1ms/step - loss: 0.3085 - MAPE: 21730130.0000 - MSE: 1.3721 - RMSE: 1.1714 - val_loss: 0.4177 - val_MAPE: 112732408.0000 - val_MSE: 2.0217 - val_RMSE: 1.4219\n",
      "Epoch 61/1000\n",
      "381/381 [==============================] - 0s 1ms/step - loss: 0.2984 - MAPE: 14981787.0000 - MSE: 1.3403 - RMSE: 1.1577 - val_loss: 0.4226 - val_MAPE: 63153076.0000 - val_MSE: 1.9807 - val_RMSE: 1.4074\n",
      "Epoch 62/1000\n",
      "381/381 [==============================] - 0s 1ms/step - loss: 0.3018 - MAPE: 17984582.0000 - MSE: 1.3236 - RMSE: 1.1505 - val_loss: 0.4093 - val_MAPE: 63610468.0000 - val_MSE: 1.9775 - val_RMSE: 1.4062\n",
      "Epoch 63/1000\n",
      "381/381 [==============================] - 0s 1ms/step - loss: 0.2924 - MAPE: 19086308.0000 - MSE: 1.3049 - RMSE: 1.1423 - val_loss: 0.3983 - val_MAPE: 53421748.0000 - val_MSE: 1.8664 - val_RMSE: 1.3662\n",
      "Epoch 64/1000\n",
      "381/381 [==============================] - 0s 1ms/step - loss: 0.2931 - MAPE: 14450794.0000 - MSE: 1.2931 - RMSE: 1.1372 - val_loss: 0.4345 - val_MAPE: 86756040.0000 - val_MSE: 1.9269 - val_RMSE: 1.3881\n",
      "Epoch 65/1000\n",
      "381/381 [==============================] - 0s 1ms/step - loss: 0.2935 - MAPE: 15157085.0000 - MSE: 1.3050 - RMSE: 1.1424 - val_loss: 0.4020 - val_MAPE: 89832656.0000 - val_MSE: 1.9432 - val_RMSE: 1.3940\n"
     ]
    }
   ],
   "source": [
    "model = keras.Sequential([\n",
    "    keras.layers.Dense(120, activation='relu', input_shape=X_train_scal.shape[1:]),\n",
    "    keras.layers.Dense(60, activation='relu'),\n",
    "    keras.layers.Dense(30, activation='relu'),\n",
    "    keras.layers.Dense(1, activation='relu')\n",
    "])\n",
    "\n",
    "model.compile(loss='mae', optimizer=keras.optimizers.Adam(), \n",
    "                metrics=[keras.metrics.MeanAbsolutePercentageError(name=\"MAPE\"),\n",
    "                        keras.metrics.MeanSquaredError(name='MSE'),\n",
    "                        keras.metrics.RootMeanSquaredError(name=\"RMSE\")\n",
    "                        ])\n",
    "\n",
    "checkpoint_cb = keras.callbacks.ModelCheckpoint(\"../models/heavy/callback_model.h5\")\n",
    "early_stopping_cb = keras.callbacks.EarlyStopping(monitor='val_loss', patience=10)\n",
    "\n",
    "history = model.fit(X_train_scal, y_train, epochs=1000, validation_split=0.2,\n",
    "                   callbacks = [early_stopping_cb, checkpoint_cb])"
   ]
  },
  {
   "cell_type": "code",
   "execution_count": 14,
   "metadata": {},
   "outputs": [
    {
     "name": "stdout",
     "output_type": "stream",
     "text": [
      "  1/119 [..............................] - ETA: 2s - loss: 0.0860 - MAPE: 1.1080 - MSE: 0.0649 - RMSE: 0.2548"
     ]
    },
    {
     "name": "stdout",
     "output_type": "stream",
     "text": [
      "119/119 [==============================] - 0s 782us/step - loss: 0.3782 - MAPE: 79583296.0000 - MSE: 1.8614 - RMSE: 1.3643\n"
     ]
    }
   ],
   "source": [
    "rnn_score = model.evaluate(X_test_scal, y_test)\n"
   ]
  },
  {
   "cell_type": "code",
   "execution_count": 15,
   "metadata": {},
   "outputs": [],
   "source": [
    "MAE = rnn_score[0]\n",
    "MAPE = rnn_score[1]\n",
    "MSE = rnn_score[2]\n",
    "RMSE = rnn_score[3]"
   ]
  },
  {
   "cell_type": "code",
   "execution_count": 16,
   "metadata": {},
   "outputs": [],
   "source": [
    "score[\"rnn\"] = {\"MAE\": float(MAE), \"MAPE\": float(MAPE), \"MSE\": float(MSE), \"RMSE\": float(RMSE)}"
   ]
  },
  {
   "cell_type": "code",
   "execution_count": 17,
   "metadata": {},
   "outputs": [
    {
     "name": "stdout",
     "output_type": "stream",
     "text": [
      "MAE: 0.37818509340286255\n",
      "MAPE: 79583296.0\n",
      "MSE: 1.861403226852417\n",
      "RMSE: 1.3643325567245483\n"
     ]
    }
   ],
   "source": [
    "print(\"MAE:\", MAE)\n",
    "print(\"MAPE:\", MAPE)\n",
    "print(\"MSE:\", MSE)\n",
    "print(\"RMSE:\", RMSE)"
   ]
  },
  {
   "cell_type": "code",
   "execution_count": 18,
   "metadata": {},
   "outputs": [
    {
     "name": "stdout",
     "output_type": "stream",
     "text": [
      "119/119 [==============================] - 0s 587us/step\n"
     ]
    }
   ],
   "source": [
    "y_pred = model.predict(X_test_scal).flatten()"
   ]
  },
  {
   "cell_type": "code",
   "execution_count": 20,
   "metadata": {},
   "outputs": [
    {
     "data": {
      "image/png": "[encoded data removed]",
      "text/plain": [
       "<Figure size 640x480 with 1 Axes>"
      ]
     },
     "metadata": {},
     "output_type": "display_data"
    }
   ],
   "source": [
    "error = y_pred - y_test\n",
    "plt.hist(error, bins=15)\n",
    "plt.title(\"Distribución de erorres\");"
   ]
  },
  {
   "cell_type": "code",
   "execution_count": 21,
   "metadata": {},
   "outputs": [
    {
     "data": {
      "image/png": "[encoded data removed]",
      "text/plain": [
       "<Figure size 1200x1200 with 2 Axes>"
      ]
     },
     "metadata": {},
     "output_type": "display_data"
    }
   ],
   "source": [
    "fig, (ax1, ax2) = plt.subplots(2, 1, figsize=(12, 12))\n",
    "ax1.plot(history.history['loss'], color='b', label=\"Training loss - MAE\")\n",
    "ax1.plot(history.history['val_loss'], color='r', label=\"validation loss - MAE\")\n",
    "\n",
    "ax2.plot(history.history['MSE'], color='b', label=\"Training MSE\")\n",
    "ax2.plot(history.history['val_MSE'], color='r',label=\"Validation MSE\")\n",
    "\n",
    "plt.legend(loc='best', shadow=True)\n",
    "plt.tight_layout()\n",
    "plt.show()"
   ]
  },
  {
   "cell_type": "code",
   "execution_count": 22,
   "metadata": {},
   "outputs": [],
   "source": [
    "model.save(\"../models/heavy/keras_model.h5\")"
   ]
  },
  {
   "attachments": {},
   "cell_type": "markdown",
   "metadata": {},
   "source": [
    "# Summary"
   ]
  },
  {
   "cell_type": "code",
   "execution_count": 23,
   "metadata": {},
   "outputs": [
    {
     "data": {
      "text/plain": [
       "{'rnn': {'MAE': 0.37818509340286255,\n",
       "  'MAPE': 79583296.0,\n",
       "  'MSE': 1.861403226852417,\n",
       "  'RMSE': 1.3643325567245483}}"
      ]
     },
     "execution_count": 23,
     "metadata": {},
     "output_type": "execute_result"
    }
   ],
   "source": [
    "score"
   ]
  },
  {
   "cell_type": "code",
   "execution_count": 24,
   "metadata": {},
   "outputs": [
    {
     "data": {
      "text/plain": [
       "{}"
      ]
     },
     "execution_count": 24,
     "metadata": {},
     "output_type": "execute_result"
    }
   ],
   "source": [
    "parameter"
   ]
  },
  {
   "cell_type": "code",
   "execution_count": 25,
   "metadata": {},
   "outputs": [
    {
     "name": "stdout",
     "output_type": "stream",
     "text": [
      "YAML file write: OK\n"
     ]
    },
    {
     "data": {
      "text/plain": [
       "True"
      ]
     },
     "execution_count": 25,
     "metadata": {},
     "output_type": "execute_result"
    }
   ],
   "source": [
    "write_yaml(\"../models/heavy/model_config.yaml\", parameter)"
   ]
  },
  {
   "cell_type": "code",
   "execution_count": 26,
   "metadata": {},
   "outputs": [
    {
     "name": "stdout",
     "output_type": "stream",
     "text": [
      "YAML file write: OK\n"
     ]
    },
    {
     "data": {
      "text/plain": [
       "True"
      ]
     },
     "execution_count": 26,
     "metadata": {},
     "output_type": "execute_result"
    }
   ],
   "source": [
    "write_yaml(\"../models/heavy/score.yaml\", score)"
   ]
  },
  {
   "cell_type": "code",
   "execution_count": 27,
   "metadata": {},
   "outputs": [],
   "source": [
    "bee()"
   ]
  }
 ],
 "metadata": {
  "kernelspec": {
   "display_name": "Python 3",
   "language": "python",
   "name": "python3"
  },
  "language_info": {
   "codemirror_mode": {
    "name": "ipython",
    "version": 3
   },
   "file_extension": ".py",
   "mimetype": "text/x-python",
   "name": "python",
   "nbconvert_exporter": "python",
   "pygments_lexer": "ipython3",
   "version": "3.10.11"
  },
  "orig_nbformat": 4
 },
 "nbformat": 4,
 "nbformat_minor": 2
}
