{
 "cells": [
  {
   "cell_type": "code",
   "execution_count": 1,
   "metadata": {},
   "outputs": [],
   "source": [
    "import numpy as np\n",
    "import pandas as pd\n",
    "from sklearn.preprocessing import PolynomialFeatures, StandardScaler\n",
    "from sklearn.linear_model import LinearRegression\n",
    "from sklearn.ensemble import RandomForestRegressor, AdaBoostRegressor\n",
    "from sklearn.linear_model import ElasticNet\n",
    "from sklearn.svm import SVR\n",
    "from sklearn.model_selection import GridSearchCV, train_test_split\n",
    "from sklearn.decomposition import PCA\n",
    "from sklearn.metrics import mean_absolute_error, mean_absolute_percentage_error, mean_squared_error\n",
    "from tensorflow import keras"
   ]
  },
  {
   "cell_type": "code",
   "execution_count": 2,
   "metadata": {},
   "outputs": [],
   "source": [
    "\n",
    "from time import sleep\n",
    "from winsound import Beep\n",
    "from pathlib import Path\n",
    "import yaml"
   ]
  },
  {
   "cell_type": "code",
   "execution_count": 3,
   "metadata": {},
   "outputs": [],
   "source": [
    "def write_yaml(file_path: str, data: object):\n",
    "    \"\"\"\n",
    "    Write data to a YAML file.\n",
    "\n",
    "    Args:\n",
    "        file_path (str): Path of the YAML file.\n",
    "        data (object): Data to write.\n",
    "\n",
    "    Returns:\n",
    "        bool: True if the file was written successfully, False otherwise.\n",
    "    \"\"\"\n",
    "    try:\n",
    "        with open(Path(file_path), \"w\") as f:\n",
    "            yaml.dump(data, f)\n",
    "        print(\"YAML file write: OK\")\n",
    "        return True\n",
    "    except (FileNotFoundError, IOError, yaml.YAMLError) as err:\n",
    "        print(f\"Failed to write YAML file {file_path}: {err}\")\n",
    "        return False"
   ]
  },
  {
   "cell_type": "code",
   "execution_count": 4,
   "metadata": {},
   "outputs": [],
   "source": [
    "def bee(r: int = 3, f: int = 2500, d: int = 1000, p: float = 1) -> None:\n",
    "    \"\"\"\n",
    "    Emits a series of sounds using the Beep function from the winsound library.\n",
    "\n",
    "    Args:\n",
    "        r (int): Number of sound repetitions (default: 3).\n",
    "        f (int): Sound frequency in Hz (default: 2500).\n",
    "        d (int): Sound duration in milliseconds (default: 1000).\n",
    "        p (float): Pause between each sound in seconds (default: 1).\n",
    "\n",
    "    Returns:\n",
    "        None\n",
    "    \"\"\"\n",
    "    \n",
    "    for n in range(r):\n",
    "        Beep(f, d)\n",
    "        sleep(p)"
   ]
  },
  {
   "attachments": {},
   "cell_type": "markdown",
   "metadata": {},
   "source": [
    "## Declaramos variables y cargamos los datos"
   ]
  },
  {
   "cell_type": "code",
   "execution_count": 5,
   "metadata": {},
   "outputs": [],
   "source": [
    "parameter = {}\n",
    "score = {}"
   ]
  },
  {
   "cell_type": "code",
   "execution_count": 6,
   "metadata": {},
   "outputs": [],
   "source": [
    "medium_df = pd.read_csv(\"../data/processed/medium.csv\", index_col=\"Unnamed: 0\")"
   ]
  },
  {
   "cell_type": "code",
   "execution_count": 7,
   "metadata": {},
   "outputs": [
    {
     "data": {
      "text/plain": [
       "Index(['demography_score', 'type_score', 'score', 'read', 'book_status_score',\n",
       "       'pending', 'following', 'favorite', 'have', 'abandoned',\n",
       "       'chapters_count', 'tdg'],\n",
       "      dtype='object')"
      ]
     },
     "execution_count": 7,
     "metadata": {},
     "output_type": "execute_result"
    }
   ],
   "source": [
    "medium_df.columns"
   ]
  },
  {
   "attachments": {},
   "cell_type": "markdown",
   "metadata": {},
   "source": [
    "# Preproceso"
   ]
  },
  {
   "cell_type": "code",
   "execution_count": 8,
   "metadata": {},
   "outputs": [],
   "source": [
    "X = medium_df.drop(\"score\", axis=1)\n",
    "y = medium_df[\"score\"]"
   ]
  },
  {
   "cell_type": "code",
   "execution_count": 9,
   "metadata": {},
   "outputs": [],
   "source": [
    "X_train, X_test, y_train, y_test = train_test_split(X, y, test_size=0.2, random_state=2)"
   ]
  },
  {
   "attachments": {},
   "cell_type": "markdown",
   "metadata": {},
   "source": [
    "### Scaler"
   ]
  },
  {
   "cell_type": "code",
   "execution_count": 10,
   "metadata": {},
   "outputs": [],
   "source": [
    "# Creo el scaler con los datos de train\n",
    "scal = StandardScaler() # Declaro el scaler\n",
    "scal.fit(X_train) # Lo \"entreno\". Calculo su media y std para cada feature\n",
    "X_train_scal = scal.transform(X_train) # Aplico el scaler y sobreescribo los datos de train\n",
    "\n",
    "# Aplico el mismo scaler con los datos de test\n",
    "X_test_scal = scal.transform(X_test)"
   ]
  },
  {
   "attachments": {},
   "cell_type": "markdown",
   "metadata": {},
   "source": [
    "\n",
    "### PCA\n"
   ]
  },
  {
   "cell_type": "code",
   "execution_count": 11,
   "metadata": {},
   "outputs": [],
   "source": [
    "# Aplicar PCA para reducir la dimensionalidad de los datos\n",
    "pca = PCA(n_components=len(medium_df.columns)-1)\n",
    "# Ajustar y transformar los datos de entrenamiento utilizando PCA\n",
    "X_train_pca = pca.fit_transform(X_train)\n",
    "# Transformar los datos de prueba utilizando el modelo PCA ajustado previamente\n",
    "X_test_pca = pca.transform(X_test)"
   ]
  },
  {
   "cell_type": "code",
   "execution_count": 12,
   "metadata": {},
   "outputs": [
    {
     "data": {
      "text/plain": [
       "array([8.93174854e-01, 8.22723676e-02, 1.50791279e-02, 8.44039646e-03,\n",
       "       8.62360778e-04, 1.37311168e-04, 3.35725990e-05, 5.01738009e-09,\n",
       "       2.74534310e-09, 1.44456154e-09, 5.73402624e-10])"
      ]
     },
     "execution_count": 12,
     "metadata": {},
     "output_type": "execute_result"
    }
   ],
   "source": [
    "# Obtener la proporción de varianza explicada por cada componente principal\n",
    "pca.explained_variance_ratio_"
   ]
  },
  {
   "cell_type": "code",
   "execution_count": 13,
   "metadata": {},
   "outputs": [
    {
     "data": {
      "text/plain": [
       "array([0.89317485, 0.97544722, 0.99052635, 0.99896675, 0.99982911,\n",
       "       0.99996642, 0.99999999, 1.        , 1.        , 1.        ,\n",
       "       1.        ])"
      ]
     },
     "execution_count": 13,
     "metadata": {},
     "output_type": "execute_result"
    }
   ],
   "source": [
    "# Obtener la varianza explicada acumulada por cada componente principal\n",
    "pca.explained_variance_ratio_.cumsum()"
   ]
  },
  {
   "attachments": {},
   "cell_type": "markdown",
   "metadata": {},
   "source": [
    "# Polynomial + LinearRegression + PCA"
   ]
  },
  {
   "attachments": {},
   "cell_type": "markdown",
   "metadata": {},
   "source": [
    "- `poly_feats = PolynomialFeatures(degree=2)`: Se crea un objeto `PolynomialFeatures` con grado 2, lo que indica que se generarán características polinómicas hasta el segundo grado.\n",
    "\n",
    "- `poly_feats.fit(X)`: Se ajusta el objeto `PolynomialFeatures` a los datos de entrada `X`. Esto calcula los coeficientes necesarios para generar las características polinómicas.\n",
    "\n",
    "- `X_poly = poly_feats.transform(X)`: Se transforman los datos de entrada `X` utilizando el objeto `PolynomialFeatures` ajustado previamente. Esto agrega las características polinómicas al conjunto de datos original, generando así una representación de mayor dimensionalidad.\n",
    "\n",
    "- `lin_reg = LinearRegression()`: Se crea un objeto `LinearRegression` para realizar una regresión lineal.\n",
    "\n",
    "- `lin_reg.fit(X_train_pca, y_train)`: Se ajusta el modelo de regresión lineal utilizando los datos de entrenamiento con componentes principales `X_train_pca` y las etiquetas correspondientes `y_train`. Esto encuentra los coeficientes óptimos para la línea de regresión.\n"
   ]
  },
  {
   "cell_type": "code",
   "execution_count": 14,
   "metadata": {},
   "outputs": [
    {
     "data": {
      "text/html": [
       "<style>#sk-container-id-1 {color: black;background-color: white;}#sk-container-id-1 pre{padding: 0;}#sk-container-id-1 div.sk-toggleable {background-color: white;}#sk-container-id-1 label.sk-toggleable__label {cursor: pointer;display: block;width: 100%;margin-bottom: 0;padding: 0.3em;box-sizing: border-box;text-align: center;}#sk-container-id-1 label.sk-toggleable__label-arrow:before {content: \"▸\";float: left;margin-right: 0.25em;color: #696969;}#sk-container-id-1 label.sk-toggleable__label-arrow:hover:before {color: black;}#sk-container-id-1 div.sk-estimator:hover label.sk-toggleable__label-arrow:before {color: black;}#sk-container-id-1 div.sk-toggleable__content {max-height: 0;max-width: 0;overflow: hidden;text-align: left;background-color: #f0f8ff;}#sk-container-id-1 div.sk-toggleable__content pre {margin: 0.2em;color: black;border-radius: 0.25em;background-color: #f0f8ff;}#sk-container-id-1 input.sk-toggleable__control:checked~div.sk-toggleable__content {max-height: 200px;max-width: 100%;overflow: auto;}#sk-container-id-1 input.sk-toggleable__control:checked~label.sk-toggleable__label-arrow:before {content: \"▾\";}#sk-container-id-1 div.sk-estimator input.sk-toggleable__control:checked~label.sk-toggleable__label {background-color: #d4ebff;}#sk-container-id-1 div.sk-label input.sk-toggleable__control:checked~label.sk-toggleable__label {background-color: #d4ebff;}#sk-container-id-1 input.sk-hidden--visually {border: 0;clip: rect(1px 1px 1px 1px);clip: rect(1px, 1px, 1px, 1px);height: 1px;margin: -1px;overflow: hidden;padding: 0;position: absolute;width: 1px;}#sk-container-id-1 div.sk-estimator {font-family: monospace;background-color: #f0f8ff;border: 1px dotted black;border-radius: 0.25em;box-sizing: border-box;margin-bottom: 0.5em;}#sk-container-id-1 div.sk-estimator:hover {background-color: #d4ebff;}#sk-container-id-1 div.sk-parallel-item::after {content: \"\";width: 100%;border-bottom: 1px solid gray;flex-grow: 1;}#sk-container-id-1 div.sk-label:hover label.sk-toggleable__label {background-color: #d4ebff;}#sk-container-id-1 div.sk-serial::before {content: \"\";position: absolute;border-left: 1px solid gray;box-sizing: border-box;top: 0;bottom: 0;left: 50%;z-index: 0;}#sk-container-id-1 div.sk-serial {display: flex;flex-direction: column;align-items: center;background-color: white;padding-right: 0.2em;padding-left: 0.2em;position: relative;}#sk-container-id-1 div.sk-item {position: relative;z-index: 1;}#sk-container-id-1 div.sk-parallel {display: flex;align-items: stretch;justify-content: center;background-color: white;position: relative;}#sk-container-id-1 div.sk-item::before, #sk-container-id-1 div.sk-parallel-item::before {content: \"\";position: absolute;border-left: 1px solid gray;box-sizing: border-box;top: 0;bottom: 0;left: 50%;z-index: -1;}#sk-container-id-1 div.sk-parallel-item {display: flex;flex-direction: column;z-index: 1;position: relative;background-color: white;}#sk-container-id-1 div.sk-parallel-item:first-child::after {align-self: flex-end;width: 50%;}#sk-container-id-1 div.sk-parallel-item:last-child::after {align-self: flex-start;width: 50%;}#sk-container-id-1 div.sk-parallel-item:only-child::after {width: 0;}#sk-container-id-1 div.sk-dashed-wrapped {border: 1px dashed gray;margin: 0 0.4em 0.5em 0.4em;box-sizing: border-box;padding-bottom: 0.4em;background-color: white;}#sk-container-id-1 div.sk-label label {font-family: monospace;font-weight: bold;display: inline-block;line-height: 1.2em;}#sk-container-id-1 div.sk-label-container {text-align: center;}#sk-container-id-1 div.sk-container {/* jupyter's `normalize.less` sets `[hidden] { display: none; }` but bootstrap.min.css set `[hidden] { display: none !important; }` so we also need the `!important` here to be able to override the default hidden behavior on the sphinx rendered scikit-learn.org. See: https://github.com/scikit-learn/scikit-learn/issues/21755 */display: inline-block !important;position: relative;}#sk-container-id-1 div.sk-text-repr-fallback {display: none;}</style><div id=\"sk-container-id-1\" class=\"sk-top-container\"><div class=\"sk-text-repr-fallback\"><pre>LinearRegression()</pre><b>In a Jupyter environment, please rerun this cell to show the HTML representation or trust the notebook. <br />On GitHub, the HTML representation is unable to render, please try loading this page with nbviewer.org.</b></div><div class=\"sk-container\" hidden><div class=\"sk-item\"><div class=\"sk-estimator sk-toggleable\"><input class=\"sk-toggleable__control sk-hidden--visually\" id=\"sk-estimator-id-1\" type=\"checkbox\" checked><label for=\"sk-estimator-id-1\" class=\"sk-toggleable__label sk-toggleable__label-arrow\">LinearRegression</label><div class=\"sk-toggleable__content\"><pre>LinearRegression()</pre></div></div></div></div></div>"
      ],
      "text/plain": [
       "LinearRegression()"
      ]
     },
     "execution_count": 14,
     "metadata": {},
     "output_type": "execute_result"
    }
   ],
   "source": [
    "# Crear un objeto PolynomialFeatures para generar características polinómicas de grado 2\n",
    "poly_feats = PolynomialFeatures(degree=2)\n",
    "\n",
    "# Ajustar PolynomialFeatures a los datos de entrada X\n",
    "poly_feats.fit(X)\n",
    "\n",
    "# Transformar los datos de entrada X para incluir características polinómicas\n",
    "X_poly = poly_feats.transform(X)\n",
    "\n",
    "# Crear un objeto LinearRegression para realizar una regresión lineal\n",
    "lin_reg = LinearRegression()\n",
    "\n",
    "# Ajustar el modelo de regresión lineal utilizando los datos de entrenamiento con componentes principales\n",
    "lin_reg.fit(X_train_pca, y_train)\n"
   ]
  },
  {
   "cell_type": "code",
   "execution_count": 15,
   "metadata": {},
   "outputs": [],
   "source": [
    "parameter[\"plr\"] = {\"poli__degree\": [2]}"
   ]
  },
  {
   "cell_type": "code",
   "execution_count": 16,
   "metadata": {},
   "outputs": [],
   "source": [
    "predictions = lin_reg.predict(X_test_pca)"
   ]
  },
  {
   "cell_type": "code",
   "execution_count": 17,
   "metadata": {},
   "outputs": [],
   "source": [
    "MAE = mean_absolute_error(y_test, predictions)\n",
    "MAPE = mean_absolute_percentage_error(y_test, predictions)\n",
    "MSE = mean_squared_error(y_test, predictions)\n",
    "RMSE = np.sqrt(mean_squared_error(y_test, predictions))\n",
    "R2_Train = lin_reg.score(X_train_pca, y_train)\n",
    "R2_Test = lin_reg.score(X_test_pca, y_test)"
   ]
  },
  {
   "cell_type": "code",
   "execution_count": 18,
   "metadata": {},
   "outputs": [],
   "source": [
    "score[\"plr\"] = {\"MAE\": float(MAE), \"MAPE\": float(MAPE), \"MSE\": float(MSE), \n",
    "                \"RMSE\": float(RMSE), \"R2_Train\": float(R2_Train), \"R2_Test\": float(R2_Test)}"
   ]
  },
  {
   "cell_type": "code",
   "execution_count": 19,
   "metadata": {},
   "outputs": [
    {
     "name": "stdout",
     "output_type": "stream",
     "text": [
      "MAE: 1.8729023947316694\n",
      "MAPE: 3642305621068901.0\n",
      "MSE: 5.493464488636974\n",
      "RMSE: 2.3438140900329474\n",
      "R2_Train: 0.631883002912361\n",
      "R2_Test: 0.6372847166908994\n"
     ]
    }
   ],
   "source": [
    "print(\"MAE:\", MAE)\n",
    "print(\"MAPE:\", MAPE)\n",
    "print(\"MSE:\", MSE)\n",
    "print(\"RMSE:\", RMSE)\n",
    "print(\"R2_Train:\", R2_Train)\n",
    "print(\"R2_Test:\", R2_Test)"
   ]
  },
  {
   "attachments": {},
   "cell_type": "markdown",
   "metadata": {},
   "source": [
    "# RandomForestRegressor"
   ]
  },
  {
   "attachments": {},
   "cell_type": "markdown",
   "metadata": {},
   "source": [
    "- `model = RandomForestRegressor(random_state=10)`: Se crea un objeto `RandomForestRegressor` con un estado aleatorio de 10. Este modelo se utiliza para realizar una regresión utilizando un conjunto de árboles de decisión.\n",
    "\n",
    "- `parameters = {...}`: Se definen los parámetros para la búsqueda de hiperparámetros. En este caso, se especifican diferentes valores para los hiperparámetros como el número de estimadores (`n_estimators`), la profundidad máxima del árbol (`max_depth`), el número mínimo de muestras en las hojas del árbol (`min_samples_leaf`) y el número máximo de características a considerar en cada división (`max_features`).\n",
    "\n",
    "- `dtr_gs = GridSearchCV(model, parameters, cv=5, scoring=\"neg_mean_absolute_error\", n_jobs=-1)`: Se crea un objeto `GridSearchCV` para realizar una búsqueda exhaustiva de los mejores hiperparámetros para el modelo de regresión utilizando validación cruzada. Se especifica el modelo (`model`), los parámetros a buscar (`parameters`), el número de divisiones de la validación cruzada (`cv=5`), la métrica de evaluación (`scoring=\"neg_mean_absolute_error\"`) y el número de trabajos en paralelo (`n_jobs=-1`) para acelerar el proceso de búsqueda.\n"
   ]
  },
  {
   "cell_type": "code",
   "execution_count": 20,
   "metadata": {},
   "outputs": [],
   "source": [
    "# Crear un objeto RandomForestRegressor con un estado aleatorio de 10\n",
    "model = RandomForestRegressor(random_state=10)\n",
    "\n",
    "# Definir los parámetros para la búsqueda de hiperparámetros\n",
    "parameters = {\n",
    "    \"n_estimators\": [150, 200],\n",
    "    \"max_depth\": [13],\n",
    "    \"min_samples_leaf\": [2, 3, 4],\n",
    "    \"max_features\": [6]\n",
    "}\n",
    "\n",
    "# Crear un objeto GridSearchCV para realizar una búsqueda exhaustiva de hiperparámetros\n",
    "dtr_gs = GridSearchCV(model, parameters, cv=5, scoring=\"neg_mean_absolute_error\", n_jobs=-1)\n"
   ]
  },
  {
   "cell_type": "code",
   "execution_count": 21,
   "metadata": {},
   "outputs": [
    {
     "data": {
      "text/html": [
       "<style>#sk-container-id-2 {color: black;background-color: white;}#sk-container-id-2 pre{padding: 0;}#sk-container-id-2 div.sk-toggleable {background-color: white;}#sk-container-id-2 label.sk-toggleable__label {cursor: pointer;display: block;width: 100%;margin-bottom: 0;padding: 0.3em;box-sizing: border-box;text-align: center;}#sk-container-id-2 label.sk-toggleable__label-arrow:before {content: \"▸\";float: left;margin-right: 0.25em;color: #696969;}#sk-container-id-2 label.sk-toggleable__label-arrow:hover:before {color: black;}#sk-container-id-2 div.sk-estimator:hover label.sk-toggleable__label-arrow:before {color: black;}#sk-container-id-2 div.sk-toggleable__content {max-height: 0;max-width: 0;overflow: hidden;text-align: left;background-color: #f0f8ff;}#sk-container-id-2 div.sk-toggleable__content pre {margin: 0.2em;color: black;border-radius: 0.25em;background-color: #f0f8ff;}#sk-container-id-2 input.sk-toggleable__control:checked~div.sk-toggleable__content {max-height: 200px;max-width: 100%;overflow: auto;}#sk-container-id-2 input.sk-toggleable__control:checked~label.sk-toggleable__label-arrow:before {content: \"▾\";}#sk-container-id-2 div.sk-estimator input.sk-toggleable__control:checked~label.sk-toggleable__label {background-color: #d4ebff;}#sk-container-id-2 div.sk-label input.sk-toggleable__control:checked~label.sk-toggleable__label {background-color: #d4ebff;}#sk-container-id-2 input.sk-hidden--visually {border: 0;clip: rect(1px 1px 1px 1px);clip: rect(1px, 1px, 1px, 1px);height: 1px;margin: -1px;overflow: hidden;padding: 0;position: absolute;width: 1px;}#sk-container-id-2 div.sk-estimator {font-family: monospace;background-color: #f0f8ff;border: 1px dotted black;border-radius: 0.25em;box-sizing: border-box;margin-bottom: 0.5em;}#sk-container-id-2 div.sk-estimator:hover {background-color: #d4ebff;}#sk-container-id-2 div.sk-parallel-item::after {content: \"\";width: 100%;border-bottom: 1px solid gray;flex-grow: 1;}#sk-container-id-2 div.sk-label:hover label.sk-toggleable__label {background-color: #d4ebff;}#sk-container-id-2 div.sk-serial::before {content: \"\";position: absolute;border-left: 1px solid gray;box-sizing: border-box;top: 0;bottom: 0;left: 50%;z-index: 0;}#sk-container-id-2 div.sk-serial {display: flex;flex-direction: column;align-items: center;background-color: white;padding-right: 0.2em;padding-left: 0.2em;position: relative;}#sk-container-id-2 div.sk-item {position: relative;z-index: 1;}#sk-container-id-2 div.sk-parallel {display: flex;align-items: stretch;justify-content: center;background-color: white;position: relative;}#sk-container-id-2 div.sk-item::before, #sk-container-id-2 div.sk-parallel-item::before {content: \"\";position: absolute;border-left: 1px solid gray;box-sizing: border-box;top: 0;bottom: 0;left: 50%;z-index: -1;}#sk-container-id-2 div.sk-parallel-item {display: flex;flex-direction: column;z-index: 1;position: relative;background-color: white;}#sk-container-id-2 div.sk-parallel-item:first-child::after {align-self: flex-end;width: 50%;}#sk-container-id-2 div.sk-parallel-item:last-child::after {align-self: flex-start;width: 50%;}#sk-container-id-2 div.sk-parallel-item:only-child::after {width: 0;}#sk-container-id-2 div.sk-dashed-wrapped {border: 1px dashed gray;margin: 0 0.4em 0.5em 0.4em;box-sizing: border-box;padding-bottom: 0.4em;background-color: white;}#sk-container-id-2 div.sk-label label {font-family: monospace;font-weight: bold;display: inline-block;line-height: 1.2em;}#sk-container-id-2 div.sk-label-container {text-align: center;}#sk-container-id-2 div.sk-container {/* jupyter's `normalize.less` sets `[hidden] { display: none; }` but bootstrap.min.css set `[hidden] { display: none !important; }` so we also need the `!important` here to be able to override the default hidden behavior on the sphinx rendered scikit-learn.org. See: https://github.com/scikit-learn/scikit-learn/issues/21755 */display: inline-block !important;position: relative;}#sk-container-id-2 div.sk-text-repr-fallback {display: none;}</style><div id=\"sk-container-id-2\" class=\"sk-top-container\"><div class=\"sk-text-repr-fallback\"><pre>GridSearchCV(cv=5, estimator=RandomForestRegressor(random_state=10), n_jobs=-1,\n",
       "             param_grid={&#x27;max_depth&#x27;: [13], &#x27;max_features&#x27;: [6],\n",
       "                         &#x27;min_samples_leaf&#x27;: [2, 3, 4],\n",
       "                         &#x27;n_estimators&#x27;: [150, 200]},\n",
       "             scoring=&#x27;neg_mean_absolute_error&#x27;)</pre><b>In a Jupyter environment, please rerun this cell to show the HTML representation or trust the notebook. <br />On GitHub, the HTML representation is unable to render, please try loading this page with nbviewer.org.</b></div><div class=\"sk-container\" hidden><div class=\"sk-item sk-dashed-wrapped\"><div class=\"sk-label-container\"><div class=\"sk-label sk-toggleable\"><input class=\"sk-toggleable__control sk-hidden--visually\" id=\"sk-estimator-id-2\" type=\"checkbox\" ><label for=\"sk-estimator-id-2\" class=\"sk-toggleable__label sk-toggleable__label-arrow\">GridSearchCV</label><div class=\"sk-toggleable__content\"><pre>GridSearchCV(cv=5, estimator=RandomForestRegressor(random_state=10), n_jobs=-1,\n",
       "             param_grid={&#x27;max_depth&#x27;: [13], &#x27;max_features&#x27;: [6],\n",
       "                         &#x27;min_samples_leaf&#x27;: [2, 3, 4],\n",
       "                         &#x27;n_estimators&#x27;: [150, 200]},\n",
       "             scoring=&#x27;neg_mean_absolute_error&#x27;)</pre></div></div></div><div class=\"sk-parallel\"><div class=\"sk-parallel-item\"><div class=\"sk-item\"><div class=\"sk-label-container\"><div class=\"sk-label sk-toggleable\"><input class=\"sk-toggleable__control sk-hidden--visually\" id=\"sk-estimator-id-3\" type=\"checkbox\" ><label for=\"sk-estimator-id-3\" class=\"sk-toggleable__label sk-toggleable__label-arrow\">estimator: RandomForestRegressor</label><div class=\"sk-toggleable__content\"><pre>RandomForestRegressor(random_state=10)</pre></div></div></div><div class=\"sk-serial\"><div class=\"sk-item\"><div class=\"sk-estimator sk-toggleable\"><input class=\"sk-toggleable__control sk-hidden--visually\" id=\"sk-estimator-id-4\" type=\"checkbox\" ><label for=\"sk-estimator-id-4\" class=\"sk-toggleable__label sk-toggleable__label-arrow\">RandomForestRegressor</label><div class=\"sk-toggleable__content\"><pre>RandomForestRegressor(random_state=10)</pre></div></div></div></div></div></div></div></div></div></div>"
      ],
      "text/plain": [
       "GridSearchCV(cv=5, estimator=RandomForestRegressor(random_state=10), n_jobs=-1,\n",
       "             param_grid={'max_depth': [13], 'max_features': [6],\n",
       "                         'min_samples_leaf': [2, 3, 4],\n",
       "                         'n_estimators': [150, 200]},\n",
       "             scoring='neg_mean_absolute_error')"
      ]
     },
     "execution_count": 21,
     "metadata": {},
     "output_type": "execute_result"
    }
   ],
   "source": [
    "dtr_gs.fit(X_train, y_train)"
   ]
  },
  {
   "cell_type": "code",
   "execution_count": 22,
   "metadata": {},
   "outputs": [],
   "source": [
    "best_params = {}\n",
    "[best_params.update({f\"regressor__{key}\": [value]}) for key, value in dtr_gs.best_params_.items()]\n",
    "parameter[\"rfr\"] = best_params"
   ]
  },
  {
   "cell_type": "code",
   "execution_count": 23,
   "metadata": {},
   "outputs": [],
   "source": [
    "feature_importances = dtr_gs.best_estimator_.feature_importances_\n",
    "feature_importances_dict = dict(zip(X.columns, feature_importances))\n",
    "feature_importances_sort = sorted(feature_importances_dict.items(), key=lambda x:x[1], reverse=True)"
   ]
  },
  {
   "cell_type": "code",
   "execution_count": 24,
   "metadata": {},
   "outputs": [
    {
     "data": {
      "text/plain": [
       "[('tdg', 0.61797282501912),\n",
       " ('pending', 0.061907672190249265),\n",
       " ('read', 0.06127357263574533),\n",
       " ('type_score', 0.04373127405952414),\n",
       " ('favorite', 0.04238599304748581),\n",
       " ('book_status_score', 0.04057401258628702),\n",
       " ('following', 0.039546644901186215),\n",
       " ('chapters_count', 0.02927698361497557),\n",
       " ('have', 0.02818377628837465),\n",
       " ('abandoned', 0.017976562824306895),\n",
       " ('demography_score', 0.01717068283274519)]"
      ]
     },
     "execution_count": 24,
     "metadata": {},
     "output_type": "execute_result"
    }
   ],
   "source": [
    "feature_importances_sort"
   ]
  },
  {
   "cell_type": "code",
   "execution_count": 25,
   "metadata": {},
   "outputs": [],
   "source": [
    "predictions = dtr_gs.predict(X_test)"
   ]
  },
  {
   "cell_type": "code",
   "execution_count": 26,
   "metadata": {},
   "outputs": [],
   "source": [
    "MAE = mean_absolute_error(y_test, predictions)\n",
    "MAPE = mean_absolute_percentage_error(y_test, predictions)\n",
    "MSE = mean_squared_error(y_test, predictions)\n",
    "RMSE = np.sqrt(mean_squared_error(y_test, predictions))\n",
    "R2_Train = dtr_gs.best_estimator_.score(X_train, y_train)\n",
    "R2_Test = dtr_gs.best_estimator_.score(X_test, y_test)"
   ]
  },
  {
   "cell_type": "code",
   "execution_count": 27,
   "metadata": {},
   "outputs": [],
   "source": [
    "score[\"rfr\"] = {\"MAE\": float(MAE), \"MAPE\": float(MAPE), \"MSE\": float(MSE), \"RMSE\": float(RMSE),\n",
    "                \"R2_Train\": float(R2_Train), \"R2_Test\": float(R2_Test)}"
   ]
  },
  {
   "cell_type": "code",
   "execution_count": 28,
   "metadata": {},
   "outputs": [
    {
     "name": "stdout",
     "output_type": "stream",
     "text": [
      "MAE: 0.8898398043706012\n",
      "MAPE: 1568007958161719.8\n",
      "MSE: 2.3319061895209843\n",
      "RMSE: 1.5270580177324582\n",
      "R2_Train: 0.9384981051525723\n",
      "R2_Test: 0.8460319501597049\n"
     ]
    }
   ],
   "source": [
    "print(\"MAE:\", MAE)\n",
    "print(\"MAPE:\", MAPE)\n",
    "print(\"MSE:\", MSE)\n",
    "print(\"RMSE:\", RMSE)\n",
    "print(\"R2_Train:\", R2_Train)\n",
    "print(\"R2_Test:\", R2_Test)"
   ]
  },
  {
   "attachments": {},
   "cell_type": "markdown",
   "metadata": {},
   "source": [
    "# ElasticNet"
   ]
  },
  {
   "attachments": {},
   "cell_type": "markdown",
   "metadata": {},
   "source": [
    "- `model = ElasticNet()`: Se crea un objeto `ElasticNet`. Este modelo combina la regularización L1 y L2 para realizar una regresión lineal con términos de penalización tanto en los coeficientes como en su magnitud.\n",
    "\n",
    "- `parameters = {...}`: Se definen los parámetros para la búsqueda de hiperparámetros. En este caso, se especifican diferentes valores para los hiperparámetros `alpha`, que controla la fuerza de la regularización, `l1_ratio`, que determina la mezcla entre la regularización L1 y L2, y `max_iter`, que indica el número máximo de iteraciones del algoritmo de optimización.\n",
    "\n",
    "- `dtr_gs = GridSearchCV(model, parameters, cv=5, scoring=\"neg_mean_absolute_error\", n_jobs=-1)`: Se crea un objeto `GridSearchCV` para realizar una búsqueda exhaustiva de los mejores hiperparámetros para el modelo ElasticNet utilizando validación cruzada. Se especifica el modelo (`model`), los parámetros a buscar (`parameters`), el número de divisiones de la validación cruzada (`cv=5`), la métrica de evaluación (`scoring=\"neg_mean_absolute_error\"`) y el número de trabajos en paralelo (`n_jobs=-1`) para acelerar el proceso de búsqueda.\n"
   ]
  },
  {
   "cell_type": "code",
   "execution_count": 29,
   "metadata": {},
   "outputs": [],
   "source": [
    "# Crear un objeto ElasticNet\n",
    "model = ElasticNet()\n",
    "\n",
    "# Definir los parámetros para la búsqueda de hiperparámetros\n",
    "parameters = {\n",
    "    \"alpha\": [0.1, 0.5, 1.0],\n",
    "    \"l1_ratio\": [0.3, 0.5, 0.7, 0.9],\n",
    "    \"max_iter\": [1000, 2000]\n",
    "}\n",
    "\n",
    "# Crear un objeto GridSearchCV para realizar una búsqueda exhaustiva de hiperparámetros\n",
    "dtr_gs = GridSearchCV(model, parameters, cv=5, scoring=\"neg_mean_absolute_error\", n_jobs=-1)\n"
   ]
  },
  {
   "cell_type": "code",
   "execution_count": 30,
   "metadata": {},
   "outputs": [
    {
     "data": {
      "text/html": [
       "<style>#sk-container-id-3 {color: black;background-color: white;}#sk-container-id-3 pre{padding: 0;}#sk-container-id-3 div.sk-toggleable {background-color: white;}#sk-container-id-3 label.sk-toggleable__label {cursor: pointer;display: block;width: 100%;margin-bottom: 0;padding: 0.3em;box-sizing: border-box;text-align: center;}#sk-container-id-3 label.sk-toggleable__label-arrow:before {content: \"▸\";float: left;margin-right: 0.25em;color: #696969;}#sk-container-id-3 label.sk-toggleable__label-arrow:hover:before {color: black;}#sk-container-id-3 div.sk-estimator:hover label.sk-toggleable__label-arrow:before {color: black;}#sk-container-id-3 div.sk-toggleable__content {max-height: 0;max-width: 0;overflow: hidden;text-align: left;background-color: #f0f8ff;}#sk-container-id-3 div.sk-toggleable__content pre {margin: 0.2em;color: black;border-radius: 0.25em;background-color: #f0f8ff;}#sk-container-id-3 input.sk-toggleable__control:checked~div.sk-toggleable__content {max-height: 200px;max-width: 100%;overflow: auto;}#sk-container-id-3 input.sk-toggleable__control:checked~label.sk-toggleable__label-arrow:before {content: \"▾\";}#sk-container-id-3 div.sk-estimator input.sk-toggleable__control:checked~label.sk-toggleable__label {background-color: #d4ebff;}#sk-container-id-3 div.sk-label input.sk-toggleable__control:checked~label.sk-toggleable__label {background-color: #d4ebff;}#sk-container-id-3 input.sk-hidden--visually {border: 0;clip: rect(1px 1px 1px 1px);clip: rect(1px, 1px, 1px, 1px);height: 1px;margin: -1px;overflow: hidden;padding: 0;position: absolute;width: 1px;}#sk-container-id-3 div.sk-estimator {font-family: monospace;background-color: #f0f8ff;border: 1px dotted black;border-radius: 0.25em;box-sizing: border-box;margin-bottom: 0.5em;}#sk-container-id-3 div.sk-estimator:hover {background-color: #d4ebff;}#sk-container-id-3 div.sk-parallel-item::after {content: \"\";width: 100%;border-bottom: 1px solid gray;flex-grow: 1;}#sk-container-id-3 div.sk-label:hover label.sk-toggleable__label {background-color: #d4ebff;}#sk-container-id-3 div.sk-serial::before {content: \"\";position: absolute;border-left: 1px solid gray;box-sizing: border-box;top: 0;bottom: 0;left: 50%;z-index: 0;}#sk-container-id-3 div.sk-serial {display: flex;flex-direction: column;align-items: center;background-color: white;padding-right: 0.2em;padding-left: 0.2em;position: relative;}#sk-container-id-3 div.sk-item {position: relative;z-index: 1;}#sk-container-id-3 div.sk-parallel {display: flex;align-items: stretch;justify-content: center;background-color: white;position: relative;}#sk-container-id-3 div.sk-item::before, #sk-container-id-3 div.sk-parallel-item::before {content: \"\";position: absolute;border-left: 1px solid gray;box-sizing: border-box;top: 0;bottom: 0;left: 50%;z-index: -1;}#sk-container-id-3 div.sk-parallel-item {display: flex;flex-direction: column;z-index: 1;position: relative;background-color: white;}#sk-container-id-3 div.sk-parallel-item:first-child::after {align-self: flex-end;width: 50%;}#sk-container-id-3 div.sk-parallel-item:last-child::after {align-self: flex-start;width: 50%;}#sk-container-id-3 div.sk-parallel-item:only-child::after {width: 0;}#sk-container-id-3 div.sk-dashed-wrapped {border: 1px dashed gray;margin: 0 0.4em 0.5em 0.4em;box-sizing: border-box;padding-bottom: 0.4em;background-color: white;}#sk-container-id-3 div.sk-label label {font-family: monospace;font-weight: bold;display: inline-block;line-height: 1.2em;}#sk-container-id-3 div.sk-label-container {text-align: center;}#sk-container-id-3 div.sk-container {/* jupyter's `normalize.less` sets `[hidden] { display: none; }` but bootstrap.min.css set `[hidden] { display: none !important; }` so we also need the `!important` here to be able to override the default hidden behavior on the sphinx rendered scikit-learn.org. See: https://github.com/scikit-learn/scikit-learn/issues/21755 */display: inline-block !important;position: relative;}#sk-container-id-3 div.sk-text-repr-fallback {display: none;}</style><div id=\"sk-container-id-3\" class=\"sk-top-container\"><div class=\"sk-text-repr-fallback\"><pre>GridSearchCV(cv=5, estimator=ElasticNet(), n_jobs=-1,\n",
       "             param_grid={&#x27;alpha&#x27;: [0.1, 0.5, 1.0],\n",
       "                         &#x27;l1_ratio&#x27;: [0.3, 0.5, 0.7, 0.9],\n",
       "                         &#x27;max_iter&#x27;: [1000, 2000]},\n",
       "             scoring=&#x27;neg_mean_absolute_error&#x27;)</pre><b>In a Jupyter environment, please rerun this cell to show the HTML representation or trust the notebook. <br />On GitHub, the HTML representation is unable to render, please try loading this page with nbviewer.org.</b></div><div class=\"sk-container\" hidden><div class=\"sk-item sk-dashed-wrapped\"><div class=\"sk-label-container\"><div class=\"sk-label sk-toggleable\"><input class=\"sk-toggleable__control sk-hidden--visually\" id=\"sk-estimator-id-5\" type=\"checkbox\" ><label for=\"sk-estimator-id-5\" class=\"sk-toggleable__label sk-toggleable__label-arrow\">GridSearchCV</label><div class=\"sk-toggleable__content\"><pre>GridSearchCV(cv=5, estimator=ElasticNet(), n_jobs=-1,\n",
       "             param_grid={&#x27;alpha&#x27;: [0.1, 0.5, 1.0],\n",
       "                         &#x27;l1_ratio&#x27;: [0.3, 0.5, 0.7, 0.9],\n",
       "                         &#x27;max_iter&#x27;: [1000, 2000]},\n",
       "             scoring=&#x27;neg_mean_absolute_error&#x27;)</pre></div></div></div><div class=\"sk-parallel\"><div class=\"sk-parallel-item\"><div class=\"sk-item\"><div class=\"sk-label-container\"><div class=\"sk-label sk-toggleable\"><input class=\"sk-toggleable__control sk-hidden--visually\" id=\"sk-estimator-id-6\" type=\"checkbox\" ><label for=\"sk-estimator-id-6\" class=\"sk-toggleable__label sk-toggleable__label-arrow\">estimator: ElasticNet</label><div class=\"sk-toggleable__content\"><pre>ElasticNet()</pre></div></div></div><div class=\"sk-serial\"><div class=\"sk-item\"><div class=\"sk-estimator sk-toggleable\"><input class=\"sk-toggleable__control sk-hidden--visually\" id=\"sk-estimator-id-7\" type=\"checkbox\" ><label for=\"sk-estimator-id-7\" class=\"sk-toggleable__label sk-toggleable__label-arrow\">ElasticNet</label><div class=\"sk-toggleable__content\"><pre>ElasticNet()</pre></div></div></div></div></div></div></div></div></div></div>"
      ],
      "text/plain": [
       "GridSearchCV(cv=5, estimator=ElasticNet(), n_jobs=-1,\n",
       "             param_grid={'alpha': [0.1, 0.5, 1.0],\n",
       "                         'l1_ratio': [0.3, 0.5, 0.7, 0.9],\n",
       "                         'max_iter': [1000, 2000]},\n",
       "             scoring='neg_mean_absolute_error')"
      ]
     },
     "execution_count": 30,
     "metadata": {},
     "output_type": "execute_result"
    }
   ],
   "source": [
    "dtr_gs.fit(X_train, y_train)"
   ]
  },
  {
   "cell_type": "code",
   "execution_count": 31,
   "metadata": {},
   "outputs": [],
   "source": [
    "best_params = {}\n",
    "[best_params.update({f\"regressor__{key}\": [value]}) for key, value in dtr_gs.best_params_.items()]\n",
    "parameter[\"en\"] = best_params"
   ]
  },
  {
   "cell_type": "code",
   "execution_count": 32,
   "metadata": {},
   "outputs": [],
   "source": [
    "predictions = dtr_gs.predict(X_test)"
   ]
  },
  {
   "cell_type": "code",
   "execution_count": 33,
   "metadata": {},
   "outputs": [],
   "source": [
    "MAE = mean_absolute_error(y_test, predictions)\n",
    "MAPE = mean_absolute_percentage_error(y_test, predictions)\n",
    "MSE = mean_squared_error(y_test, predictions)\n",
    "RMSE = np.sqrt(mean_squared_error(y_test, predictions))\n",
    "R2_Train = dtr_gs.best_estimator_.score(X_train, y_train)\n",
    "R2_Test = dtr_gs.best_estimator_.score(X_test, y_test)"
   ]
  },
  {
   "cell_type": "code",
   "execution_count": 34,
   "metadata": {},
   "outputs": [],
   "source": [
    "score[\"en\"] = {\"MAE\": float(MAE), \"MAPE\": float(MAPE), \"MSE\": float(MSE), \"RMSE\": float(RMSE), \n",
    "                \"R2_Train\": float(R2_Train), \"R2_Test\": float(R2_Test)}"
   ]
  },
  {
   "cell_type": "code",
   "execution_count": 35,
   "metadata": {},
   "outputs": [
    {
     "name": "stdout",
     "output_type": "stream",
     "text": [
      "MAE: 2.0280036929033907\n",
      "MAPE: 4307619621270913.0\n",
      "MSE: 6.267992454767642\n",
      "RMSE: 2.5035959048471943\n",
      "R2_Train: 0.5842224169349084\n",
      "R2_Test: 0.5861451978595669\n"
     ]
    }
   ],
   "source": [
    "print(\"MAE:\", MAE)\n",
    "print(\"MAPE:\", MAPE)\n",
    "print(\"MSE:\", MSE)\n",
    "print(\"RMSE:\", RMSE)\n",
    "print(\"R2_Train:\", R2_Train)\n",
    "print(\"R2_Test:\", R2_Test)"
   ]
  },
  {
   "attachments": {},
   "cell_type": "markdown",
   "metadata": {},
   "source": [
    "# Support Vector Regression (SVR)"
   ]
  },
  {
   "attachments": {},
   "cell_type": "markdown",
   "metadata": {},
   "source": [
    "- `model = SVR()`: Se crea un objeto SVR (Support Vector Regression). Este modelo se utiliza para realizar una regresión utilizando la técnica de Support Vector Machines (SVM).\n",
    "\n",
    "- `parameters = {...}`: Se definen los parámetros para la búsqueda de hiperparámetros. En este caso, se especifican diferentes valores para los hiperparámetros `kernel`, que determina el tipo de kernel a utilizar (`rbf` o `poly`), `C`, que controla la penalización por error de entrenamiento y la complejidad del modelo, y `epsilon`, que establece el margen de error permitido en la regresión.\n",
    "\n",
    "- `dtr_gs = GridSearchCV(model, parameters, cv=5, scoring=\"neg_mean_absolute_error\", n_jobs=-1)`: Se crea un objeto `GridSearchCV` para realizar una búsqueda exhaustiva de los mejores hiperparámetros para el modelo SVR utilizando validación cruzada. Se especifica el modelo (`model`), los parámetros a buscar (`parameters`), el número de divisiones de la validación cruzada (`cv=5`), la métrica de evaluación (`scoring=\"neg_mean_absolute_error\"`) y el número de trabajos en paralelo (`n_jobs=-1`) para acelerar el proceso de búsqueda.\n"
   ]
  },
  {
   "cell_type": "code",
   "execution_count": 36,
   "metadata": {},
   "outputs": [],
   "source": [
    "# Crear un objeto SVR\n",
    "model = SVR()\n",
    "\n",
    "# Definir los parámetros para la búsqueda de hiperparámetros\n",
    "parameters = {\n",
    "    \"kernel\": [\"rbf\", \"poly\"],\n",
    "    \"C\": [0.5, 1, 2],\n",
    "    \"epsilon\": [0.01, 0.1, 0.3],\n",
    "}\n",
    "\n",
    "# Crear un objeto GridSearchCV para realizar una búsqueda exhaustiva de hiperparámetros\n",
    "dtr_gs = GridSearchCV(model, parameters, cv=5, scoring=\"neg_mean_absolute_error\", n_jobs=-1)\n"
   ]
  },
  {
   "cell_type": "code",
   "execution_count": 37,
   "metadata": {},
   "outputs": [
    {
     "data": {
      "text/html": [
       "<style>#sk-container-id-4 {color: black;background-color: white;}#sk-container-id-4 pre{padding: 0;}#sk-container-id-4 div.sk-toggleable {background-color: white;}#sk-container-id-4 label.sk-toggleable__label {cursor: pointer;display: block;width: 100%;margin-bottom: 0;padding: 0.3em;box-sizing: border-box;text-align: center;}#sk-container-id-4 label.sk-toggleable__label-arrow:before {content: \"▸\";float: left;margin-right: 0.25em;color: #696969;}#sk-container-id-4 label.sk-toggleable__label-arrow:hover:before {color: black;}#sk-container-id-4 div.sk-estimator:hover label.sk-toggleable__label-arrow:before {color: black;}#sk-container-id-4 div.sk-toggleable__content {max-height: 0;max-width: 0;overflow: hidden;text-align: left;background-color: #f0f8ff;}#sk-container-id-4 div.sk-toggleable__content pre {margin: 0.2em;color: black;border-radius: 0.25em;background-color: #f0f8ff;}#sk-container-id-4 input.sk-toggleable__control:checked~div.sk-toggleable__content {max-height: 200px;max-width: 100%;overflow: auto;}#sk-container-id-4 input.sk-toggleable__control:checked~label.sk-toggleable__label-arrow:before {content: \"▾\";}#sk-container-id-4 div.sk-estimator input.sk-toggleable__control:checked~label.sk-toggleable__label {background-color: #d4ebff;}#sk-container-id-4 div.sk-label input.sk-toggleable__control:checked~label.sk-toggleable__label {background-color: #d4ebff;}#sk-container-id-4 input.sk-hidden--visually {border: 0;clip: rect(1px 1px 1px 1px);clip: rect(1px, 1px, 1px, 1px);height: 1px;margin: -1px;overflow: hidden;padding: 0;position: absolute;width: 1px;}#sk-container-id-4 div.sk-estimator {font-family: monospace;background-color: #f0f8ff;border: 1px dotted black;border-radius: 0.25em;box-sizing: border-box;margin-bottom: 0.5em;}#sk-container-id-4 div.sk-estimator:hover {background-color: #d4ebff;}#sk-container-id-4 div.sk-parallel-item::after {content: \"\";width: 100%;border-bottom: 1px solid gray;flex-grow: 1;}#sk-container-id-4 div.sk-label:hover label.sk-toggleable__label {background-color: #d4ebff;}#sk-container-id-4 div.sk-serial::before {content: \"\";position: absolute;border-left: 1px solid gray;box-sizing: border-box;top: 0;bottom: 0;left: 50%;z-index: 0;}#sk-container-id-4 div.sk-serial {display: flex;flex-direction: column;align-items: center;background-color: white;padding-right: 0.2em;padding-left: 0.2em;position: relative;}#sk-container-id-4 div.sk-item {position: relative;z-index: 1;}#sk-container-id-4 div.sk-parallel {display: flex;align-items: stretch;justify-content: center;background-color: white;position: relative;}#sk-container-id-4 div.sk-item::before, #sk-container-id-4 div.sk-parallel-item::before {content: \"\";position: absolute;border-left: 1px solid gray;box-sizing: border-box;top: 0;bottom: 0;left: 50%;z-index: -1;}#sk-container-id-4 div.sk-parallel-item {display: flex;flex-direction: column;z-index: 1;position: relative;background-color: white;}#sk-container-id-4 div.sk-parallel-item:first-child::after {align-self: flex-end;width: 50%;}#sk-container-id-4 div.sk-parallel-item:last-child::after {align-self: flex-start;width: 50%;}#sk-container-id-4 div.sk-parallel-item:only-child::after {width: 0;}#sk-container-id-4 div.sk-dashed-wrapped {border: 1px dashed gray;margin: 0 0.4em 0.5em 0.4em;box-sizing: border-box;padding-bottom: 0.4em;background-color: white;}#sk-container-id-4 div.sk-label label {font-family: monospace;font-weight: bold;display: inline-block;line-height: 1.2em;}#sk-container-id-4 div.sk-label-container {text-align: center;}#sk-container-id-4 div.sk-container {/* jupyter's `normalize.less` sets `[hidden] { display: none; }` but bootstrap.min.css set `[hidden] { display: none !important; }` so we also need the `!important` here to be able to override the default hidden behavior on the sphinx rendered scikit-learn.org. See: https://github.com/scikit-learn/scikit-learn/issues/21755 */display: inline-block !important;position: relative;}#sk-container-id-4 div.sk-text-repr-fallback {display: none;}</style><div id=\"sk-container-id-4\" class=\"sk-top-container\"><div class=\"sk-text-repr-fallback\"><pre>GridSearchCV(cv=5, estimator=SVR(), n_jobs=-1,\n",
       "             param_grid={&#x27;C&#x27;: [0.5, 1, 2], &#x27;epsilon&#x27;: [0.01, 0.1, 0.3],\n",
       "                         &#x27;kernel&#x27;: [&#x27;rbf&#x27;, &#x27;poly&#x27;]},\n",
       "             scoring=&#x27;neg_mean_absolute_error&#x27;)</pre><b>In a Jupyter environment, please rerun this cell to show the HTML representation or trust the notebook. <br />On GitHub, the HTML representation is unable to render, please try loading this page with nbviewer.org.</b></div><div class=\"sk-container\" hidden><div class=\"sk-item sk-dashed-wrapped\"><div class=\"sk-label-container\"><div class=\"sk-label sk-toggleable\"><input class=\"sk-toggleable__control sk-hidden--visually\" id=\"sk-estimator-id-8\" type=\"checkbox\" ><label for=\"sk-estimator-id-8\" class=\"sk-toggleable__label sk-toggleable__label-arrow\">GridSearchCV</label><div class=\"sk-toggleable__content\"><pre>GridSearchCV(cv=5, estimator=SVR(), n_jobs=-1,\n",
       "             param_grid={&#x27;C&#x27;: [0.5, 1, 2], &#x27;epsilon&#x27;: [0.01, 0.1, 0.3],\n",
       "                         &#x27;kernel&#x27;: [&#x27;rbf&#x27;, &#x27;poly&#x27;]},\n",
       "             scoring=&#x27;neg_mean_absolute_error&#x27;)</pre></div></div></div><div class=\"sk-parallel\"><div class=\"sk-parallel-item\"><div class=\"sk-item\"><div class=\"sk-label-container\"><div class=\"sk-label sk-toggleable\"><input class=\"sk-toggleable__control sk-hidden--visually\" id=\"sk-estimator-id-9\" type=\"checkbox\" ><label for=\"sk-estimator-id-9\" class=\"sk-toggleable__label sk-toggleable__label-arrow\">estimator: SVR</label><div class=\"sk-toggleable__content\"><pre>SVR()</pre></div></div></div><div class=\"sk-serial\"><div class=\"sk-item\"><div class=\"sk-estimator sk-toggleable\"><input class=\"sk-toggleable__control sk-hidden--visually\" id=\"sk-estimator-id-10\" type=\"checkbox\" ><label for=\"sk-estimator-id-10\" class=\"sk-toggleable__label sk-toggleable__label-arrow\">SVR</label><div class=\"sk-toggleable__content\"><pre>SVR()</pre></div></div></div></div></div></div></div></div></div></div>"
      ],
      "text/plain": [
       "GridSearchCV(cv=5, estimator=SVR(), n_jobs=-1,\n",
       "             param_grid={'C': [0.5, 1, 2], 'epsilon': [0.01, 0.1, 0.3],\n",
       "                         'kernel': ['rbf', 'poly']},\n",
       "             scoring='neg_mean_absolute_error')"
      ]
     },
     "execution_count": 37,
     "metadata": {},
     "output_type": "execute_result"
    }
   ],
   "source": [
    "dtr_gs.fit(X_train_scal, y_train)"
   ]
  },
  {
   "cell_type": "code",
   "execution_count": 38,
   "metadata": {},
   "outputs": [],
   "source": [
    "best_params = {}\n",
    "[best_params.update({f\"regressor__{key}\": [value]}) for key, value in dtr_gs.best_params_.items()]\n",
    "parameter[\"svr\"] = best_params"
   ]
  },
  {
   "cell_type": "code",
   "execution_count": 39,
   "metadata": {},
   "outputs": [
    {
     "data": {
      "text/plain": [
       "{'C': 2, 'epsilon': 0.01, 'kernel': 'rbf'}"
      ]
     },
     "execution_count": 39,
     "metadata": {},
     "output_type": "execute_result"
    }
   ],
   "source": [
    "dtr_gs.best_params_"
   ]
  },
  {
   "cell_type": "code",
   "execution_count": 40,
   "metadata": {},
   "outputs": [],
   "source": [
    "predictions = dtr_gs.predict(X_test_scal)"
   ]
  },
  {
   "cell_type": "code",
   "execution_count": 41,
   "metadata": {},
   "outputs": [],
   "source": [
    "MAE = mean_absolute_error(y_test, predictions)\n",
    "MAPE = mean_absolute_percentage_error(y_test, predictions)\n",
    "MSE = mean_squared_error(y_test, predictions)\n",
    "RMSE = np.sqrt(mean_squared_error(y_test, predictions))\n",
    "R2_Train = dtr_gs.best_estimator_.score(X_train_scal, y_train)\n",
    "R2_Test = dtr_gs.best_estimator_.score(X_test_scal, y_test)"
   ]
  },
  {
   "cell_type": "code",
   "execution_count": 42,
   "metadata": {},
   "outputs": [],
   "source": [
    "score[\"svr\"] = {\"MAE\": float(MAE), \"MAPE\": float(MAPE), \"MSE\": float(MSE), \"RMSE\": float(RMSE),\n",
    "                \"R2_Train\": float(R2_Train), \"R2_Test\": float(R2_Test)}"
   ]
  },
  {
   "cell_type": "code",
   "execution_count": 43,
   "metadata": {},
   "outputs": [
    {
     "name": "stdout",
     "output_type": "stream",
     "text": [
      "MAE: 1.1460713680665038\n",
      "MAPE: 2389076939175422.5\n",
      "MSE: 3.5950331526586923\n",
      "RMSE: 1.8960572651316976\n",
      "R2_Train: 0.7635003210842612\n",
      "R2_Test: 0.7626318562412796\n"
     ]
    }
   ],
   "source": [
    "print(\"MAE:\", MAE)\n",
    "print(\"MAPE:\", MAPE)\n",
    "print(\"MSE:\", MSE)\n",
    "print(\"RMSE:\", RMSE)\n",
    "print(\"R2_Train:\", R2_Train)\n",
    "print(\"R2_Test:\", R2_Test)"
   ]
  },
  {
   "attachments": {},
   "cell_type": "markdown",
   "metadata": {},
   "source": [
    "# AdaBoostRegressor"
   ]
  },
  {
   "attachments": {},
   "cell_type": "markdown",
   "metadata": {},
   "source": [
    "- `model = AdaBoostRegressor(random_state=10)`: Se crea un objeto AdaBoostRegressor con un estado aleatorio de 10. Este modelo se utiliza para realizar una regresión utilizando el algoritmo de Boosting con la técnica de AdaBoost.\n",
    "\n",
    "- `parameters = {...}`: Se definen los parámetros para la búsqueda de hiperparámetros. En este caso, se especifican diferentes valores para los hiperparámetros `n_estimators`, que indica el número de estimadores en el ensamblaje, y `loss`, que determina la función de pérdida a utilizar durante el entrenamiento.\n",
    "\n",
    "- `dtr_gs = GridSearchCV(model, parameters, cv=5, scoring=\"neg_mean_absolute_error\", n_jobs=-1)`: Se crea un objeto GridSearchCV para realizar una búsqueda exhaustiva de los mejores hiperparámetros para el modelo AdaBoostRegressor utilizando validación cruzada. Se especifica el modelo (`model`), los parámetros a buscar (`parameters`), el número de divisiones de la validación cruzada (`cv=5`), la métrica de evaluación (`scoring=\"neg_mean_absolute_error\"`) y el número de trabajos en paralelo (`n_jobs=-1`) para acelerar el proceso de búsqueda.\n"
   ]
  },
  {
   "cell_type": "code",
   "execution_count": 44,
   "metadata": {},
   "outputs": [],
   "source": [
    "# Crear un objeto AdaBoostRegressor\n",
    "model = AdaBoostRegressor(random_state=10)\n",
    "\n",
    "# Definir los parámetros para la búsqueda de hiperparámetros\n",
    "parameters = {\n",
    "    \"n_estimators\": [100, 150, 200],\n",
    "    \"loss\": [\"linear\", \"square\", \"exponential\"],\n",
    "}\n",
    "\n",
    "# Crear un objeto GridSearchCV para realizar una búsqueda exhaustiva de hiperparámetros\n",
    "dtr_gs = GridSearchCV(model, parameters, cv=5, scoring=\"neg_mean_absolute_error\", n_jobs=-1)\n"
   ]
  },
  {
   "cell_type": "code",
   "execution_count": 45,
   "metadata": {},
   "outputs": [
    {
     "data": {
      "text/html": [
       "<style>#sk-container-id-5 {color: black;background-color: white;}#sk-container-id-5 pre{padding: 0;}#sk-container-id-5 div.sk-toggleable {background-color: white;}#sk-container-id-5 label.sk-toggleable__label {cursor: pointer;display: block;width: 100%;margin-bottom: 0;padding: 0.3em;box-sizing: border-box;text-align: center;}#sk-container-id-5 label.sk-toggleable__label-arrow:before {content: \"▸\";float: left;margin-right: 0.25em;color: #696969;}#sk-container-id-5 label.sk-toggleable__label-arrow:hover:before {color: black;}#sk-container-id-5 div.sk-estimator:hover label.sk-toggleable__label-arrow:before {color: black;}#sk-container-id-5 div.sk-toggleable__content {max-height: 0;max-width: 0;overflow: hidden;text-align: left;background-color: #f0f8ff;}#sk-container-id-5 div.sk-toggleable__content pre {margin: 0.2em;color: black;border-radius: 0.25em;background-color: #f0f8ff;}#sk-container-id-5 input.sk-toggleable__control:checked~div.sk-toggleable__content {max-height: 200px;max-width: 100%;overflow: auto;}#sk-container-id-5 input.sk-toggleable__control:checked~label.sk-toggleable__label-arrow:before {content: \"▾\";}#sk-container-id-5 div.sk-estimator input.sk-toggleable__control:checked~label.sk-toggleable__label {background-color: #d4ebff;}#sk-container-id-5 div.sk-label input.sk-toggleable__control:checked~label.sk-toggleable__label {background-color: #d4ebff;}#sk-container-id-5 input.sk-hidden--visually {border: 0;clip: rect(1px 1px 1px 1px);clip: rect(1px, 1px, 1px, 1px);height: 1px;margin: -1px;overflow: hidden;padding: 0;position: absolute;width: 1px;}#sk-container-id-5 div.sk-estimator {font-family: monospace;background-color: #f0f8ff;border: 1px dotted black;border-radius: 0.25em;box-sizing: border-box;margin-bottom: 0.5em;}#sk-container-id-5 div.sk-estimator:hover {background-color: #d4ebff;}#sk-container-id-5 div.sk-parallel-item::after {content: \"\";width: 100%;border-bottom: 1px solid gray;flex-grow: 1;}#sk-container-id-5 div.sk-label:hover label.sk-toggleable__label {background-color: #d4ebff;}#sk-container-id-5 div.sk-serial::before {content: \"\";position: absolute;border-left: 1px solid gray;box-sizing: border-box;top: 0;bottom: 0;left: 50%;z-index: 0;}#sk-container-id-5 div.sk-serial {display: flex;flex-direction: column;align-items: center;background-color: white;padding-right: 0.2em;padding-left: 0.2em;position: relative;}#sk-container-id-5 div.sk-item {position: relative;z-index: 1;}#sk-container-id-5 div.sk-parallel {display: flex;align-items: stretch;justify-content: center;background-color: white;position: relative;}#sk-container-id-5 div.sk-item::before, #sk-container-id-5 div.sk-parallel-item::before {content: \"\";position: absolute;border-left: 1px solid gray;box-sizing: border-box;top: 0;bottom: 0;left: 50%;z-index: -1;}#sk-container-id-5 div.sk-parallel-item {display: flex;flex-direction: column;z-index: 1;position: relative;background-color: white;}#sk-container-id-5 div.sk-parallel-item:first-child::after {align-self: flex-end;width: 50%;}#sk-container-id-5 div.sk-parallel-item:last-child::after {align-self: flex-start;width: 50%;}#sk-container-id-5 div.sk-parallel-item:only-child::after {width: 0;}#sk-container-id-5 div.sk-dashed-wrapped {border: 1px dashed gray;margin: 0 0.4em 0.5em 0.4em;box-sizing: border-box;padding-bottom: 0.4em;background-color: white;}#sk-container-id-5 div.sk-label label {font-family: monospace;font-weight: bold;display: inline-block;line-height: 1.2em;}#sk-container-id-5 div.sk-label-container {text-align: center;}#sk-container-id-5 div.sk-container {/* jupyter's `normalize.less` sets `[hidden] { display: none; }` but bootstrap.min.css set `[hidden] { display: none !important; }` so we also need the `!important` here to be able to override the default hidden behavior on the sphinx rendered scikit-learn.org. See: https://github.com/scikit-learn/scikit-learn/issues/21755 */display: inline-block !important;position: relative;}#sk-container-id-5 div.sk-text-repr-fallback {display: none;}</style><div id=\"sk-container-id-5\" class=\"sk-top-container\"><div class=\"sk-text-repr-fallback\"><pre>GridSearchCV(cv=5, estimator=AdaBoostRegressor(random_state=10), n_jobs=-1,\n",
       "             param_grid={&#x27;loss&#x27;: [&#x27;linear&#x27;, &#x27;square&#x27;, &#x27;exponential&#x27;],\n",
       "                         &#x27;n_estimators&#x27;: [100, 150, 200]},\n",
       "             scoring=&#x27;neg_mean_absolute_error&#x27;)</pre><b>In a Jupyter environment, please rerun this cell to show the HTML representation or trust the notebook. <br />On GitHub, the HTML representation is unable to render, please try loading this page with nbviewer.org.</b></div><div class=\"sk-container\" hidden><div class=\"sk-item sk-dashed-wrapped\"><div class=\"sk-label-container\"><div class=\"sk-label sk-toggleable\"><input class=\"sk-toggleable__control sk-hidden--visually\" id=\"sk-estimator-id-11\" type=\"checkbox\" ><label for=\"sk-estimator-id-11\" class=\"sk-toggleable__label sk-toggleable__label-arrow\">GridSearchCV</label><div class=\"sk-toggleable__content\"><pre>GridSearchCV(cv=5, estimator=AdaBoostRegressor(random_state=10), n_jobs=-1,\n",
       "             param_grid={&#x27;loss&#x27;: [&#x27;linear&#x27;, &#x27;square&#x27;, &#x27;exponential&#x27;],\n",
       "                         &#x27;n_estimators&#x27;: [100, 150, 200]},\n",
       "             scoring=&#x27;neg_mean_absolute_error&#x27;)</pre></div></div></div><div class=\"sk-parallel\"><div class=\"sk-parallel-item\"><div class=\"sk-item\"><div class=\"sk-label-container\"><div class=\"sk-label sk-toggleable\"><input class=\"sk-toggleable__control sk-hidden--visually\" id=\"sk-estimator-id-12\" type=\"checkbox\" ><label for=\"sk-estimator-id-12\" class=\"sk-toggleable__label sk-toggleable__label-arrow\">estimator: AdaBoostRegressor</label><div class=\"sk-toggleable__content\"><pre>AdaBoostRegressor(random_state=10)</pre></div></div></div><div class=\"sk-serial\"><div class=\"sk-item\"><div class=\"sk-estimator sk-toggleable\"><input class=\"sk-toggleable__control sk-hidden--visually\" id=\"sk-estimator-id-13\" type=\"checkbox\" ><label for=\"sk-estimator-id-13\" class=\"sk-toggleable__label sk-toggleable__label-arrow\">AdaBoostRegressor</label><div class=\"sk-toggleable__content\"><pre>AdaBoostRegressor(random_state=10)</pre></div></div></div></div></div></div></div></div></div></div>"
      ],
      "text/plain": [
       "GridSearchCV(cv=5, estimator=AdaBoostRegressor(random_state=10), n_jobs=-1,\n",
       "             param_grid={'loss': ['linear', 'square', 'exponential'],\n",
       "                         'n_estimators': [100, 150, 200]},\n",
       "             scoring='neg_mean_absolute_error')"
      ]
     },
     "execution_count": 45,
     "metadata": {},
     "output_type": "execute_result"
    }
   ],
   "source": [
    "dtr_gs.fit(X_train, y_train)"
   ]
  },
  {
   "cell_type": "code",
   "execution_count": 46,
   "metadata": {},
   "outputs": [],
   "source": [
    "best_params = {}\n",
    "[best_params.update({f\"regressor__{key}\": [value]}) for key, value in dtr_gs.best_params_.items()]\n",
    "parameter[\"ada\"] = best_params"
   ]
  },
  {
   "cell_type": "code",
   "execution_count": 47,
   "metadata": {},
   "outputs": [
    {
     "data": {
      "text/plain": [
       "{'loss': 'linear', 'n_estimators': 100}"
      ]
     },
     "execution_count": 47,
     "metadata": {},
     "output_type": "execute_result"
    }
   ],
   "source": [
    "dtr_gs.best_params_"
   ]
  },
  {
   "cell_type": "code",
   "execution_count": 48,
   "metadata": {},
   "outputs": [],
   "source": [
    "predictions = dtr_gs.predict(X_test)"
   ]
  },
  {
   "cell_type": "code",
   "execution_count": 49,
   "metadata": {},
   "outputs": [],
   "source": [
    "MAE = mean_absolute_error(y_test, predictions)\n",
    "MAPE = mean_absolute_percentage_error(y_test, predictions)\n",
    "MSE = mean_squared_error(y_test, predictions)\n",
    "RMSE = np.sqrt(mean_squared_error(y_test, predictions))\n",
    "R2_Train = dtr_gs.best_estimator_.score(X_train, y_train)\n",
    "R2_Test = dtr_gs.best_estimator_.score(X_test, y_test)"
   ]
  },
  {
   "cell_type": "code",
   "execution_count": 50,
   "metadata": {},
   "outputs": [],
   "source": [
    "score[\"abr\"] = {\"MAE\": float(MAE), \"MAPE\": float(MAPE), \"MSE\": float(MSE), \"RMSE\": float(RMSE),\n",
    "                \"R2_Train\": float(R2_Train), \"R2_Test\": float(R2_Test)}"
   ]
  },
  {
   "cell_type": "code",
   "execution_count": 51,
   "metadata": {},
   "outputs": [
    {
     "name": "stdout",
     "output_type": "stream",
     "text": [
      "MAE: 1.997281085166895\n",
      "MAPE: 4100736842203801.5\n",
      "MSE: 6.312366800968291\n",
      "RMSE: 2.512442397542338\n",
      "R2_Train: 0.5802620758605064\n",
      "R2_Test: 0.5832153066065849\n"
     ]
    }
   ],
   "source": [
    "print(\"MAE:\", MAE)\n",
    "print(\"MAPE:\", MAPE)\n",
    "print(\"MSE:\", MSE)\n",
    "print(\"RMSE:\", RMSE)\n",
    "print(\"R2_Train:\", R2_Train)\n",
    "print(\"R2_Test:\", R2_Test)"
   ]
  },
  {
   "attachments": {},
   "cell_type": "markdown",
   "metadata": {},
   "source": [
    "# GradientBoostingRegressor"
   ]
  },
  {
   "attachments": {},
   "cell_type": "markdown",
   "metadata": {},
   "source": [
    "Importamos la clase `GradientBoostingRegressor` del módulo `ensemble` de la biblioteca sklearn. Esto nos permite utilizar el algoritmo de Boosting con gradientes para realizar una regresión.\n",
    "\n",
    "- `max_depth`: La profundidad máxima de los árboles de regresión utilizados en el ensamble. En este caso, se establece en 2.\n",
    "- `n_estimators`: El número de árboles en el ensamble. En este caso, se establece en 3.\n",
    "- `learning_rate`: La tasa de aprendizaje que controla la contribución de cada árbol en el ensamble. En este caso, se establece en 1.0, lo que significa que cada árbol contribuye completamente al ensamble.\n",
    "- `random_state`: El estado aleatorio para reproducibilidad. En este caso, se establece en 10.\n"
   ]
  },
  {
   "cell_type": "code",
   "execution_count": 52,
   "metadata": {},
   "outputs": [
    {
     "data": {
      "text/html": [
       "<style>#sk-container-id-6 {color: black;background-color: white;}#sk-container-id-6 pre{padding: 0;}#sk-container-id-6 div.sk-toggleable {background-color: white;}#sk-container-id-6 label.sk-toggleable__label {cursor: pointer;display: block;width: 100%;margin-bottom: 0;padding: 0.3em;box-sizing: border-box;text-align: center;}#sk-container-id-6 label.sk-toggleable__label-arrow:before {content: \"▸\";float: left;margin-right: 0.25em;color: #696969;}#sk-container-id-6 label.sk-toggleable__label-arrow:hover:before {color: black;}#sk-container-id-6 div.sk-estimator:hover label.sk-toggleable__label-arrow:before {color: black;}#sk-container-id-6 div.sk-toggleable__content {max-height: 0;max-width: 0;overflow: hidden;text-align: left;background-color: #f0f8ff;}#sk-container-id-6 div.sk-toggleable__content pre {margin: 0.2em;color: black;border-radius: 0.25em;background-color: #f0f8ff;}#sk-container-id-6 input.sk-toggleable__control:checked~div.sk-toggleable__content {max-height: 200px;max-width: 100%;overflow: auto;}#sk-container-id-6 input.sk-toggleable__control:checked~label.sk-toggleable__label-arrow:before {content: \"▾\";}#sk-container-id-6 div.sk-estimator input.sk-toggleable__control:checked~label.sk-toggleable__label {background-color: #d4ebff;}#sk-container-id-6 div.sk-label input.sk-toggleable__control:checked~label.sk-toggleable__label {background-color: #d4ebff;}#sk-container-id-6 input.sk-hidden--visually {border: 0;clip: rect(1px 1px 1px 1px);clip: rect(1px, 1px, 1px, 1px);height: 1px;margin: -1px;overflow: hidden;padding: 0;position: absolute;width: 1px;}#sk-container-id-6 div.sk-estimator {font-family: monospace;background-color: #f0f8ff;border: 1px dotted black;border-radius: 0.25em;box-sizing: border-box;margin-bottom: 0.5em;}#sk-container-id-6 div.sk-estimator:hover {background-color: #d4ebff;}#sk-container-id-6 div.sk-parallel-item::after {content: \"\";width: 100%;border-bottom: 1px solid gray;flex-grow: 1;}#sk-container-id-6 div.sk-label:hover label.sk-toggleable__label {background-color: #d4ebff;}#sk-container-id-6 div.sk-serial::before {content: \"\";position: absolute;border-left: 1px solid gray;box-sizing: border-box;top: 0;bottom: 0;left: 50%;z-index: 0;}#sk-container-id-6 div.sk-serial {display: flex;flex-direction: column;align-items: center;background-color: white;padding-right: 0.2em;padding-left: 0.2em;position: relative;}#sk-container-id-6 div.sk-item {position: relative;z-index: 1;}#sk-container-id-6 div.sk-parallel {display: flex;align-items: stretch;justify-content: center;background-color: white;position: relative;}#sk-container-id-6 div.sk-item::before, #sk-container-id-6 div.sk-parallel-item::before {content: \"\";position: absolute;border-left: 1px solid gray;box-sizing: border-box;top: 0;bottom: 0;left: 50%;z-index: -1;}#sk-container-id-6 div.sk-parallel-item {display: flex;flex-direction: column;z-index: 1;position: relative;background-color: white;}#sk-container-id-6 div.sk-parallel-item:first-child::after {align-self: flex-end;width: 50%;}#sk-container-id-6 div.sk-parallel-item:last-child::after {align-self: flex-start;width: 50%;}#sk-container-id-6 div.sk-parallel-item:only-child::after {width: 0;}#sk-container-id-6 div.sk-dashed-wrapped {border: 1px dashed gray;margin: 0 0.4em 0.5em 0.4em;box-sizing: border-box;padding-bottom: 0.4em;background-color: white;}#sk-container-id-6 div.sk-label label {font-family: monospace;font-weight: bold;display: inline-block;line-height: 1.2em;}#sk-container-id-6 div.sk-label-container {text-align: center;}#sk-container-id-6 div.sk-container {/* jupyter's `normalize.less` sets `[hidden] { display: none; }` but bootstrap.min.css set `[hidden] { display: none !important; }` so we also need the `!important` here to be able to override the default hidden behavior on the sphinx rendered scikit-learn.org. See: https://github.com/scikit-learn/scikit-learn/issues/21755 */display: inline-block !important;position: relative;}#sk-container-id-6 div.sk-text-repr-fallback {display: none;}</style><div id=\"sk-container-id-6\" class=\"sk-top-container\"><div class=\"sk-text-repr-fallback\"><pre>GradientBoostingRegressor(learning_rate=1.0, max_depth=2, n_estimators=3,\n",
       "                          random_state=10)</pre><b>In a Jupyter environment, please rerun this cell to show the HTML representation or trust the notebook. <br />On GitHub, the HTML representation is unable to render, please try loading this page with nbviewer.org.</b></div><div class=\"sk-container\" hidden><div class=\"sk-item\"><div class=\"sk-estimator sk-toggleable\"><input class=\"sk-toggleable__control sk-hidden--visually\" id=\"sk-estimator-id-14\" type=\"checkbox\" checked><label for=\"sk-estimator-id-14\" class=\"sk-toggleable__label sk-toggleable__label-arrow\">GradientBoostingRegressor</label><div class=\"sk-toggleable__content\"><pre>GradientBoostingRegressor(learning_rate=1.0, max_depth=2, n_estimators=3,\n",
       "                          random_state=10)</pre></div></div></div></div></div>"
      ],
      "text/plain": [
       "GradientBoostingRegressor(learning_rate=1.0, max_depth=2, n_estimators=3,\n",
       "                          random_state=10)"
      ]
     },
     "execution_count": 52,
     "metadata": {},
     "output_type": "execute_result"
    }
   ],
   "source": [
    "from sklearn.ensemble import GradientBoostingRegressor\n",
    "\n",
    "# Crear un objeto GradientBoostingRegressor\n",
    "gbrt = GradientBoostingRegressor(max_depth=2,\n",
    "                                 n_estimators=3,\n",
    "                                 learning_rate=1.0,\n",
    "                                 random_state=10)\n",
    "\n",
    "# Ajustar el modelo GradientBoostingRegressor a los datos de entrenamiento\n",
    "gbrt.fit(X_train, y_train)\n"
   ]
  },
  {
   "cell_type": "code",
   "execution_count": 53,
   "metadata": {},
   "outputs": [],
   "source": [
    "predictions = gbrt.predict(X_test)"
   ]
  },
  {
   "cell_type": "code",
   "execution_count": 54,
   "metadata": {},
   "outputs": [],
   "source": [
    "MAE = mean_absolute_error(y_test, predictions)\n",
    "MAPE = mean_absolute_percentage_error(y_test, predictions)\n",
    "MSE = mean_squared_error(y_test, predictions)\n",
    "RMSE = np.sqrt(mean_squared_error(y_test, predictions))\n",
    "R2_Train = dtr_gs.best_estimator_.score(X_train, y_train)\n",
    "R2_Test = dtr_gs.best_estimator_.score(X_test, y_test)"
   ]
  },
  {
   "cell_type": "code",
   "execution_count": 55,
   "metadata": {},
   "outputs": [],
   "source": [
    "score[\"gbr\"] = {\"MAE\": float(MAE), \"MAPE\": float(MAPE), \"MSE\": float(MSE), \"RMSE\": float(RMSE),\n",
    "                \"R2_Train\": float(R2_Train), \"R2_Test\": float(R2_Test)}"
   ]
  },
  {
   "cell_type": "code",
   "execution_count": 56,
   "metadata": {},
   "outputs": [
    {
     "name": "stdout",
     "output_type": "stream",
     "text": [
      "MAE: 1.4013988256275487\n",
      "MAPE: 2564847712389545.0\n",
      "MSE: 4.512943873887506\n",
      "RMSE: 2.1243690531278943\n",
      "R2_Train: 0.5802620758605064\n",
      "R2_Test: 0.5832153066065849\n"
     ]
    }
   ],
   "source": [
    "print(\"MAE:\", MAE)\n",
    "print(\"MAPE:\", MAPE)\n",
    "print(\"MSE:\", MSE)\n",
    "print(\"RMSE:\", RMSE)\n",
    "print(\"R2_Train:\", R2_Train)\n",
    "print(\"R2_Test:\", R2_Test)"
   ]
  },
  {
   "attachments": {},
   "cell_type": "markdown",
   "metadata": {},
   "source": [
    "# Recurrent Neural Networks"
   ]
  },
  {
   "attachments": {},
   "cell_type": "markdown",
   "metadata": {},
   "source": [
    "**Model Creation:**\n",
    "\n",
    "- `model`: Se crea un modelo secuencial de Keras utilizando la clase `Sequential`. Este modelo consiste en una serie de capas apiladas una encima de la otra.\n",
    "- `keras.layers.Dense`: Se añaden capas densas (totalmente conectadas) al modelo. Cada capa tiene un número específico de neuronas y una función de activación. La última capa tiene 1 neurona para la regresión.\n",
    "\n",
    "**Model Compilation:**\n",
    "\n",
    "- `model.compile`: Se compila el modelo especificando la función de pérdida, el optimizador y las métricas que se utilizarán durante el entrenamiento.\n",
    "\n",
    "**Callbacks:**\n",
    "\n",
    "- `checkpoint_cb`: Se crea un callback `ModelCheckpoint` para guardar el modelo en un archivo durante el entrenamiento.\n",
    "- `early_stopping_cb`: Se crea un callback `EarlyStopping` que detendrá el entrenamiento si no se observa una mejora en la métrica de pérdida en un número determinado de épocas.\n",
    "\n",
    "**Model Training:**\n",
    "\n",
    "- `model.fit`: Se entrena el modelo utilizando los datos de entrenamiento `X_train_scal` y las etiquetas correspondientes `y_train`. Se especifica el número de épocas, la validación cruzada (usando una fracción del conjunto de entrenamiento como validación) y los callbacks a utilizar durante el entrenamiento.\n"
   ]
  },
  {
   "cell_type": "code",
   "execution_count": 57,
   "metadata": {},
   "outputs": [
    {
     "name": "stdout",
     "output_type": "stream",
     "text": [
      "Epoch 1/1000\n"
     ]
    },
    {
     "name": "stdout",
     "output_type": "stream",
     "text": [
      "381/381 [==============================] - 1s 1ms/step - loss: 1.7902 - MAPE: 248939040.0000 - MSE: 9.0486 - RMSE: 3.0081 - val_loss: 1.0023 - val_MAPE: 195125728.0000 - val_MSE: 3.5736 - val_RMSE: 1.8904\n",
      "Epoch 2/1000\n",
      "381/381 [==============================] - 0s 1ms/step - loss: 0.9672 - MAPE: 194843216.0000 - MSE: 3.7134 - RMSE: 1.9270 - val_loss: 0.9477 - val_MAPE: 173626128.0000 - val_MSE: 3.4976 - val_RMSE: 1.8702\n",
      "Epoch 3/1000\n",
      "381/381 [==============================] - 0s 1ms/step - loss: 0.9063 - MAPE: 187876720.0000 - MSE: 3.6125 - RMSE: 1.9007 - val_loss: 0.9150 - val_MAPE: 292514912.0000 - val_MSE: 3.6073 - val_RMSE: 1.8993\n",
      "Epoch 4/1000\n",
      "381/381 [==============================] - 0s 1ms/step - loss: 0.8816 - MAPE: 178599040.0000 - MSE: 3.5546 - RMSE: 1.8854 - val_loss: 0.8316 - val_MAPE: 144554000.0000 - val_MSE: 3.3511 - val_RMSE: 1.8306\n",
      "Epoch 5/1000\n",
      "381/381 [==============================] - 0s 1ms/step - loss: 0.8631 - MAPE: 166617392.0000 - MSE: 3.5574 - RMSE: 1.8861 - val_loss: 0.8216 - val_MAPE: 175594976.0000 - val_MSE: 3.1962 - val_RMSE: 1.7878\n",
      "Epoch 6/1000\n",
      "381/381 [==============================] - 0s 1ms/step - loss: 0.8647 - MAPE: 167484048.0000 - MSE: 3.5445 - RMSE: 1.8827 - val_loss: 0.8100 - val_MAPE: 168734752.0000 - val_MSE: 3.2279 - val_RMSE: 1.7966\n",
      "Epoch 7/1000\n",
      "381/381 [==============================] - 0s 1ms/step - loss: 0.8398 - MAPE: 168603136.0000 - MSE: 3.4551 - RMSE: 1.8588 - val_loss: 0.8150 - val_MAPE: 134268576.0000 - val_MSE: 3.1938 - val_RMSE: 1.7871\n",
      "Epoch 8/1000\n",
      "381/381 [==============================] - 0s 1ms/step - loss: 0.8336 - MAPE: 155648704.0000 - MSE: 3.4473 - RMSE: 1.8567 - val_loss: 0.8162 - val_MAPE: 208553984.0000 - val_MSE: 3.1607 - val_RMSE: 1.7778\n",
      "Epoch 9/1000\n",
      "381/381 [==============================] - 0s 1ms/step - loss: 0.8345 - MAPE: 176314352.0000 - MSE: 3.4407 - RMSE: 1.8549 - val_loss: 0.7883 - val_MAPE: 183663984.0000 - val_MSE: 3.0368 - val_RMSE: 1.7426\n",
      "Epoch 10/1000\n",
      "381/381 [==============================] - 0s 1ms/step - loss: 0.8199 - MAPE: 161004224.0000 - MSE: 3.3867 - RMSE: 1.8403 - val_loss: 0.7814 - val_MAPE: 151981472.0000 - val_MSE: 3.1578 - val_RMSE: 1.7770\n",
      "Epoch 11/1000\n",
      "381/381 [==============================] - 0s 1ms/step - loss: 0.8121 - MAPE: 159503248.0000 - MSE: 3.3240 - RMSE: 1.8232 - val_loss: 0.7697 - val_MAPE: 178894080.0000 - val_MSE: 3.0243 - val_RMSE: 1.7391\n",
      "Epoch 12/1000\n",
      "381/381 [==============================] - 0s 1ms/step - loss: 0.8070 - MAPE: 157789472.0000 - MSE: 3.3310 - RMSE: 1.8251 - val_loss: 0.7799 - val_MAPE: 186443344.0000 - val_MSE: 3.0658 - val_RMSE: 1.7509\n",
      "Epoch 13/1000\n",
      "381/381 [==============================] - 0s 1ms/step - loss: 0.7994 - MAPE: 162495568.0000 - MSE: 3.3096 - RMSE: 1.8192 - val_loss: 0.7713 - val_MAPE: 139046528.0000 - val_MSE: 3.0707 - val_RMSE: 1.7524\n",
      "Epoch 14/1000\n",
      "381/381 [==============================] - 0s 1ms/step - loss: 0.7862 - MAPE: 142985936.0000 - MSE: 3.2575 - RMSE: 1.8049 - val_loss: 0.7879 - val_MAPE: 142306992.0000 - val_MSE: 3.2668 - val_RMSE: 1.8074\n",
      "Epoch 15/1000\n",
      "381/381 [==============================] - 0s 1ms/step - loss: 0.7833 - MAPE: 152881680.0000 - MSE: 3.2368 - RMSE: 1.7991 - val_loss: 0.7705 - val_MAPE: 111539752.0000 - val_MSE: 3.0733 - val_RMSE: 1.7531\n",
      "Epoch 16/1000\n",
      "381/381 [==============================] - 0s 1ms/step - loss: 0.7939 - MAPE: 133987224.0000 - MSE: 3.3312 - RMSE: 1.8251 - val_loss: 0.7615 - val_MAPE: 159918192.0000 - val_MSE: 3.1215 - val_RMSE: 1.7668\n",
      "Epoch 17/1000\n",
      "381/381 [==============================] - 0s 1ms/step - loss: 0.7849 - MAPE: 146117616.0000 - MSE: 3.3079 - RMSE: 1.8188 - val_loss: 0.7820 - val_MAPE: 116509728.0000 - val_MSE: 3.1216 - val_RMSE: 1.7668\n",
      "Epoch 18/1000\n",
      "381/381 [==============================] - 0s 1ms/step - loss: 0.7806 - MAPE: 165885344.0000 - MSE: 3.1805 - RMSE: 1.7834 - val_loss: 0.7681 - val_MAPE: 125019568.0000 - val_MSE: 3.1013 - val_RMSE: 1.7611\n",
      "Epoch 19/1000\n",
      "381/381 [==============================] - 0s 1ms/step - loss: 0.7645 - MAPE: 153336576.0000 - MSE: 3.1665 - RMSE: 1.7795 - val_loss: 0.7533 - val_MAPE: 120498120.0000 - val_MSE: 3.0066 - val_RMSE: 1.7339\n",
      "Epoch 20/1000\n",
      "381/381 [==============================] - 0s 1ms/step - loss: 0.7571 - MAPE: 153898800.0000 - MSE: 3.0570 - RMSE: 1.7484 - val_loss: 0.7389 - val_MAPE: 157515856.0000 - val_MSE: 3.0091 - val_RMSE: 1.7347\n",
      "Epoch 21/1000\n",
      "381/381 [==============================] - 0s 1ms/step - loss: 0.7544 - MAPE: 156261584.0000 - MSE: 3.1061 - RMSE: 1.7624 - val_loss: 0.7467 - val_MAPE: 162798624.0000 - val_MSE: 2.9762 - val_RMSE: 1.7252\n",
      "Epoch 22/1000\n",
      "381/381 [==============================] - 0s 1ms/step - loss: 0.7581 - MAPE: 158572944.0000 - MSE: 3.0979 - RMSE: 1.7601 - val_loss: 0.7487 - val_MAPE: 125378416.0000 - val_MSE: 3.0221 - val_RMSE: 1.7384\n",
      "Epoch 23/1000\n",
      "381/381 [==============================] - 0s 1ms/step - loss: 0.7316 - MAPE: 147054688.0000 - MSE: 2.9785 - RMSE: 1.7258 - val_loss: 0.7580 - val_MAPE: 106365520.0000 - val_MSE: 3.2292 - val_RMSE: 1.7970\n",
      "Epoch 24/1000\n",
      "381/381 [==============================] - 0s 1ms/step - loss: 0.7511 - MAPE: 158831472.0000 - MSE: 3.0860 - RMSE: 1.7567 - val_loss: 0.7807 - val_MAPE: 78202352.0000 - val_MSE: 3.4158 - val_RMSE: 1.8482\n",
      "Epoch 25/1000\n",
      "381/381 [==============================] - 0s 1ms/step - loss: 0.7331 - MAPE: 157393456.0000 - MSE: 2.9730 - RMSE: 1.7243 - val_loss: 0.7189 - val_MAPE: 144493504.0000 - val_MSE: 2.8322 - val_RMSE: 1.6829\n",
      "Epoch 26/1000\n",
      "381/381 [==============================] - 0s 1ms/step - loss: 0.7266 - MAPE: 146780384.0000 - MSE: 2.9573 - RMSE: 1.7197 - val_loss: 0.7332 - val_MAPE: 136379280.0000 - val_MSE: 2.8285 - val_RMSE: 1.6818\n",
      "Epoch 27/1000\n",
      "381/381 [==============================] - 0s 1ms/step - loss: 0.7340 - MAPE: 153457392.0000 - MSE: 3.0160 - RMSE: 1.7367 - val_loss: 0.7288 - val_MAPE: 130112192.0000 - val_MSE: 2.9478 - val_RMSE: 1.7169\n",
      "Epoch 28/1000\n",
      "381/381 [==============================] - 0s 1ms/step - loss: 0.7306 - MAPE: 138194160.0000 - MSE: 2.9831 - RMSE: 1.7272 - val_loss: 0.7309 - val_MAPE: 172192416.0000 - val_MSE: 2.9166 - val_RMSE: 1.7078\n",
      "Epoch 29/1000\n",
      "381/381 [==============================] - 0s 1ms/step - loss: 0.7169 - MAPE: 158827696.0000 - MSE: 2.9125 - RMSE: 1.7066 - val_loss: 0.7296 - val_MAPE: 175961072.0000 - val_MSE: 2.8836 - val_RMSE: 1.6981\n",
      "Epoch 30/1000\n",
      "381/381 [==============================] - 0s 1ms/step - loss: 0.7203 - MAPE: 143732480.0000 - MSE: 2.9206 - RMSE: 1.7090 - val_loss: 0.7392 - val_MAPE: 109825064.0000 - val_MSE: 3.0880 - val_RMSE: 1.7573\n",
      "Epoch 31/1000\n",
      "381/381 [==============================] - 0s 1ms/step - loss: 0.7214 - MAPE: 155272880.0000 - MSE: 2.9516 - RMSE: 1.7180 - val_loss: 0.7093 - val_MAPE: 158073664.0000 - val_MSE: 2.7655 - val_RMSE: 1.6630\n",
      "Epoch 32/1000\n",
      "381/381 [==============================] - 0s 1ms/step - loss: 0.7312 - MAPE: 128979456.0000 - MSE: 3.0469 - RMSE: 1.7455 - val_loss: 0.7303 - val_MAPE: 189224304.0000 - val_MSE: 2.9873 - val_RMSE: 1.7284\n",
      "Epoch 33/1000\n",
      "381/381 [==============================] - 0s 1ms/step - loss: 0.7315 - MAPE: 158013168.0000 - MSE: 2.9949 - RMSE: 1.7306 - val_loss: 0.7074 - val_MAPE: 150166336.0000 - val_MSE: 2.7235 - val_RMSE: 1.6503\n",
      "Epoch 34/1000\n",
      "381/381 [==============================] - 0s 1ms/step - loss: 0.7132 - MAPE: 144145424.0000 - MSE: 2.8818 - RMSE: 1.6976 - val_loss: 0.7236 - val_MAPE: 97825688.0000 - val_MSE: 2.9618 - val_RMSE: 1.7210\n",
      "Epoch 35/1000\n",
      "381/381 [==============================] - 0s 1ms/step - loss: 0.7111 - MAPE: 146096512.0000 - MSE: 2.9080 - RMSE: 1.7053 - val_loss: 0.7204 - val_MAPE: 122564136.0000 - val_MSE: 2.8907 - val_RMSE: 1.7002\n",
      "Epoch 36/1000\n",
      "381/381 [==============================] - 0s 1ms/step - loss: 0.7076 - MAPE: 140525056.0000 - MSE: 2.8919 - RMSE: 1.7006 - val_loss: 0.7124 - val_MAPE: 105723496.0000 - val_MSE: 2.8217 - val_RMSE: 1.6798\n",
      "Epoch 37/1000\n",
      "381/381 [==============================] - 0s 1ms/step - loss: 0.7078 - MAPE: 141889216.0000 - MSE: 2.9150 - RMSE: 1.7073 - val_loss: 0.7072 - val_MAPE: 124417904.0000 - val_MSE: 2.7523 - val_RMSE: 1.6590\n",
      "Epoch 38/1000\n",
      "381/381 [==============================] - 0s 1ms/step - loss: 0.7027 - MAPE: 135540208.0000 - MSE: 2.8972 - RMSE: 1.7021 - val_loss: 0.7077 - val_MAPE: 101111496.0000 - val_MSE: 2.9114 - val_RMSE: 1.7063\n",
      "Epoch 39/1000\n",
      "381/381 [==============================] - 0s 1ms/step - loss: 0.6996 - MAPE: 142964240.0000 - MSE: 2.8766 - RMSE: 1.6960 - val_loss: 0.7384 - val_MAPE: 274201952.0000 - val_MSE: 2.9953 - val_RMSE: 1.7307\n",
      "Epoch 40/1000\n",
      "381/381 [==============================] - 0s 1ms/step - loss: 0.7027 - MAPE: 154163344.0000 - MSE: 2.8574 - RMSE: 1.6904 - val_loss: 0.7372 - val_MAPE: 118994944.0000 - val_MSE: 2.8708 - val_RMSE: 1.6944\n",
      "Epoch 41/1000\n",
      "381/381 [==============================] - 0s 1ms/step - loss: 0.7046 - MAPE: 126888400.0000 - MSE: 2.9235 - RMSE: 1.7098 - val_loss: 0.6983 - val_MAPE: 176543088.0000 - val_MSE: 2.7477 - val_RMSE: 1.6576\n",
      "Epoch 42/1000\n",
      "381/381 [==============================] - 0s 1ms/step - loss: 0.7000 - MAPE: 128885272.0000 - MSE: 2.9103 - RMSE: 1.7059 - val_loss: 0.7162 - val_MAPE: 88957992.0000 - val_MSE: 2.9639 - val_RMSE: 1.7216\n",
      "Epoch 43/1000\n",
      "381/381 [==============================] - 0s 1ms/step - loss: 0.6920 - MAPE: 145612528.0000 - MSE: 2.8414 - RMSE: 1.6856 - val_loss: 0.6933 - val_MAPE: 164210496.0000 - val_MSE: 2.6946 - val_RMSE: 1.6415\n",
      "Epoch 44/1000\n",
      "381/381 [==============================] - 0s 1ms/step - loss: 0.6949 - MAPE: 145640448.0000 - MSE: 2.8511 - RMSE: 1.6885 - val_loss: 0.6869 - val_MAPE: 145814240.0000 - val_MSE: 2.6982 - val_RMSE: 1.6426\n",
      "Epoch 45/1000\n",
      "381/381 [==============================] - 0s 1ms/step - loss: 0.7008 - MAPE: 134042840.0000 - MSE: 2.9028 - RMSE: 1.7038 - val_loss: 0.7560 - val_MAPE: 260688528.0000 - val_MSE: 2.9191 - val_RMSE: 1.7085\n",
      "Epoch 46/1000\n",
      "381/381 [==============================] - 0s 1ms/step - loss: 0.7047 - MAPE: 152837744.0000 - MSE: 2.8994 - RMSE: 1.7028 - val_loss: 0.7296 - val_MAPE: 130192016.0000 - val_MSE: 2.6604 - val_RMSE: 1.6311\n",
      "Epoch 47/1000\n",
      "381/381 [==============================] - 0s 1ms/step - loss: 0.6932 - MAPE: 138374448.0000 - MSE: 2.8455 - RMSE: 1.6869 - val_loss: 0.7006 - val_MAPE: 146635600.0000 - val_MSE: 2.7894 - val_RMSE: 1.6701\n",
      "Epoch 48/1000\n",
      "381/381 [==============================] - 0s 1ms/step - loss: 0.7023 - MAPE: 124074384.0000 - MSE: 2.9556 - RMSE: 1.7192 - val_loss: 0.7312 - val_MAPE: 100878056.0000 - val_MSE: 3.0852 - val_RMSE: 1.7565\n",
      "Epoch 49/1000\n",
      "381/381 [==============================] - 0s 1ms/step - loss: 0.6904 - MAPE: 130653352.0000 - MSE: 2.8430 - RMSE: 1.6861 - val_loss: 0.7118 - val_MAPE: 212777136.0000 - val_MSE: 2.8197 - val_RMSE: 1.6792\n",
      "Epoch 50/1000\n",
      "381/381 [==============================] - 0s 1ms/step - loss: 0.6991 - MAPE: 127739080.0000 - MSE: 2.9405 - RMSE: 1.7148 - val_loss: 0.6881 - val_MAPE: 133290664.0000 - val_MSE: 2.6995 - val_RMSE: 1.6430\n",
      "Epoch 51/1000\n",
      "381/381 [==============================] - 0s 1ms/step - loss: 0.6905 - MAPE: 124833648.0000 - MSE: 2.8838 - RMSE: 1.6982 - val_loss: 0.6941 - val_MAPE: 156788736.0000 - val_MSE: 2.7172 - val_RMSE: 1.6484\n",
      "Epoch 52/1000\n",
      "381/381 [==============================] - 0s 1ms/step - loss: 0.6875 - MAPE: 120006744.0000 - MSE: 2.8964 - RMSE: 1.7019 - val_loss: 0.7140 - val_MAPE: 95347856.0000 - val_MSE: 3.0044 - val_RMSE: 1.7333\n",
      "Epoch 53/1000\n",
      "381/381 [==============================] - 0s 1ms/step - loss: 0.7081 - MAPE: 124156616.0000 - MSE: 3.0431 - RMSE: 1.7444 - val_loss: 0.8069 - val_MAPE: 50687408.0000 - val_MSE: 3.7567 - val_RMSE: 1.9382\n",
      "Epoch 54/1000\n",
      "381/381 [==============================] - 0s 1ms/step - loss: 0.7003 - MAPE: 126664432.0000 - MSE: 2.9653 - RMSE: 1.7220 - val_loss: 0.6969 - val_MAPE: 111022608.0000 - val_MSE: 2.7697 - val_RMSE: 1.6642\n"
     ]
    }
   ],
   "source": [
    "model = keras.Sequential([\n",
    "    keras.layers.Dense(120, activation='relu', input_shape=X_train_scal.shape[1:]),\n",
    "    keras.layers.Dense(60, activation='relu'),\n",
    "    keras.layers.Dense(30, activation='relu'),\n",
    "    keras.layers.Dense(1, activation='relu')\n",
    "])\n",
    "\n",
    "model.compile(loss='mae', optimizer=keras.optimizers.Adam(), \n",
    "                metrics=[keras.metrics.MeanAbsolutePercentageError(name=\"MAPE\"),\n",
    "                        keras.metrics.MeanSquaredError(name='MSE'),\n",
    "                        keras.metrics.RootMeanSquaredError(name=\"RMSE\")\n",
    "                        ])\n",
    "\n",
    "checkpoint_cb = keras.callbacks.ModelCheckpoint(\"../models/medium/callback_model.h5\")\n",
    "early_stopping_cb = keras.callbacks.EarlyStopping(monitor='val_loss', patience=10)\n",
    "\n",
    "history = model.fit(X_train_scal, y_train, epochs=1000, validation_split=0.2,\n",
    "                   callbacks = [early_stopping_cb, checkpoint_cb])"
   ]
  },
  {
   "cell_type": "code",
   "execution_count": 58,
   "metadata": {},
   "outputs": [
    {
     "name": "stdout",
     "output_type": "stream",
     "text": [
      "119/119 [==============================] - 0s 762us/step - loss: 0.7156 - MAPE: 139628272.0000 - MSE: 2.9306 - RMSE: 1.7119\n"
     ]
    }
   ],
   "source": [
    "rnn_score = model.evaluate(X_test_scal, y_test)\n"
   ]
  },
  {
   "cell_type": "code",
   "execution_count": 59,
   "metadata": {},
   "outputs": [],
   "source": [
    "MAE = rnn_score[0]\n",
    "MAPE = rnn_score[1]\n",
    "MSE = rnn_score[2]\n",
    "RMSE = rnn_score[3]"
   ]
  },
  {
   "cell_type": "code",
   "execution_count": 60,
   "metadata": {},
   "outputs": [],
   "source": [
    "score[\"rnn\"] = {\"MAE\": float(MAE), \"MAPE\": float(MAPE), \"MSE\": float(MSE), \"RMSE\": float(RMSE)}"
   ]
  },
  {
   "cell_type": "code",
   "execution_count": 61,
   "metadata": {},
   "outputs": [
    {
     "name": "stdout",
     "output_type": "stream",
     "text": [
      "MAE: 0.7155827283859253\n",
      "MAPE: 139628272.0\n",
      "MSE: 2.930554151535034\n",
      "RMSE: 1.7118861675262451\n"
     ]
    }
   ],
   "source": [
    "print(\"MAE:\", MAE)\n",
    "print(\"MAPE:\", MAPE)\n",
    "print(\"MSE:\", MSE)\n",
    "print(\"RMSE:\", RMSE)"
   ]
  },
  {
   "cell_type": "code",
   "execution_count": 62,
   "metadata": {},
   "outputs": [],
   "source": [
    "model.save(\"../models/medium/keras_model.h5\")"
   ]
  },
  {
   "attachments": {},
   "cell_type": "markdown",
   "metadata": {},
   "source": [
    "# Summary"
   ]
  },
  {
   "cell_type": "code",
   "execution_count": 63,
   "metadata": {},
   "outputs": [
    {
     "data": {
      "text/plain": [
       "{'plr': {'MAE': 1.8729023947316694,\n",
       "  'MAPE': 3642305621068901.0,\n",
       "  'MSE': 5.493464488636974,\n",
       "  'RMSE': 2.3438140900329474,\n",
       "  'R2_Train': 0.631883002912361,\n",
       "  'R2_Test': 0.6372847166908994},\n",
       " 'rfr': {'MAE': 0.8898398043706012,\n",
       "  'MAPE': 1568007958161719.8,\n",
       "  'MSE': 2.3319061895209843,\n",
       "  'RMSE': 1.5270580177324582,\n",
       "  'R2_Train': 0.9384981051525723,\n",
       "  'R2_Test': 0.8460319501597049},\n",
       " 'en': {'MAE': 2.0280036929033907,\n",
       "  'MAPE': 4307619621270913.0,\n",
       "  'MSE': 6.267992454767642,\n",
       "  'RMSE': 2.5035959048471943,\n",
       "  'R2_Train': 0.5842224169349084,\n",
       "  'R2_Test': 0.5861451978595669},\n",
       " 'svr': {'MAE': 1.1460713680665038,\n",
       "  'MAPE': 2389076939175422.5,\n",
       "  'MSE': 3.5950331526586923,\n",
       "  'RMSE': 1.8960572651316976,\n",
       "  'R2_Train': 0.7635003210842612,\n",
       "  'R2_Test': 0.7626318562412796},\n",
       " 'abr': {'MAE': 1.997281085166895,\n",
       "  'MAPE': 4100736842203801.5,\n",
       "  'MSE': 6.312366800968291,\n",
       "  'RMSE': 2.512442397542338,\n",
       "  'R2_Train': 0.5802620758605064,\n",
       "  'R2_Test': 0.5832153066065849},\n",
       " 'gbr': {'MAE': 1.4013988256275487,\n",
       "  'MAPE': 2564847712389545.0,\n",
       "  'MSE': 4.512943873887506,\n",
       "  'RMSE': 2.1243690531278943,\n",
       "  'R2_Train': 0.5802620758605064,\n",
       "  'R2_Test': 0.5832153066065849},\n",
       " 'rnn': {'MAE': 0.7155827283859253,\n",
       "  'MAPE': 139628272.0,\n",
       "  'MSE': 2.930554151535034,\n",
       "  'RMSE': 1.7118861675262451}}"
      ]
     },
     "execution_count": 63,
     "metadata": {},
     "output_type": "execute_result"
    }
   ],
   "source": [
    "score"
   ]
  },
  {
   "cell_type": "code",
   "execution_count": 64,
   "metadata": {},
   "outputs": [
    {
     "data": {
      "text/plain": [
       "{'plr': {'poli__degree': [2]},\n",
       " 'rfr': {'regressor__max_depth': [13],\n",
       "  'regressor__max_features': [6],\n",
       "  'regressor__min_samples_leaf': [2],\n",
       "  'regressor__n_estimators': [200]},\n",
       " 'en': {'regressor__alpha': [0.1],\n",
       "  'regressor__l1_ratio': [0.9],\n",
       "  'regressor__max_iter': [1000]},\n",
       " 'svr': {'regressor__C': [2],\n",
       "  'regressor__epsilon': [0.01],\n",
       "  'regressor__kernel': ['rbf']},\n",
       " 'ada': {'regressor__loss': ['linear'], 'regressor__n_estimators': [100]}}"
      ]
     },
     "execution_count": 64,
     "metadata": {},
     "output_type": "execute_result"
    }
   ],
   "source": [
    "parameter"
   ]
  },
  {
   "cell_type": "code",
   "execution_count": 65,
   "metadata": {},
   "outputs": [
    {
     "name": "stdout",
     "output_type": "stream",
     "text": [
      "YAML file write: OK\n"
     ]
    },
    {
     "data": {
      "text/plain": [
       "True"
      ]
     },
     "execution_count": 65,
     "metadata": {},
     "output_type": "execute_result"
    }
   ],
   "source": [
    "write_yaml(\"../models/medium/model_config.yaml\", parameter)"
   ]
  },
  {
   "cell_type": "code",
   "execution_count": 66,
   "metadata": {},
   "outputs": [
    {
     "name": "stdout",
     "output_type": "stream",
     "text": [
      "YAML file write: OK\n"
     ]
    },
    {
     "data": {
      "text/plain": [
       "True"
      ]
     },
     "execution_count": 66,
     "metadata": {},
     "output_type": "execute_result"
    }
   ],
   "source": [
    "write_yaml(\"../models/medium/score.yaml\", score)"
   ]
  },
  {
   "cell_type": "code",
   "execution_count": 67,
   "metadata": {},
   "outputs": [],
   "source": [
    "bee()"
   ]
  }
 ],
 "metadata": {
  "kernelspec": {
   "display_name": "Python 3",
   "language": "python",
   "name": "python3"
  },
  "language_info": {
   "codemirror_mode": {
    "name": "ipython",
    "version": 3
   },
   "file_extension": ".py",
   "mimetype": "text/x-python",
   "name": "python",
   "nbconvert_exporter": "python",
   "pygments_lexer": "ipython3",
   "version": "3.10.11"
  },
  "orig_nbformat": 4
 },
 "nbformat": 4,
 "nbformat_minor": 2
}
