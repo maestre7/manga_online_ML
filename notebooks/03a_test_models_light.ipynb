{
 "cells": [
  {
   "cell_type": "code",
   "execution_count": 7,
   "metadata": {},
   "outputs": [],
   "source": [
    "import numpy as np\n",
    "import pandas as pd\n",
    "from sklearn.preprocessing import PolynomialFeatures, StandardScaler\n",
    "from sklearn.linear_model import LinearRegression\n",
    "from sklearn.ensemble import RandomForestRegressor, AdaBoostRegressor\n",
    "from sklearn.linear_model import ElasticNet\n",
    "from sklearn.svm import SVR\n",
    "from sklearn.model_selection import GridSearchCV, train_test_split\n",
    "from sklearn.decomposition import PCA\n",
    "from sklearn.metrics import mean_absolute_error, mean_absolute_percentage_error, mean_squared_error\n",
    "from tensorflow import keras"
   ]
  },
  {
   "cell_type": "code",
   "execution_count": 8,
   "metadata": {},
   "outputs": [],
   "source": [
    "\n",
    "from time import sleep\n",
    "from winsound import Beep\n",
    "from pathlib import Path\n",
    "import yaml"
   ]
  },
  {
   "cell_type": "code",
   "execution_count": 9,
   "metadata": {},
   "outputs": [],
   "source": [
    "def write_yaml(file_path: str, data: object):\n",
    "    \"\"\"\n",
    "    Write data to a YAML file.\n",
    "\n",
    "    Args:\n",
    "        file_path (str): Path of the YAML file.\n",
    "        data (object): Data to write.\n",
    "\n",
    "    Returns:\n",
    "        bool: True if the file was written successfully, False otherwise.\n",
    "    \"\"\"\n",
    "    try:\n",
    "        with open(Path(file_path), \"w\") as f:\n",
    "            yaml.dump(data, f)\n",
    "        print(\"YAML file write: OK\")\n",
    "        return True\n",
    "    except (FileNotFoundError, IOError, yaml.YAMLError) as err:\n",
    "        print(f\"Failed to write YAML file {file_path}: {err}\")\n",
    "        return False"
   ]
  },
  {
   "cell_type": "code",
   "execution_count": 10,
   "metadata": {},
   "outputs": [],
   "source": [
    "def bee(r: int = 3, f: int = 2500, d: int = 1000, p: float = 1) -> None:\n",
    "    \"\"\"\n",
    "    Emits a series of sounds using the Beep function from the winsound library.\n",
    "\n",
    "    Args:\n",
    "        r (int): Number of sound repetitions (default: 3).\n",
    "        f (int): Sound frequency in Hz (default: 2500).\n",
    "        d (int): Sound duration in milliseconds (default: 1000).\n",
    "        p (float): Pause between each sound in seconds (default: 1).\n",
    "\n",
    "    Returns:\n",
    "        None\n",
    "    \"\"\"\n",
    "    \n",
    "    for n in range(r):\n",
    "        Beep(f, d)\n",
    "        sleep(p)"
   ]
  },
  {
   "attachments": {},
   "cell_type": "markdown",
   "metadata": {},
   "source": [
    "## Declaramos variables y cargamos los datos"
   ]
  },
  {
   "cell_type": "code",
   "execution_count": 11,
   "metadata": {},
   "outputs": [],
   "source": [
    "parameter = {}\n",
    "score = {}"
   ]
  },
  {
   "cell_type": "code",
   "execution_count": 12,
   "metadata": {},
   "outputs": [],
   "source": [
    "light_df = pd.read_csv(\"../data/processed/light.csv\", index_col=\"Unnamed: 0\")"
   ]
  },
  {
   "cell_type": "code",
   "execution_count": 13,
   "metadata": {},
   "outputs": [
    {
     "data": {
      "text/plain": [
       "Index(['score', 'read', 'pending', 'following', 'favorite', 'have',\n",
       "       'abandoned'],\n",
       "      dtype='object')"
      ]
     },
     "execution_count": 13,
     "metadata": {},
     "output_type": "execute_result"
    }
   ],
   "source": [
    "light_df.columns"
   ]
  },
  {
   "attachments": {},
   "cell_type": "markdown",
   "metadata": {},
   "source": [
    "# Preproceso"
   ]
  },
  {
   "cell_type": "code",
   "execution_count": 14,
   "metadata": {},
   "outputs": [],
   "source": [
    "X = light_df.drop(\"score\", axis=1)\n",
    "y = light_df[\"score\"]"
   ]
  },
  {
   "cell_type": "code",
   "execution_count": 15,
   "metadata": {},
   "outputs": [],
   "source": [
    "X_train, X_test, y_train, y_test = train_test_split(X, y, test_size=0.2, random_state=2)"
   ]
  },
  {
   "attachments": {},
   "cell_type": "markdown",
   "metadata": {},
   "source": [
    "### Scaler"
   ]
  },
  {
   "cell_type": "code",
   "execution_count": 16,
   "metadata": {},
   "outputs": [],
   "source": [
    "# Creo el scaler con los datos de train\n",
    "scal = StandardScaler() # Declaro el scaler\n",
    "scal.fit(X_train) # Lo \"entreno\". Calculo su media y std para cada feature\n",
    "X_train_scal = scal.transform(X_train) # Aplico el scaler y sobreescribo los datos de train\n",
    "\n",
    "# Aplico el mismo scaler con los datos de test\n",
    "X_test_scal = scal.transform(X_test)"
   ]
  },
  {
   "attachments": {},
   "cell_type": "markdown",
   "metadata": {},
   "source": [
    "\n",
    "### PCA\n"
   ]
  },
  {
   "cell_type": "code",
   "execution_count": 17,
   "metadata": {},
   "outputs": [],
   "source": [
    "# Aplicar PCA para reducir la dimensionalidad de los datos\n",
    "pca = PCA(n_components=len(light_df.columns)-1)\n",
    "# Ajustar y transformar los datos de entrenamiento utilizando PCA\n",
    "X_train_pca = pca.fit_transform(X_train)\n",
    "# Transformar los datos de prueba utilizando el modelo PCA ajustado previamente\n",
    "X_test_pca = pca.transform(X_test)"
   ]
  },
  {
   "cell_type": "code",
   "execution_count": 18,
   "metadata": {},
   "outputs": [
    {
     "data": {
      "text/plain": [
       "array([8.93206757e-01, 8.22762128e-02, 1.50791936e-02, 8.43948000e-03,\n",
       "       8.62272600e-04, 1.36084154e-04])"
      ]
     },
     "execution_count": 18,
     "metadata": {},
     "output_type": "execute_result"
    }
   ],
   "source": [
    "# Obtener la proporción de varianza explicada por cada componente principal\n",
    "pca.explained_variance_ratio_"
   ]
  },
  {
   "cell_type": "code",
   "execution_count": 19,
   "metadata": {},
   "outputs": [
    {
     "data": {
      "text/plain": [
       "array([0.89320676, 0.97548297, 0.99056216, 0.99900164, 0.99986392,\n",
       "       1.        ])"
      ]
     },
     "execution_count": 19,
     "metadata": {},
     "output_type": "execute_result"
    }
   ],
   "source": [
    "# Obtener la varianza explicada acumulada por cada componente principal\n",
    "pca.explained_variance_ratio_.cumsum()"
   ]
  },
  {
   "attachments": {},
   "cell_type": "markdown",
   "metadata": {},
   "source": [
    "# Polynomial + LinearRegression + PCA"
   ]
  },
  {
   "attachments": {},
   "cell_type": "markdown",
   "metadata": {},
   "source": [
    "- `poly_feats = PolynomialFeatures(degree=2)`: Se crea un objeto `PolynomialFeatures` con grado 2, lo que indica que se generarán características polinómicas hasta el segundo grado.\n",
    "\n",
    "- `poly_feats.fit(X)`: Se ajusta el objeto `PolynomialFeatures` a los datos de entrada `X`. Esto calcula los coeficientes necesarios para generar las características polinómicas.\n",
    "\n",
    "- `X_poly = poly_feats.transform(X)`: Se transforman los datos de entrada `X` utilizando el objeto `PolynomialFeatures` ajustado previamente. Esto agrega las características polinómicas al conjunto de datos original, generando así una representación de mayor dimensionalidad.\n",
    "\n",
    "- `lin_reg = LinearRegression()`: Se crea un objeto `LinearRegression` para realizar una regresión lineal.\n",
    "\n",
    "- `lin_reg.fit(X_train_pca, y_train)`: Se ajusta el modelo de regresión lineal utilizando los datos de entrenamiento con componentes principales `X_train_pca` y las etiquetas correspondientes `y_train`. Esto encuentra los coeficientes óptimos para la línea de regresión.\n"
   ]
  },
  {
   "cell_type": "code",
   "execution_count": 20,
   "metadata": {},
   "outputs": [
    {
     "data": {
      "text/html": [
       "<style>#sk-container-id-1 {color: black;background-color: white;}#sk-container-id-1 pre{padding: 0;}#sk-container-id-1 div.sk-toggleable {background-color: white;}#sk-container-id-1 label.sk-toggleable__label {cursor: pointer;display: block;width: 100%;margin-bottom: 0;padding: 0.3em;box-sizing: border-box;text-align: center;}#sk-container-id-1 label.sk-toggleable__label-arrow:before {content: \"▸\";float: left;margin-right: 0.25em;color: #696969;}#sk-container-id-1 label.sk-toggleable__label-arrow:hover:before {color: black;}#sk-container-id-1 div.sk-estimator:hover label.sk-toggleable__label-arrow:before {color: black;}#sk-container-id-1 div.sk-toggleable__content {max-height: 0;max-width: 0;overflow: hidden;text-align: left;background-color: #f0f8ff;}#sk-container-id-1 div.sk-toggleable__content pre {margin: 0.2em;color: black;border-radius: 0.25em;background-color: #f0f8ff;}#sk-container-id-1 input.sk-toggleable__control:checked~div.sk-toggleable__content {max-height: 200px;max-width: 100%;overflow: auto;}#sk-container-id-1 input.sk-toggleable__control:checked~label.sk-toggleable__label-arrow:before {content: \"▾\";}#sk-container-id-1 div.sk-estimator input.sk-toggleable__control:checked~label.sk-toggleable__label {background-color: #d4ebff;}#sk-container-id-1 div.sk-label input.sk-toggleable__control:checked~label.sk-toggleable__label {background-color: #d4ebff;}#sk-container-id-1 input.sk-hidden--visually {border: 0;clip: rect(1px 1px 1px 1px);clip: rect(1px, 1px, 1px, 1px);height: 1px;margin: -1px;overflow: hidden;padding: 0;position: absolute;width: 1px;}#sk-container-id-1 div.sk-estimator {font-family: monospace;background-color: #f0f8ff;border: 1px dotted black;border-radius: 0.25em;box-sizing: border-box;margin-bottom: 0.5em;}#sk-container-id-1 div.sk-estimator:hover {background-color: #d4ebff;}#sk-container-id-1 div.sk-parallel-item::after {content: \"\";width: 100%;border-bottom: 1px solid gray;flex-grow: 1;}#sk-container-id-1 div.sk-label:hover label.sk-toggleable__label {background-color: #d4ebff;}#sk-container-id-1 div.sk-serial::before {content: \"\";position: absolute;border-left: 1px solid gray;box-sizing: border-box;top: 0;bottom: 0;left: 50%;z-index: 0;}#sk-container-id-1 div.sk-serial {display: flex;flex-direction: column;align-items: center;background-color: white;padding-right: 0.2em;padding-left: 0.2em;position: relative;}#sk-container-id-1 div.sk-item {position: relative;z-index: 1;}#sk-container-id-1 div.sk-parallel {display: flex;align-items: stretch;justify-content: center;background-color: white;position: relative;}#sk-container-id-1 div.sk-item::before, #sk-container-id-1 div.sk-parallel-item::before {content: \"\";position: absolute;border-left: 1px solid gray;box-sizing: border-box;top: 0;bottom: 0;left: 50%;z-index: -1;}#sk-container-id-1 div.sk-parallel-item {display: flex;flex-direction: column;z-index: 1;position: relative;background-color: white;}#sk-container-id-1 div.sk-parallel-item:first-child::after {align-self: flex-end;width: 50%;}#sk-container-id-1 div.sk-parallel-item:last-child::after {align-self: flex-start;width: 50%;}#sk-container-id-1 div.sk-parallel-item:only-child::after {width: 0;}#sk-container-id-1 div.sk-dashed-wrapped {border: 1px dashed gray;margin: 0 0.4em 0.5em 0.4em;box-sizing: border-box;padding-bottom: 0.4em;background-color: white;}#sk-container-id-1 div.sk-label label {font-family: monospace;font-weight: bold;display: inline-block;line-height: 1.2em;}#sk-container-id-1 div.sk-label-container {text-align: center;}#sk-container-id-1 div.sk-container {/* jupyter's `normalize.less` sets `[hidden] { display: none; }` but bootstrap.min.css set `[hidden] { display: none !important; }` so we also need the `!important` here to be able to override the default hidden behavior on the sphinx rendered scikit-learn.org. See: https://github.com/scikit-learn/scikit-learn/issues/21755 */display: inline-block !important;position: relative;}#sk-container-id-1 div.sk-text-repr-fallback {display: none;}</style><div id=\"sk-container-id-1\" class=\"sk-top-container\"><div class=\"sk-text-repr-fallback\"><pre>LinearRegression()</pre><b>In a Jupyter environment, please rerun this cell to show the HTML representation or trust the notebook. <br />On GitHub, the HTML representation is unable to render, please try loading this page with nbviewer.org.</b></div><div class=\"sk-container\" hidden><div class=\"sk-item\"><div class=\"sk-estimator sk-toggleable\"><input class=\"sk-toggleable__control sk-hidden--visually\" id=\"sk-estimator-id-1\" type=\"checkbox\" checked><label for=\"sk-estimator-id-1\" class=\"sk-toggleable__label sk-toggleable__label-arrow\">LinearRegression</label><div class=\"sk-toggleable__content\"><pre>LinearRegression()</pre></div></div></div></div></div>"
      ],
      "text/plain": [
       "LinearRegression()"
      ]
     },
     "execution_count": 20,
     "metadata": {},
     "output_type": "execute_result"
    }
   ],
   "source": [
    "# Crear un objeto PolynomialFeatures para generar características polinómicas de grado 2\n",
    "poly_feats = PolynomialFeatures(degree=2)\n",
    "\n",
    "# Ajustar PolynomialFeatures a los datos de entrada X\n",
    "poly_feats.fit(X)\n",
    "\n",
    "# Transformar los datos de entrada X para incluir características polinómicas\n",
    "X_poly = poly_feats.transform(X)\n",
    "\n",
    "# Crear un objeto LinearRegression para realizar una regresión lineal\n",
    "lin_reg = LinearRegression()\n",
    "\n",
    "# Ajustar el modelo de regresión lineal utilizando los datos de entrenamiento con componentes principales\n",
    "lin_reg.fit(X_train_pca, y_train)\n"
   ]
  },
  {
   "cell_type": "code",
   "execution_count": 21,
   "metadata": {},
   "outputs": [],
   "source": [
    "parameter[\"plr\"] = {\"poli__degree\": [2]}"
   ]
  },
  {
   "cell_type": "code",
   "execution_count": 22,
   "metadata": {},
   "outputs": [],
   "source": [
    "predictions = lin_reg.predict(X_test_pca)"
   ]
  },
  {
   "cell_type": "code",
   "execution_count": 23,
   "metadata": {},
   "outputs": [],
   "source": [
    "MAE = mean_absolute_error(y_test, predictions)\n",
    "MAPE = mean_absolute_percentage_error(y_test, predictions)\n",
    "MSE = mean_squared_error(y_test, predictions)\n",
    "RMSE = np.sqrt(mean_squared_error(y_test, predictions))\n",
    "R2_Train = lin_reg.score(X_train_pca, y_train)\n",
    "R2_Test = lin_reg.score(X_test_pca, y_test)"
   ]
  },
  {
   "cell_type": "code",
   "execution_count": 24,
   "metadata": {},
   "outputs": [],
   "source": [
    "score[\"plr\"] = {\"MAE\": float(MAE), \"MAPE\": float(MAPE), \"MSE\": float(MSE), \n",
    "                \"RMSE\": float(RMSE), \"R2_Train\": float(R2_Train), \"R2_Test\": float(R2_Test)}"
   ]
  },
  {
   "cell_type": "code",
   "execution_count": 25,
   "metadata": {},
   "outputs": [
    {
     "name": "stdout",
     "output_type": "stream",
     "text": [
      "MAE: 3.2467069435958265\n",
      "MAPE: 7004095373389749.0\n",
      "MSE: 13.799166071534625\n",
      "RMSE: 3.7147228795072484\n",
      "R2_Train: 0.09087004581369929\n",
      "R2_Test: 0.0888867232292091\n"
     ]
    }
   ],
   "source": [
    "print(\"MAE:\", MAE)\n",
    "print(\"MAPE:\", MAPE)\n",
    "print(\"MSE:\", MSE)\n",
    "print(\"RMSE:\", RMSE)\n",
    "print(\"R2_Train:\", R2_Train)\n",
    "print(\"R2_Test:\", R2_Test)"
   ]
  },
  {
   "attachments": {},
   "cell_type": "markdown",
   "metadata": {},
   "source": [
    "# RandomForestRegressor"
   ]
  },
  {
   "attachments": {},
   "cell_type": "markdown",
   "metadata": {},
   "source": [
    "- `model = RandomForestRegressor(random_state=10)`: Se crea un objeto `RandomForestRegressor` con un estado aleatorio de 10. Este modelo se utiliza para realizar una regresión utilizando un conjunto de árboles de decisión.\n",
    "\n",
    "- `parameters = {...}`: Se definen los parámetros para la búsqueda de hiperparámetros. En este caso, se especifican diferentes valores para los hiperparámetros como el número de estimadores (`n_estimators`), la profundidad máxima del árbol (`max_depth`), el número mínimo de muestras en las hojas del árbol (`min_samples_leaf`) y el número máximo de características a considerar en cada división (`max_features`).\n",
    "\n",
    "- `dtr_gs = GridSearchCV(model, parameters, cv=5, scoring=\"neg_mean_absolute_error\", n_jobs=-1)`: Se crea un objeto `GridSearchCV` para realizar una búsqueda exhaustiva de los mejores hiperparámetros para el modelo de regresión utilizando validación cruzada. Se especifica el modelo (`model`), los parámetros a buscar (`parameters`), el número de divisiones de la validación cruzada (`cv=5`), la métrica de evaluación (`scoring=\"neg_mean_absolute_error\"`) y el número de trabajos en paralelo (`n_jobs=-1`) para acelerar el proceso de búsqueda.\n"
   ]
  },
  {
   "cell_type": "code",
   "execution_count": 26,
   "metadata": {},
   "outputs": [],
   "source": [
    "# Crear un objeto RandomForestRegressor con un estado aleatorio de 10\n",
    "model = RandomForestRegressor(random_state=10)\n",
    "\n",
    "# Definir los parámetros para la búsqueda de hiperparámetros\n",
    "parameters = {\n",
    "    \"n_estimators\": [150, 200],\n",
    "    \"max_depth\": [13],\n",
    "    \"min_samples_leaf\": [2, 3, 4],\n",
    "    \"max_features\": [6]\n",
    "}\n",
    "\n",
    "# Crear un objeto GridSearchCV para realizar una búsqueda exhaustiva de hiperparámetros\n",
    "dtr_gs = GridSearchCV(model, parameters, cv=5, scoring=\"neg_mean_absolute_error\", n_jobs=-1)\n"
   ]
  },
  {
   "cell_type": "code",
   "execution_count": 27,
   "metadata": {},
   "outputs": [
    {
     "data": {
      "text/html": [
       "<style>#sk-container-id-2 {color: black;background-color: white;}#sk-container-id-2 pre{padding: 0;}#sk-container-id-2 div.sk-toggleable {background-color: white;}#sk-container-id-2 label.sk-toggleable__label {cursor: pointer;display: block;width: 100%;margin-bottom: 0;padding: 0.3em;box-sizing: border-box;text-align: center;}#sk-container-id-2 label.sk-toggleable__label-arrow:before {content: \"▸\";float: left;margin-right: 0.25em;color: #696969;}#sk-container-id-2 label.sk-toggleable__label-arrow:hover:before {color: black;}#sk-container-id-2 div.sk-estimator:hover label.sk-toggleable__label-arrow:before {color: black;}#sk-container-id-2 div.sk-toggleable__content {max-height: 0;max-width: 0;overflow: hidden;text-align: left;background-color: #f0f8ff;}#sk-container-id-2 div.sk-toggleable__content pre {margin: 0.2em;color: black;border-radius: 0.25em;background-color: #f0f8ff;}#sk-container-id-2 input.sk-toggleable__control:checked~div.sk-toggleable__content {max-height: 200px;max-width: 100%;overflow: auto;}#sk-container-id-2 input.sk-toggleable__control:checked~label.sk-toggleable__label-arrow:before {content: \"▾\";}#sk-container-id-2 div.sk-estimator input.sk-toggleable__control:checked~label.sk-toggleable__label {background-color: #d4ebff;}#sk-container-id-2 div.sk-label input.sk-toggleable__control:checked~label.sk-toggleable__label {background-color: #d4ebff;}#sk-container-id-2 input.sk-hidden--visually {border: 0;clip: rect(1px 1px 1px 1px);clip: rect(1px, 1px, 1px, 1px);height: 1px;margin: -1px;overflow: hidden;padding: 0;position: absolute;width: 1px;}#sk-container-id-2 div.sk-estimator {font-family: monospace;background-color: #f0f8ff;border: 1px dotted black;border-radius: 0.25em;box-sizing: border-box;margin-bottom: 0.5em;}#sk-container-id-2 div.sk-estimator:hover {background-color: #d4ebff;}#sk-container-id-2 div.sk-parallel-item::after {content: \"\";width: 100%;border-bottom: 1px solid gray;flex-grow: 1;}#sk-container-id-2 div.sk-label:hover label.sk-toggleable__label {background-color: #d4ebff;}#sk-container-id-2 div.sk-serial::before {content: \"\";position: absolute;border-left: 1px solid gray;box-sizing: border-box;top: 0;bottom: 0;left: 50%;z-index: 0;}#sk-container-id-2 div.sk-serial {display: flex;flex-direction: column;align-items: center;background-color: white;padding-right: 0.2em;padding-left: 0.2em;position: relative;}#sk-container-id-2 div.sk-item {position: relative;z-index: 1;}#sk-container-id-2 div.sk-parallel {display: flex;align-items: stretch;justify-content: center;background-color: white;position: relative;}#sk-container-id-2 div.sk-item::before, #sk-container-id-2 div.sk-parallel-item::before {content: \"\";position: absolute;border-left: 1px solid gray;box-sizing: border-box;top: 0;bottom: 0;left: 50%;z-index: -1;}#sk-container-id-2 div.sk-parallel-item {display: flex;flex-direction: column;z-index: 1;position: relative;background-color: white;}#sk-container-id-2 div.sk-parallel-item:first-child::after {align-self: flex-end;width: 50%;}#sk-container-id-2 div.sk-parallel-item:last-child::after {align-self: flex-start;width: 50%;}#sk-container-id-2 div.sk-parallel-item:only-child::after {width: 0;}#sk-container-id-2 div.sk-dashed-wrapped {border: 1px dashed gray;margin: 0 0.4em 0.5em 0.4em;box-sizing: border-box;padding-bottom: 0.4em;background-color: white;}#sk-container-id-2 div.sk-label label {font-family: monospace;font-weight: bold;display: inline-block;line-height: 1.2em;}#sk-container-id-2 div.sk-label-container {text-align: center;}#sk-container-id-2 div.sk-container {/* jupyter's `normalize.less` sets `[hidden] { display: none; }` but bootstrap.min.css set `[hidden] { display: none !important; }` so we also need the `!important` here to be able to override the default hidden behavior on the sphinx rendered scikit-learn.org. See: https://github.com/scikit-learn/scikit-learn/issues/21755 */display: inline-block !important;position: relative;}#sk-container-id-2 div.sk-text-repr-fallback {display: none;}</style><div id=\"sk-container-id-2\" class=\"sk-top-container\"><div class=\"sk-text-repr-fallback\"><pre>GridSearchCV(cv=5, estimator=RandomForestRegressor(random_state=10), n_jobs=-1,\n",
       "             param_grid={&#x27;max_depth&#x27;: [13], &#x27;max_features&#x27;: [6],\n",
       "                         &#x27;min_samples_leaf&#x27;: [2, 3, 4],\n",
       "                         &#x27;n_estimators&#x27;: [150, 200]},\n",
       "             scoring=&#x27;neg_mean_absolute_error&#x27;)</pre><b>In a Jupyter environment, please rerun this cell to show the HTML representation or trust the notebook. <br />On GitHub, the HTML representation is unable to render, please try loading this page with nbviewer.org.</b></div><div class=\"sk-container\" hidden><div class=\"sk-item sk-dashed-wrapped\"><div class=\"sk-label-container\"><div class=\"sk-label sk-toggleable\"><input class=\"sk-toggleable__control sk-hidden--visually\" id=\"sk-estimator-id-2\" type=\"checkbox\" ><label for=\"sk-estimator-id-2\" class=\"sk-toggleable__label sk-toggleable__label-arrow\">GridSearchCV</label><div class=\"sk-toggleable__content\"><pre>GridSearchCV(cv=5, estimator=RandomForestRegressor(random_state=10), n_jobs=-1,\n",
       "             param_grid={&#x27;max_depth&#x27;: [13], &#x27;max_features&#x27;: [6],\n",
       "                         &#x27;min_samples_leaf&#x27;: [2, 3, 4],\n",
       "                         &#x27;n_estimators&#x27;: [150, 200]},\n",
       "             scoring=&#x27;neg_mean_absolute_error&#x27;)</pre></div></div></div><div class=\"sk-parallel\"><div class=\"sk-parallel-item\"><div class=\"sk-item\"><div class=\"sk-label-container\"><div class=\"sk-label sk-toggleable\"><input class=\"sk-toggleable__control sk-hidden--visually\" id=\"sk-estimator-id-3\" type=\"checkbox\" ><label for=\"sk-estimator-id-3\" class=\"sk-toggleable__label sk-toggleable__label-arrow\">estimator: RandomForestRegressor</label><div class=\"sk-toggleable__content\"><pre>RandomForestRegressor(random_state=10)</pre></div></div></div><div class=\"sk-serial\"><div class=\"sk-item\"><div class=\"sk-estimator sk-toggleable\"><input class=\"sk-toggleable__control sk-hidden--visually\" id=\"sk-estimator-id-4\" type=\"checkbox\" ><label for=\"sk-estimator-id-4\" class=\"sk-toggleable__label sk-toggleable__label-arrow\">RandomForestRegressor</label><div class=\"sk-toggleable__content\"><pre>RandomForestRegressor(random_state=10)</pre></div></div></div></div></div></div></div></div></div></div>"
      ],
      "text/plain": [
       "GridSearchCV(cv=5, estimator=RandomForestRegressor(random_state=10), n_jobs=-1,\n",
       "             param_grid={'max_depth': [13], 'max_features': [6],\n",
       "                         'min_samples_leaf': [2, 3, 4],\n",
       "                         'n_estimators': [150, 200]},\n",
       "             scoring='neg_mean_absolute_error')"
      ]
     },
     "execution_count": 27,
     "metadata": {},
     "output_type": "execute_result"
    }
   ],
   "source": [
    "dtr_gs.fit(X_train, y_train)"
   ]
  },
  {
   "cell_type": "code",
   "execution_count": 28,
   "metadata": {},
   "outputs": [],
   "source": [
    "best_params = {}\n",
    "[best_params.update({f\"regressor__{key}\": [value]}) for key, value in dtr_gs.best_params_.items()]\n",
    "parameter[\"rfr\"] = best_params"
   ]
  },
  {
   "cell_type": "code",
   "execution_count": 29,
   "metadata": {},
   "outputs": [],
   "source": [
    "feature_importances = dtr_gs.best_estimator_.feature_importances_\n",
    "feature_importances_dict = dict(zip(X.columns, feature_importances))\n",
    "feature_importances_sort = sorted(feature_importances_dict.items(), key=lambda x:x[1], reverse=True)"
   ]
  },
  {
   "cell_type": "code",
   "execution_count": 30,
   "metadata": {},
   "outputs": [
    {
     "data": {
      "text/plain": [
       "[('read', 0.3206341519710045),\n",
       " ('pending', 0.2104954006991117),\n",
       " ('have', 0.17143599168985102),\n",
       " ('favorite', 0.15412935629268562),\n",
       " ('abandoned', 0.07765032216647938),\n",
       " ('following', 0.06565477718086776)]"
      ]
     },
     "execution_count": 30,
     "metadata": {},
     "output_type": "execute_result"
    }
   ],
   "source": [
    "feature_importances_sort"
   ]
  },
  {
   "cell_type": "code",
   "execution_count": 31,
   "metadata": {},
   "outputs": [],
   "source": [
    "predictions = dtr_gs.predict(X_test)"
   ]
  },
  {
   "cell_type": "code",
   "execution_count": 32,
   "metadata": {},
   "outputs": [],
   "source": [
    "MAE = mean_absolute_error(y_test, predictions)\n",
    "MAPE = mean_absolute_percentage_error(y_test, predictions)\n",
    "MSE = mean_squared_error(y_test, predictions)\n",
    "RMSE = np.sqrt(mean_squared_error(y_test, predictions))\n",
    "R2_Train = dtr_gs.best_estimator_.score(X_train, y_train)\n",
    "R2_Test = dtr_gs.best_estimator_.score(X_test, y_test)"
   ]
  },
  {
   "cell_type": "code",
   "execution_count": 33,
   "metadata": {},
   "outputs": [],
   "source": [
    "score[\"rfr\"] = {\"MAE\": float(MAE), \"MAPE\": float(MAPE), \"MSE\": float(MSE), \"RMSE\": float(RMSE),\n",
    "                \"R2_Train\": float(R2_Train), \"R2_Test\": float(R2_Test)}"
   ]
  },
  {
   "cell_type": "code",
   "execution_count": 34,
   "metadata": {},
   "outputs": [
    {
     "name": "stdout",
     "output_type": "stream",
     "text": [
      "MAE: 1.9697344492988944\n",
      "MAPE: 3765549091930910.0\n",
      "MSE: 7.873361350932763\n",
      "RMSE: 2.8059510599675046\n",
      "R2_Train: 0.7458270335035304\n",
      "R2_Test: 0.48014800151969805\n"
     ]
    }
   ],
   "source": [
    "print(\"MAE:\", MAE)\n",
    "print(\"MAPE:\", MAPE)\n",
    "print(\"MSE:\", MSE)\n",
    "print(\"RMSE:\", RMSE)\n",
    "print(\"R2_Train:\", R2_Train)\n",
    "print(\"R2_Test:\", R2_Test)"
   ]
  },
  {
   "attachments": {},
   "cell_type": "markdown",
   "metadata": {},
   "source": [
    "# ElasticNet"
   ]
  },
  {
   "attachments": {},
   "cell_type": "markdown",
   "metadata": {},
   "source": [
    "- `model = ElasticNet()`: Se crea un objeto `ElasticNet`. Este modelo combina la regularización L1 y L2 para realizar una regresión lineal con términos de penalización tanto en los coeficientes como en su magnitud.\n",
    "\n",
    "- `parameters = {...}`: Se definen los parámetros para la búsqueda de hiperparámetros. En este caso, se especifican diferentes valores para los hiperparámetros `alpha`, que controla la fuerza de la regularización, `l1_ratio`, que determina la mezcla entre la regularización L1 y L2, y `max_iter`, que indica el número máximo de iteraciones del algoritmo de optimización.\n",
    "\n",
    "- `dtr_gs = GridSearchCV(model, parameters, cv=5, scoring=\"neg_mean_absolute_error\", n_jobs=-1)`: Se crea un objeto `GridSearchCV` para realizar una búsqueda exhaustiva de los mejores hiperparámetros para el modelo ElasticNet utilizando validación cruzada. Se especifica el modelo (`model`), los parámetros a buscar (`parameters`), el número de divisiones de la validación cruzada (`cv=5`), la métrica de evaluación (`scoring=\"neg_mean_absolute_error\"`) y el número de trabajos en paralelo (`n_jobs=-1`) para acelerar el proceso de búsqueda.\n"
   ]
  },
  {
   "cell_type": "code",
   "execution_count": 35,
   "metadata": {},
   "outputs": [],
   "source": [
    "# Crear un objeto ElasticNet\n",
    "model = ElasticNet()\n",
    "\n",
    "# Definir los parámetros para la búsqueda de hiperparámetros\n",
    "parameters = {\n",
    "    \"alpha\": [0.1, 0.5, 1.0],\n",
    "    \"l1_ratio\": [0.3, 0.5, 0.7, 0.9],\n",
    "    \"max_iter\": [1000, 2000]\n",
    "}\n",
    "\n",
    "# Crear un objeto GridSearchCV para realizar una búsqueda exhaustiva de hiperparámetros\n",
    "dtr_gs = GridSearchCV(model, parameters, cv=5, scoring=\"neg_mean_absolute_error\", n_jobs=-1)\n"
   ]
  },
  {
   "cell_type": "code",
   "execution_count": 36,
   "metadata": {},
   "outputs": [
    {
     "data": {
      "text/html": [
       "<style>#sk-container-id-3 {color: black;background-color: white;}#sk-container-id-3 pre{padding: 0;}#sk-container-id-3 div.sk-toggleable {background-color: white;}#sk-container-id-3 label.sk-toggleable__label {cursor: pointer;display: block;width: 100%;margin-bottom: 0;padding: 0.3em;box-sizing: border-box;text-align: center;}#sk-container-id-3 label.sk-toggleable__label-arrow:before {content: \"▸\";float: left;margin-right: 0.25em;color: #696969;}#sk-container-id-3 label.sk-toggleable__label-arrow:hover:before {color: black;}#sk-container-id-3 div.sk-estimator:hover label.sk-toggleable__label-arrow:before {color: black;}#sk-container-id-3 div.sk-toggleable__content {max-height: 0;max-width: 0;overflow: hidden;text-align: left;background-color: #f0f8ff;}#sk-container-id-3 div.sk-toggleable__content pre {margin: 0.2em;color: black;border-radius: 0.25em;background-color: #f0f8ff;}#sk-container-id-3 input.sk-toggleable__control:checked~div.sk-toggleable__content {max-height: 200px;max-width: 100%;overflow: auto;}#sk-container-id-3 input.sk-toggleable__control:checked~label.sk-toggleable__label-arrow:before {content: \"▾\";}#sk-container-id-3 div.sk-estimator input.sk-toggleable__control:checked~label.sk-toggleable__label {background-color: #d4ebff;}#sk-container-id-3 div.sk-label input.sk-toggleable__control:checked~label.sk-toggleable__label {background-color: #d4ebff;}#sk-container-id-3 input.sk-hidden--visually {border: 0;clip: rect(1px 1px 1px 1px);clip: rect(1px, 1px, 1px, 1px);height: 1px;margin: -1px;overflow: hidden;padding: 0;position: absolute;width: 1px;}#sk-container-id-3 div.sk-estimator {font-family: monospace;background-color: #f0f8ff;border: 1px dotted black;border-radius: 0.25em;box-sizing: border-box;margin-bottom: 0.5em;}#sk-container-id-3 div.sk-estimator:hover {background-color: #d4ebff;}#sk-container-id-3 div.sk-parallel-item::after {content: \"\";width: 100%;border-bottom: 1px solid gray;flex-grow: 1;}#sk-container-id-3 div.sk-label:hover label.sk-toggleable__label {background-color: #d4ebff;}#sk-container-id-3 div.sk-serial::before {content: \"\";position: absolute;border-left: 1px solid gray;box-sizing: border-box;top: 0;bottom: 0;left: 50%;z-index: 0;}#sk-container-id-3 div.sk-serial {display: flex;flex-direction: column;align-items: center;background-color: white;padding-right: 0.2em;padding-left: 0.2em;position: relative;}#sk-container-id-3 div.sk-item {position: relative;z-index: 1;}#sk-container-id-3 div.sk-parallel {display: flex;align-items: stretch;justify-content: center;background-color: white;position: relative;}#sk-container-id-3 div.sk-item::before, #sk-container-id-3 div.sk-parallel-item::before {content: \"\";position: absolute;border-left: 1px solid gray;box-sizing: border-box;top: 0;bottom: 0;left: 50%;z-index: -1;}#sk-container-id-3 div.sk-parallel-item {display: flex;flex-direction: column;z-index: 1;position: relative;background-color: white;}#sk-container-id-3 div.sk-parallel-item:first-child::after {align-self: flex-end;width: 50%;}#sk-container-id-3 div.sk-parallel-item:last-child::after {align-self: flex-start;width: 50%;}#sk-container-id-3 div.sk-parallel-item:only-child::after {width: 0;}#sk-container-id-3 div.sk-dashed-wrapped {border: 1px dashed gray;margin: 0 0.4em 0.5em 0.4em;box-sizing: border-box;padding-bottom: 0.4em;background-color: white;}#sk-container-id-3 div.sk-label label {font-family: monospace;font-weight: bold;display: inline-block;line-height: 1.2em;}#sk-container-id-3 div.sk-label-container {text-align: center;}#sk-container-id-3 div.sk-container {/* jupyter's `normalize.less` sets `[hidden] { display: none; }` but bootstrap.min.css set `[hidden] { display: none !important; }` so we also need the `!important` here to be able to override the default hidden behavior on the sphinx rendered scikit-learn.org. See: https://github.com/scikit-learn/scikit-learn/issues/21755 */display: inline-block !important;position: relative;}#sk-container-id-3 div.sk-text-repr-fallback {display: none;}</style><div id=\"sk-container-id-3\" class=\"sk-top-container\"><div class=\"sk-text-repr-fallback\"><pre>GridSearchCV(cv=5, estimator=ElasticNet(), n_jobs=-1,\n",
       "             param_grid={&#x27;alpha&#x27;: [0.1, 0.5, 1.0],\n",
       "                         &#x27;l1_ratio&#x27;: [0.3, 0.5, 0.7, 0.9],\n",
       "                         &#x27;max_iter&#x27;: [1000, 2000]},\n",
       "             scoring=&#x27;neg_mean_absolute_error&#x27;)</pre><b>In a Jupyter environment, please rerun this cell to show the HTML representation or trust the notebook. <br />On GitHub, the HTML representation is unable to render, please try loading this page with nbviewer.org.</b></div><div class=\"sk-container\" hidden><div class=\"sk-item sk-dashed-wrapped\"><div class=\"sk-label-container\"><div class=\"sk-label sk-toggleable\"><input class=\"sk-toggleable__control sk-hidden--visually\" id=\"sk-estimator-id-5\" type=\"checkbox\" ><label for=\"sk-estimator-id-5\" class=\"sk-toggleable__label sk-toggleable__label-arrow\">GridSearchCV</label><div class=\"sk-toggleable__content\"><pre>GridSearchCV(cv=5, estimator=ElasticNet(), n_jobs=-1,\n",
       "             param_grid={&#x27;alpha&#x27;: [0.1, 0.5, 1.0],\n",
       "                         &#x27;l1_ratio&#x27;: [0.3, 0.5, 0.7, 0.9],\n",
       "                         &#x27;max_iter&#x27;: [1000, 2000]},\n",
       "             scoring=&#x27;neg_mean_absolute_error&#x27;)</pre></div></div></div><div class=\"sk-parallel\"><div class=\"sk-parallel-item\"><div class=\"sk-item\"><div class=\"sk-label-container\"><div class=\"sk-label sk-toggleable\"><input class=\"sk-toggleable__control sk-hidden--visually\" id=\"sk-estimator-id-6\" type=\"checkbox\" ><label for=\"sk-estimator-id-6\" class=\"sk-toggleable__label sk-toggleable__label-arrow\">estimator: ElasticNet</label><div class=\"sk-toggleable__content\"><pre>ElasticNet()</pre></div></div></div><div class=\"sk-serial\"><div class=\"sk-item\"><div class=\"sk-estimator sk-toggleable\"><input class=\"sk-toggleable__control sk-hidden--visually\" id=\"sk-estimator-id-7\" type=\"checkbox\" ><label for=\"sk-estimator-id-7\" class=\"sk-toggleable__label sk-toggleable__label-arrow\">ElasticNet</label><div class=\"sk-toggleable__content\"><pre>ElasticNet()</pre></div></div></div></div></div></div></div></div></div></div>"
      ],
      "text/plain": [
       "GridSearchCV(cv=5, estimator=ElasticNet(), n_jobs=-1,\n",
       "             param_grid={'alpha': [0.1, 0.5, 1.0],\n",
       "                         'l1_ratio': [0.3, 0.5, 0.7, 0.9],\n",
       "                         'max_iter': [1000, 2000]},\n",
       "             scoring='neg_mean_absolute_error')"
      ]
     },
     "execution_count": 36,
     "metadata": {},
     "output_type": "execute_result"
    }
   ],
   "source": [
    "dtr_gs.fit(X_train, y_train)"
   ]
  },
  {
   "cell_type": "code",
   "execution_count": 37,
   "metadata": {},
   "outputs": [],
   "source": [
    "best_params = {}\n",
    "[best_params.update({f\"regressor__{key}\": [value]}) for key, value in dtr_gs.best_params_.items()]\n",
    "parameter[\"en\"] = best_params"
   ]
  },
  {
   "cell_type": "code",
   "execution_count": 38,
   "metadata": {},
   "outputs": [],
   "source": [
    "predictions = dtr_gs.predict(X_test)"
   ]
  },
  {
   "cell_type": "code",
   "execution_count": 39,
   "metadata": {},
   "outputs": [],
   "source": [
    "MAE = mean_absolute_error(y_test, predictions)\n",
    "MAPE = mean_absolute_percentage_error(y_test, predictions)\n",
    "MSE = mean_squared_error(y_test, predictions)\n",
    "RMSE = np.sqrt(mean_squared_error(y_test, predictions))\n",
    "R2_Train = dtr_gs.best_estimator_.score(X_train, y_train)\n",
    "R2_Test = dtr_gs.best_estimator_.score(X_test, y_test)"
   ]
  },
  {
   "cell_type": "code",
   "execution_count": 40,
   "metadata": {},
   "outputs": [],
   "source": [
    "score[\"en\"] = {\"MAE\": float(MAE), \"MAPE\": float(MAPE), \"MSE\": float(MSE), \"RMSE\": float(RMSE), \n",
    "                \"R2_Train\": float(R2_Train), \"R2_Test\": float(R2_Test)}"
   ]
  },
  {
   "cell_type": "code",
   "execution_count": 41,
   "metadata": {},
   "outputs": [
    {
     "name": "stdout",
     "output_type": "stream",
     "text": [
      "MAE: 3.246595346289047\n",
      "MAPE: 7004934840557768.0\n",
      "MSE: 13.798854211874849\n",
      "RMSE: 3.71468090310256\n",
      "R2_Train: 0.09086831420192742\n",
      "R2_Test: 0.08890731429065712\n"
     ]
    }
   ],
   "source": [
    "print(\"MAE:\", MAE)\n",
    "print(\"MAPE:\", MAPE)\n",
    "print(\"MSE:\", MSE)\n",
    "print(\"RMSE:\", RMSE)\n",
    "print(\"R2_Train:\", R2_Train)\n",
    "print(\"R2_Test:\", R2_Test)"
   ]
  },
  {
   "attachments": {},
   "cell_type": "markdown",
   "metadata": {},
   "source": [
    "# Support Vector Regression (SVR)"
   ]
  },
  {
   "attachments": {},
   "cell_type": "markdown",
   "metadata": {},
   "source": [
    "- `model = SVR()`: Se crea un objeto SVR (Support Vector Regression). Este modelo se utiliza para realizar una regresión utilizando la técnica de Support Vector Machines (SVM).\n",
    "\n",
    "- `parameters = {...}`: Se definen los parámetros para la búsqueda de hiperparámetros. En este caso, se especifican diferentes valores para los hiperparámetros `kernel`, que determina el tipo de kernel a utilizar (`rbf` o `poly`), `C`, que controla la penalización por error de entrenamiento y la complejidad del modelo, y `epsilon`, que establece el margen de error permitido en la regresión.\n",
    "\n",
    "- `dtr_gs = GridSearchCV(model, parameters, cv=5, scoring=\"neg_mean_absolute_error\", n_jobs=-1)`: Se crea un objeto `GridSearchCV` para realizar una búsqueda exhaustiva de los mejores hiperparámetros para el modelo SVR utilizando validación cruzada. Se especifica el modelo (`model`), los parámetros a buscar (`parameters`), el número de divisiones de la validación cruzada (`cv=5`), la métrica de evaluación (`scoring=\"neg_mean_absolute_error\"`) y el número de trabajos en paralelo (`n_jobs=-1`) para acelerar el proceso de búsqueda.\n"
   ]
  },
  {
   "cell_type": "code",
   "execution_count": 42,
   "metadata": {},
   "outputs": [],
   "source": [
    "# Crear un objeto SVR\n",
    "model = SVR()\n",
    "\n",
    "# Definir los parámetros para la búsqueda de hiperparámetros\n",
    "parameters = {\n",
    "    \"kernel\": [\"rbf\", \"poly\"],\n",
    "    \"C\": [0.5, 1, 2],\n",
    "    \"epsilon\": [0.01, 0.1, 0.3],\n",
    "}\n",
    "\n",
    "# Crear un objeto GridSearchCV para realizar una búsqueda exhaustiva de hiperparámetros\n",
    "dtr_gs = GridSearchCV(model, parameters, cv=5, scoring=\"neg_mean_absolute_error\", n_jobs=-1)\n"
   ]
  },
  {
   "cell_type": "code",
   "execution_count": 43,
   "metadata": {},
   "outputs": [
    {
     "data": {
      "text/html": [
       "<style>#sk-container-id-4 {color: black;background-color: white;}#sk-container-id-4 pre{padding: 0;}#sk-container-id-4 div.sk-toggleable {background-color: white;}#sk-container-id-4 label.sk-toggleable__label {cursor: pointer;display: block;width: 100%;margin-bottom: 0;padding: 0.3em;box-sizing: border-box;text-align: center;}#sk-container-id-4 label.sk-toggleable__label-arrow:before {content: \"▸\";float: left;margin-right: 0.25em;color: #696969;}#sk-container-id-4 label.sk-toggleable__label-arrow:hover:before {color: black;}#sk-container-id-4 div.sk-estimator:hover label.sk-toggleable__label-arrow:before {color: black;}#sk-container-id-4 div.sk-toggleable__content {max-height: 0;max-width: 0;overflow: hidden;text-align: left;background-color: #f0f8ff;}#sk-container-id-4 div.sk-toggleable__content pre {margin: 0.2em;color: black;border-radius: 0.25em;background-color: #f0f8ff;}#sk-container-id-4 input.sk-toggleable__control:checked~div.sk-toggleable__content {max-height: 200px;max-width: 100%;overflow: auto;}#sk-container-id-4 input.sk-toggleable__control:checked~label.sk-toggleable__label-arrow:before {content: \"▾\";}#sk-container-id-4 div.sk-estimator input.sk-toggleable__control:checked~label.sk-toggleable__label {background-color: #d4ebff;}#sk-container-id-4 div.sk-label input.sk-toggleable__control:checked~label.sk-toggleable__label {background-color: #d4ebff;}#sk-container-id-4 input.sk-hidden--visually {border: 0;clip: rect(1px 1px 1px 1px);clip: rect(1px, 1px, 1px, 1px);height: 1px;margin: -1px;overflow: hidden;padding: 0;position: absolute;width: 1px;}#sk-container-id-4 div.sk-estimator {font-family: monospace;background-color: #f0f8ff;border: 1px dotted black;border-radius: 0.25em;box-sizing: border-box;margin-bottom: 0.5em;}#sk-container-id-4 div.sk-estimator:hover {background-color: #d4ebff;}#sk-container-id-4 div.sk-parallel-item::after {content: \"\";width: 100%;border-bottom: 1px solid gray;flex-grow: 1;}#sk-container-id-4 div.sk-label:hover label.sk-toggleable__label {background-color: #d4ebff;}#sk-container-id-4 div.sk-serial::before {content: \"\";position: absolute;border-left: 1px solid gray;box-sizing: border-box;top: 0;bottom: 0;left: 50%;z-index: 0;}#sk-container-id-4 div.sk-serial {display: flex;flex-direction: column;align-items: center;background-color: white;padding-right: 0.2em;padding-left: 0.2em;position: relative;}#sk-container-id-4 div.sk-item {position: relative;z-index: 1;}#sk-container-id-4 div.sk-parallel {display: flex;align-items: stretch;justify-content: center;background-color: white;position: relative;}#sk-container-id-4 div.sk-item::before, #sk-container-id-4 div.sk-parallel-item::before {content: \"\";position: absolute;border-left: 1px solid gray;box-sizing: border-box;top: 0;bottom: 0;left: 50%;z-index: -1;}#sk-container-id-4 div.sk-parallel-item {display: flex;flex-direction: column;z-index: 1;position: relative;background-color: white;}#sk-container-id-4 div.sk-parallel-item:first-child::after {align-self: flex-end;width: 50%;}#sk-container-id-4 div.sk-parallel-item:last-child::after {align-self: flex-start;width: 50%;}#sk-container-id-4 div.sk-parallel-item:only-child::after {width: 0;}#sk-container-id-4 div.sk-dashed-wrapped {border: 1px dashed gray;margin: 0 0.4em 0.5em 0.4em;box-sizing: border-box;padding-bottom: 0.4em;background-color: white;}#sk-container-id-4 div.sk-label label {font-family: monospace;font-weight: bold;display: inline-block;line-height: 1.2em;}#sk-container-id-4 div.sk-label-container {text-align: center;}#sk-container-id-4 div.sk-container {/* jupyter's `normalize.less` sets `[hidden] { display: none; }` but bootstrap.min.css set `[hidden] { display: none !important; }` so we also need the `!important` here to be able to override the default hidden behavior on the sphinx rendered scikit-learn.org. See: https://github.com/scikit-learn/scikit-learn/issues/21755 */display: inline-block !important;position: relative;}#sk-container-id-4 div.sk-text-repr-fallback {display: none;}</style><div id=\"sk-container-id-4\" class=\"sk-top-container\"><div class=\"sk-text-repr-fallback\"><pre>GridSearchCV(cv=5, estimator=SVR(), n_jobs=-1,\n",
       "             param_grid={&#x27;C&#x27;: [0.5, 1, 2], &#x27;epsilon&#x27;: [0.01, 0.1, 0.3],\n",
       "                         &#x27;kernel&#x27;: [&#x27;rbf&#x27;, &#x27;poly&#x27;]},\n",
       "             scoring=&#x27;neg_mean_absolute_error&#x27;)</pre><b>In a Jupyter environment, please rerun this cell to show the HTML representation or trust the notebook. <br />On GitHub, the HTML representation is unable to render, please try loading this page with nbviewer.org.</b></div><div class=\"sk-container\" hidden><div class=\"sk-item sk-dashed-wrapped\"><div class=\"sk-label-container\"><div class=\"sk-label sk-toggleable\"><input class=\"sk-toggleable__control sk-hidden--visually\" id=\"sk-estimator-id-8\" type=\"checkbox\" ><label for=\"sk-estimator-id-8\" class=\"sk-toggleable__label sk-toggleable__label-arrow\">GridSearchCV</label><div class=\"sk-toggleable__content\"><pre>GridSearchCV(cv=5, estimator=SVR(), n_jobs=-1,\n",
       "             param_grid={&#x27;C&#x27;: [0.5, 1, 2], &#x27;epsilon&#x27;: [0.01, 0.1, 0.3],\n",
       "                         &#x27;kernel&#x27;: [&#x27;rbf&#x27;, &#x27;poly&#x27;]},\n",
       "             scoring=&#x27;neg_mean_absolute_error&#x27;)</pre></div></div></div><div class=\"sk-parallel\"><div class=\"sk-parallel-item\"><div class=\"sk-item\"><div class=\"sk-label-container\"><div class=\"sk-label sk-toggleable\"><input class=\"sk-toggleable__control sk-hidden--visually\" id=\"sk-estimator-id-9\" type=\"checkbox\" ><label for=\"sk-estimator-id-9\" class=\"sk-toggleable__label sk-toggleable__label-arrow\">estimator: SVR</label><div class=\"sk-toggleable__content\"><pre>SVR()</pre></div></div></div><div class=\"sk-serial\"><div class=\"sk-item\"><div class=\"sk-estimator sk-toggleable\"><input class=\"sk-toggleable__control sk-hidden--visually\" id=\"sk-estimator-id-10\" type=\"checkbox\" ><label for=\"sk-estimator-id-10\" class=\"sk-toggleable__label sk-toggleable__label-arrow\">SVR</label><div class=\"sk-toggleable__content\"><pre>SVR()</pre></div></div></div></div></div></div></div></div></div></div>"
      ],
      "text/plain": [
       "GridSearchCV(cv=5, estimator=SVR(), n_jobs=-1,\n",
       "             param_grid={'C': [0.5, 1, 2], 'epsilon': [0.01, 0.1, 0.3],\n",
       "                         'kernel': ['rbf', 'poly']},\n",
       "             scoring='neg_mean_absolute_error')"
      ]
     },
     "execution_count": 43,
     "metadata": {},
     "output_type": "execute_result"
    }
   ],
   "source": [
    "dtr_gs.fit(X_train_scal, y_train)"
   ]
  },
  {
   "cell_type": "code",
   "execution_count": 44,
   "metadata": {},
   "outputs": [],
   "source": [
    "best_params = {}\n",
    "[best_params.update({f\"regressor__{key}\": [value]}) for key, value in dtr_gs.best_params_.items()]\n",
    "parameter[\"svr\"] = best_params"
   ]
  },
  {
   "cell_type": "code",
   "execution_count": 45,
   "metadata": {},
   "outputs": [
    {
     "data": {
      "text/plain": [
       "{'C': 2, 'epsilon': 0.3, 'kernel': 'rbf'}"
      ]
     },
     "execution_count": 45,
     "metadata": {},
     "output_type": "execute_result"
    }
   ],
   "source": [
    "dtr_gs.best_params_"
   ]
  },
  {
   "cell_type": "code",
   "execution_count": 46,
   "metadata": {},
   "outputs": [],
   "source": [
    "predictions = dtr_gs.predict(X_test_scal)"
   ]
  },
  {
   "cell_type": "code",
   "execution_count": 47,
   "metadata": {},
   "outputs": [],
   "source": [
    "MAE = mean_absolute_error(y_test, predictions)\n",
    "MAPE = mean_absolute_percentage_error(y_test, predictions)\n",
    "MSE = mean_squared_error(y_test, predictions)\n",
    "RMSE = np.sqrt(mean_squared_error(y_test, predictions))\n",
    "R2_Train = dtr_gs.best_estimator_.score(X_train_scal, y_train)\n",
    "R2_Test = dtr_gs.best_estimator_.score(X_test_scal, y_test)"
   ]
  },
  {
   "cell_type": "code",
   "execution_count": 48,
   "metadata": {},
   "outputs": [],
   "source": [
    "score[\"svr\"] = {\"MAE\": float(MAE), \"MAPE\": float(MAPE), \"MSE\": float(MSE), \"RMSE\": float(RMSE),\n",
    "                \"R2_Train\": float(R2_Train), \"R2_Test\": float(R2_Test)}"
   ]
  },
  {
   "cell_type": "code",
   "execution_count": 49,
   "metadata": {},
   "outputs": [
    {
     "name": "stdout",
     "output_type": "stream",
     "text": [
      "MAE: 2.6165454518650915\n",
      "MAPE: 7929876991934449.0\n",
      "MSE: 13.562201125332443\n",
      "RMSE: 3.6826893875715943\n",
      "R2_Train: 0.1265946515779437\n",
      "R2_Test: 0.10453273455299872\n"
     ]
    }
   ],
   "source": [
    "print(\"MAE:\", MAE)\n",
    "print(\"MAPE:\", MAPE)\n",
    "print(\"MSE:\", MSE)\n",
    "print(\"RMSE:\", RMSE)\n",
    "print(\"R2_Train:\", R2_Train)\n",
    "print(\"R2_Test:\", R2_Test)"
   ]
  },
  {
   "attachments": {},
   "cell_type": "markdown",
   "metadata": {},
   "source": [
    "# AdaBoostRegressor"
   ]
  },
  {
   "attachments": {},
   "cell_type": "markdown",
   "metadata": {},
   "source": [
    "- `model = AdaBoostRegressor(random_state=10)`: Se crea un objeto AdaBoostRegressor con un estado aleatorio de 10. Este modelo se utiliza para realizar una regresión utilizando el algoritmo de Boosting con la técnica de AdaBoost.\n",
    "\n",
    "- `parameters = {...}`: Se definen los parámetros para la búsqueda de hiperparámetros. En este caso, se especifican diferentes valores para los hiperparámetros `n_estimators`, que indica el número de estimadores en el ensamblaje, y `loss`, que determina la función de pérdida a utilizar durante el entrenamiento.\n",
    "\n",
    "- `dtr_gs = GridSearchCV(model, parameters, cv=5, scoring=\"neg_mean_absolute_error\", n_jobs=-1)`: Se crea un objeto GridSearchCV para realizar una búsqueda exhaustiva de los mejores hiperparámetros para el modelo AdaBoostRegressor utilizando validación cruzada. Se especifica el modelo (`model`), los parámetros a buscar (`parameters`), el número de divisiones de la validación cruzada (`cv=5`), la métrica de evaluación (`scoring=\"neg_mean_absolute_error\"`) y el número de trabajos en paralelo (`n_jobs=-1`) para acelerar el proceso de búsqueda.\n"
   ]
  },
  {
   "cell_type": "code",
   "execution_count": 50,
   "metadata": {},
   "outputs": [],
   "source": [
    "# Crear un objeto AdaBoostRegressor\n",
    "model = AdaBoostRegressor(random_state=10)\n",
    "\n",
    "# Definir los parámetros para la búsqueda de hiperparámetros\n",
    "parameters = {\n",
    "    \"n_estimators\": [100, 150, 200],\n",
    "    \"loss\": [\"linear\", \"square\", \"exponential\"],\n",
    "}\n",
    "\n",
    "# Crear un objeto GridSearchCV para realizar una búsqueda exhaustiva de hiperparámetros\n",
    "dtr_gs = GridSearchCV(model, parameters, cv=5, scoring=\"neg_mean_absolute_error\", n_jobs=-1)\n"
   ]
  },
  {
   "cell_type": "code",
   "execution_count": 51,
   "metadata": {},
   "outputs": [
    {
     "data": {
      "text/html": [
       "<style>#sk-container-id-5 {color: black;background-color: white;}#sk-container-id-5 pre{padding: 0;}#sk-container-id-5 div.sk-toggleable {background-color: white;}#sk-container-id-5 label.sk-toggleable__label {cursor: pointer;display: block;width: 100%;margin-bottom: 0;padding: 0.3em;box-sizing: border-box;text-align: center;}#sk-container-id-5 label.sk-toggleable__label-arrow:before {content: \"▸\";float: left;margin-right: 0.25em;color: #696969;}#sk-container-id-5 label.sk-toggleable__label-arrow:hover:before {color: black;}#sk-container-id-5 div.sk-estimator:hover label.sk-toggleable__label-arrow:before {color: black;}#sk-container-id-5 div.sk-toggleable__content {max-height: 0;max-width: 0;overflow: hidden;text-align: left;background-color: #f0f8ff;}#sk-container-id-5 div.sk-toggleable__content pre {margin: 0.2em;color: black;border-radius: 0.25em;background-color: #f0f8ff;}#sk-container-id-5 input.sk-toggleable__control:checked~div.sk-toggleable__content {max-height: 200px;max-width: 100%;overflow: auto;}#sk-container-id-5 input.sk-toggleable__control:checked~label.sk-toggleable__label-arrow:before {content: \"▾\";}#sk-container-id-5 div.sk-estimator input.sk-toggleable__control:checked~label.sk-toggleable__label {background-color: #d4ebff;}#sk-container-id-5 div.sk-label input.sk-toggleable__control:checked~label.sk-toggleable__label {background-color: #d4ebff;}#sk-container-id-5 input.sk-hidden--visually {border: 0;clip: rect(1px 1px 1px 1px);clip: rect(1px, 1px, 1px, 1px);height: 1px;margin: -1px;overflow: hidden;padding: 0;position: absolute;width: 1px;}#sk-container-id-5 div.sk-estimator {font-family: monospace;background-color: #f0f8ff;border: 1px dotted black;border-radius: 0.25em;box-sizing: border-box;margin-bottom: 0.5em;}#sk-container-id-5 div.sk-estimator:hover {background-color: #d4ebff;}#sk-container-id-5 div.sk-parallel-item::after {content: \"\";width: 100%;border-bottom: 1px solid gray;flex-grow: 1;}#sk-container-id-5 div.sk-label:hover label.sk-toggleable__label {background-color: #d4ebff;}#sk-container-id-5 div.sk-serial::before {content: \"\";position: absolute;border-left: 1px solid gray;box-sizing: border-box;top: 0;bottom: 0;left: 50%;z-index: 0;}#sk-container-id-5 div.sk-serial {display: flex;flex-direction: column;align-items: center;background-color: white;padding-right: 0.2em;padding-left: 0.2em;position: relative;}#sk-container-id-5 div.sk-item {position: relative;z-index: 1;}#sk-container-id-5 div.sk-parallel {display: flex;align-items: stretch;justify-content: center;background-color: white;position: relative;}#sk-container-id-5 div.sk-item::before, #sk-container-id-5 div.sk-parallel-item::before {content: \"\";position: absolute;border-left: 1px solid gray;box-sizing: border-box;top: 0;bottom: 0;left: 50%;z-index: -1;}#sk-container-id-5 div.sk-parallel-item {display: flex;flex-direction: column;z-index: 1;position: relative;background-color: white;}#sk-container-id-5 div.sk-parallel-item:first-child::after {align-self: flex-end;width: 50%;}#sk-container-id-5 div.sk-parallel-item:last-child::after {align-self: flex-start;width: 50%;}#sk-container-id-5 div.sk-parallel-item:only-child::after {width: 0;}#sk-container-id-5 div.sk-dashed-wrapped {border: 1px dashed gray;margin: 0 0.4em 0.5em 0.4em;box-sizing: border-box;padding-bottom: 0.4em;background-color: white;}#sk-container-id-5 div.sk-label label {font-family: monospace;font-weight: bold;display: inline-block;line-height: 1.2em;}#sk-container-id-5 div.sk-label-container {text-align: center;}#sk-container-id-5 div.sk-container {/* jupyter's `normalize.less` sets `[hidden] { display: none; }` but bootstrap.min.css set `[hidden] { display: none !important; }` so we also need the `!important` here to be able to override the default hidden behavior on the sphinx rendered scikit-learn.org. See: https://github.com/scikit-learn/scikit-learn/issues/21755 */display: inline-block !important;position: relative;}#sk-container-id-5 div.sk-text-repr-fallback {display: none;}</style><div id=\"sk-container-id-5\" class=\"sk-top-container\"><div class=\"sk-text-repr-fallback\"><pre>GridSearchCV(cv=5, estimator=AdaBoostRegressor(random_state=10), n_jobs=-1,\n",
       "             param_grid={&#x27;loss&#x27;: [&#x27;linear&#x27;, &#x27;square&#x27;, &#x27;exponential&#x27;],\n",
       "                         &#x27;n_estimators&#x27;: [100, 150, 200]},\n",
       "             scoring=&#x27;neg_mean_absolute_error&#x27;)</pre><b>In a Jupyter environment, please rerun this cell to show the HTML representation or trust the notebook. <br />On GitHub, the HTML representation is unable to render, please try loading this page with nbviewer.org.</b></div><div class=\"sk-container\" hidden><div class=\"sk-item sk-dashed-wrapped\"><div class=\"sk-label-container\"><div class=\"sk-label sk-toggleable\"><input class=\"sk-toggleable__control sk-hidden--visually\" id=\"sk-estimator-id-11\" type=\"checkbox\" ><label for=\"sk-estimator-id-11\" class=\"sk-toggleable__label sk-toggleable__label-arrow\">GridSearchCV</label><div class=\"sk-toggleable__content\"><pre>GridSearchCV(cv=5, estimator=AdaBoostRegressor(random_state=10), n_jobs=-1,\n",
       "             param_grid={&#x27;loss&#x27;: [&#x27;linear&#x27;, &#x27;square&#x27;, &#x27;exponential&#x27;],\n",
       "                         &#x27;n_estimators&#x27;: [100, 150, 200]},\n",
       "             scoring=&#x27;neg_mean_absolute_error&#x27;)</pre></div></div></div><div class=\"sk-parallel\"><div class=\"sk-parallel-item\"><div class=\"sk-item\"><div class=\"sk-label-container\"><div class=\"sk-label sk-toggleable\"><input class=\"sk-toggleable__control sk-hidden--visually\" id=\"sk-estimator-id-12\" type=\"checkbox\" ><label for=\"sk-estimator-id-12\" class=\"sk-toggleable__label sk-toggleable__label-arrow\">estimator: AdaBoostRegressor</label><div class=\"sk-toggleable__content\"><pre>AdaBoostRegressor(random_state=10)</pre></div></div></div><div class=\"sk-serial\"><div class=\"sk-item\"><div class=\"sk-estimator sk-toggleable\"><input class=\"sk-toggleable__control sk-hidden--visually\" id=\"sk-estimator-id-13\" type=\"checkbox\" ><label for=\"sk-estimator-id-13\" class=\"sk-toggleable__label sk-toggleable__label-arrow\">AdaBoostRegressor</label><div class=\"sk-toggleable__content\"><pre>AdaBoostRegressor(random_state=10)</pre></div></div></div></div></div></div></div></div></div></div>"
      ],
      "text/plain": [
       "GridSearchCV(cv=5, estimator=AdaBoostRegressor(random_state=10), n_jobs=-1,\n",
       "             param_grid={'loss': ['linear', 'square', 'exponential'],\n",
       "                         'n_estimators': [100, 150, 200]},\n",
       "             scoring='neg_mean_absolute_error')"
      ]
     },
     "execution_count": 51,
     "metadata": {},
     "output_type": "execute_result"
    }
   ],
   "source": [
    "dtr_gs.fit(X_train, y_train)"
   ]
  },
  {
   "cell_type": "code",
   "execution_count": 52,
   "metadata": {},
   "outputs": [],
   "source": [
    "best_params = {}\n",
    "[best_params.update({f\"regressor__{key}\": [value]}) for key, value in dtr_gs.best_params_.items()]\n",
    "parameter[\"ada\"] = best_params"
   ]
  },
  {
   "cell_type": "code",
   "execution_count": 53,
   "metadata": {},
   "outputs": [
    {
     "data": {
      "text/plain": [
       "{'loss': 'linear', 'n_estimators': 100}"
      ]
     },
     "execution_count": 53,
     "metadata": {},
     "output_type": "execute_result"
    }
   ],
   "source": [
    "dtr_gs.best_params_"
   ]
  },
  {
   "cell_type": "code",
   "execution_count": 54,
   "metadata": {},
   "outputs": [],
   "source": [
    "predictions = dtr_gs.predict(X_test)"
   ]
  },
  {
   "cell_type": "code",
   "execution_count": 55,
   "metadata": {},
   "outputs": [],
   "source": [
    "MAE = mean_absolute_error(y_test, predictions)\n",
    "MAPE = mean_absolute_percentage_error(y_test, predictions)\n",
    "MSE = mean_squared_error(y_test, predictions)\n",
    "RMSE = np.sqrt(mean_squared_error(y_test, predictions))\n",
    "R2_Train = dtr_gs.best_estimator_.score(X_train, y_train)\n",
    "R2_Test = dtr_gs.best_estimator_.score(X_test, y_test)"
   ]
  },
  {
   "cell_type": "code",
   "execution_count": 56,
   "metadata": {},
   "outputs": [],
   "source": [
    "score[\"abr\"] = {\"MAE\": float(MAE), \"MAPE\": float(MAPE), \"MSE\": float(MSE), \"RMSE\": float(RMSE),\n",
    "                \"R2_Train\": float(R2_Train), \"R2_Test\": float(R2_Test)}"
   ]
  },
  {
   "cell_type": "code",
   "execution_count": 57,
   "metadata": {},
   "outputs": [
    {
     "name": "stdout",
     "output_type": "stream",
     "text": [
      "MAE: 2.8692849831811658\n",
      "MAPE: 5450914049880007.0\n",
      "MSE: 11.125554491444712\n",
      "RMSE: 3.3354991367776896\n",
      "R2_Train: 0.26273060311874397\n",
      "R2_Test: 0.26541644936773545\n"
     ]
    }
   ],
   "source": [
    "print(\"MAE:\", MAE)\n",
    "print(\"MAPE:\", MAPE)\n",
    "print(\"MSE:\", MSE)\n",
    "print(\"RMSE:\", RMSE)\n",
    "print(\"R2_Train:\", R2_Train)\n",
    "print(\"R2_Test:\", R2_Test)"
   ]
  },
  {
   "attachments": {},
   "cell_type": "markdown",
   "metadata": {},
   "source": [
    "# GradientBoostingRegressor"
   ]
  },
  {
   "attachments": {},
   "cell_type": "markdown",
   "metadata": {},
   "source": [
    "Importamos la clase `GradientBoostingRegressor` del módulo `ensemble` de la biblioteca sklearn. Esto nos permite utilizar el algoritmo de Boosting con gradientes para realizar una regresión.\n",
    "\n",
    "- `max_depth`: La profundidad máxima de los árboles de regresión utilizados en el ensamble. En este caso, se establece en 2.\n",
    "- `n_estimators`: El número de árboles en el ensamble. En este caso, se establece en 3.\n",
    "- `learning_rate`: La tasa de aprendizaje que controla la contribución de cada árbol en el ensamble. En este caso, se establece en 1.0, lo que significa que cada árbol contribuye completamente al ensamble.\n",
    "- `random_state`: El estado aleatorio para reproducibilidad. En este caso, se establece en 10.\n"
   ]
  },
  {
   "cell_type": "code",
   "execution_count": 58,
   "metadata": {},
   "outputs": [
    {
     "data": {
      "text/html": [
       "<style>#sk-container-id-6 {color: black;background-color: white;}#sk-container-id-6 pre{padding: 0;}#sk-container-id-6 div.sk-toggleable {background-color: white;}#sk-container-id-6 label.sk-toggleable__label {cursor: pointer;display: block;width: 100%;margin-bottom: 0;padding: 0.3em;box-sizing: border-box;text-align: center;}#sk-container-id-6 label.sk-toggleable__label-arrow:before {content: \"▸\";float: left;margin-right: 0.25em;color: #696969;}#sk-container-id-6 label.sk-toggleable__label-arrow:hover:before {color: black;}#sk-container-id-6 div.sk-estimator:hover label.sk-toggleable__label-arrow:before {color: black;}#sk-container-id-6 div.sk-toggleable__content {max-height: 0;max-width: 0;overflow: hidden;text-align: left;background-color: #f0f8ff;}#sk-container-id-6 div.sk-toggleable__content pre {margin: 0.2em;color: black;border-radius: 0.25em;background-color: #f0f8ff;}#sk-container-id-6 input.sk-toggleable__control:checked~div.sk-toggleable__content {max-height: 200px;max-width: 100%;overflow: auto;}#sk-container-id-6 input.sk-toggleable__control:checked~label.sk-toggleable__label-arrow:before {content: \"▾\";}#sk-container-id-6 div.sk-estimator input.sk-toggleable__control:checked~label.sk-toggleable__label {background-color: #d4ebff;}#sk-container-id-6 div.sk-label input.sk-toggleable__control:checked~label.sk-toggleable__label {background-color: #d4ebff;}#sk-container-id-6 input.sk-hidden--visually {border: 0;clip: rect(1px 1px 1px 1px);clip: rect(1px, 1px, 1px, 1px);height: 1px;margin: -1px;overflow: hidden;padding: 0;position: absolute;width: 1px;}#sk-container-id-6 div.sk-estimator {font-family: monospace;background-color: #f0f8ff;border: 1px dotted black;border-radius: 0.25em;box-sizing: border-box;margin-bottom: 0.5em;}#sk-container-id-6 div.sk-estimator:hover {background-color: #d4ebff;}#sk-container-id-6 div.sk-parallel-item::after {content: \"\";width: 100%;border-bottom: 1px solid gray;flex-grow: 1;}#sk-container-id-6 div.sk-label:hover label.sk-toggleable__label {background-color: #d4ebff;}#sk-container-id-6 div.sk-serial::before {content: \"\";position: absolute;border-left: 1px solid gray;box-sizing: border-box;top: 0;bottom: 0;left: 50%;z-index: 0;}#sk-container-id-6 div.sk-serial {display: flex;flex-direction: column;align-items: center;background-color: white;padding-right: 0.2em;padding-left: 0.2em;position: relative;}#sk-container-id-6 div.sk-item {position: relative;z-index: 1;}#sk-container-id-6 div.sk-parallel {display: flex;align-items: stretch;justify-content: center;background-color: white;position: relative;}#sk-container-id-6 div.sk-item::before, #sk-container-id-6 div.sk-parallel-item::before {content: \"\";position: absolute;border-left: 1px solid gray;box-sizing: border-box;top: 0;bottom: 0;left: 50%;z-index: -1;}#sk-container-id-6 div.sk-parallel-item {display: flex;flex-direction: column;z-index: 1;position: relative;background-color: white;}#sk-container-id-6 div.sk-parallel-item:first-child::after {align-self: flex-end;width: 50%;}#sk-container-id-6 div.sk-parallel-item:last-child::after {align-self: flex-start;width: 50%;}#sk-container-id-6 div.sk-parallel-item:only-child::after {width: 0;}#sk-container-id-6 div.sk-dashed-wrapped {border: 1px dashed gray;margin: 0 0.4em 0.5em 0.4em;box-sizing: border-box;padding-bottom: 0.4em;background-color: white;}#sk-container-id-6 div.sk-label label {font-family: monospace;font-weight: bold;display: inline-block;line-height: 1.2em;}#sk-container-id-6 div.sk-label-container {text-align: center;}#sk-container-id-6 div.sk-container {/* jupyter's `normalize.less` sets `[hidden] { display: none; }` but bootstrap.min.css set `[hidden] { display: none !important; }` so we also need the `!important` here to be able to override the default hidden behavior on the sphinx rendered scikit-learn.org. See: https://github.com/scikit-learn/scikit-learn/issues/21755 */display: inline-block !important;position: relative;}#sk-container-id-6 div.sk-text-repr-fallback {display: none;}</style><div id=\"sk-container-id-6\" class=\"sk-top-container\"><div class=\"sk-text-repr-fallback\"><pre>GradientBoostingRegressor(learning_rate=1.0, max_depth=2, n_estimators=3,\n",
       "                          random_state=10)</pre><b>In a Jupyter environment, please rerun this cell to show the HTML representation or trust the notebook. <br />On GitHub, the HTML representation is unable to render, please try loading this page with nbviewer.org.</b></div><div class=\"sk-container\" hidden><div class=\"sk-item\"><div class=\"sk-estimator sk-toggleable\"><input class=\"sk-toggleable__control sk-hidden--visually\" id=\"sk-estimator-id-14\" type=\"checkbox\" checked><label for=\"sk-estimator-id-14\" class=\"sk-toggleable__label sk-toggleable__label-arrow\">GradientBoostingRegressor</label><div class=\"sk-toggleable__content\"><pre>GradientBoostingRegressor(learning_rate=1.0, max_depth=2, n_estimators=3,\n",
       "                          random_state=10)</pre></div></div></div></div></div>"
      ],
      "text/plain": [
       "GradientBoostingRegressor(learning_rate=1.0, max_depth=2, n_estimators=3,\n",
       "                          random_state=10)"
      ]
     },
     "execution_count": 58,
     "metadata": {},
     "output_type": "execute_result"
    }
   ],
   "source": [
    "from sklearn.ensemble import GradientBoostingRegressor\n",
    "\n",
    "# Crear un objeto GradientBoostingRegressor\n",
    "gbrt = GradientBoostingRegressor(max_depth=2,\n",
    "                                 n_estimators=3,\n",
    "                                 learning_rate=1.0,\n",
    "                                 random_state=10)\n",
    "\n",
    "# Ajustar el modelo GradientBoostingRegressor a los datos de entrenamiento\n",
    "gbrt.fit(X_train, y_train)\n"
   ]
  },
  {
   "cell_type": "code",
   "execution_count": 59,
   "metadata": {},
   "outputs": [],
   "source": [
    "predictions = gbrt.predict(X_test)"
   ]
  },
  {
   "cell_type": "code",
   "execution_count": 60,
   "metadata": {},
   "outputs": [],
   "source": [
    "MAE = mean_absolute_error(y_test, predictions)\n",
    "MAPE = mean_absolute_percentage_error(y_test, predictions)\n",
    "MSE = mean_squared_error(y_test, predictions)\n",
    "RMSE = np.sqrt(mean_squared_error(y_test, predictions))\n",
    "R2_Train = dtr_gs.best_estimator_.score(X_train, y_train)\n",
    "R2_Test = dtr_gs.best_estimator_.score(X_test, y_test)"
   ]
  },
  {
   "cell_type": "code",
   "execution_count": 61,
   "metadata": {},
   "outputs": [],
   "source": [
    "score[\"gbr\"] = {\"MAE\": float(MAE), \"MAPE\": float(MAPE), \"MSE\": float(MSE), \"RMSE\": float(RMSE),\n",
    "                \"R2_Train\": float(R2_Train), \"R2_Test\": float(R2_Test)}"
   ]
  },
  {
   "cell_type": "code",
   "execution_count": 62,
   "metadata": {},
   "outputs": [
    {
     "name": "stdout",
     "output_type": "stream",
     "text": [
      "MAE: 2.599231931125841\n",
      "MAPE: 5248840333344701.0\n",
      "MSE: 10.824721813705185\n",
      "RMSE: 3.29009449920594\n",
      "R2_Train: 0.26273060311874397\n",
      "R2_Test: 0.26541644936773545\n"
     ]
    }
   ],
   "source": [
    "print(\"MAE:\", MAE)\n",
    "print(\"MAPE:\", MAPE)\n",
    "print(\"MSE:\", MSE)\n",
    "print(\"RMSE:\", RMSE)\n",
    "print(\"R2_Train:\", R2_Train)\n",
    "print(\"R2_Test:\", R2_Test)"
   ]
  },
  {
   "attachments": {},
   "cell_type": "markdown",
   "metadata": {},
   "source": [
    "# Recurrent Neural Networks"
   ]
  },
  {
   "attachments": {},
   "cell_type": "markdown",
   "metadata": {},
   "source": [
    "**Model Creation:**\n",
    "\n",
    "- `model`: Se crea un modelo secuencial de Keras utilizando la clase `Sequential`. Este modelo consiste en una serie de capas apiladas una encima de la otra.\n",
    "- `keras.layers.Dense`: Se añaden capas densas (totalmente conectadas) al modelo. Cada capa tiene un número específico de neuronas y una función de activación. La última capa tiene 1 neurona para la regresión.\n",
    "\n",
    "**Model Compilation:**\n",
    "\n",
    "- `model.compile`: Se compila el modelo especificando la función de pérdida, el optimizador y las métricas que se utilizarán durante el entrenamiento.\n",
    "\n",
    "**Callbacks:**\n",
    "\n",
    "- `checkpoint_cb`: Se crea un callback `ModelCheckpoint` para guardar el modelo en un archivo durante el entrenamiento.\n",
    "- `early_stopping_cb`: Se crea un callback `EarlyStopping` que detendrá el entrenamiento si no se observa una mejora en la métrica de pérdida en un número determinado de épocas.\n",
    "\n",
    "**Model Training:**\n",
    "\n",
    "- `model.fit`: Se entrena el modelo utilizando los datos de entrenamiento `X_train_scal` y las etiquetas correspondientes `y_train`. Se especifica el número de épocas, la validación cruzada (usando una fracción del conjunto de entrenamiento como validación) y los callbacks a utilizar durante el entrenamiento.\n"
   ]
  },
  {
   "cell_type": "code",
   "execution_count": 63,
   "metadata": {},
   "outputs": [
    {
     "name": "stdout",
     "output_type": "stream",
     "text": [
      "Epoch 1/1000\n",
      "381/381 [==============================] - 2s 2ms/step - loss: 3.2848 - MAPE: 1604046336.0000 - MSE: 19.7385 - RMSE: 4.4428 - val_loss: 2.7137 - val_MAPE: 1561836032.0000 - val_MSE: 13.2197 - val_RMSE: 3.6359\n",
      "Epoch 2/1000\n",
      "381/381 [==============================] - 1s 2ms/step - loss: 2.6568 - MAPE: 1817236480.0000 - MSE: 15.0497 - RMSE: 3.8794 - val_loss: 2.5020 - val_MAPE: 1555766400.0000 - val_MSE: 12.5071 - val_RMSE: 3.5365\n",
      "Epoch 3/1000\n",
      "381/381 [==============================] - 1s 2ms/step - loss: 2.5791 - MAPE: 1711895040.0000 - MSE: 13.7573 - RMSE: 3.7091 - val_loss: 2.4649 - val_MAPE: 1605776640.0000 - val_MSE: 13.2290 - val_RMSE: 3.6372\n",
      "Epoch 4/1000\n",
      "381/381 [==============================] - 1s 2ms/step - loss: 2.4662 - MAPE: 1475557248.0000 - MSE: 11.7989 - RMSE: 3.4350 - val_loss: 2.2413 - val_MAPE: 1180512256.0000 - val_MSE: 10.0083 - val_RMSE: 3.1636\n",
      "Epoch 5/1000\n",
      "381/381 [==============================] - 1s 2ms/step - loss: 2.2382 - MAPE: 1000911296.0000 - MSE: 10.6376 - RMSE: 3.2615 - val_loss: 1.9533 - val_MAPE: 713149312.0000 - val_MSE: 9.4669 - val_RMSE: 3.0768\n",
      "Epoch 6/1000\n",
      "381/381 [==============================] - 1s 2ms/step - loss: 2.0973 - MAPE: 857420096.0000 - MSE: 10.8839 - RMSE: 3.2991 - val_loss: 1.8704 - val_MAPE: 800069504.0000 - val_MSE: 9.3670 - val_RMSE: 3.0606\n",
      "Epoch 7/1000\n",
      "381/381 [==============================] - 1s 2ms/step - loss: 2.0027 - MAPE: 792568832.0000 - MSE: 10.5440 - RMSE: 3.2472 - val_loss: 1.8509 - val_MAPE: 832072512.0000 - val_MSE: 9.4725 - val_RMSE: 3.0777\n",
      "Epoch 8/1000\n",
      "381/381 [==============================] - 1s 2ms/step - loss: 1.9412 - MAPE: 779092160.0000 - MSE: 10.4996 - RMSE: 3.2403 - val_loss: 1.7883 - val_MAPE: 614521216.0000 - val_MSE: 9.7991 - val_RMSE: 3.1304\n",
      "Epoch 9/1000\n",
      "381/381 [==============================] - 1s 2ms/step - loss: 1.9438 - MAPE: 747191104.0000 - MSE: 10.8148 - RMSE: 3.2886 - val_loss: 1.9103 - val_MAPE: 504886592.0000 - val_MSE: 11.3679 - val_RMSE: 3.3716\n",
      "Epoch 10/1000\n",
      "381/381 [==============================] - 1s 2ms/step - loss: 1.9037 - MAPE: 748940160.0000 - MSE: 10.5112 - RMSE: 3.2421 - val_loss: 1.8969 - val_MAPE: 982671872.0000 - val_MSE: 10.3247 - val_RMSE: 3.2132\n",
      "Epoch 11/1000\n",
      "381/381 [==============================] - 1s 2ms/step - loss: 1.8938 - MAPE: 729121664.0000 - MSE: 10.5675 - RMSE: 3.2508 - val_loss: 1.7328 - val_MAPE: 601718208.0000 - val_MSE: 9.5631 - val_RMSE: 3.0924\n",
      "Epoch 12/1000\n",
      "381/381 [==============================] - 1s 2ms/step - loss: 1.8666 - MAPE: 713455232.0000 - MSE: 10.5907 - RMSE: 3.2543 - val_loss: 1.7339 - val_MAPE: 525819776.0000 - val_MSE: 9.8424 - val_RMSE: 3.1373\n",
      "Epoch 13/1000\n",
      "381/381 [==============================] - 1s 2ms/step - loss: 1.8971 - MAPE: 742652032.0000 - MSE: 10.7917 - RMSE: 3.2851 - val_loss: 1.7662 - val_MAPE: 478563968.0000 - val_MSE: 10.2526 - val_RMSE: 3.2020\n",
      "Epoch 14/1000\n",
      "381/381 [==============================] - 1s 2ms/step - loss: 1.8566 - MAPE: 688689344.0000 - MSE: 10.5581 - RMSE: 3.2493 - val_loss: 1.7678 - val_MAPE: 781104576.0000 - val_MSE: 9.2416 - val_RMSE: 3.0400\n",
      "Epoch 15/1000\n",
      "381/381 [==============================] - 1s 2ms/step - loss: 1.8248 - MAPE: 685624384.0000 - MSE: 10.2561 - RMSE: 3.2025 - val_loss: 1.6836 - val_MAPE: 639569344.0000 - val_MSE: 9.1310 - val_RMSE: 3.0218\n",
      "Epoch 16/1000\n",
      "381/381 [==============================] - 1s 2ms/step - loss: 1.8216 - MAPE: 669992384.0000 - MSE: 10.3141 - RMSE: 3.2116 - val_loss: 1.6978 - val_MAPE: 586912256.0000 - val_MSE: 9.1519 - val_RMSE: 3.0252\n",
      "Epoch 17/1000\n",
      "381/381 [==============================] - 1s 2ms/step - loss: 1.8103 - MAPE: 670088448.0000 - MSE: 10.0953 - RMSE: 3.1773 - val_loss: 1.6921 - val_MAPE: 579002240.0000 - val_MSE: 8.9918 - val_RMSE: 2.9986\n",
      "Epoch 18/1000\n",
      "381/381 [==============================] - 1s 2ms/step - loss: 1.8264 - MAPE: 649490368.0000 - MSE: 10.4378 - RMSE: 3.2308 - val_loss: 1.6871 - val_MAPE: 517943552.0000 - val_MSE: 9.0938 - val_RMSE: 3.0156\n",
      "Epoch 19/1000\n",
      "381/381 [==============================] - 0s 1ms/step - loss: 1.8336 - MAPE: 671135168.0000 - MSE: 10.2861 - RMSE: 3.2072 - val_loss: 1.6872 - val_MAPE: 525395968.0000 - val_MSE: 9.3434 - val_RMSE: 3.0567\n",
      "Epoch 20/1000\n",
      "381/381 [==============================] - 0s 1ms/step - loss: 1.8096 - MAPE: 640576128.0000 - MSE: 10.2278 - RMSE: 3.1981 - val_loss: 1.7396 - val_MAPE: 706676800.0000 - val_MSE: 9.2254 - val_RMSE: 3.0373\n",
      "Epoch 21/1000\n",
      "381/381 [==============================] - 0s 1ms/step - loss: 1.8161 - MAPE: 663063552.0000 - MSE: 10.1964 - RMSE: 3.1932 - val_loss: 1.6760 - val_MAPE: 513365888.0000 - val_MSE: 9.3196 - val_RMSE: 3.0528\n",
      "Epoch 22/1000\n",
      "381/381 [==============================] - 1s 1ms/step - loss: 1.7997 - MAPE: 633668608.0000 - MSE: 10.1109 - RMSE: 3.1798 - val_loss: 1.6592 - val_MAPE: 561043520.0000 - val_MSE: 8.9501 - val_RMSE: 2.9917\n",
      "Epoch 23/1000\n",
      "381/381 [==============================] - 0s 1ms/step - loss: 1.8088 - MAPE: 612641920.0000 - MSE: 10.4593 - RMSE: 3.2341 - val_loss: 1.6390 - val_MAPE: 557901888.0000 - val_MSE: 9.1127 - val_RMSE: 3.0187\n",
      "Epoch 24/1000\n",
      "381/381 [==============================] - 0s 1ms/step - loss: 1.7691 - MAPE: 605153088.0000 - MSE: 10.1434 - RMSE: 3.1849 - val_loss: 1.6626 - val_MAPE: 488565952.0000 - val_MSE: 9.7198 - val_RMSE: 3.1177\n",
      "Epoch 25/1000\n",
      "381/381 [==============================] - 0s 1ms/step - loss: 1.7562 - MAPE: 603333696.0000 - MSE: 10.0241 - RMSE: 3.1661 - val_loss: 1.6351 - val_MAPE: 424165216.0000 - val_MSE: 9.0591 - val_RMSE: 3.0098\n",
      "Epoch 26/1000\n",
      "381/381 [==============================] - 0s 1ms/step - loss: 1.7849 - MAPE: 588321472.0000 - MSE: 10.3715 - RMSE: 3.2205 - val_loss: 1.6653 - val_MAPE: 448094944.0000 - val_MSE: 9.5601 - val_RMSE: 3.0919\n",
      "Epoch 27/1000\n",
      "381/381 [==============================] - 0s 1ms/step - loss: 1.7922 - MAPE: 587169152.0000 - MSE: 10.4185 - RMSE: 3.2278 - val_loss: 1.6152 - val_MAPE: 530981664.0000 - val_MSE: 9.2013 - val_RMSE: 3.0334\n",
      "Epoch 28/1000\n",
      "381/381 [==============================] - 0s 1ms/step - loss: 1.7622 - MAPE: 589268288.0000 - MSE: 10.2356 - RMSE: 3.1993 - val_loss: 1.6727 - val_MAPE: 713178944.0000 - val_MSE: 9.1655 - val_RMSE: 3.0275\n",
      "Epoch 29/1000\n",
      "381/381 [==============================] - 0s 1ms/step - loss: 1.7522 - MAPE: 589233664.0000 - MSE: 10.1500 - RMSE: 3.1859 - val_loss: 1.7091 - val_MAPE: 339023072.0000 - val_MSE: 9.8400 - val_RMSE: 3.1369\n",
      "Epoch 30/1000\n",
      "381/381 [==============================] - 0s 1ms/step - loss: 1.7759 - MAPE: 601739456.0000 - MSE: 10.3296 - RMSE: 3.2140 - val_loss: 1.6714 - val_MAPE: 399746816.0000 - val_MSE: 9.8741 - val_RMSE: 3.1423\n",
      "Epoch 31/1000\n",
      "381/381 [==============================] - 0s 1ms/step - loss: 1.7502 - MAPE: 542818432.0000 - MSE: 10.2691 - RMSE: 3.2045 - val_loss: 1.7262 - val_MAPE: 569083264.0000 - val_MSE: 9.8239 - val_RMSE: 3.1343\n",
      "Epoch 32/1000\n",
      "381/381 [==============================] - 0s 1ms/step - loss: 1.7671 - MAPE: 523084096.0000 - MSE: 10.5831 - RMSE: 3.2532 - val_loss: 1.6315 - val_MAPE: 455100384.0000 - val_MSE: 9.5029 - val_RMSE: 3.0827\n",
      "Epoch 33/1000\n",
      "381/381 [==============================] - 0s 1ms/step - loss: 1.7606 - MAPE: 591367616.0000 - MSE: 10.4200 - RMSE: 3.2280 - val_loss: 1.8809 - val_MAPE: 953683904.0000 - val_MSE: 10.7442 - val_RMSE: 3.2778\n",
      "Epoch 34/1000\n",
      "381/381 [==============================] - 0s 1ms/step - loss: 1.7367 - MAPE: 598226624.0000 - MSE: 10.1013 - RMSE: 3.1783 - val_loss: 1.6726 - val_MAPE: 347542080.0000 - val_MSE: 9.8216 - val_RMSE: 3.1339\n",
      "Epoch 35/1000\n",
      "381/381 [==============================] - 0s 1ms/step - loss: 1.7754 - MAPE: 592157952.0000 - MSE: 10.5649 - RMSE: 3.2504 - val_loss: 1.6631 - val_MAPE: 408311040.0000 - val_MSE: 9.8377 - val_RMSE: 3.1365\n",
      "Epoch 36/1000\n",
      "381/381 [==============================] - 0s 1ms/step - loss: 1.7790 - MAPE: 625654528.0000 - MSE: 10.4883 - RMSE: 3.2386 - val_loss: 1.6501 - val_MAPE: 607820160.0000 - val_MSE: 9.4528 - val_RMSE: 3.0745\n",
      "Epoch 37/1000\n",
      "381/381 [==============================] - 0s 1ms/step - loss: 1.7468 - MAPE: 571799552.0000 - MSE: 10.2751 - RMSE: 3.2055 - val_loss: 1.6273 - val_MAPE: 585516992.0000 - val_MSE: 9.3025 - val_RMSE: 3.0500\n"
     ]
    }
   ],
   "source": [
    "model = keras.Sequential([\n",
    "    keras.layers.Dense(120, activation='relu', input_shape=X_train_scal.shape[1:]),\n",
    "    keras.layers.Dense(60, activation='relu'),\n",
    "    keras.layers.Dense(30, activation='relu'),\n",
    "    keras.layers.Dense(1, activation='relu')\n",
    "])\n",
    "\n",
    "model.compile(loss='mae', optimizer=keras.optimizers.Adam(), \n",
    "                metrics=[keras.metrics.MeanAbsolutePercentageError(name=\"MAPE\"),\n",
    "                        keras.metrics.MeanSquaredError(name='MSE'),\n",
    "                        keras.metrics.RootMeanSquaredError(name=\"RMSE\")\n",
    "                        ])\n",
    "\n",
    "checkpoint_cb = keras.callbacks.ModelCheckpoint(\"../models/light/callback_model.h5\")\n",
    "early_stopping_cb = keras.callbacks.EarlyStopping(monitor='val_loss', patience=10)\n",
    "\n",
    "history = model.fit(X_train_scal, y_train, epochs=1000, validation_split=0.2,\n",
    "                   callbacks = [early_stopping_cb, checkpoint_cb])"
   ]
  },
  {
   "cell_type": "code",
   "execution_count": 64,
   "metadata": {},
   "outputs": [
    {
     "name": "stdout",
     "output_type": "stream",
     "text": [
      "119/119 [==============================] - 0s 905us/step - loss: 1.6928 - MAPE: 660477440.0000 - MSE: 9.8652 - RMSE: 3.1409\n"
     ]
    }
   ],
   "source": [
    "rnn_score = model.evaluate(X_test_scal, y_test)\n"
   ]
  },
  {
   "cell_type": "code",
   "execution_count": 65,
   "metadata": {},
   "outputs": [],
   "source": [
    "MAE = rnn_score[0]\n",
    "MAPE = rnn_score[1]\n",
    "MSE = rnn_score[2]\n",
    "RMSE = rnn_score[3]"
   ]
  },
  {
   "cell_type": "code",
   "execution_count": 66,
   "metadata": {},
   "outputs": [],
   "source": [
    "score[\"rnn\"] = {\"MAE\": float(MAE), \"MAPE\": float(MAPE), \"MSE\": float(MSE), \"RMSE\": float(RMSE)}"
   ]
  },
  {
   "cell_type": "code",
   "execution_count": 67,
   "metadata": {},
   "outputs": [
    {
     "name": "stdout",
     "output_type": "stream",
     "text": [
      "MAE: 1.692815899848938\n",
      "MAPE: 660477440.0\n",
      "MSE: 9.865225791931152\n",
      "RMSE: 3.1408956050872803\n"
     ]
    }
   ],
   "source": [
    "print(\"MAE:\", MAE)\n",
    "print(\"MAPE:\", MAPE)\n",
    "print(\"MSE:\", MSE)\n",
    "print(\"RMSE:\", RMSE)"
   ]
  },
  {
   "cell_type": "code",
   "execution_count": 68,
   "metadata": {},
   "outputs": [],
   "source": [
    "model.save(\"../models/light/keras_model.h5\")"
   ]
  },
  {
   "attachments": {},
   "cell_type": "markdown",
   "metadata": {},
   "source": [
    "# Summary"
   ]
  },
  {
   "cell_type": "code",
   "execution_count": 69,
   "metadata": {},
   "outputs": [
    {
     "data": {
      "text/plain": [
       "{'plr': {'MAE': 3.2467069435958265,\n",
       "  'MAPE': 7004095373389749.0,\n",
       "  'MSE': 13.799166071534625,\n",
       "  'RMSE': 3.7147228795072484,\n",
       "  'R2_Train': 0.09087004581369929,\n",
       "  'R2_Test': 0.0888867232292091},\n",
       " 'rfr': {'MAE': 1.9697344492988944,\n",
       "  'MAPE': 3765549091930910.0,\n",
       "  'MSE': 7.873361350932763,\n",
       "  'RMSE': 2.8059510599675046,\n",
       "  'R2_Train': 0.7458270335035304,\n",
       "  'R2_Test': 0.48014800151969805},\n",
       " 'en': {'MAE': 3.246595346289047,\n",
       "  'MAPE': 7004934840557768.0,\n",
       "  'MSE': 13.798854211874849,\n",
       "  'RMSE': 3.71468090310256,\n",
       "  'R2_Train': 0.09086831420192742,\n",
       "  'R2_Test': 0.08890731429065712},\n",
       " 'svr': {'MAE': 2.6165454518650915,\n",
       "  'MAPE': 7929876991934449.0,\n",
       "  'MSE': 13.562201125332443,\n",
       "  'RMSE': 3.6826893875715943,\n",
       "  'R2_Train': 0.1265946515779437,\n",
       "  'R2_Test': 0.10453273455299872},\n",
       " 'abr': {'MAE': 2.8692849831811658,\n",
       "  'MAPE': 5450914049880007.0,\n",
       "  'MSE': 11.125554491444712,\n",
       "  'RMSE': 3.3354991367776896,\n",
       "  'R2_Train': 0.26273060311874397,\n",
       "  'R2_Test': 0.26541644936773545},\n",
       " 'gbr': {'MAE': 2.599231931125841,\n",
       "  'MAPE': 5248840333344701.0,\n",
       "  'MSE': 10.824721813705185,\n",
       "  'RMSE': 3.29009449920594,\n",
       "  'R2_Train': 0.26273060311874397,\n",
       "  'R2_Test': 0.26541644936773545},\n",
       " 'rnn': {'MAE': 1.692815899848938,\n",
       "  'MAPE': 660477440.0,\n",
       "  'MSE': 9.865225791931152,\n",
       "  'RMSE': 3.1408956050872803}}"
      ]
     },
     "execution_count": 69,
     "metadata": {},
     "output_type": "execute_result"
    }
   ],
   "source": [
    "score"
   ]
  },
  {
   "cell_type": "code",
   "execution_count": 70,
   "metadata": {},
   "outputs": [
    {
     "data": {
      "text/plain": [
       "{'plr': {'poli__degree': [2]},\n",
       " 'rfr': {'regressor__max_depth': [13],\n",
       "  'regressor__max_features': [6],\n",
       "  'regressor__min_samples_leaf': [3],\n",
       "  'regressor__n_estimators': [200]},\n",
       " 'en': {'regressor__alpha': [1.0],\n",
       "  'regressor__l1_ratio': [0.9],\n",
       "  'regressor__max_iter': [1000]},\n",
       " 'svr': {'regressor__C': [2],\n",
       "  'regressor__epsilon': [0.3],\n",
       "  'regressor__kernel': ['rbf']},\n",
       " 'ada': {'regressor__loss': ['linear'], 'regressor__n_estimators': [100]}}"
      ]
     },
     "execution_count": 70,
     "metadata": {},
     "output_type": "execute_result"
    }
   ],
   "source": [
    "parameter"
   ]
  },
  {
   "cell_type": "code",
   "execution_count": 71,
   "metadata": {},
   "outputs": [
    {
     "name": "stdout",
     "output_type": "stream",
     "text": [
      "YAML file write: OK\n"
     ]
    },
    {
     "data": {
      "text/plain": [
       "True"
      ]
     },
     "execution_count": 71,
     "metadata": {},
     "output_type": "execute_result"
    }
   ],
   "source": [
    "write_yaml(\"../models/light/model_config.yaml\", parameter)"
   ]
  },
  {
   "cell_type": "code",
   "execution_count": 72,
   "metadata": {},
   "outputs": [
    {
     "name": "stdout",
     "output_type": "stream",
     "text": [
      "YAML file write: OK\n"
     ]
    },
    {
     "data": {
      "text/plain": [
       "True"
      ]
     },
     "execution_count": 72,
     "metadata": {},
     "output_type": "execute_result"
    }
   ],
   "source": [
    "write_yaml(\"../models/light/score.yaml\", score)"
   ]
  },
  {
   "cell_type": "code",
   "execution_count": 73,
   "metadata": {},
   "outputs": [],
   "source": [
    "bee()"
   ]
  }
 ],
 "metadata": {
  "kernelspec": {
   "display_name": "Python 3",
   "language": "python",
   "name": "python3"
  },
  "language_info": {
   "codemirror_mode": {
    "name": "ipython",
    "version": 3
   },
   "file_extension": ".py",
   "mimetype": "text/x-python",
   "name": "python",
   "nbconvert_exporter": "python",
   "pygments_lexer": "ipython3",
   "version": "3.10.11"
  },
  "orig_nbformat": 4
 },
 "nbformat": 4,
 "nbformat_minor": 2
}
