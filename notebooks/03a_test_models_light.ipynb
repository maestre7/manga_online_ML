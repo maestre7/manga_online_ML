{
 "cells": [
  {
   "cell_type": "code",
   "execution_count": 1,
   "metadata": {},
   "outputs": [],
   "source": [
    "import numpy as np\n",
    "import pandas as pd\n",
    "import matplotlib.pyplot as plt\n",
    "from sklearn.preprocessing import PolynomialFeatures, StandardScaler\n",
    "from sklearn.linear_model import LinearRegression\n",
    "from sklearn.ensemble import RandomForestRegressor, AdaBoostRegressor\n",
    "from sklearn.linear_model import ElasticNet\n",
    "from sklearn.svm import SVR\n",
    "from sklearn.model_selection import GridSearchCV, train_test_split\n",
    "from sklearn.decomposition import PCA\n",
    "from sklearn.metrics import mean_absolute_error, mean_absolute_percentage_error, mean_squared_error\n",
    "from tensorflow import keras"
   ]
  },
  {
   "cell_type": "code",
   "execution_count": 2,
   "metadata": {},
   "outputs": [],
   "source": [
    "\n",
    "from time import sleep\n",
    "from winsound import Beep\n",
    "from pathlib import Path\n",
    "import yaml"
   ]
  },
  {
   "cell_type": "code",
   "execution_count": 3,
   "metadata": {},
   "outputs": [],
   "source": [
    "def write_yaml(file_path: str, data: object):\n",
    "    \"\"\"\n",
    "    Write data to a YAML file.\n",
    "\n",
    "    Args:\n",
    "        file_path (str): Path of the YAML file.\n",
    "        data (object): Data to write.\n",
    "\n",
    "    Returns:\n",
    "        bool: True if the file was written successfully, False otherwise.\n",
    "    \"\"\"\n",
    "    try:\n",
    "        with open(Path(file_path), \"w\") as f:\n",
    "            yaml.dump(data, f)\n",
    "        print(\"YAML file write: OK\")\n",
    "        return True\n",
    "    except (FileNotFoundError, IOError, yaml.YAMLError) as err:\n",
    "        print(f\"Failed to write YAML file {file_path}: {err}\")\n",
    "        return False"
   ]
  },
  {
   "cell_type": "code",
   "execution_count": 4,
   "metadata": {},
   "outputs": [],
   "source": [
    "def bee(r: int = 3, f: int = 2500, d: int = 1000, p: float = 1) -> None:\n",
    "    \"\"\"\n",
    "    Emits a series of sounds using the Beep function from the winsound library.\n",
    "\n",
    "    Args:\n",
    "        r (int): Number of sound repetitions (default: 3).\n",
    "        f (int): Sound frequency in Hz (default: 2500).\n",
    "        d (int): Sound duration in milliseconds (default: 1000).\n",
    "        p (float): Pause between each sound in seconds (default: 1).\n",
    "\n",
    "    Returns:\n",
    "        None\n",
    "    \"\"\"\n",
    "    \n",
    "    for n in range(r):\n",
    "        Beep(f, d)\n",
    "        sleep(p)"
   ]
  },
  {
   "attachments": {},
   "cell_type": "markdown",
   "metadata": {},
   "source": [
    "## Declaramos variables y cargamos los datos"
   ]
  },
  {
   "cell_type": "code",
   "execution_count": 11,
   "metadata": {},
   "outputs": [],
   "source": [
    "parameter = {}\n",
    "score = {}"
   ]
  },
  {
   "cell_type": "code",
   "execution_count": 5,
   "metadata": {},
   "outputs": [],
   "source": [
    "light_df = pd.read_csv(\"../data/processed/light.csv\", index_col=\"Unnamed: 0\")"
   ]
  },
  {
   "cell_type": "code",
   "execution_count": 13,
   "metadata": {},
   "outputs": [
    {
     "data": {
      "text/plain": [
       "Index(['score', 'read', 'pending', 'following', 'favorite', 'have',\n",
       "       'abandoned'],\n",
       "      dtype='object')"
      ]
     },
     "execution_count": 13,
     "metadata": {},
     "output_type": "execute_result"
    }
   ],
   "source": [
    "light_df.columns"
   ]
  },
  {
   "attachments": {},
   "cell_type": "markdown",
   "metadata": {},
   "source": [
    "# Preproceso"
   ]
  },
  {
   "cell_type": "code",
   "execution_count": 6,
   "metadata": {},
   "outputs": [],
   "source": [
    "X = light_df.drop(\"score\", axis=1)\n",
    "y = light_df[\"score\"]"
   ]
  },
  {
   "cell_type": "code",
   "execution_count": 7,
   "metadata": {},
   "outputs": [],
   "source": [
    "X_train, X_test, y_train, y_test = train_test_split(X, y, test_size=0.2, random_state=2)"
   ]
  },
  {
   "attachments": {},
   "cell_type": "markdown",
   "metadata": {},
   "source": [
    "### Scaler"
   ]
  },
  {
   "cell_type": "code",
   "execution_count": 8,
   "metadata": {},
   "outputs": [],
   "source": [
    "# Creo el scaler con los datos de train\n",
    "scal = StandardScaler() # Declaro el scaler\n",
    "scal.fit(X_train) # Lo \"entreno\". Calculo su media y std para cada feature\n",
    "X_train_scal = scal.transform(X_train) # Aplico el scaler y sobreescribo los datos de train\n",
    "\n",
    "# Aplico el mismo scaler con los datos de test\n",
    "X_test_scal = scal.transform(X_test)"
   ]
  },
  {
   "attachments": {},
   "cell_type": "markdown",
   "metadata": {},
   "source": [
    "\n",
    "### PCA\n"
   ]
  },
  {
   "cell_type": "code",
   "execution_count": 17,
   "metadata": {},
   "outputs": [],
   "source": [
    "# Aplicar PCA para reducir la dimensionalidad de los datos\n",
    "pca = PCA(n_components=len(light_df.columns)-1)\n",
    "# Ajustar y transformar los datos de entrenamiento utilizando PCA\n",
    "X_train_pca = pca.fit_transform(X_train)\n",
    "# Transformar los datos de prueba utilizando el modelo PCA ajustado previamente\n",
    "X_test_pca = pca.transform(X_test)"
   ]
  },
  {
   "cell_type": "code",
   "execution_count": 18,
   "metadata": {},
   "outputs": [
    {
     "data": {
      "text/plain": [
       "array([8.93206757e-01, 8.22762128e-02, 1.50791936e-02, 8.43948000e-03,\n",
       "       8.62272600e-04, 1.36084154e-04])"
      ]
     },
     "execution_count": 18,
     "metadata": {},
     "output_type": "execute_result"
    }
   ],
   "source": [
    "# Obtener la proporción de varianza explicada por cada componente principal\n",
    "pca.explained_variance_ratio_"
   ]
  },
  {
   "cell_type": "code",
   "execution_count": 19,
   "metadata": {},
   "outputs": [
    {
     "data": {
      "text/plain": [
       "array([0.89320676, 0.97548297, 0.99056216, 0.99900164, 0.99986392,\n",
       "       1.        ])"
      ]
     },
     "execution_count": 19,
     "metadata": {},
     "output_type": "execute_result"
    }
   ],
   "source": [
    "# Obtener la varianza explicada acumulada por cada componente principal\n",
    "pca.explained_variance_ratio_.cumsum()"
   ]
  },
  {
   "attachments": {},
   "cell_type": "markdown",
   "metadata": {},
   "source": [
    "# Polynomial + LinearRegression + PCA"
   ]
  },
  {
   "attachments": {},
   "cell_type": "markdown",
   "metadata": {},
   "source": [
    "- `poly_feats = PolynomialFeatures(degree=2)`: Se crea un objeto `PolynomialFeatures` con grado 2, lo que indica que se generarán características polinómicas hasta el segundo grado.\n",
    "\n",
    "- `poly_feats.fit(X)`: Se ajusta el objeto `PolynomialFeatures` a los datos de entrada `X`. Esto calcula los coeficientes necesarios para generar las características polinómicas.\n",
    "\n",
    "- `X_poly = poly_feats.transform(X)`: Se transforman los datos de entrada `X` utilizando el objeto `PolynomialFeatures` ajustado previamente. Esto agrega las características polinómicas al conjunto de datos original, generando así una representación de mayor dimensionalidad.\n",
    "\n",
    "- `lin_reg = LinearRegression()`: Se crea un objeto `LinearRegression` para realizar una regresión lineal.\n",
    "\n",
    "- `lin_reg.fit(X_train_pca, y_train)`: Se ajusta el modelo de regresión lineal utilizando los datos de entrenamiento con componentes principales `X_train_pca` y las etiquetas correspondientes `y_train`. Esto encuentra los coeficientes óptimos para la línea de regresión.\n"
   ]
  },
  {
   "cell_type": "code",
   "execution_count": 20,
   "metadata": {},
   "outputs": [
    {
     "data": {
      "text/html": [
       "<style>#sk-container-id-1 {color: black;background-color: white;}#sk-container-id-1 pre{padding: 0;}#sk-container-id-1 div.sk-toggleable {background-color: white;}#sk-container-id-1 label.sk-toggleable__label {cursor: pointer;display: block;width: 100%;margin-bottom: 0;padding: 0.3em;box-sizing: border-box;text-align: center;}#sk-container-id-1 label.sk-toggleable__label-arrow:before {content: \"▸\";float: left;margin-right: 0.25em;color: #696969;}#sk-container-id-1 label.sk-toggleable__label-arrow:hover:before {color: black;}#sk-container-id-1 div.sk-estimator:hover label.sk-toggleable__label-arrow:before {color: black;}#sk-container-id-1 div.sk-toggleable__content {max-height: 0;max-width: 0;overflow: hidden;text-align: left;background-color: #f0f8ff;}#sk-container-id-1 div.sk-toggleable__content pre {margin: 0.2em;color: black;border-radius: 0.25em;background-color: #f0f8ff;}#sk-container-id-1 input.sk-toggleable__control:checked~div.sk-toggleable__content {max-height: 200px;max-width: 100%;overflow: auto;}#sk-container-id-1 input.sk-toggleable__control:checked~label.sk-toggleable__label-arrow:before {content: \"▾\";}#sk-container-id-1 div.sk-estimator input.sk-toggleable__control:checked~label.sk-toggleable__label {background-color: #d4ebff;}#sk-container-id-1 div.sk-label input.sk-toggleable__control:checked~label.sk-toggleable__label {background-color: #d4ebff;}#sk-container-id-1 input.sk-hidden--visually {border: 0;clip: rect(1px 1px 1px 1px);clip: rect(1px, 1px, 1px, 1px);height: 1px;margin: -1px;overflow: hidden;padding: 0;position: absolute;width: 1px;}#sk-container-id-1 div.sk-estimator {font-family: monospace;background-color: #f0f8ff;border: 1px dotted black;border-radius: 0.25em;box-sizing: border-box;margin-bottom: 0.5em;}#sk-container-id-1 div.sk-estimator:hover {background-color: #d4ebff;}#sk-container-id-1 div.sk-parallel-item::after {content: \"\";width: 100%;border-bottom: 1px solid gray;flex-grow: 1;}#sk-container-id-1 div.sk-label:hover label.sk-toggleable__label {background-color: #d4ebff;}#sk-container-id-1 div.sk-serial::before {content: \"\";position: absolute;border-left: 1px solid gray;box-sizing: border-box;top: 0;bottom: 0;left: 50%;z-index: 0;}#sk-container-id-1 div.sk-serial {display: flex;flex-direction: column;align-items: center;background-color: white;padding-right: 0.2em;padding-left: 0.2em;position: relative;}#sk-container-id-1 div.sk-item {position: relative;z-index: 1;}#sk-container-id-1 div.sk-parallel {display: flex;align-items: stretch;justify-content: center;background-color: white;position: relative;}#sk-container-id-1 div.sk-item::before, #sk-container-id-1 div.sk-parallel-item::before {content: \"\";position: absolute;border-left: 1px solid gray;box-sizing: border-box;top: 0;bottom: 0;left: 50%;z-index: -1;}#sk-container-id-1 div.sk-parallel-item {display: flex;flex-direction: column;z-index: 1;position: relative;background-color: white;}#sk-container-id-1 div.sk-parallel-item:first-child::after {align-self: flex-end;width: 50%;}#sk-container-id-1 div.sk-parallel-item:last-child::after {align-self: flex-start;width: 50%;}#sk-container-id-1 div.sk-parallel-item:only-child::after {width: 0;}#sk-container-id-1 div.sk-dashed-wrapped {border: 1px dashed gray;margin: 0 0.4em 0.5em 0.4em;box-sizing: border-box;padding-bottom: 0.4em;background-color: white;}#sk-container-id-1 div.sk-label label {font-family: monospace;font-weight: bold;display: inline-block;line-height: 1.2em;}#sk-container-id-1 div.sk-label-container {text-align: center;}#sk-container-id-1 div.sk-container {/* jupyter's `normalize.less` sets `[hidden] { display: none; }` but bootstrap.min.css set `[hidden] { display: none !important; }` so we also need the `!important` here to be able to override the default hidden behavior on the sphinx rendered scikit-learn.org. See: https://github.com/scikit-learn/scikit-learn/issues/21755 */display: inline-block !important;position: relative;}#sk-container-id-1 div.sk-text-repr-fallback {display: none;}</style><div id=\"sk-container-id-1\" class=\"sk-top-container\"><div class=\"sk-text-repr-fallback\"><pre>LinearRegression()</pre><b>In a Jupyter environment, please rerun this cell to show the HTML representation or trust the notebook. <br />On GitHub, the HTML representation is unable to render, please try loading this page with nbviewer.org.</b></div><div class=\"sk-container\" hidden><div class=\"sk-item\"><div class=\"sk-estimator sk-toggleable\"><input class=\"sk-toggleable__control sk-hidden--visually\" id=\"sk-estimator-id-1\" type=\"checkbox\" checked><label for=\"sk-estimator-id-1\" class=\"sk-toggleable__label sk-toggleable__label-arrow\">LinearRegression</label><div class=\"sk-toggleable__content\"><pre>LinearRegression()</pre></div></div></div></div></div>"
      ],
      "text/plain": [
       "LinearRegression()"
      ]
     },
     "execution_count": 20,
     "metadata": {},
     "output_type": "execute_result"
    }
   ],
   "source": [
    "# Crear un objeto PolynomialFeatures para generar características polinómicas de grado 2\n",
    "poly_feats = PolynomialFeatures(degree=2)\n",
    "\n",
    "# Ajustar PolynomialFeatures a los datos de entrada X\n",
    "poly_feats.fit(X)\n",
    "\n",
    "# Transformar los datos de entrada X para incluir características polinómicas\n",
    "X_poly = poly_feats.transform(X)\n",
    "\n",
    "# Crear un objeto LinearRegression para realizar una regresión lineal\n",
    "lin_reg = LinearRegression()\n",
    "\n",
    "# Ajustar el modelo de regresión lineal utilizando los datos de entrenamiento con componentes principales\n",
    "lin_reg.fit(X_train_pca, y_train)\n"
   ]
  },
  {
   "cell_type": "code",
   "execution_count": 21,
   "metadata": {},
   "outputs": [],
   "source": [
    "parameter[\"plr\"] = {\"poli__degree\": [2]}"
   ]
  },
  {
   "cell_type": "code",
   "execution_count": 22,
   "metadata": {},
   "outputs": [],
   "source": [
    "predictions = lin_reg.predict(X_test_pca)"
   ]
  },
  {
   "cell_type": "code",
   "execution_count": 23,
   "metadata": {},
   "outputs": [],
   "source": [
    "MAE = mean_absolute_error(y_test, predictions)\n",
    "MAPE = mean_absolute_percentage_error(y_test, predictions)\n",
    "MSE = mean_squared_error(y_test, predictions)\n",
    "RMSE = np.sqrt(mean_squared_error(y_test, predictions))\n",
    "R2_Train = lin_reg.score(X_train_pca, y_train)\n",
    "R2_Test = lin_reg.score(X_test_pca, y_test)"
   ]
  },
  {
   "cell_type": "code",
   "execution_count": 24,
   "metadata": {},
   "outputs": [],
   "source": [
    "score[\"plr\"] = {\"MAE\": float(MAE), \"MAPE\": float(MAPE), \"MSE\": float(MSE), \n",
    "                \"RMSE\": float(RMSE), \"R2_Train\": float(R2_Train), \"R2_Test\": float(R2_Test)}"
   ]
  },
  {
   "cell_type": "code",
   "execution_count": 25,
   "metadata": {},
   "outputs": [
    {
     "name": "stdout",
     "output_type": "stream",
     "text": [
      "MAE: 3.2467069435958265\n",
      "MAPE: 7004095373389749.0\n",
      "MSE: 13.799166071534625\n",
      "RMSE: 3.7147228795072484\n",
      "R2_Train: 0.09087004581369929\n",
      "R2_Test: 0.0888867232292091\n"
     ]
    }
   ],
   "source": [
    "print(\"MAE:\", MAE)\n",
    "print(\"MAPE:\", MAPE)\n",
    "print(\"MSE:\", MSE)\n",
    "print(\"RMSE:\", RMSE)\n",
    "print(\"R2_Train:\", R2_Train)\n",
    "print(\"R2_Test:\", R2_Test)"
   ]
  },
  {
   "attachments": {},
   "cell_type": "markdown",
   "metadata": {},
   "source": [
    "# RandomForestRegressor"
   ]
  },
  {
   "attachments": {},
   "cell_type": "markdown",
   "metadata": {},
   "source": [
    "- `model = RandomForestRegressor(random_state=10)`: Se crea un objeto `RandomForestRegressor` con un estado aleatorio de 10. Este modelo se utiliza para realizar una regresión utilizando un conjunto de árboles de decisión.\n",
    "\n",
    "- `parameters = {...}`: Se definen los parámetros para la búsqueda de hiperparámetros. En este caso, se especifican diferentes valores para los hiperparámetros como el número de estimadores (`n_estimators`), la profundidad máxima del árbol (`max_depth`), el número mínimo de muestras en las hojas del árbol (`min_samples_leaf`) y el número máximo de características a considerar en cada división (`max_features`).\n",
    "\n",
    "- `dtr_gs = GridSearchCV(model, parameters, cv=5, scoring=\"neg_mean_absolute_error\", n_jobs=-1)`: Se crea un objeto `GridSearchCV` para realizar una búsqueda exhaustiva de los mejores hiperparámetros para el modelo de regresión utilizando validación cruzada. Se especifica el modelo (`model`), los parámetros a buscar (`parameters`), el número de divisiones de la validación cruzada (`cv=5`), la métrica de evaluación (`scoring=\"neg_mean_absolute_error\"`) y el número de trabajos en paralelo (`n_jobs=-1`) para acelerar el proceso de búsqueda.\n"
   ]
  },
  {
   "cell_type": "code",
   "execution_count": 26,
   "metadata": {},
   "outputs": [],
   "source": [
    "# Crear un objeto RandomForestRegressor con un estado aleatorio de 10\n",
    "model = RandomForestRegressor(random_state=10)\n",
    "\n",
    "# Definir los parámetros para la búsqueda de hiperparámetros\n",
    "parameters = {\n",
    "    \"n_estimators\": [150, 200],\n",
    "    \"max_depth\": [13],\n",
    "    \"min_samples_leaf\": [2, 3, 4],\n",
    "    \"max_features\": [6]\n",
    "}\n",
    "\n",
    "# Crear un objeto GridSearchCV para realizar una búsqueda exhaustiva de hiperparámetros\n",
    "dtr_gs = GridSearchCV(model, parameters, cv=5, scoring=\"neg_mean_absolute_error\", n_jobs=-1)\n"
   ]
  },
  {
   "cell_type": "code",
   "execution_count": 27,
   "metadata": {},
   "outputs": [
    {
     "data": {
      "text/html": [
       "<style>#sk-container-id-2 {color: black;background-color: white;}#sk-container-id-2 pre{padding: 0;}#sk-container-id-2 div.sk-toggleable {background-color: white;}#sk-container-id-2 label.sk-toggleable__label {cursor: pointer;display: block;width: 100%;margin-bottom: 0;padding: 0.3em;box-sizing: border-box;text-align: center;}#sk-container-id-2 label.sk-toggleable__label-arrow:before {content: \"▸\";float: left;margin-right: 0.25em;color: #696969;}#sk-container-id-2 label.sk-toggleable__label-arrow:hover:before {color: black;}#sk-container-id-2 div.sk-estimator:hover label.sk-toggleable__label-arrow:before {color: black;}#sk-container-id-2 div.sk-toggleable__content {max-height: 0;max-width: 0;overflow: hidden;text-align: left;background-color: #f0f8ff;}#sk-container-id-2 div.sk-toggleable__content pre {margin: 0.2em;color: black;border-radius: 0.25em;background-color: #f0f8ff;}#sk-container-id-2 input.sk-toggleable__control:checked~div.sk-toggleable__content {max-height: 200px;max-width: 100%;overflow: auto;}#sk-container-id-2 input.sk-toggleable__control:checked~label.sk-toggleable__label-arrow:before {content: \"▾\";}#sk-container-id-2 div.sk-estimator input.sk-toggleable__control:checked~label.sk-toggleable__label {background-color: #d4ebff;}#sk-container-id-2 div.sk-label input.sk-toggleable__control:checked~label.sk-toggleable__label {background-color: #d4ebff;}#sk-container-id-2 input.sk-hidden--visually {border: 0;clip: rect(1px 1px 1px 1px);clip: rect(1px, 1px, 1px, 1px);height: 1px;margin: -1px;overflow: hidden;padding: 0;position: absolute;width: 1px;}#sk-container-id-2 div.sk-estimator {font-family: monospace;background-color: #f0f8ff;border: 1px dotted black;border-radius: 0.25em;box-sizing: border-box;margin-bottom: 0.5em;}#sk-container-id-2 div.sk-estimator:hover {background-color: #d4ebff;}#sk-container-id-2 div.sk-parallel-item::after {content: \"\";width: 100%;border-bottom: 1px solid gray;flex-grow: 1;}#sk-container-id-2 div.sk-label:hover label.sk-toggleable__label {background-color: #d4ebff;}#sk-container-id-2 div.sk-serial::before {content: \"\";position: absolute;border-left: 1px solid gray;box-sizing: border-box;top: 0;bottom: 0;left: 50%;z-index: 0;}#sk-container-id-2 div.sk-serial {display: flex;flex-direction: column;align-items: center;background-color: white;padding-right: 0.2em;padding-left: 0.2em;position: relative;}#sk-container-id-2 div.sk-item {position: relative;z-index: 1;}#sk-container-id-2 div.sk-parallel {display: flex;align-items: stretch;justify-content: center;background-color: white;position: relative;}#sk-container-id-2 div.sk-item::before, #sk-container-id-2 div.sk-parallel-item::before {content: \"\";position: absolute;border-left: 1px solid gray;box-sizing: border-box;top: 0;bottom: 0;left: 50%;z-index: -1;}#sk-container-id-2 div.sk-parallel-item {display: flex;flex-direction: column;z-index: 1;position: relative;background-color: white;}#sk-container-id-2 div.sk-parallel-item:first-child::after {align-self: flex-end;width: 50%;}#sk-container-id-2 div.sk-parallel-item:last-child::after {align-self: flex-start;width: 50%;}#sk-container-id-2 div.sk-parallel-item:only-child::after {width: 0;}#sk-container-id-2 div.sk-dashed-wrapped {border: 1px dashed gray;margin: 0 0.4em 0.5em 0.4em;box-sizing: border-box;padding-bottom: 0.4em;background-color: white;}#sk-container-id-2 div.sk-label label {font-family: monospace;font-weight: bold;display: inline-block;line-height: 1.2em;}#sk-container-id-2 div.sk-label-container {text-align: center;}#sk-container-id-2 div.sk-container {/* jupyter's `normalize.less` sets `[hidden] { display: none; }` but bootstrap.min.css set `[hidden] { display: none !important; }` so we also need the `!important` here to be able to override the default hidden behavior on the sphinx rendered scikit-learn.org. See: https://github.com/scikit-learn/scikit-learn/issues/21755 */display: inline-block !important;position: relative;}#sk-container-id-2 div.sk-text-repr-fallback {display: none;}</style><div id=\"sk-container-id-2\" class=\"sk-top-container\"><div class=\"sk-text-repr-fallback\"><pre>GridSearchCV(cv=5, estimator=RandomForestRegressor(random_state=10), n_jobs=-1,\n",
       "             param_grid={&#x27;max_depth&#x27;: [13], &#x27;max_features&#x27;: [6],\n",
       "                         &#x27;min_samples_leaf&#x27;: [2, 3, 4],\n",
       "                         &#x27;n_estimators&#x27;: [150, 200]},\n",
       "             scoring=&#x27;neg_mean_absolute_error&#x27;)</pre><b>In a Jupyter environment, please rerun this cell to show the HTML representation or trust the notebook. <br />On GitHub, the HTML representation is unable to render, please try loading this page with nbviewer.org.</b></div><div class=\"sk-container\" hidden><div class=\"sk-item sk-dashed-wrapped\"><div class=\"sk-label-container\"><div class=\"sk-label sk-toggleable\"><input class=\"sk-toggleable__control sk-hidden--visually\" id=\"sk-estimator-id-2\" type=\"checkbox\" ><label for=\"sk-estimator-id-2\" class=\"sk-toggleable__label sk-toggleable__label-arrow\">GridSearchCV</label><div class=\"sk-toggleable__content\"><pre>GridSearchCV(cv=5, estimator=RandomForestRegressor(random_state=10), n_jobs=-1,\n",
       "             param_grid={&#x27;max_depth&#x27;: [13], &#x27;max_features&#x27;: [6],\n",
       "                         &#x27;min_samples_leaf&#x27;: [2, 3, 4],\n",
       "                         &#x27;n_estimators&#x27;: [150, 200]},\n",
       "             scoring=&#x27;neg_mean_absolute_error&#x27;)</pre></div></div></div><div class=\"sk-parallel\"><div class=\"sk-parallel-item\"><div class=\"sk-item\"><div class=\"sk-label-container\"><div class=\"sk-label sk-toggleable\"><input class=\"sk-toggleable__control sk-hidden--visually\" id=\"sk-estimator-id-3\" type=\"checkbox\" ><label for=\"sk-estimator-id-3\" class=\"sk-toggleable__label sk-toggleable__label-arrow\">estimator: RandomForestRegressor</label><div class=\"sk-toggleable__content\"><pre>RandomForestRegressor(random_state=10)</pre></div></div></div><div class=\"sk-serial\"><div class=\"sk-item\"><div class=\"sk-estimator sk-toggleable\"><input class=\"sk-toggleable__control sk-hidden--visually\" id=\"sk-estimator-id-4\" type=\"checkbox\" ><label for=\"sk-estimator-id-4\" class=\"sk-toggleable__label sk-toggleable__label-arrow\">RandomForestRegressor</label><div class=\"sk-toggleable__content\"><pre>RandomForestRegressor(random_state=10)</pre></div></div></div></div></div></div></div></div></div></div>"
      ],
      "text/plain": [
       "GridSearchCV(cv=5, estimator=RandomForestRegressor(random_state=10), n_jobs=-1,\n",
       "             param_grid={'max_depth': [13], 'max_features': [6],\n",
       "                         'min_samples_leaf': [2, 3, 4],\n",
       "                         'n_estimators': [150, 200]},\n",
       "             scoring='neg_mean_absolute_error')"
      ]
     },
     "execution_count": 27,
     "metadata": {},
     "output_type": "execute_result"
    }
   ],
   "source": [
    "dtr_gs.fit(X_train, y_train)"
   ]
  },
  {
   "cell_type": "code",
   "execution_count": 28,
   "metadata": {},
   "outputs": [],
   "source": [
    "best_params = {}\n",
    "[best_params.update({f\"regressor__{key}\": [value]}) for key, value in dtr_gs.best_params_.items()]\n",
    "parameter[\"rfr\"] = best_params"
   ]
  },
  {
   "cell_type": "code",
   "execution_count": 29,
   "metadata": {},
   "outputs": [],
   "source": [
    "feature_importances = dtr_gs.best_estimator_.feature_importances_\n",
    "feature_importances_dict = dict(zip(X.columns, feature_importances))\n",
    "feature_importances_sort = sorted(feature_importances_dict.items(), key=lambda x:x[1], reverse=True)"
   ]
  },
  {
   "cell_type": "code",
   "execution_count": 30,
   "metadata": {},
   "outputs": [
    {
     "data": {
      "text/plain": [
       "[('read', 0.3206341519710045),\n",
       " ('pending', 0.2104954006991117),\n",
       " ('have', 0.17143599168985102),\n",
       " ('favorite', 0.15412935629268562),\n",
       " ('abandoned', 0.07765032216647938),\n",
       " ('following', 0.06565477718086776)]"
      ]
     },
     "execution_count": 30,
     "metadata": {},
     "output_type": "execute_result"
    }
   ],
   "source": [
    "feature_importances_sort"
   ]
  },
  {
   "cell_type": "code",
   "execution_count": 31,
   "metadata": {},
   "outputs": [],
   "source": [
    "predictions = dtr_gs.predict(X_test)"
   ]
  },
  {
   "cell_type": "code",
   "execution_count": 32,
   "metadata": {},
   "outputs": [],
   "source": [
    "MAE = mean_absolute_error(y_test, predictions)\n",
    "MAPE = mean_absolute_percentage_error(y_test, predictions)\n",
    "MSE = mean_squared_error(y_test, predictions)\n",
    "RMSE = np.sqrt(mean_squared_error(y_test, predictions))\n",
    "R2_Train = dtr_gs.best_estimator_.score(X_train, y_train)\n",
    "R2_Test = dtr_gs.best_estimator_.score(X_test, y_test)"
   ]
  },
  {
   "cell_type": "code",
   "execution_count": 33,
   "metadata": {},
   "outputs": [],
   "source": [
    "score[\"rfr\"] = {\"MAE\": float(MAE), \"MAPE\": float(MAPE), \"MSE\": float(MSE), \"RMSE\": float(RMSE),\n",
    "                \"R2_Train\": float(R2_Train), \"R2_Test\": float(R2_Test)}"
   ]
  },
  {
   "cell_type": "code",
   "execution_count": 34,
   "metadata": {},
   "outputs": [
    {
     "name": "stdout",
     "output_type": "stream",
     "text": [
      "MAE: 1.9697344492988944\n",
      "MAPE: 3765549091930910.0\n",
      "MSE: 7.873361350932763\n",
      "RMSE: 2.8059510599675046\n",
      "R2_Train: 0.7458270335035304\n",
      "R2_Test: 0.48014800151969805\n"
     ]
    }
   ],
   "source": [
    "print(\"MAE:\", MAE)\n",
    "print(\"MAPE:\", MAPE)\n",
    "print(\"MSE:\", MSE)\n",
    "print(\"RMSE:\", RMSE)\n",
    "print(\"R2_Train:\", R2_Train)\n",
    "print(\"R2_Test:\", R2_Test)"
   ]
  },
  {
   "attachments": {},
   "cell_type": "markdown",
   "metadata": {},
   "source": [
    "# ElasticNet"
   ]
  },
  {
   "attachments": {},
   "cell_type": "markdown",
   "metadata": {},
   "source": [
    "- `model = ElasticNet()`: Se crea un objeto `ElasticNet`. Este modelo combina la regularización L1 y L2 para realizar una regresión lineal con términos de penalización tanto en los coeficientes como en su magnitud.\n",
    "\n",
    "- `parameters = {...}`: Se definen los parámetros para la búsqueda de hiperparámetros. En este caso, se especifican diferentes valores para los hiperparámetros `alpha`, que controla la fuerza de la regularización, `l1_ratio`, que determina la mezcla entre la regularización L1 y L2, y `max_iter`, que indica el número máximo de iteraciones del algoritmo de optimización.\n",
    "\n",
    "- `dtr_gs = GridSearchCV(model, parameters, cv=5, scoring=\"neg_mean_absolute_error\", n_jobs=-1)`: Se crea un objeto `GridSearchCV` para realizar una búsqueda exhaustiva de los mejores hiperparámetros para el modelo ElasticNet utilizando validación cruzada. Se especifica el modelo (`model`), los parámetros a buscar (`parameters`), el número de divisiones de la validación cruzada (`cv=5`), la métrica de evaluación (`scoring=\"neg_mean_absolute_error\"`) y el número de trabajos en paralelo (`n_jobs=-1`) para acelerar el proceso de búsqueda.\n"
   ]
  },
  {
   "cell_type": "code",
   "execution_count": 35,
   "metadata": {},
   "outputs": [],
   "source": [
    "# Crear un objeto ElasticNet\n",
    "model = ElasticNet()\n",
    "\n",
    "# Definir los parámetros para la búsqueda de hiperparámetros\n",
    "parameters = {\n",
    "    \"alpha\": [0.1, 0.5, 1.0],\n",
    "    \"l1_ratio\": [0.3, 0.5, 0.7, 0.9],\n",
    "    \"max_iter\": [1000, 2000]\n",
    "}\n",
    "\n",
    "# Crear un objeto GridSearchCV para realizar una búsqueda exhaustiva de hiperparámetros\n",
    "dtr_gs = GridSearchCV(model, parameters, cv=5, scoring=\"neg_mean_absolute_error\", n_jobs=-1)\n"
   ]
  },
  {
   "cell_type": "code",
   "execution_count": 36,
   "metadata": {},
   "outputs": [
    {
     "data": {
      "text/html": [
       "<style>#sk-container-id-3 {color: black;background-color: white;}#sk-container-id-3 pre{padding: 0;}#sk-container-id-3 div.sk-toggleable {background-color: white;}#sk-container-id-3 label.sk-toggleable__label {cursor: pointer;display: block;width: 100%;margin-bottom: 0;padding: 0.3em;box-sizing: border-box;text-align: center;}#sk-container-id-3 label.sk-toggleable__label-arrow:before {content: \"▸\";float: left;margin-right: 0.25em;color: #696969;}#sk-container-id-3 label.sk-toggleable__label-arrow:hover:before {color: black;}#sk-container-id-3 div.sk-estimator:hover label.sk-toggleable__label-arrow:before {color: black;}#sk-container-id-3 div.sk-toggleable__content {max-height: 0;max-width: 0;overflow: hidden;text-align: left;background-color: #f0f8ff;}#sk-container-id-3 div.sk-toggleable__content pre {margin: 0.2em;color: black;border-radius: 0.25em;background-color: #f0f8ff;}#sk-container-id-3 input.sk-toggleable__control:checked~div.sk-toggleable__content {max-height: 200px;max-width: 100%;overflow: auto;}#sk-container-id-3 input.sk-toggleable__control:checked~label.sk-toggleable__label-arrow:before {content: \"▾\";}#sk-container-id-3 div.sk-estimator input.sk-toggleable__control:checked~label.sk-toggleable__label {background-color: #d4ebff;}#sk-container-id-3 div.sk-label input.sk-toggleable__control:checked~label.sk-toggleable__label {background-color: #d4ebff;}#sk-container-id-3 input.sk-hidden--visually {border: 0;clip: rect(1px 1px 1px 1px);clip: rect(1px, 1px, 1px, 1px);height: 1px;margin: -1px;overflow: hidden;padding: 0;position: absolute;width: 1px;}#sk-container-id-3 div.sk-estimator {font-family: monospace;background-color: #f0f8ff;border: 1px dotted black;border-radius: 0.25em;box-sizing: border-box;margin-bottom: 0.5em;}#sk-container-id-3 div.sk-estimator:hover {background-color: #d4ebff;}#sk-container-id-3 div.sk-parallel-item::after {content: \"\";width: 100%;border-bottom: 1px solid gray;flex-grow: 1;}#sk-container-id-3 div.sk-label:hover label.sk-toggleable__label {background-color: #d4ebff;}#sk-container-id-3 div.sk-serial::before {content: \"\";position: absolute;border-left: 1px solid gray;box-sizing: border-box;top: 0;bottom: 0;left: 50%;z-index: 0;}#sk-container-id-3 div.sk-serial {display: flex;flex-direction: column;align-items: center;background-color: white;padding-right: 0.2em;padding-left: 0.2em;position: relative;}#sk-container-id-3 div.sk-item {position: relative;z-index: 1;}#sk-container-id-3 div.sk-parallel {display: flex;align-items: stretch;justify-content: center;background-color: white;position: relative;}#sk-container-id-3 div.sk-item::before, #sk-container-id-3 div.sk-parallel-item::before {content: \"\";position: absolute;border-left: 1px solid gray;box-sizing: border-box;top: 0;bottom: 0;left: 50%;z-index: -1;}#sk-container-id-3 div.sk-parallel-item {display: flex;flex-direction: column;z-index: 1;position: relative;background-color: white;}#sk-container-id-3 div.sk-parallel-item:first-child::after {align-self: flex-end;width: 50%;}#sk-container-id-3 div.sk-parallel-item:last-child::after {align-self: flex-start;width: 50%;}#sk-container-id-3 div.sk-parallel-item:only-child::after {width: 0;}#sk-container-id-3 div.sk-dashed-wrapped {border: 1px dashed gray;margin: 0 0.4em 0.5em 0.4em;box-sizing: border-box;padding-bottom: 0.4em;background-color: white;}#sk-container-id-3 div.sk-label label {font-family: monospace;font-weight: bold;display: inline-block;line-height: 1.2em;}#sk-container-id-3 div.sk-label-container {text-align: center;}#sk-container-id-3 div.sk-container {/* jupyter's `normalize.less` sets `[hidden] { display: none; }` but bootstrap.min.css set `[hidden] { display: none !important; }` so we also need the `!important` here to be able to override the default hidden behavior on the sphinx rendered scikit-learn.org. See: https://github.com/scikit-learn/scikit-learn/issues/21755 */display: inline-block !important;position: relative;}#sk-container-id-3 div.sk-text-repr-fallback {display: none;}</style><div id=\"sk-container-id-3\" class=\"sk-top-container\"><div class=\"sk-text-repr-fallback\"><pre>GridSearchCV(cv=5, estimator=ElasticNet(), n_jobs=-1,\n",
       "             param_grid={&#x27;alpha&#x27;: [0.1, 0.5, 1.0],\n",
       "                         &#x27;l1_ratio&#x27;: [0.3, 0.5, 0.7, 0.9],\n",
       "                         &#x27;max_iter&#x27;: [1000, 2000]},\n",
       "             scoring=&#x27;neg_mean_absolute_error&#x27;)</pre><b>In a Jupyter environment, please rerun this cell to show the HTML representation or trust the notebook. <br />On GitHub, the HTML representation is unable to render, please try loading this page with nbviewer.org.</b></div><div class=\"sk-container\" hidden><div class=\"sk-item sk-dashed-wrapped\"><div class=\"sk-label-container\"><div class=\"sk-label sk-toggleable\"><input class=\"sk-toggleable__control sk-hidden--visually\" id=\"sk-estimator-id-5\" type=\"checkbox\" ><label for=\"sk-estimator-id-5\" class=\"sk-toggleable__label sk-toggleable__label-arrow\">GridSearchCV</label><div class=\"sk-toggleable__content\"><pre>GridSearchCV(cv=5, estimator=ElasticNet(), n_jobs=-1,\n",
       "             param_grid={&#x27;alpha&#x27;: [0.1, 0.5, 1.0],\n",
       "                         &#x27;l1_ratio&#x27;: [0.3, 0.5, 0.7, 0.9],\n",
       "                         &#x27;max_iter&#x27;: [1000, 2000]},\n",
       "             scoring=&#x27;neg_mean_absolute_error&#x27;)</pre></div></div></div><div class=\"sk-parallel\"><div class=\"sk-parallel-item\"><div class=\"sk-item\"><div class=\"sk-label-container\"><div class=\"sk-label sk-toggleable\"><input class=\"sk-toggleable__control sk-hidden--visually\" id=\"sk-estimator-id-6\" type=\"checkbox\" ><label for=\"sk-estimator-id-6\" class=\"sk-toggleable__label sk-toggleable__label-arrow\">estimator: ElasticNet</label><div class=\"sk-toggleable__content\"><pre>ElasticNet()</pre></div></div></div><div class=\"sk-serial\"><div class=\"sk-item\"><div class=\"sk-estimator sk-toggleable\"><input class=\"sk-toggleable__control sk-hidden--visually\" id=\"sk-estimator-id-7\" type=\"checkbox\" ><label for=\"sk-estimator-id-7\" class=\"sk-toggleable__label sk-toggleable__label-arrow\">ElasticNet</label><div class=\"sk-toggleable__content\"><pre>ElasticNet()</pre></div></div></div></div></div></div></div></div></div></div>"
      ],
      "text/plain": [
       "GridSearchCV(cv=5, estimator=ElasticNet(), n_jobs=-1,\n",
       "             param_grid={'alpha': [0.1, 0.5, 1.0],\n",
       "                         'l1_ratio': [0.3, 0.5, 0.7, 0.9],\n",
       "                         'max_iter': [1000, 2000]},\n",
       "             scoring='neg_mean_absolute_error')"
      ]
     },
     "execution_count": 36,
     "metadata": {},
     "output_type": "execute_result"
    }
   ],
   "source": [
    "dtr_gs.fit(X_train, y_train)"
   ]
  },
  {
   "cell_type": "code",
   "execution_count": 37,
   "metadata": {},
   "outputs": [],
   "source": [
    "best_params = {}\n",
    "[best_params.update({f\"regressor__{key}\": [value]}) for key, value in dtr_gs.best_params_.items()]\n",
    "parameter[\"en\"] = best_params"
   ]
  },
  {
   "cell_type": "code",
   "execution_count": 38,
   "metadata": {},
   "outputs": [],
   "source": [
    "predictions = dtr_gs.predict(X_test)"
   ]
  },
  {
   "cell_type": "code",
   "execution_count": 39,
   "metadata": {},
   "outputs": [],
   "source": [
    "MAE = mean_absolute_error(y_test, predictions)\n",
    "MAPE = mean_absolute_percentage_error(y_test, predictions)\n",
    "MSE = mean_squared_error(y_test, predictions)\n",
    "RMSE = np.sqrt(mean_squared_error(y_test, predictions))\n",
    "R2_Train = dtr_gs.best_estimator_.score(X_train, y_train)\n",
    "R2_Test = dtr_gs.best_estimator_.score(X_test, y_test)"
   ]
  },
  {
   "cell_type": "code",
   "execution_count": 40,
   "metadata": {},
   "outputs": [],
   "source": [
    "score[\"en\"] = {\"MAE\": float(MAE), \"MAPE\": float(MAPE), \"MSE\": float(MSE), \"RMSE\": float(RMSE), \n",
    "                \"R2_Train\": float(R2_Train), \"R2_Test\": float(R2_Test)}"
   ]
  },
  {
   "cell_type": "code",
   "execution_count": 41,
   "metadata": {},
   "outputs": [
    {
     "name": "stdout",
     "output_type": "stream",
     "text": [
      "MAE: 3.246595346289047\n",
      "MAPE: 7004934840557768.0\n",
      "MSE: 13.798854211874849\n",
      "RMSE: 3.71468090310256\n",
      "R2_Train: 0.09086831420192742\n",
      "R2_Test: 0.08890731429065712\n"
     ]
    }
   ],
   "source": [
    "print(\"MAE:\", MAE)\n",
    "print(\"MAPE:\", MAPE)\n",
    "print(\"MSE:\", MSE)\n",
    "print(\"RMSE:\", RMSE)\n",
    "print(\"R2_Train:\", R2_Train)\n",
    "print(\"R2_Test:\", R2_Test)"
   ]
  },
  {
   "attachments": {},
   "cell_type": "markdown",
   "metadata": {},
   "source": [
    "# Support Vector Regression (SVR)"
   ]
  },
  {
   "attachments": {},
   "cell_type": "markdown",
   "metadata": {},
   "source": [
    "- `model = SVR()`: Se crea un objeto SVR (Support Vector Regression). Este modelo se utiliza para realizar una regresión utilizando la técnica de Support Vector Machines (SVM).\n",
    "\n",
    "- `parameters = {...}`: Se definen los parámetros para la búsqueda de hiperparámetros. En este caso, se especifican diferentes valores para los hiperparámetros `kernel`, que determina el tipo de kernel a utilizar (`rbf` o `poly`), `C`, que controla la penalización por error de entrenamiento y la complejidad del modelo, y `epsilon`, que establece el margen de error permitido en la regresión.\n",
    "\n",
    "- `dtr_gs = GridSearchCV(model, parameters, cv=5, scoring=\"neg_mean_absolute_error\", n_jobs=-1)`: Se crea un objeto `GridSearchCV` para realizar una búsqueda exhaustiva de los mejores hiperparámetros para el modelo SVR utilizando validación cruzada. Se especifica el modelo (`model`), los parámetros a buscar (`parameters`), el número de divisiones de la validación cruzada (`cv=5`), la métrica de evaluación (`scoring=\"neg_mean_absolute_error\"`) y el número de trabajos en paralelo (`n_jobs=-1`) para acelerar el proceso de búsqueda.\n"
   ]
  },
  {
   "cell_type": "code",
   "execution_count": 42,
   "metadata": {},
   "outputs": [],
   "source": [
    "# Crear un objeto SVR\n",
    "model = SVR()\n",
    "\n",
    "# Definir los parámetros para la búsqueda de hiperparámetros\n",
    "parameters = {\n",
    "    \"kernel\": [\"rbf\", \"poly\"],\n",
    "    \"C\": [0.5, 1, 2],\n",
    "    \"epsilon\": [0.01, 0.1, 0.3],\n",
    "}\n",
    "\n",
    "# Crear un objeto GridSearchCV para realizar una búsqueda exhaustiva de hiperparámetros\n",
    "dtr_gs = GridSearchCV(model, parameters, cv=5, scoring=\"neg_mean_absolute_error\", n_jobs=-1)\n"
   ]
  },
  {
   "cell_type": "code",
   "execution_count": 43,
   "metadata": {},
   "outputs": [
    {
     "data": {
      "text/html": [
       "<style>#sk-container-id-4 {color: black;background-color: white;}#sk-container-id-4 pre{padding: 0;}#sk-container-id-4 div.sk-toggleable {background-color: white;}#sk-container-id-4 label.sk-toggleable__label {cursor: pointer;display: block;width: 100%;margin-bottom: 0;padding: 0.3em;box-sizing: border-box;text-align: center;}#sk-container-id-4 label.sk-toggleable__label-arrow:before {content: \"▸\";float: left;margin-right: 0.25em;color: #696969;}#sk-container-id-4 label.sk-toggleable__label-arrow:hover:before {color: black;}#sk-container-id-4 div.sk-estimator:hover label.sk-toggleable__label-arrow:before {color: black;}#sk-container-id-4 div.sk-toggleable__content {max-height: 0;max-width: 0;overflow: hidden;text-align: left;background-color: #f0f8ff;}#sk-container-id-4 div.sk-toggleable__content pre {margin: 0.2em;color: black;border-radius: 0.25em;background-color: #f0f8ff;}#sk-container-id-4 input.sk-toggleable__control:checked~div.sk-toggleable__content {max-height: 200px;max-width: 100%;overflow: auto;}#sk-container-id-4 input.sk-toggleable__control:checked~label.sk-toggleable__label-arrow:before {content: \"▾\";}#sk-container-id-4 div.sk-estimator input.sk-toggleable__control:checked~label.sk-toggleable__label {background-color: #d4ebff;}#sk-container-id-4 div.sk-label input.sk-toggleable__control:checked~label.sk-toggleable__label {background-color: #d4ebff;}#sk-container-id-4 input.sk-hidden--visually {border: 0;clip: rect(1px 1px 1px 1px);clip: rect(1px, 1px, 1px, 1px);height: 1px;margin: -1px;overflow: hidden;padding: 0;position: absolute;width: 1px;}#sk-container-id-4 div.sk-estimator {font-family: monospace;background-color: #f0f8ff;border: 1px dotted black;border-radius: 0.25em;box-sizing: border-box;margin-bottom: 0.5em;}#sk-container-id-4 div.sk-estimator:hover {background-color: #d4ebff;}#sk-container-id-4 div.sk-parallel-item::after {content: \"\";width: 100%;border-bottom: 1px solid gray;flex-grow: 1;}#sk-container-id-4 div.sk-label:hover label.sk-toggleable__label {background-color: #d4ebff;}#sk-container-id-4 div.sk-serial::before {content: \"\";position: absolute;border-left: 1px solid gray;box-sizing: border-box;top: 0;bottom: 0;left: 50%;z-index: 0;}#sk-container-id-4 div.sk-serial {display: flex;flex-direction: column;align-items: center;background-color: white;padding-right: 0.2em;padding-left: 0.2em;position: relative;}#sk-container-id-4 div.sk-item {position: relative;z-index: 1;}#sk-container-id-4 div.sk-parallel {display: flex;align-items: stretch;justify-content: center;background-color: white;position: relative;}#sk-container-id-4 div.sk-item::before, #sk-container-id-4 div.sk-parallel-item::before {content: \"\";position: absolute;border-left: 1px solid gray;box-sizing: border-box;top: 0;bottom: 0;left: 50%;z-index: -1;}#sk-container-id-4 div.sk-parallel-item {display: flex;flex-direction: column;z-index: 1;position: relative;background-color: white;}#sk-container-id-4 div.sk-parallel-item:first-child::after {align-self: flex-end;width: 50%;}#sk-container-id-4 div.sk-parallel-item:last-child::after {align-self: flex-start;width: 50%;}#sk-container-id-4 div.sk-parallel-item:only-child::after {width: 0;}#sk-container-id-4 div.sk-dashed-wrapped {border: 1px dashed gray;margin: 0 0.4em 0.5em 0.4em;box-sizing: border-box;padding-bottom: 0.4em;background-color: white;}#sk-container-id-4 div.sk-label label {font-family: monospace;font-weight: bold;display: inline-block;line-height: 1.2em;}#sk-container-id-4 div.sk-label-container {text-align: center;}#sk-container-id-4 div.sk-container {/* jupyter's `normalize.less` sets `[hidden] { display: none; }` but bootstrap.min.css set `[hidden] { display: none !important; }` so we also need the `!important` here to be able to override the default hidden behavior on the sphinx rendered scikit-learn.org. See: https://github.com/scikit-learn/scikit-learn/issues/21755 */display: inline-block !important;position: relative;}#sk-container-id-4 div.sk-text-repr-fallback {display: none;}</style><div id=\"sk-container-id-4\" class=\"sk-top-container\"><div class=\"sk-text-repr-fallback\"><pre>GridSearchCV(cv=5, estimator=SVR(), n_jobs=-1,\n",
       "             param_grid={&#x27;C&#x27;: [0.5, 1, 2], &#x27;epsilon&#x27;: [0.01, 0.1, 0.3],\n",
       "                         &#x27;kernel&#x27;: [&#x27;rbf&#x27;, &#x27;poly&#x27;]},\n",
       "             scoring=&#x27;neg_mean_absolute_error&#x27;)</pre><b>In a Jupyter environment, please rerun this cell to show the HTML representation or trust the notebook. <br />On GitHub, the HTML representation is unable to render, please try loading this page with nbviewer.org.</b></div><div class=\"sk-container\" hidden><div class=\"sk-item sk-dashed-wrapped\"><div class=\"sk-label-container\"><div class=\"sk-label sk-toggleable\"><input class=\"sk-toggleable__control sk-hidden--visually\" id=\"sk-estimator-id-8\" type=\"checkbox\" ><label for=\"sk-estimator-id-8\" class=\"sk-toggleable__label sk-toggleable__label-arrow\">GridSearchCV</label><div class=\"sk-toggleable__content\"><pre>GridSearchCV(cv=5, estimator=SVR(), n_jobs=-1,\n",
       "             param_grid={&#x27;C&#x27;: [0.5, 1, 2], &#x27;epsilon&#x27;: [0.01, 0.1, 0.3],\n",
       "                         &#x27;kernel&#x27;: [&#x27;rbf&#x27;, &#x27;poly&#x27;]},\n",
       "             scoring=&#x27;neg_mean_absolute_error&#x27;)</pre></div></div></div><div class=\"sk-parallel\"><div class=\"sk-parallel-item\"><div class=\"sk-item\"><div class=\"sk-label-container\"><div class=\"sk-label sk-toggleable\"><input class=\"sk-toggleable__control sk-hidden--visually\" id=\"sk-estimator-id-9\" type=\"checkbox\" ><label for=\"sk-estimator-id-9\" class=\"sk-toggleable__label sk-toggleable__label-arrow\">estimator: SVR</label><div class=\"sk-toggleable__content\"><pre>SVR()</pre></div></div></div><div class=\"sk-serial\"><div class=\"sk-item\"><div class=\"sk-estimator sk-toggleable\"><input class=\"sk-toggleable__control sk-hidden--visually\" id=\"sk-estimator-id-10\" type=\"checkbox\" ><label for=\"sk-estimator-id-10\" class=\"sk-toggleable__label sk-toggleable__label-arrow\">SVR</label><div class=\"sk-toggleable__content\"><pre>SVR()</pre></div></div></div></div></div></div></div></div></div></div>"
      ],
      "text/plain": [
       "GridSearchCV(cv=5, estimator=SVR(), n_jobs=-1,\n",
       "             param_grid={'C': [0.5, 1, 2], 'epsilon': [0.01, 0.1, 0.3],\n",
       "                         'kernel': ['rbf', 'poly']},\n",
       "             scoring='neg_mean_absolute_error')"
      ]
     },
     "execution_count": 43,
     "metadata": {},
     "output_type": "execute_result"
    }
   ],
   "source": [
    "dtr_gs.fit(X_train_scal, y_train)"
   ]
  },
  {
   "cell_type": "code",
   "execution_count": 44,
   "metadata": {},
   "outputs": [],
   "source": [
    "best_params = {}\n",
    "[best_params.update({f\"regressor__{key}\": [value]}) for key, value in dtr_gs.best_params_.items()]\n",
    "parameter[\"svr\"] = best_params"
   ]
  },
  {
   "cell_type": "code",
   "execution_count": 45,
   "metadata": {},
   "outputs": [
    {
     "data": {
      "text/plain": [
       "{'C': 2, 'epsilon': 0.3, 'kernel': 'rbf'}"
      ]
     },
     "execution_count": 45,
     "metadata": {},
     "output_type": "execute_result"
    }
   ],
   "source": [
    "dtr_gs.best_params_"
   ]
  },
  {
   "cell_type": "code",
   "execution_count": 46,
   "metadata": {},
   "outputs": [],
   "source": [
    "predictions = dtr_gs.predict(X_test_scal)"
   ]
  },
  {
   "cell_type": "code",
   "execution_count": 47,
   "metadata": {},
   "outputs": [],
   "source": [
    "MAE = mean_absolute_error(y_test, predictions)\n",
    "MAPE = mean_absolute_percentage_error(y_test, predictions)\n",
    "MSE = mean_squared_error(y_test, predictions)\n",
    "RMSE = np.sqrt(mean_squared_error(y_test, predictions))\n",
    "R2_Train = dtr_gs.best_estimator_.score(X_train_scal, y_train)\n",
    "R2_Test = dtr_gs.best_estimator_.score(X_test_scal, y_test)"
   ]
  },
  {
   "cell_type": "code",
   "execution_count": 48,
   "metadata": {},
   "outputs": [],
   "source": [
    "score[\"svr\"] = {\"MAE\": float(MAE), \"MAPE\": float(MAPE), \"MSE\": float(MSE), \"RMSE\": float(RMSE),\n",
    "                \"R2_Train\": float(R2_Train), \"R2_Test\": float(R2_Test)}"
   ]
  },
  {
   "cell_type": "code",
   "execution_count": 49,
   "metadata": {},
   "outputs": [
    {
     "name": "stdout",
     "output_type": "stream",
     "text": [
      "MAE: 2.6165454518650915\n",
      "MAPE: 7929876991934449.0\n",
      "MSE: 13.562201125332443\n",
      "RMSE: 3.6826893875715943\n",
      "R2_Train: 0.1265946515779437\n",
      "R2_Test: 0.10453273455299872\n"
     ]
    }
   ],
   "source": [
    "print(\"MAE:\", MAE)\n",
    "print(\"MAPE:\", MAPE)\n",
    "print(\"MSE:\", MSE)\n",
    "print(\"RMSE:\", RMSE)\n",
    "print(\"R2_Train:\", R2_Train)\n",
    "print(\"R2_Test:\", R2_Test)"
   ]
  },
  {
   "attachments": {},
   "cell_type": "markdown",
   "metadata": {},
   "source": [
    "# AdaBoostRegressor"
   ]
  },
  {
   "attachments": {},
   "cell_type": "markdown",
   "metadata": {},
   "source": [
    "- `model = AdaBoostRegressor(random_state=10)`: Se crea un objeto AdaBoostRegressor con un estado aleatorio de 10. Este modelo se utiliza para realizar una regresión utilizando el algoritmo de Boosting con la técnica de AdaBoost.\n",
    "\n",
    "- `parameters = {...}`: Se definen los parámetros para la búsqueda de hiperparámetros. En este caso, se especifican diferentes valores para los hiperparámetros `n_estimators`, que indica el número de estimadores en el ensamblaje, y `loss`, que determina la función de pérdida a utilizar durante el entrenamiento.\n",
    "\n",
    "- `dtr_gs = GridSearchCV(model, parameters, cv=5, scoring=\"neg_mean_absolute_error\", n_jobs=-1)`: Se crea un objeto GridSearchCV para realizar una búsqueda exhaustiva de los mejores hiperparámetros para el modelo AdaBoostRegressor utilizando validación cruzada. Se especifica el modelo (`model`), los parámetros a buscar (`parameters`), el número de divisiones de la validación cruzada (`cv=5`), la métrica de evaluación (`scoring=\"neg_mean_absolute_error\"`) y el número de trabajos en paralelo (`n_jobs=-1`) para acelerar el proceso de búsqueda.\n"
   ]
  },
  {
   "cell_type": "code",
   "execution_count": 50,
   "metadata": {},
   "outputs": [],
   "source": [
    "# Crear un objeto AdaBoostRegressor\n",
    "model = AdaBoostRegressor(random_state=10)\n",
    "\n",
    "# Definir los parámetros para la búsqueda de hiperparámetros\n",
    "parameters = {\n",
    "    \"n_estimators\": [100, 150, 200],\n",
    "    \"loss\": [\"linear\", \"square\", \"exponential\"],\n",
    "}\n",
    "\n",
    "# Crear un objeto GridSearchCV para realizar una búsqueda exhaustiva de hiperparámetros\n",
    "dtr_gs = GridSearchCV(model, parameters, cv=5, scoring=\"neg_mean_absolute_error\", n_jobs=-1)\n"
   ]
  },
  {
   "cell_type": "code",
   "execution_count": 51,
   "metadata": {},
   "outputs": [
    {
     "data": {
      "text/html": [
       "<style>#sk-container-id-5 {color: black;background-color: white;}#sk-container-id-5 pre{padding: 0;}#sk-container-id-5 div.sk-toggleable {background-color: white;}#sk-container-id-5 label.sk-toggleable__label {cursor: pointer;display: block;width: 100%;margin-bottom: 0;padding: 0.3em;box-sizing: border-box;text-align: center;}#sk-container-id-5 label.sk-toggleable__label-arrow:before {content: \"▸\";float: left;margin-right: 0.25em;color: #696969;}#sk-container-id-5 label.sk-toggleable__label-arrow:hover:before {color: black;}#sk-container-id-5 div.sk-estimator:hover label.sk-toggleable__label-arrow:before {color: black;}#sk-container-id-5 div.sk-toggleable__content {max-height: 0;max-width: 0;overflow: hidden;text-align: left;background-color: #f0f8ff;}#sk-container-id-5 div.sk-toggleable__content pre {margin: 0.2em;color: black;border-radius: 0.25em;background-color: #f0f8ff;}#sk-container-id-5 input.sk-toggleable__control:checked~div.sk-toggleable__content {max-height: 200px;max-width: 100%;overflow: auto;}#sk-container-id-5 input.sk-toggleable__control:checked~label.sk-toggleable__label-arrow:before {content: \"▾\";}#sk-container-id-5 div.sk-estimator input.sk-toggleable__control:checked~label.sk-toggleable__label {background-color: #d4ebff;}#sk-container-id-5 div.sk-label input.sk-toggleable__control:checked~label.sk-toggleable__label {background-color: #d4ebff;}#sk-container-id-5 input.sk-hidden--visually {border: 0;clip: rect(1px 1px 1px 1px);clip: rect(1px, 1px, 1px, 1px);height: 1px;margin: -1px;overflow: hidden;padding: 0;position: absolute;width: 1px;}#sk-container-id-5 div.sk-estimator {font-family: monospace;background-color: #f0f8ff;border: 1px dotted black;border-radius: 0.25em;box-sizing: border-box;margin-bottom: 0.5em;}#sk-container-id-5 div.sk-estimator:hover {background-color: #d4ebff;}#sk-container-id-5 div.sk-parallel-item::after {content: \"\";width: 100%;border-bottom: 1px solid gray;flex-grow: 1;}#sk-container-id-5 div.sk-label:hover label.sk-toggleable__label {background-color: #d4ebff;}#sk-container-id-5 div.sk-serial::before {content: \"\";position: absolute;border-left: 1px solid gray;box-sizing: border-box;top: 0;bottom: 0;left: 50%;z-index: 0;}#sk-container-id-5 div.sk-serial {display: flex;flex-direction: column;align-items: center;background-color: white;padding-right: 0.2em;padding-left: 0.2em;position: relative;}#sk-container-id-5 div.sk-item {position: relative;z-index: 1;}#sk-container-id-5 div.sk-parallel {display: flex;align-items: stretch;justify-content: center;background-color: white;position: relative;}#sk-container-id-5 div.sk-item::before, #sk-container-id-5 div.sk-parallel-item::before {content: \"\";position: absolute;border-left: 1px solid gray;box-sizing: border-box;top: 0;bottom: 0;left: 50%;z-index: -1;}#sk-container-id-5 div.sk-parallel-item {display: flex;flex-direction: column;z-index: 1;position: relative;background-color: white;}#sk-container-id-5 div.sk-parallel-item:first-child::after {align-self: flex-end;width: 50%;}#sk-container-id-5 div.sk-parallel-item:last-child::after {align-self: flex-start;width: 50%;}#sk-container-id-5 div.sk-parallel-item:only-child::after {width: 0;}#sk-container-id-5 div.sk-dashed-wrapped {border: 1px dashed gray;margin: 0 0.4em 0.5em 0.4em;box-sizing: border-box;padding-bottom: 0.4em;background-color: white;}#sk-container-id-5 div.sk-label label {font-family: monospace;font-weight: bold;display: inline-block;line-height: 1.2em;}#sk-container-id-5 div.sk-label-container {text-align: center;}#sk-container-id-5 div.sk-container {/* jupyter's `normalize.less` sets `[hidden] { display: none; }` but bootstrap.min.css set `[hidden] { display: none !important; }` so we also need the `!important` here to be able to override the default hidden behavior on the sphinx rendered scikit-learn.org. See: https://github.com/scikit-learn/scikit-learn/issues/21755 */display: inline-block !important;position: relative;}#sk-container-id-5 div.sk-text-repr-fallback {display: none;}</style><div id=\"sk-container-id-5\" class=\"sk-top-container\"><div class=\"sk-text-repr-fallback\"><pre>GridSearchCV(cv=5, estimator=AdaBoostRegressor(random_state=10), n_jobs=-1,\n",
       "             param_grid={&#x27;loss&#x27;: [&#x27;linear&#x27;, &#x27;square&#x27;, &#x27;exponential&#x27;],\n",
       "                         &#x27;n_estimators&#x27;: [100, 150, 200]},\n",
       "             scoring=&#x27;neg_mean_absolute_error&#x27;)</pre><b>In a Jupyter environment, please rerun this cell to show the HTML representation or trust the notebook. <br />On GitHub, the HTML representation is unable to render, please try loading this page with nbviewer.org.</b></div><div class=\"sk-container\" hidden><div class=\"sk-item sk-dashed-wrapped\"><div class=\"sk-label-container\"><div class=\"sk-label sk-toggleable\"><input class=\"sk-toggleable__control sk-hidden--visually\" id=\"sk-estimator-id-11\" type=\"checkbox\" ><label for=\"sk-estimator-id-11\" class=\"sk-toggleable__label sk-toggleable__label-arrow\">GridSearchCV</label><div class=\"sk-toggleable__content\"><pre>GridSearchCV(cv=5, estimator=AdaBoostRegressor(random_state=10), n_jobs=-1,\n",
       "             param_grid={&#x27;loss&#x27;: [&#x27;linear&#x27;, &#x27;square&#x27;, &#x27;exponential&#x27;],\n",
       "                         &#x27;n_estimators&#x27;: [100, 150, 200]},\n",
       "             scoring=&#x27;neg_mean_absolute_error&#x27;)</pre></div></div></div><div class=\"sk-parallel\"><div class=\"sk-parallel-item\"><div class=\"sk-item\"><div class=\"sk-label-container\"><div class=\"sk-label sk-toggleable\"><input class=\"sk-toggleable__control sk-hidden--visually\" id=\"sk-estimator-id-12\" type=\"checkbox\" ><label for=\"sk-estimator-id-12\" class=\"sk-toggleable__label sk-toggleable__label-arrow\">estimator: AdaBoostRegressor</label><div class=\"sk-toggleable__content\"><pre>AdaBoostRegressor(random_state=10)</pre></div></div></div><div class=\"sk-serial\"><div class=\"sk-item\"><div class=\"sk-estimator sk-toggleable\"><input class=\"sk-toggleable__control sk-hidden--visually\" id=\"sk-estimator-id-13\" type=\"checkbox\" ><label for=\"sk-estimator-id-13\" class=\"sk-toggleable__label sk-toggleable__label-arrow\">AdaBoostRegressor</label><div class=\"sk-toggleable__content\"><pre>AdaBoostRegressor(random_state=10)</pre></div></div></div></div></div></div></div></div></div></div>"
      ],
      "text/plain": [
       "GridSearchCV(cv=5, estimator=AdaBoostRegressor(random_state=10), n_jobs=-1,\n",
       "             param_grid={'loss': ['linear', 'square', 'exponential'],\n",
       "                         'n_estimators': [100, 150, 200]},\n",
       "             scoring='neg_mean_absolute_error')"
      ]
     },
     "execution_count": 51,
     "metadata": {},
     "output_type": "execute_result"
    }
   ],
   "source": [
    "dtr_gs.fit(X_train, y_train)"
   ]
  },
  {
   "cell_type": "code",
   "execution_count": 52,
   "metadata": {},
   "outputs": [],
   "source": [
    "best_params = {}\n",
    "[best_params.update({f\"regressor__{key}\": [value]}) for key, value in dtr_gs.best_params_.items()]\n",
    "parameter[\"ada\"] = best_params"
   ]
  },
  {
   "cell_type": "code",
   "execution_count": 53,
   "metadata": {},
   "outputs": [
    {
     "data": {
      "text/plain": [
       "{'loss': 'linear', 'n_estimators': 100}"
      ]
     },
     "execution_count": 53,
     "metadata": {},
     "output_type": "execute_result"
    }
   ],
   "source": [
    "dtr_gs.best_params_"
   ]
  },
  {
   "cell_type": "code",
   "execution_count": 54,
   "metadata": {},
   "outputs": [],
   "source": [
    "predictions = dtr_gs.predict(X_test)"
   ]
  },
  {
   "cell_type": "code",
   "execution_count": 55,
   "metadata": {},
   "outputs": [],
   "source": [
    "MAE = mean_absolute_error(y_test, predictions)\n",
    "MAPE = mean_absolute_percentage_error(y_test, predictions)\n",
    "MSE = mean_squared_error(y_test, predictions)\n",
    "RMSE = np.sqrt(mean_squared_error(y_test, predictions))\n",
    "R2_Train = dtr_gs.best_estimator_.score(X_train, y_train)\n",
    "R2_Test = dtr_gs.best_estimator_.score(X_test, y_test)"
   ]
  },
  {
   "cell_type": "code",
   "execution_count": 56,
   "metadata": {},
   "outputs": [],
   "source": [
    "score[\"abr\"] = {\"MAE\": float(MAE), \"MAPE\": float(MAPE), \"MSE\": float(MSE), \"RMSE\": float(RMSE),\n",
    "                \"R2_Train\": float(R2_Train), \"R2_Test\": float(R2_Test)}"
   ]
  },
  {
   "cell_type": "code",
   "execution_count": 57,
   "metadata": {},
   "outputs": [
    {
     "name": "stdout",
     "output_type": "stream",
     "text": [
      "MAE: 2.8692849831811658\n",
      "MAPE: 5450914049880007.0\n",
      "MSE: 11.125554491444712\n",
      "RMSE: 3.3354991367776896\n",
      "R2_Train: 0.26273060311874397\n",
      "R2_Test: 0.26541644936773545\n"
     ]
    }
   ],
   "source": [
    "print(\"MAE:\", MAE)\n",
    "print(\"MAPE:\", MAPE)\n",
    "print(\"MSE:\", MSE)\n",
    "print(\"RMSE:\", RMSE)\n",
    "print(\"R2_Train:\", R2_Train)\n",
    "print(\"R2_Test:\", R2_Test)"
   ]
  },
  {
   "attachments": {},
   "cell_type": "markdown",
   "metadata": {},
   "source": [
    "# GradientBoostingRegressor"
   ]
  },
  {
   "attachments": {},
   "cell_type": "markdown",
   "metadata": {},
   "source": [
    "Importamos la clase `GradientBoostingRegressor` del módulo `ensemble` de la biblioteca sklearn. Esto nos permite utilizar el algoritmo de Boosting con gradientes para realizar una regresión.\n",
    "\n",
    "- `max_depth`: La profundidad máxima de los árboles de regresión utilizados en el ensamble. En este caso, se establece en 2.\n",
    "- `n_estimators`: El número de árboles en el ensamble. En este caso, se establece en 3.\n",
    "- `learning_rate`: La tasa de aprendizaje que controla la contribución de cada árbol en el ensamble. En este caso, se establece en 1.0, lo que significa que cada árbol contribuye completamente al ensamble.\n",
    "- `random_state`: El estado aleatorio para reproducibilidad. En este caso, se establece en 10.\n"
   ]
  },
  {
   "cell_type": "code",
   "execution_count": 58,
   "metadata": {},
   "outputs": [
    {
     "data": {
      "text/html": [
       "<style>#sk-container-id-6 {color: black;background-color: white;}#sk-container-id-6 pre{padding: 0;}#sk-container-id-6 div.sk-toggleable {background-color: white;}#sk-container-id-6 label.sk-toggleable__label {cursor: pointer;display: block;width: 100%;margin-bottom: 0;padding: 0.3em;box-sizing: border-box;text-align: center;}#sk-container-id-6 label.sk-toggleable__label-arrow:before {content: \"▸\";float: left;margin-right: 0.25em;color: #696969;}#sk-container-id-6 label.sk-toggleable__label-arrow:hover:before {color: black;}#sk-container-id-6 div.sk-estimator:hover label.sk-toggleable__label-arrow:before {color: black;}#sk-container-id-6 div.sk-toggleable__content {max-height: 0;max-width: 0;overflow: hidden;text-align: left;background-color: #f0f8ff;}#sk-container-id-6 div.sk-toggleable__content pre {margin: 0.2em;color: black;border-radius: 0.25em;background-color: #f0f8ff;}#sk-container-id-6 input.sk-toggleable__control:checked~div.sk-toggleable__content {max-height: 200px;max-width: 100%;overflow: auto;}#sk-container-id-6 input.sk-toggleable__control:checked~label.sk-toggleable__label-arrow:before {content: \"▾\";}#sk-container-id-6 div.sk-estimator input.sk-toggleable__control:checked~label.sk-toggleable__label {background-color: #d4ebff;}#sk-container-id-6 div.sk-label input.sk-toggleable__control:checked~label.sk-toggleable__label {background-color: #d4ebff;}#sk-container-id-6 input.sk-hidden--visually {border: 0;clip: rect(1px 1px 1px 1px);clip: rect(1px, 1px, 1px, 1px);height: 1px;margin: -1px;overflow: hidden;padding: 0;position: absolute;width: 1px;}#sk-container-id-6 div.sk-estimator {font-family: monospace;background-color: #f0f8ff;border: 1px dotted black;border-radius: 0.25em;box-sizing: border-box;margin-bottom: 0.5em;}#sk-container-id-6 div.sk-estimator:hover {background-color: #d4ebff;}#sk-container-id-6 div.sk-parallel-item::after {content: \"\";width: 100%;border-bottom: 1px solid gray;flex-grow: 1;}#sk-container-id-6 div.sk-label:hover label.sk-toggleable__label {background-color: #d4ebff;}#sk-container-id-6 div.sk-serial::before {content: \"\";position: absolute;border-left: 1px solid gray;box-sizing: border-box;top: 0;bottom: 0;left: 50%;z-index: 0;}#sk-container-id-6 div.sk-serial {display: flex;flex-direction: column;align-items: center;background-color: white;padding-right: 0.2em;padding-left: 0.2em;position: relative;}#sk-container-id-6 div.sk-item {position: relative;z-index: 1;}#sk-container-id-6 div.sk-parallel {display: flex;align-items: stretch;justify-content: center;background-color: white;position: relative;}#sk-container-id-6 div.sk-item::before, #sk-container-id-6 div.sk-parallel-item::before {content: \"\";position: absolute;border-left: 1px solid gray;box-sizing: border-box;top: 0;bottom: 0;left: 50%;z-index: -1;}#sk-container-id-6 div.sk-parallel-item {display: flex;flex-direction: column;z-index: 1;position: relative;background-color: white;}#sk-container-id-6 div.sk-parallel-item:first-child::after {align-self: flex-end;width: 50%;}#sk-container-id-6 div.sk-parallel-item:last-child::after {align-self: flex-start;width: 50%;}#sk-container-id-6 div.sk-parallel-item:only-child::after {width: 0;}#sk-container-id-6 div.sk-dashed-wrapped {border: 1px dashed gray;margin: 0 0.4em 0.5em 0.4em;box-sizing: border-box;padding-bottom: 0.4em;background-color: white;}#sk-container-id-6 div.sk-label label {font-family: monospace;font-weight: bold;display: inline-block;line-height: 1.2em;}#sk-container-id-6 div.sk-label-container {text-align: center;}#sk-container-id-6 div.sk-container {/* jupyter's `normalize.less` sets `[hidden] { display: none; }` but bootstrap.min.css set `[hidden] { display: none !important; }` so we also need the `!important` here to be able to override the default hidden behavior on the sphinx rendered scikit-learn.org. See: https://github.com/scikit-learn/scikit-learn/issues/21755 */display: inline-block !important;position: relative;}#sk-container-id-6 div.sk-text-repr-fallback {display: none;}</style><div id=\"sk-container-id-6\" class=\"sk-top-container\"><div class=\"sk-text-repr-fallback\"><pre>GradientBoostingRegressor(learning_rate=1.0, max_depth=2, n_estimators=3,\n",
       "                          random_state=10)</pre><b>In a Jupyter environment, please rerun this cell to show the HTML representation or trust the notebook. <br />On GitHub, the HTML representation is unable to render, please try loading this page with nbviewer.org.</b></div><div class=\"sk-container\" hidden><div class=\"sk-item\"><div class=\"sk-estimator sk-toggleable\"><input class=\"sk-toggleable__control sk-hidden--visually\" id=\"sk-estimator-id-14\" type=\"checkbox\" checked><label for=\"sk-estimator-id-14\" class=\"sk-toggleable__label sk-toggleable__label-arrow\">GradientBoostingRegressor</label><div class=\"sk-toggleable__content\"><pre>GradientBoostingRegressor(learning_rate=1.0, max_depth=2, n_estimators=3,\n",
       "                          random_state=10)</pre></div></div></div></div></div>"
      ],
      "text/plain": [
       "GradientBoostingRegressor(learning_rate=1.0, max_depth=2, n_estimators=3,\n",
       "                          random_state=10)"
      ]
     },
     "execution_count": 58,
     "metadata": {},
     "output_type": "execute_result"
    }
   ],
   "source": [
    "from sklearn.ensemble import GradientBoostingRegressor\n",
    "\n",
    "# Crear un objeto GradientBoostingRegressor\n",
    "gbrt = GradientBoostingRegressor(max_depth=2,\n",
    "                                 n_estimators=3,\n",
    "                                 learning_rate=1.0,\n",
    "                                 random_state=10)\n",
    "\n",
    "# Ajustar el modelo GradientBoostingRegressor a los datos de entrenamiento\n",
    "gbrt.fit(X_train, y_train)\n"
   ]
  },
  {
   "cell_type": "code",
   "execution_count": 59,
   "metadata": {},
   "outputs": [],
   "source": [
    "predictions = gbrt.predict(X_test)"
   ]
  },
  {
   "cell_type": "code",
   "execution_count": 60,
   "metadata": {},
   "outputs": [],
   "source": [
    "MAE = mean_absolute_error(y_test, predictions)\n",
    "MAPE = mean_absolute_percentage_error(y_test, predictions)\n",
    "MSE = mean_squared_error(y_test, predictions)\n",
    "RMSE = np.sqrt(mean_squared_error(y_test, predictions))\n",
    "R2_Train = dtr_gs.best_estimator_.score(X_train, y_train)\n",
    "R2_Test = dtr_gs.best_estimator_.score(X_test, y_test)"
   ]
  },
  {
   "cell_type": "code",
   "execution_count": 61,
   "metadata": {},
   "outputs": [],
   "source": [
    "score[\"gbr\"] = {\"MAE\": float(MAE), \"MAPE\": float(MAPE), \"MSE\": float(MSE), \"RMSE\": float(RMSE),\n",
    "                \"R2_Train\": float(R2_Train), \"R2_Test\": float(R2_Test)}"
   ]
  },
  {
   "cell_type": "code",
   "execution_count": 62,
   "metadata": {},
   "outputs": [
    {
     "name": "stdout",
     "output_type": "stream",
     "text": [
      "MAE: 2.599231931125841\n",
      "MAPE: 5248840333344701.0\n",
      "MSE: 10.824721813705185\n",
      "RMSE: 3.29009449920594\n",
      "R2_Train: 0.26273060311874397\n",
      "R2_Test: 0.26541644936773545\n"
     ]
    }
   ],
   "source": [
    "print(\"MAE:\", MAE)\n",
    "print(\"MAPE:\", MAPE)\n",
    "print(\"MSE:\", MSE)\n",
    "print(\"RMSE:\", RMSE)\n",
    "print(\"R2_Train:\", R2_Train)\n",
    "print(\"R2_Test:\", R2_Test)"
   ]
  },
  {
   "attachments": {},
   "cell_type": "markdown",
   "metadata": {},
   "source": [
    "# Recurrent Neural Networks"
   ]
  },
  {
   "attachments": {},
   "cell_type": "markdown",
   "metadata": {},
   "source": [
    "**Model Creation:**\n",
    "\n",
    "- `model`: Se crea un modelo secuencial de Keras utilizando la clase `Sequential`. Este modelo consiste en una serie de capas apiladas una encima de la otra.\n",
    "- `keras.layers.Dense`: Se añaden capas densas (totalmente conectadas) al modelo. Cada capa tiene un número específico de neuronas y una función de activación. La última capa tiene 1 neurona para la regresión.\n",
    "\n",
    "**Model Compilation:**\n",
    "\n",
    "- `model.compile`: Se compila el modelo especificando la función de pérdida, el optimizador y las métricas que se utilizarán durante el entrenamiento.\n",
    "\n",
    "**Callbacks:**\n",
    "\n",
    "- `checkpoint_cb`: Se crea un callback `ModelCheckpoint` para guardar el modelo en un archivo durante el entrenamiento.\n",
    "- `early_stopping_cb`: Se crea un callback `EarlyStopping` que detendrá el entrenamiento si no se observa una mejora en la métrica de pérdida en un número determinado de épocas.\n",
    "\n",
    "**Model Training:**\n",
    "\n",
    "- `model.fit`: Se entrena el modelo utilizando los datos de entrenamiento `X_train_scal` y las etiquetas correspondientes `y_train`. Se especifica el número de épocas, la validación cruzada (usando una fracción del conjunto de entrenamiento como validación) y los callbacks a utilizar durante el entrenamiento.\n"
   ]
  },
  {
   "cell_type": "code",
   "execution_count": 9,
   "metadata": {},
   "outputs": [
    {
     "name": "stdout",
     "output_type": "stream",
     "text": [
      "Epoch 1/1000\n",
      "381/381 [==============================] - 2s 3ms/step - loss: 3.3079 - MAPE: 1621216256.0000 - MSE: 19.9752 - RMSE: 4.4694 - val_loss: 2.5589 - val_MAPE: 1743626368.0000 - val_MSE: 14.9125 - val_RMSE: 3.8617\n",
      "Epoch 2/1000\n",
      "381/381 [==============================] - 1s 2ms/step - loss: 2.6534 - MAPE: 1839139072.0000 - MSE: 15.2627 - RMSE: 3.9067 - val_loss: 2.4509 - val_MAPE: 1689783296.0000 - val_MSE: 14.0326 - val_RMSE: 3.7460\n",
      "Epoch 3/1000\n",
      "381/381 [==============================] - 1s 2ms/step - loss: 2.5616 - MAPE: 1714849536.0000 - MSE: 13.7578 - RMSE: 3.7092 - val_loss: 2.3759 - val_MAPE: 1540858624.0000 - val_MSE: 12.3180 - val_RMSE: 3.5097\n",
      "Epoch 4/1000\n",
      "381/381 [==============================] - 1s 2ms/step - loss: 2.4836 - MAPE: 1533766016.0000 - MSE: 12.1923 - RMSE: 3.4918 - val_loss: 2.2711 - val_MAPE: 1300589440.0000 - val_MSE: 10.3880 - val_RMSE: 3.2230\n",
      "Epoch 5/1000\n",
      "381/381 [==============================] - 1s 2ms/step - loss: 2.3347 - MAPE: 1165542912.0000 - MSE: 10.7428 - RMSE: 3.2776 - val_loss: 2.0874 - val_MAPE: 816385216.0000 - val_MSE: 9.1434 - val_RMSE: 3.0238\n",
      "Epoch 6/1000\n",
      "381/381 [==============================] - 1s 2ms/step - loss: 2.1542 - MAPE: 887797120.0000 - MSE: 10.6039 - RMSE: 3.2564 - val_loss: 1.9162 - val_MAPE: 689071808.0000 - val_MSE: 9.5804 - val_RMSE: 3.0952\n",
      "Epoch 7/1000\n",
      "381/381 [==============================] - 1s 2ms/step - loss: 2.0409 - MAPE: 826539456.0000 - MSE: 10.5342 - RMSE: 3.2456 - val_loss: 1.8434 - val_MAPE: 720409280.0000 - val_MSE: 9.1577 - val_RMSE: 3.0262\n",
      "Epoch 8/1000\n",
      "381/381 [==============================] - 1s 2ms/step - loss: 1.9766 - MAPE: 776952960.0000 - MSE: 10.5083 - RMSE: 3.2416 - val_loss: 2.0404 - val_MAPE: 1102431744.0000 - val_MSE: 10.7036 - val_RMSE: 3.2716\n",
      "Epoch 9/1000\n",
      "381/381 [==============================] - 1s 2ms/step - loss: 1.9399 - MAPE: 773872384.0000 - MSE: 10.4760 - RMSE: 3.2367 - val_loss: 1.8421 - val_MAPE: 604933440.0000 - val_MSE: 10.1080 - val_RMSE: 3.1793\n",
      "Epoch 10/1000\n",
      "381/381 [==============================] - 1s 2ms/step - loss: 1.9188 - MAPE: 739765568.0000 - MSE: 10.5519 - RMSE: 3.2484 - val_loss: 1.7707 - val_MAPE: 597260288.0000 - val_MSE: 9.6546 - val_RMSE: 3.1072\n",
      "Epoch 11/1000\n",
      "381/381 [==============================] - 1s 2ms/step - loss: 1.9447 - MAPE: 779442752.0000 - MSE: 10.9208 - RMSE: 3.3047 - val_loss: 1.7544 - val_MAPE: 676674624.0000 - val_MSE: 9.3641 - val_RMSE: 3.0601\n",
      "Epoch 12/1000\n",
      "381/381 [==============================] - 1s 2ms/step - loss: 1.9048 - MAPE: 738308416.0000 - MSE: 10.6645 - RMSE: 3.2657 - val_loss: 1.8761 - val_MAPE: 456361824.0000 - val_MSE: 10.7757 - val_RMSE: 3.2826\n",
      "Epoch 13/1000\n",
      "381/381 [==============================] - 1s 2ms/step - loss: 1.8910 - MAPE: 730045056.0000 - MSE: 10.7096 - RMSE: 3.2726 - val_loss: 1.7177 - val_MAPE: 625875072.0000 - val_MSE: 9.4957 - val_RMSE: 3.0815\n",
      "Epoch 14/1000\n",
      "381/381 [==============================] - 1s 3ms/step - loss: 1.8787 - MAPE: 711071808.0000 - MSE: 10.6557 - RMSE: 3.2643 - val_loss: 1.7662 - val_MAPE: 724204352.0000 - val_MSE: 9.2362 - val_RMSE: 3.0391\n",
      "Epoch 15/1000\n",
      "381/381 [==============================] - 1s 2ms/step - loss: 1.8459 - MAPE: 685105344.0000 - MSE: 10.4389 - RMSE: 3.2309 - val_loss: 1.7830 - val_MAPE: 723726528.0000 - val_MSE: 9.7363 - val_RMSE: 3.1203\n",
      "Epoch 16/1000\n",
      "381/381 [==============================] - 1s 3ms/step - loss: 1.8962 - MAPE: 701325504.0000 - MSE: 10.9690 - RMSE: 3.3120 - val_loss: 1.7066 - val_MAPE: 551797312.0000 - val_MSE: 9.6513 - val_RMSE: 3.1067\n",
      "Epoch 17/1000\n",
      "381/381 [==============================] - 1s 2ms/step - loss: 1.8699 - MAPE: 701028352.0000 - MSE: 10.7536 - RMSE: 3.2793 - val_loss: 1.7161 - val_MAPE: 599428480.0000 - val_MSE: 9.4725 - val_RMSE: 3.0777\n",
      "Epoch 18/1000\n",
      "381/381 [==============================] - 1s 2ms/step - loss: 1.8648 - MAPE: 692754624.0000 - MSE: 10.7726 - RMSE: 3.2822 - val_loss: 1.6991 - val_MAPE: 592364160.0000 - val_MSE: 9.4341 - val_RMSE: 3.0715\n",
      "Epoch 19/1000\n",
      "381/381 [==============================] - 1s 2ms/step - loss: 1.8597 - MAPE: 686284416.0000 - MSE: 10.6994 - RMSE: 3.2710 - val_loss: 1.6902 - val_MAPE: 579801536.0000 - val_MSE: 9.7584 - val_RMSE: 3.1238\n",
      "Epoch 20/1000\n",
      "381/381 [==============================] - 1s 2ms/step - loss: 1.8478 - MAPE: 684551424.0000 - MSE: 10.6410 - RMSE: 3.2621 - val_loss: 1.7248 - val_MAPE: 522995808.0000 - val_MSE: 9.8587 - val_RMSE: 3.1399\n",
      "Epoch 21/1000\n",
      "381/381 [==============================] - 1s 3ms/step - loss: 1.8176 - MAPE: 690969664.0000 - MSE: 10.3592 - RMSE: 3.2186 - val_loss: 1.7057 - val_MAPE: 646724928.0000 - val_MSE: 9.5359 - val_RMSE: 3.0880\n",
      "Epoch 22/1000\n",
      "381/381 [==============================] - 1s 2ms/step - loss: 1.8702 - MAPE: 723912448.0000 - MSE: 10.8122 - RMSE: 3.2882 - val_loss: 1.8020 - val_MAPE: 445120032.0000 - val_MSE: 10.4418 - val_RMSE: 3.2314\n",
      "Epoch 23/1000\n",
      "381/381 [==============================] - 1s 2ms/step - loss: 1.8088 - MAPE: 654800128.0000 - MSE: 10.3806 - RMSE: 3.2219 - val_loss: 1.7446 - val_MAPE: 469332256.0000 - val_MSE: 10.1192 - val_RMSE: 3.1811\n",
      "Epoch 24/1000\n",
      "381/381 [==============================] - 1s 3ms/step - loss: 1.8085 - MAPE: 637004224.0000 - MSE: 10.5207 - RMSE: 3.2436 - val_loss: 1.6876 - val_MAPE: 517594752.0000 - val_MSE: 9.7972 - val_RMSE: 3.1300\n",
      "Epoch 25/1000\n",
      "381/381 [==============================] - 1s 2ms/step - loss: 1.8078 - MAPE: 639749056.0000 - MSE: 10.4475 - RMSE: 3.2323 - val_loss: 1.6908 - val_MAPE: 673874688.0000 - val_MSE: 9.3840 - val_RMSE: 3.0633\n",
      "Epoch 26/1000\n",
      "381/381 [==============================] - 1s 2ms/step - loss: 1.8386 - MAPE: 677440256.0000 - MSE: 10.6647 - RMSE: 3.2657 - val_loss: 1.9072 - val_MAPE: 1027749120.0000 - val_MSE: 10.9708 - val_RMSE: 3.3122\n",
      "Epoch 27/1000\n",
      "381/381 [==============================] - 1s 2ms/step - loss: 1.8122 - MAPE: 647232896.0000 - MSE: 10.4779 - RMSE: 3.2370 - val_loss: 1.7268 - val_MAPE: 724583232.0000 - val_MSE: 9.6801 - val_RMSE: 3.1113\n",
      "Epoch 28/1000\n",
      "381/381 [==============================] - 1s 2ms/step - loss: 1.8213 - MAPE: 624033024.0000 - MSE: 10.6190 - RMSE: 3.2587 - val_loss: 1.6714 - val_MAPE: 667663104.0000 - val_MSE: 9.4538 - val_RMSE: 3.0747\n",
      "Epoch 29/1000\n",
      "381/381 [==============================] - 1s 2ms/step - loss: 1.7756 - MAPE: 642606272.0000 - MSE: 10.1413 - RMSE: 3.1845 - val_loss: 1.6634 - val_MAPE: 661755072.0000 - val_MSE: 9.2953 - val_RMSE: 3.0488\n",
      "Epoch 30/1000\n",
      "381/381 [==============================] - 1s 3ms/step - loss: 1.7936 - MAPE: 634423744.0000 - MSE: 10.2266 - RMSE: 3.1979 - val_loss: 1.6482 - val_MAPE: 480901280.0000 - val_MSE: 9.3064 - val_RMSE: 3.0506\n",
      "Epoch 31/1000\n",
      "381/381 [==============================] - 1s 2ms/step - loss: 1.7779 - MAPE: 626768768.0000 - MSE: 10.1576 - RMSE: 3.1871 - val_loss: 1.7839 - val_MAPE: 875093184.0000 - val_MSE: 9.8476 - val_RMSE: 3.1381\n",
      "Epoch 32/1000\n",
      "381/381 [==============================] - 1s 2ms/step - loss: 1.7892 - MAPE: 608257280.0000 - MSE: 10.3371 - RMSE: 3.2151 - val_loss: 1.6736 - val_MAPE: 418779904.0000 - val_MSE: 9.2157 - val_RMSE: 3.0357\n",
      "Epoch 33/1000\n",
      "381/381 [==============================] - 1s 3ms/step - loss: 1.7724 - MAPE: 594777856.0000 - MSE: 10.2004 - RMSE: 3.1938 - val_loss: 1.6265 - val_MAPE: 474138368.0000 - val_MSE: 9.2348 - val_RMSE: 3.0389\n",
      "Epoch 34/1000\n",
      "381/381 [==============================] - 1s 2ms/step - loss: 1.7799 - MAPE: 603664832.0000 - MSE: 10.2607 - RMSE: 3.2032 - val_loss: 1.7505 - val_MAPE: 682906688.0000 - val_MSE: 9.3161 - val_RMSE: 3.0522\n",
      "Epoch 35/1000\n",
      "381/381 [==============================] - 1s 2ms/step - loss: 1.8068 - MAPE: 637157888.0000 - MSE: 10.4703 - RMSE: 3.2358 - val_loss: 1.6601 - val_MAPE: 642887808.0000 - val_MSE: 9.3304 - val_RMSE: 3.0546\n",
      "Epoch 36/1000\n",
      "381/381 [==============================] - 1s 3ms/step - loss: 1.7687 - MAPE: 584636096.0000 - MSE: 10.2460 - RMSE: 3.2009 - val_loss: 1.8038 - val_MAPE: 387635520.0000 - val_MSE: 11.0298 - val_RMSE: 3.3211\n",
      "Epoch 37/1000\n",
      "381/381 [==============================] - 1s 2ms/step - loss: 1.7627 - MAPE: 595904320.0000 - MSE: 10.1587 - RMSE: 3.1873 - val_loss: 1.7936 - val_MAPE: 359773664.0000 - val_MSE: 11.0294 - val_RMSE: 3.3211\n",
      "Epoch 38/1000\n",
      "381/381 [==============================] - 1s 2ms/step - loss: 1.8008 - MAPE: 621171776.0000 - MSE: 10.4954 - RMSE: 3.2397 - val_loss: 1.7254 - val_MAPE: 725248704.0000 - val_MSE: 9.4865 - val_RMSE: 3.0800\n",
      "Epoch 39/1000\n",
      "381/381 [==============================] - 1s 2ms/step - loss: 1.7303 - MAPE: 599855232.0000 - MSE: 9.9618 - RMSE: 3.1562 - val_loss: 1.6154 - val_MAPE: 589049024.0000 - val_MSE: 8.9609 - val_RMSE: 2.9935\n",
      "Epoch 40/1000\n",
      "381/381 [==============================] - 1s 3ms/step - loss: 1.7786 - MAPE: 609828096.0000 - MSE: 10.3533 - RMSE: 3.2176 - val_loss: 1.7030 - val_MAPE: 404692448.0000 - val_MSE: 9.9366 - val_RMSE: 3.1522\n",
      "Epoch 41/1000\n",
      "381/381 [==============================] - 1s 2ms/step - loss: 1.7460 - MAPE: 579981696.0000 - MSE: 10.0788 - RMSE: 3.1747 - val_loss: 1.6223 - val_MAPE: 439605536.0000 - val_MSE: 9.3721 - val_RMSE: 3.0614\n",
      "Epoch 42/1000\n",
      "381/381 [==============================] - 1s 2ms/step - loss: 1.7558 - MAPE: 633142080.0000 - MSE: 9.9677 - RMSE: 3.1572 - val_loss: 1.7298 - val_MAPE: 741473600.0000 - val_MSE: 9.8024 - val_RMSE: 3.1309\n",
      "Epoch 43/1000\n",
      "381/381 [==============================] - 1s 2ms/step - loss: 1.7489 - MAPE: 597367424.0000 - MSE: 10.1973 - RMSE: 3.1933 - val_loss: 1.7030 - val_MAPE: 567046336.0000 - val_MSE: 9.5483 - val_RMSE: 3.0900\n",
      "Epoch 44/1000\n",
      "381/381 [==============================] - 1s 2ms/step - loss: 1.7606 - MAPE: 594183040.0000 - MSE: 10.3427 - RMSE: 3.2160 - val_loss: 1.7372 - val_MAPE: 743142912.0000 - val_MSE: 10.0704 - val_RMSE: 3.1734\n",
      "Epoch 45/1000\n",
      "381/381 [==============================] - 1s 3ms/step - loss: 1.7310 - MAPE: 583573952.0000 - MSE: 9.9518 - RMSE: 3.1546 - val_loss: 1.6186 - val_MAPE: 430992064.0000 - val_MSE: 9.3189 - val_RMSE: 3.0527\n",
      "Epoch 46/1000\n",
      "381/381 [==============================] - 1s 2ms/step - loss: 1.7406 - MAPE: 576733696.0000 - MSE: 10.2034 - RMSE: 3.1943 - val_loss: 1.7168 - val_MAPE: 362363584.0000 - val_MSE: 10.4927 - val_RMSE: 3.2392\n",
      "Epoch 47/1000\n",
      "381/381 [==============================] - 1s 2ms/step - loss: 1.7334 - MAPE: 575612992.0000 - MSE: 10.1390 - RMSE: 3.1842 - val_loss: 1.6619 - val_MAPE: 631187456.0000 - val_MSE: 9.4503 - val_RMSE: 3.0741\n",
      "Epoch 48/1000\n",
      "381/381 [==============================] - 1s 2ms/step - loss: 1.7479 - MAPE: 576493312.0000 - MSE: 10.3086 - RMSE: 3.2107 - val_loss: 1.8224 - val_MAPE: 862957824.0000 - val_MSE: 10.4953 - val_RMSE: 3.2396\n",
      "Epoch 49/1000\n",
      "381/381 [==============================] - 1s 2ms/step - loss: 1.7906 - MAPE: 615232064.0000 - MSE: 10.2319 - RMSE: 3.1987 - val_loss: 1.6584 - val_MAPE: 638903488.0000 - val_MSE: 9.3010 - val_RMSE: 3.0497\n"
     ]
    }
   ],
   "source": [
    "model = keras.Sequential([\n",
    "    keras.layers.Dense(120, activation='relu', input_shape=X_train_scal.shape[1:]),\n",
    "    keras.layers.Dense(60, activation='relu'),\n",
    "    keras.layers.Dense(30, activation='relu'),\n",
    "    keras.layers.Dense(1, activation='relu')\n",
    "])\n",
    "\n",
    "model.compile(loss='mae', optimizer=keras.optimizers.Adam(), \n",
    "                metrics=[keras.metrics.MeanAbsolutePercentageError(name=\"MAPE\"),\n",
    "                        keras.metrics.MeanSquaredError(name='MSE'),\n",
    "                        keras.metrics.RootMeanSquaredError(name=\"RMSE\")\n",
    "                        ])\n",
    "\n",
    "checkpoint_cb = keras.callbacks.ModelCheckpoint(\"../models/light/callback_model.h5\")\n",
    "early_stopping_cb = keras.callbacks.EarlyStopping(monitor='val_loss', patience=10)\n",
    "\n",
    "history = model.fit(X_train_scal, y_train, epochs=1000, validation_split=0.2,\n",
    "                   callbacks = [early_stopping_cb, checkpoint_cb])"
   ]
  },
  {
   "cell_type": "code",
   "execution_count": 10,
   "metadata": {},
   "outputs": [
    {
     "name": "stdout",
     "output_type": "stream",
     "text": [
      "  1/119 [..............................] - ETA: 2s - loss: 1.4059 - MAPE: 530017472.0000 - MSE: 8.8596 - RMSE: 2.9765"
     ]
    },
    {
     "name": "stdout",
     "output_type": "stream",
     "text": [
      "119/119 [==============================] - 0s 2ms/step - loss: 1.7179 - MAPE: 725647232.0000 - MSE: 9.7548 - RMSE: 3.1233\n"
     ]
    }
   ],
   "source": [
    "rnn_score = model.evaluate(X_test_scal, y_test)\n"
   ]
  },
  {
   "cell_type": "code",
   "execution_count": 11,
   "metadata": {},
   "outputs": [],
   "source": [
    "MAE = rnn_score[0]\n",
    "MAPE = rnn_score[1]\n",
    "MSE = rnn_score[2]\n",
    "RMSE = rnn_score[3]"
   ]
  },
  {
   "cell_type": "code",
   "execution_count": 66,
   "metadata": {},
   "outputs": [],
   "source": [
    "score[\"rnn\"] = {\"MAE\": float(MAE), \"MAPE\": float(MAPE), \"MSE\": float(MSE), \"RMSE\": float(RMSE)}"
   ]
  },
  {
   "cell_type": "code",
   "execution_count": 12,
   "metadata": {},
   "outputs": [
    {
     "name": "stdout",
     "output_type": "stream",
     "text": [
      "MAE: 1.7178839445114136\n",
      "MAPE: 725647232.0\n",
      "MSE: 9.75478458404541\n",
      "RMSE: 3.123265027999878\n"
     ]
    }
   ],
   "source": [
    "print(\"MAE:\", MAE)\n",
    "print(\"MAPE:\", MAPE)\n",
    "print(\"MSE:\", MSE)\n",
    "print(\"RMSE:\", RMSE)"
   ]
  },
  {
   "cell_type": "code",
   "execution_count": 16,
   "metadata": {},
   "outputs": [
    {
     "name": "stdout",
     "output_type": "stream",
     "text": [
      "119/119 [==============================] - 0s 2ms/step\n"
     ]
    }
   ],
   "source": [
    "y_pred = model.predict(X_test_scal).flatten()"
   ]
  },
  {
   "cell_type": "code",
   "execution_count": 17,
   "metadata": {},
   "outputs": [
    {
     "data": {
      "image/png": "[encoded data removed]",
      "text/plain": [
       "<Figure size 640x480 with 1 Axes>"
      ]
     },
     "metadata": {},
     "output_type": "display_data"
    }
   ],
   "source": [
    "error = y_pred - y_test\n",
    "plt.hist(error, bins=15)\n",
    "plt.title(\"Distribución de erorres\");"
   ]
  },
  {
   "cell_type": "code",
   "execution_count": 37,
   "metadata": {},
   "outputs": [
    {
     "data": {
      "image/png": "[encoded data removed]",
      "text/plain": [
       "<Figure size 1200x1200 with 2 Axes>"
      ]
     },
     "metadata": {},
     "output_type": "display_data"
    }
   ],
   "source": [
    "fig, (ax1, ax2) = plt.subplots(2, 1, figsize=(12, 12))\n",
    "ax1.plot(history.history['loss'], color='b', label=\"Training loss - MAE\")\n",
    "ax1.plot(history.history['val_loss'], color='r', label=\"validation loss - MAE\")\n",
    "\n",
    "ax2.plot(history.history['MSE'], color='b', label=\"Training MSE\")\n",
    "ax2.plot(history.history['val_MSE'], color='r',label=\"Validation MSE\")\n",
    "\n",
    "plt.legend(loc='best', shadow=True)\n",
    "plt.tight_layout()\n",
    "plt.show()"
   ]
  },
  {
   "cell_type": "code",
   "execution_count": 68,
   "metadata": {},
   "outputs": [],
   "source": [
    "model.save(\"../models/light/keras_model.h5\")"
   ]
  },
  {
   "attachments": {},
   "cell_type": "markdown",
   "metadata": {},
   "source": [
    "# Summary"
   ]
  },
  {
   "cell_type": "code",
   "execution_count": 69,
   "metadata": {},
   "outputs": [
    {
     "data": {
      "text/plain": [
       "{'plr': {'MAE': 3.2467069435958265,\n",
       "  'MAPE': 7004095373389749.0,\n",
       "  'MSE': 13.799166071534625,\n",
       "  'RMSE': 3.7147228795072484,\n",
       "  'R2_Train': 0.09087004581369929,\n",
       "  'R2_Test': 0.0888867232292091},\n",
       " 'rfr': {'MAE': 1.9697344492988944,\n",
       "  'MAPE': 3765549091930910.0,\n",
       "  'MSE': 7.873361350932763,\n",
       "  'RMSE': 2.8059510599675046,\n",
       "  'R2_Train': 0.7458270335035304,\n",
       "  'R2_Test': 0.48014800151969805},\n",
       " 'en': {'MAE': 3.246595346289047,\n",
       "  'MAPE': 7004934840557768.0,\n",
       "  'MSE': 13.798854211874849,\n",
       "  'RMSE': 3.71468090310256,\n",
       "  'R2_Train': 0.09086831420192742,\n",
       "  'R2_Test': 0.08890731429065712},\n",
       " 'svr': {'MAE': 2.6165454518650915,\n",
       "  'MAPE': 7929876991934449.0,\n",
       "  'MSE': 13.562201125332443,\n",
       "  'RMSE': 3.6826893875715943,\n",
       "  'R2_Train': 0.1265946515779437,\n",
       "  'R2_Test': 0.10453273455299872},\n",
       " 'abr': {'MAE': 2.8692849831811658,\n",
       "  'MAPE': 5450914049880007.0,\n",
       "  'MSE': 11.125554491444712,\n",
       "  'RMSE': 3.3354991367776896,\n",
       "  'R2_Train': 0.26273060311874397,\n",
       "  'R2_Test': 0.26541644936773545},\n",
       " 'gbr': {'MAE': 2.599231931125841,\n",
       "  'MAPE': 5248840333344701.0,\n",
       "  'MSE': 10.824721813705185,\n",
       "  'RMSE': 3.29009449920594,\n",
       "  'R2_Train': 0.26273060311874397,\n",
       "  'R2_Test': 0.26541644936773545},\n",
       " 'rnn': {'MAE': 1.692815899848938,\n",
       "  'MAPE': 660477440.0,\n",
       "  'MSE': 9.865225791931152,\n",
       "  'RMSE': 3.1408956050872803}}"
      ]
     },
     "execution_count": 69,
     "metadata": {},
     "output_type": "execute_result"
    }
   ],
   "source": [
    "score"
   ]
  },
  {
   "cell_type": "code",
   "execution_count": 70,
   "metadata": {},
   "outputs": [
    {
     "data": {
      "text/plain": [
       "{'plr': {'poli__degree': [2]},\n",
       " 'rfr': {'regressor__max_depth': [13],\n",
       "  'regressor__max_features': [6],\n",
       "  'regressor__min_samples_leaf': [3],\n",
       "  'regressor__n_estimators': [200]},\n",
       " 'en': {'regressor__alpha': [1.0],\n",
       "  'regressor__l1_ratio': [0.9],\n",
       "  'regressor__max_iter': [1000]},\n",
       " 'svr': {'regressor__C': [2],\n",
       "  'regressor__epsilon': [0.3],\n",
       "  'regressor__kernel': ['rbf']},\n",
       " 'ada': {'regressor__loss': ['linear'], 'regressor__n_estimators': [100]}}"
      ]
     },
     "execution_count": 70,
     "metadata": {},
     "output_type": "execute_result"
    }
   ],
   "source": [
    "parameter"
   ]
  },
  {
   "cell_type": "code",
   "execution_count": 71,
   "metadata": {},
   "outputs": [
    {
     "name": "stdout",
     "output_type": "stream",
     "text": [
      "YAML file write: OK\n"
     ]
    },
    {
     "data": {
      "text/plain": [
       "True"
      ]
     },
     "execution_count": 71,
     "metadata": {},
     "output_type": "execute_result"
    }
   ],
   "source": [
    "write_yaml(\"../models/light/model_config.yaml\", parameter)"
   ]
  },
  {
   "cell_type": "code",
   "execution_count": 72,
   "metadata": {},
   "outputs": [
    {
     "name": "stdout",
     "output_type": "stream",
     "text": [
      "YAML file write: OK\n"
     ]
    },
    {
     "data": {
      "text/plain": [
       "True"
      ]
     },
     "execution_count": 72,
     "metadata": {},
     "output_type": "execute_result"
    }
   ],
   "source": [
    "write_yaml(\"../models/light/score.yaml\", score)"
   ]
  },
  {
   "cell_type": "code",
   "execution_count": 73,
   "metadata": {},
   "outputs": [],
   "source": [
    "bee()"
   ]
  }
 ],
 "metadata": {
  "kernelspec": {
   "display_name": "Python 3",
   "language": "python",
   "name": "python3"
  },
  "language_info": {
   "codemirror_mode": {
    "name": "ipython",
    "version": 3
   },
   "file_extension": ".py",
   "mimetype": "text/x-python",
   "name": "python",
   "nbconvert_exporter": "python",
   "pygments_lexer": "ipython3",
   "version": "3.10.11"
  },
  "orig_nbformat": 4
 },
 "nbformat": 4,
 "nbformat_minor": 2
}
